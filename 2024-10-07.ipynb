{
 "cells": [
  {
   "cell_type": "markdown",
   "id": "17f7fff8",
   "metadata": {
    "slideshow": {
     "slide_type": "slide"
    }
   },
   "source": [
    "# Ismétlés előző óráról"
   ]
  },
  {
   "cell_type": "markdown",
   "id": "176ba48b",
   "metadata": {
    "slideshow": {
     "slide_type": "-"
    }
   },
   "source": [
    "## Típusok: `list`, `dict`,  `set`\n",
    " \n",
    " * `list` elemek sorozata (tömb). Indexelés pozícióval `[]`-ben.\n",
    "\n",
    "* `dict` kulcs-érték párok. Indexelés kulccsal `[]`-ben.\n",
    "\n",
    "* `set` halmaz. Nem lehet indexelni az elemeket, de végig lehet iterálni egy halmaz elemein `for` ciklussal.\n"
   ]
  },
  {
   "cell_type": "code",
   "execution_count": null,
   "id": "ddf86ee2",
   "metadata": {
    "slideshow": {
     "slide_type": "-"
    }
   },
   "outputs": [],
   "source": [
    "text = \"ez egy hosszabb szöveg\"\n",
    "for char in set(text):\n",
    "    print(repr(char), end=\" \")\n",
    "print()"
   ]
  },
  {
   "cell_type": "markdown",
   "id": "adfa3e5f",
   "metadata": {
    "slideshow": {
     "slide_type": "slide"
    }
   },
   "source": [
    "## Függvények"
   ]
  },
  {
   "cell_type": "markdown",
   "id": "6762c066",
   "metadata": {
    "slideshow": {
     "slide_type": "-"
    }
   },
   "source": [
    "- Függvényhez lehet dokumentációs sztringet adni!\n",
    "- Az argumentumokat és a visszatérési értéket típus annotációval lehet ellátni.\n",
    "- Lehet változó számú paraméterű függvényt írni. \n",
    "  Ha a paraméter listában  `*args`, `**kwargs` szerepel, \n",
    "  akkor az\n",
    "\n",
    "  * extra pozicionális paraméterek az `args` paraméterben lesznek `tuple`-ként.\n",
    "\n",
    "  * extra névvel átadott paraméterek a `kwargs` szótárban lesznek."
   ]
  },
  {
   "cell_type": "markdown",
   "id": "71e4a9f4",
   "metadata": {
    "slideshow": {
     "slide_type": "slide"
    }
   },
   "source": [
    "## Függvények"
   ]
  },
  {
   "cell_type": "markdown",
   "id": "6dae7946",
   "metadata": {
    "slideshow": {
     "slide_type": "-"
    }
   },
   "source": [
    "- Függvény hívás során is használható `*` és `**` operátor. \n",
    "  \n",
    "```python\n",
    "arglist = [1, 2, 3]\n",
    "f(*arglist) # azzal ekvivalens, hogy f(1, 2, 3)\n",
    "  \n",
    "argdict = {\"a\": 1, \"b\": 2, \"c\": 3}\n",
    "f(**argdict) # azzal ekvivalens, hogy f(a=1, b=2, c=3)\n",
    "  \n",
    "f(-1, 0, *arglist, **argdict) # azzal ekvivalens, hogy f(-1, 0, 1, 2, 3, a=1, b=2, c=3)\n",
    "```\n",
    "\n",
    "- Értékadás baloldalán  is szerepelhet a `*` konstrukció."
   ]
  },
  {
   "cell_type": "markdown",
   "id": "f24a9a8b",
   "metadata": {
    "slideshow": {
     "slide_type": "slide"
    }
   },
   "source": [
    "# Mi történik `for` ciklus alkalmazásakor"
   ]
  },
  {
   "cell_type": "code",
   "execution_count": null,
   "id": "67ac478c",
   "metadata": {
    "slideshow": {
     "slide_type": "-"
    }
   },
   "outputs": [],
   "source": [
    "seq = range(5)\n",
    "for item in seq:\n",
    "    print(item, end=\" \")"
   ]
  },
  {
   "cell_type": "markdown",
   "id": "a312b627",
   "metadata": {
    "slideshow": {
     "slide_type": "fragment"
    }
   },
   "source": [
    "- Először a `seq` sorozatra az `iter` függvényt alkalmazzuk. Ezzel egy listából, szótárból,  halmazból egy iterátor keletkezik.\n",
    "\n",
    "- Ezután az kapott iterátorra a `next` függvényt alkalmazzuk. Ez minden függvényhívásra a sorozat következő elemével válaszol.\n",
    "\n",
    "- A kapott értéket az `item` változónak adjuk értékül és a ciklus törzsét végrehajtjuk. "
   ]
  },
  {
   "cell_type": "markdown",
   "id": "991de4f0",
   "metadata": {
    "slideshow": {
     "slide_type": "slide"
    }
   },
   "source": [
    "A példában látott:\n",
    "\n",
    "```python\n",
    "seq = range(5)\n",
    "for item in seq:\n",
    "    print(item, end=\" \")\n",
    "```\n",
    "\n",
    "kódrészlet nagyjából a következővel ekvivalens:"
   ]
  },
  {
   "cell_type": "code",
   "execution_count": null,
   "id": "6b97e719",
   "metadata": {
    "slideshow": {
     "slide_type": "fragment"
    }
   },
   "outputs": [],
   "source": [
    "seq = range(5)\n",
    "it = iter(seq)\n",
    "while (item := next(it, None)) is not None:\n",
    "    print(item, end=\" \")"
   ]
  },
  {
   "cell_type": "markdown",
   "id": "1c739d77",
   "metadata": {
    "slideshow": {
     "slide_type": "slide"
    }
   },
   "source": [
    "## Generátor függvények"
   ]
  },
  {
   "cell_type": "markdown",
   "id": "128e52eb",
   "metadata": {
    "slideshow": {
     "slide_type": "-"
    }
   },
   "source": [
    "- Mit kapunk, ha a `for` ciklusban használható függvényeket közvetlenül meghívjuk?\n",
    "\n",
    "- Hogyan tudunk a sorozat elemeihez hozzáférni?\n",
    "\n",
    "- Tudunk-e ehhez hasonló függvényt írni, ami sorozatot állít elő és `for` ciklusban használható?"
   ]
  },
  {
   "cell_type": "code",
   "execution_count": null,
   "id": "5ab5a1a6",
   "metadata": {
    "slideshow": {
     "slide_type": "-"
    }
   },
   "outputs": [],
   "source": [
    "print(range(10))\n",
    "print(enumerate(range(10)))\n",
    "print(zip(range(5), \"alma\"))\n",
    "print(reversed(range(5)))"
   ]
  },
  {
   "cell_type": "markdown",
   "id": "2e73764f",
   "metadata": {
    "slideshow": {
     "slide_type": "slide"
    }
   },
   "source": [
    "## `iter` és `next`\n"
   ]
  },
  {
   "cell_type": "code",
   "execution_count": null,
   "id": "cf0cd325",
   "metadata": {
    "slideshow": {
     "slide_type": "-"
    }
   },
   "outputs": [],
   "source": [
    "seq = range(10)\n",
    "it = iter(seq)\n",
    "print(f\"{seq=}\\n{it=}\\n{next(it)=}, {next(it)=}, {next(it)=}\")"
   ]
  },
  {
   "cell_type": "code",
   "execution_count": null,
   "id": "87966978",
   "metadata": {
    "slideshow": {
     "slide_type": "fragment"
    }
   },
   "outputs": [],
   "source": [
    "it = iter(enumerate(seq))\n",
    "print(f\"{it=}\\n{next(it)=}, {next(it)=}, {next(it)=}\")"
   ]
  },
  {
   "cell_type": "markdown",
   "id": "19129374",
   "metadata": {
    "slideshow": {
     "slide_type": "-"
    }
   },
   "source": [
    "Hasonlóan működik `zip` és `reversed` esetén is. Ezek a függvények iterátort adnak vissza. `iter` alkalmazása felesleges, de nem vezet hibára."
   ]
  },
  {
   "cell_type": "markdown",
   "id": "e8ca67cd",
   "metadata": {
    "slideshow": {
     "slide_type": "slide"
    }
   },
   "source": [
    "## `yield` kulcsszót tartalmazó függvények"
   ]
  },
  {
   "cell_type": "code",
   "execution_count": null,
   "id": "0eb3a98c",
   "metadata": {
    "slideshow": {
     "slide_type": "-"
    }
   },
   "outputs": [],
   "source": [
    "def f():\n",
    "    yield 1\n",
    "    yield -1\n",
    "    yield 23\n",
    "    \n",
    "print(f\"{f=},\\n{f()=},\\n{iter(f())=},\\n{next(f())=}\") "
   ]
  },
  {
   "cell_type": "code",
   "execution_count": null,
   "id": "c994d00b",
   "metadata": {
    "slideshow": {
     "slide_type": "fragment"
    }
   },
   "outputs": [],
   "source": [
    "for i, x in enumerate(f(), 1):\n",
    "    print(f\"{i}. iteráció értéke: {x}\")"
   ]
  },
  {
   "cell_type": "markdown",
   "id": "e335c09b",
   "metadata": {
    "slideshow": {
     "slide_type": "slide"
    }
   },
   "source": [
    "## Mi történik generátor függvény végrehajtásakor?"
   ]
  },
  {
   "cell_type": "code",
   "execution_count": null,
   "id": "2c62e61d",
   "metadata": {
    "slideshow": {
     "slide_type": "-"
    }
   },
   "outputs": [],
   "source": [
    "it = f()\n",
    "print(f\"{it=}, {next(it)=}, {next(it)=}, {next(it)=}, {next(it, None)=}\")"
   ]
  },
  {
   "cell_type": "markdown",
   "id": "b35fea34",
   "metadata": {
    "slideshow": {
     "slide_type": "fragment"
    }
   },
   "source": [
    "- Amikor a függvényt meghívjuk létrejön egy iterátor. <!-- , ez az it változó értéke.  -->A függvény törzséből semmi nem kerül végrehajtásra.\n",
    "\n",
    "- Amikor a `next` függvényt először alkalmazzuk a függvény törzse az első `yield` statement-ig végrehajtódik. A `next` függvény visszatérési értéke a `yield` statement utáni kifejezés értéke.\n",
    "\n",
    "- A következő `next` meghívásakor az `f` függvény végrehajtása folytatódik, onnan ahol abbamaradt, a következő `yield` statement-ig. Ebből lesz a visszatérési érték. És így tovább."
   ]
  },
  {
   "cell_type": "markdown",
   "id": "425b2fff",
   "metadata": {
    "slideshow": {
     "slide_type": "slide"
    }
   },
   "source": [
    "## Leállás, `StopIteration`"
   ]
  },
  {
   "cell_type": "markdown",
   "id": "4012aa34",
   "metadata": {
    "slideshow": {
     "slide_type": "-"
    }
   },
   "source": [
    "- Ha a `next` hívás hatására a generátor függvény nem ütközik újabb `yield` statement-be, akkor a sorozat kimerült és ezt \n",
    "`StopIteration` hibával jelzi a Python.\n",
    "\n",
    "- A `next` függvénynek megadhatunk az iterátor mellett egy második argumentumot is. Ekkor `StopIteration` hiba helyett ezt fogjuk látni értékként, ha elfogyott  sorozatunk.\n"
   ]
  },
  {
   "cell_type": "code",
   "execution_count": null,
   "id": "8f0a53c7",
   "metadata": {
    "slideshow": {
     "slide_type": "-"
    }
   },
   "outputs": [],
   "source": [
    "def f():\n",
    "    yield 1\n",
    "    yield 2\n",
    "    \n",
    "it = f()\n",
    "print(f\"{next(it, None)=}, {next(it, None)=}, {next(it, -1)=}\")"
   ]
  },
  {
   "cell_type": "markdown",
   "id": "e8c5f036",
   "metadata": {
    "slideshow": {
     "slide_type": "slide"
    }
   },
   "source": [
    "## Mi történik itt?"
   ]
  },
  {
   "cell_type": "code",
   "execution_count": null,
   "id": "44f0c7e5",
   "metadata": {},
   "outputs": [],
   "source": [
    "def f():\n",
    "    yield 1\n",
    "    yield -1\n",
    "    yield 23\n",
    "    \n",
    "it1 = f()\n",
    "it2 = f()\n",
    "next(it1)\n",
    "print(f\"{[*zip(it1, it2)]=}\")"
   ]
  },
  {
   "cell_type": "markdown",
   "id": "81654d71",
   "metadata": {
    "slideshow": {
     "slide_type": "fragment"
    }
   },
   "source": [
    "Egy generátor függvény meghívásakor mindig új iterátor keletkezik. Ezek ugyanazt a sorozatot állítják elő, de egymástól függetlenül haladnak végig azon."
   ]
  },
  {
   "cell_type": "markdown",
   "id": "4ed6a8f9",
   "metadata": {
    "slideshow": {
     "slide_type": "slide"
    }
   },
   "source": [
    "## Végtelen iterátor"
   ]
  },
  {
   "cell_type": "code",
   "execution_count": null,
   "id": "79e15354",
   "metadata": {
    "slideshow": {
     "slide_type": "-"
    }
   },
   "outputs": [],
   "source": [
    "def fibonacci_it():\n",
    "    a, b = 0, 1\n",
    "    yield a\n",
    "    while True:\n",
    "        yield b\n",
    "        a, b = b, a+b\n",
    "        \n",
    "print([*zip(range(10), fibonacci_it())])"
   ]
  },
  {
   "cell_type": "markdown",
   "id": "8a8c0416",
   "metadata": {
    "slideshow": {
     "slide_type": "slide"
    }
   },
   "source": [
    "## Zárójeles `for` ciklusok = generátor kifejezés "
   ]
  },
  {
   "cell_type": "code",
   "execution_count": null,
   "id": "a373f905",
   "metadata": {},
   "outputs": [],
   "source": [
    "seq = (x**2 for x in range(5))\n",
    "print(f\"{type(seq)=}, {seq=}\")"
   ]
  },
  {
   "cell_type": "code",
   "execution_count": null,
   "id": "29b44b96",
   "metadata": {
    "slideshow": {
     "slide_type": "fragment"
    }
   },
   "outputs": [],
   "source": [
    "print(f\"{max(seq, default=-1)=}, {max(seq, default=-1)=}\")"
   ]
  },
  {
   "cell_type": "code",
   "execution_count": null,
   "id": "3d2f150a",
   "metadata": {
    "slideshow": {
     "slide_type": "fragment"
    }
   },
   "outputs": [],
   "source": [
    "seq = (x**2 for x in range(5))\n",
    "print(f\"{any(seq)=}, {min(seq, default=-1)=}\")"
   ]
  },
  {
   "cell_type": "markdown",
   "id": "8cbab7b4",
   "metadata": {
    "slideshow": {
     "slide_type": "slide"
    }
   },
   "source": [
    "# Double ended queue (lista segítségével)"
   ]
  },
  {
   "cell_type": "markdown",
   "id": "7e157d83",
   "metadata": {
    "slideshow": {
     "slide_type": "-"
    }
   },
   "source": [
    "- A célunk az, hogy implementáljunk egy `list`-hez hasonló típust.\n",
    "\n",
    "- Láttuk, hogy `list` esetében az `.append` és `.pop` műveletek átlagban konstans időt vesznek igénybe, holott időnként a teljes listát másolni kell.\n",
    "\n",
    "  Ez úgy érhető el, hogy a szükségesnél több helyet foglalunk le és csak akkor másolunk, ha elfogyott a hely.\n",
    "\n",
    "- Olyan típust szeretnénk, ami a listához hasonló, de mindkét végéről lehet gyorsan törölni, ill. hozzáfűzni. "
   ]
  },
  {
   "cell_type": "markdown",
   "id": "c50cbda6",
   "metadata": {
    "slideshow": {
     "slide_type": "slide"
    }
   },
   "source": [
    "### Egy tipikus feladat `deque` alkalmazására "
   ]
  },
  {
   "cell_type": "markdown",
   "id": "7a60c151",
   "metadata": {
    "slideshow": {
     "slide_type": "-"
    }
   },
   "source": [
    "> Adott egy számokból álló lista `numbers` és egy `k` pozitív egész, `1 <= k <= len(numbers)`. Számítsuk ki a `k` hosszú blokkok maximumait (`n - k + 1` hosszú lista)."
   ]
  },
  {
   "cell_type": "markdown",
   "id": "885a7856",
   "metadata": {
    "slideshow": {
     "slide_type": "fragment"
    }
   },
   "source": [
    "### Ötlet."
   ]
  },
  {
   "cell_type": "markdown",
   "id": "0625445a",
   "metadata": {
    "slideshow": {
     "slide_type": "-"
    }
   },
   "source": [
    "- Az értékeket egy listában tároljuk, de a lista hosszabb mint a tárolt értékek száma (legalábbis kezdetben).\n",
    "\n",
    "- Külön változóban tároljuk, hogy hol kezdődnek a tárolt értékek, és hány értéket tárolunk. \n",
    "\n",
    "- Ha van hely akkor a hozzáfűzés egyszerűen a kezdeti pozíció mozgatásával, ill. a hossz változtatásával megoldható. A törlés hasonlóan.\n",
    "\n",
    "- Ha csak ,,ritkán'' kell másolni, akkor a művelet igény átlagban konstans. "
   ]
  },
  {
   "cell_type": "code",
   "execution_count": 21,
   "id": "c7f32dfb",
   "metadata": {
    "slideshow": {
     "slide_type": "slide"
    }
   },
   "outputs": [],
   "source": [
    "\n",
    "def init_queue(size=None):\n",
    "    if size is None:\n",
    "        size = 8\n",
    "    size = max(size, 8)\n",
    "    return [0]*2 + [None]*size\n",
    "\n",
    "def str_queue(lst):\n",
    "    start, size, capacity = lst[0], lst[1], len(lst)-2\n",
    "    elements = [lst[2 + ((i+start) % capacity)] for i in range(size)] \n",
    "    return f\"deque of size {size}: {elements}\"   \n"
   ]
  },
  {
   "cell_type": "code",
   "execution_count": null,
   "id": "29aeebdf",
   "metadata": {
    "slideshow": {
     "slide_type": "fragment"
    }
   },
   "outputs": [],
   "source": [
    "q = init_queue()\n",
    "print(f\"{str_queue(q)=}, {q=}\")"
   ]
  },
  {
   "cell_type": "code",
   "execution_count": 23,
   "id": "86bc155a",
   "metadata": {
    "slideshow": {
     "slide_type": "slide"
    }
   },
   "outputs": [],
   "source": [
    "def increase_size(lst):\n",
    "    start, size, capacity = lst[0], lst[1], len(lst)-2\n",
    "    lst.extend(None for _ in range(max(capacity//8, 1)))\n",
    "    new_capacity = len(lst)-2\n",
    "    for i in range(size):\n",
    "        lst[2+((start+i) % new_capacity)] = lst[2+((start+i) % capacity)]\n",
    "        \n",
    "def append(lst, item):\n",
    "    start, size, capacity = lst[0], lst[1], len(lst)-2\n",
    "    if size == capacity:\n",
    "        increase_size(lst)\n",
    "        capacity = len(lst) - 2\n",
    "    lst[2+((start+size) % capacity)] = item\n",
    "    size += 1\n",
    "    lst[1] = size"
   ]
  },
  {
   "cell_type": "code",
   "execution_count": 24,
   "id": "20c6dca5",
   "metadata": {
    "slideshow": {
     "slide_type": "slide"
    }
   },
   "outputs": [],
   "source": [
    "def append_left(lst, item):\n",
    "    start, size, capacity = lst[0], lst[1], len(lst) - 2\n",
    "    if size == capacity:\n",
    "        increase_size(lst)\n",
    "        capacity = len(lst) - 2\n",
    "    start = (start-1) % capacity \n",
    "    size += 1\n",
    "    lst[0], lst[1], lst[2+start] = start, size, item "
   ]
  },
  {
   "cell_type": "markdown",
   "id": "8f995c76",
   "metadata": {
    "slideshow": {
     "slide_type": "slide"
    }
   },
   "source": [
    "## Kis próba"
   ]
  },
  {
   "cell_type": "code",
   "execution_count": null,
   "id": "4d9047be",
   "metadata": {},
   "outputs": [],
   "source": [
    "q = init_queue(5)\n",
    "for i in range(5):\n",
    "    if i % 2:\n",
    "        append_left(q, i)\n",
    "    else:\n",
    "        append(q, i)\n",
    "print(f\"{str_queue(q)=}, {q=}\")\n"
   ]
  },
  {
   "cell_type": "code",
   "execution_count": 26,
   "id": "16baa597",
   "metadata": {
    "slideshow": {
     "slide_type": "slide"
    }
   },
   "outputs": [],
   "source": [
    "def decrease_size(lst):\n",
    "    start, size, capacity = lst[0], lst[1], len(lst)-2\n",
    "    new_capacity = max(8, capacity-capacity//8)\n",
    "    if new_capacity == capacity:\n",
    "        return\n",
    "    values = [lst[2+((start+i) % capacity)] for i in range(size)]\n",
    "    lst.clear() \n",
    "    lst.extend((0, len(values)))\n",
    "    lst.extend(values)\n",
    "    lst.extend(None for _ in range(new_capacity-len(values)))\n",
    "\n",
    "def pop(lst):\n",
    "    start, size, capacity = lst[0], lst[1], len(lst)-2\n",
    "    if size <= 0:\n",
    "        print(\"Error: cannot pop from empty queue!\")\n",
    "    size -= 1\n",
    "    value = lst[2 + ((start + size) % capacity)]\n",
    "    lst[1] = size\n",
    "    if capacity - size >= capacity//4:\n",
    "        decrease_size(lst)\n",
    "    return value\n",
    "    \n",
    "\n",
    "def pop_left(lst):\n",
    "    start, size, capacity = lst[0], lst[1], len(lst)-2\n",
    "    if start <= 0:\n",
    "        print(\"Error: cannot pop from empty queue!\")\n",
    "    value = lst[2 + (start % capacity)]\n",
    " \n",
    "    start, size = start+1, size-1\n",
    "    lst[0], lst[1] = start, size\n",
    "    if capacity - size >= capacity//4:\n",
    "        decrease_size(lst)\n",
    "    return value"
   ]
  },
  {
   "cell_type": "markdown",
   "id": "6f2fa973",
   "metadata": {
    "slideshow": {
     "slide_type": "slide"
    }
   },
   "source": [
    "# Osztály, objektum\n",
    "\n"
   ]
  },
  {
   "cell_type": "markdown",
   "id": "66446380",
   "metadata": {
    "slideshow": {
     "slide_type": "-"
    }
   },
   "source": [
    "Objektum: adat és a hozzátartozó műveletek együtt. \n",
    "\n",
    "Pythonban az \n",
    "\n",
    "- osztály a típust jelenti ez definiálja a műveleteket, \n",
    "\n",
    "- az objektum az osztály egy példánya. Az objektum tartalmazza az adatot.\n",
    "\n",
    "Az előző példában az implementáció nem érdekes. \n",
    "\n",
    "Négy műveletünk volt `append`, `append_left`, `pop`, `pop_left`.\n",
    "\n",
    "Az objektumot egy listával reprezentáltuk.\n"
   ]
  },
  {
   "cell_type": "markdown",
   "id": "d3f61fbe",
   "metadata": {
    "slideshow": {
     "slide_type": "slide"
    }
   },
   "source": [
    "## Egyszerű példák "
   ]
  },
  {
   "cell_type": "code",
   "execution_count": null,
   "id": "252d2a89",
   "metadata": {},
   "outputs": [],
   "source": [
    "# Person egy osztály\n",
    "class Person:\n",
    "    pass\n",
    "\n",
    "# `p` objektum a Person osztály egy példánya\n",
    "p = Person()\n",
    "# print(p)\n",
    "# a p példányhoz dinamikusan lehet attribútumokat adni\n",
    "p.name = \"Anna\"\n",
    "p.age = 25\n",
    "\n",
    "print(f\"{p=}\")\n",
    "print(f\"{p.name=}\")\n",
    "print(f\"{p.age=}\")\n",
    "print(f\"{p.__dict__}\")"
   ]
  },
  {
   "cell_type": "markdown",
   "id": "4d9907e7",
   "metadata": {
    "slideshow": {
     "slide_type": "slide"
    }
   },
   "source": [
    "## Inicializálás\n",
    "\n",
    "Minden osztálynak lehet `__init__` metódusa. Ez inicializálja az osztály egy példányát. \n",
    "Így az attribútumok nem utólag lesznek hozzáadva az adott példányhoz. "
   ]
  },
  {
   "cell_type": "code",
   "execution_count": null,
   "id": "d79f1231",
   "metadata": {},
   "outputs": [],
   "source": [
    "class Person:\n",
    "    # Minden metódus első paramétere maga az osztálypéldány\n",
    "    def __init__(this, name, age):\n",
    "        this.name = name\n",
    "        this.age = age\n",
    "    \n",
    "    \n",
    "p = Person(name=\"Ann\", age=25) \n",
    "print(f\"{p=}\")\n",
    "print(f\"{p.name=}\")\n",
    "print(f\"{p.age=}\")"
   ]
  },
  {
   "cell_type": "markdown",
   "id": "e19f98ee",
   "metadata": {
    "slideshow": {
     "slide_type": "slide"
    }
   },
   "source": [
    "## Műveletek, metódusok"
   ]
  },
  {
   "cell_type": "code",
   "execution_count": 32,
   "id": "3ef0e936",
   "metadata": {
    "slideshow": {
     "slide_type": "-"
    }
   },
   "outputs": [],
   "source": [
    "class Person:\n",
    "    def __init__(self, name, age):\n",
    "        self.name = name\n",
    "        self.age = age\n",
    "        \n",
    "    def introduction(self):\n",
    "        return f\"Hi, my name is {self.name}!\"\n",
    "    "
   ]
  },
  {
   "cell_type": "code",
   "execution_count": null,
   "id": "94798054",
   "metadata": {
    "slideshow": {
     "slide_type": "-"
    }
   },
   "outputs": [],
   "source": [
    "p = Person(\"Ann\", 25)\n",
    "\n",
    "p.introduction()"
   ]
  },
  {
   "cell_type": "markdown",
   "id": "9dc5a68a",
   "metadata": {
    "slideshow": {
     "slide_type": "slide"
    }
   },
   "source": [
    "## Szöveges reprezentáció"
   ]
  },
  {
   "cell_type": "code",
   "execution_count": 38,
   "id": "ee6432a0",
   "metadata": {
    "slideshow": {
     "slide_type": "-"
    }
   },
   "outputs": [],
   "source": [
    "# print(p)"
   ]
  },
  {
   "cell_type": "code",
   "execution_count": null,
   "id": "40472dea",
   "metadata": {
    "slideshow": {
     "slide_type": "fragment"
    }
   },
   "outputs": [],
   "source": [
    "class Person:\n",
    "    def __init__(self, name, age):\n",
    "        self.name = name\n",
    "        self.age = age\n",
    "        \n",
    "    def __repr__(self):\n",
    "        return f\"Person({self.name!r}, {self.age})\"\n",
    "#     This is {self.name}, {self.age} year(s) old.\"\n",
    "      \n",
    "    def introduction(self):\n",
    "        return f\"Hi, my name is {self.name}!\"\n",
    "    \n",
    "p = Person(\"Ann\", 25)\n",
    "print(p)"
   ]
  },
  {
   "cell_type": "markdown",
   "id": "8f5fa6e2",
   "metadata": {
    "slideshow": {
     "slide_type": "-"
    }
   },
   "source": [
    "Van egy `__str__` metódus is a `__repr__` mellett. Az utóbbi általában magunknak szól, az előbbi a végfelhasználónak. Ha osztályt írunk, `__repr__` metódust mindig érdemes implementálni."
   ]
  },
  {
   "cell_type": "markdown",
   "id": "fd46c1ae",
   "metadata": {
    "slideshow": {
     "slide_type": "slide"
    }
   },
   "source": [
    "OOP-ből ismert fogalmak lehetnek a `public`, `protected` és `private` attribútumok fogalma. Pythonban nincs kulcsszó ezekre, egyszerűen egy nevezéktani konvenció biztosítja, hogy melyik attribútum érhető el kívülről, és melyeket szeretnénk protected-nek vagy privátnak tekinteni.\n",
    "\n",
    "Más nyelvekből ismerős `getter` és `setter` függvényeket lehet ugyan írni, de ne felejtsük, hogy ez itt Python, nincs kikényszerítve, hogy ilyenek írjunk és nem is feltétlenül szokás."
   ]
  },
  {
   "cell_type": "code",
   "execution_count": null,
   "id": "9a25c223",
   "metadata": {
    "slideshow": {
     "slide_type": "-"
    }
   },
   "outputs": [],
   "source": [
    "class Person:\n",
    "    class_variable = 123\n",
    "    def __init__(self, name, age):\n",
    "        self.name = name\n",
    "        self.age = age\n",
    "    def __repr__(self):\n",
    "        return f\"This is {self.name}, {self.age} year(s) old.\"\n",
    "    def is_pensioner(self):\n",
    "        return self.age >= 65\n",
    "    \n",
    "p = Person(name=\"Ann\", age=25)  \n",
    "print(f\"{p.is_pensioner()=}\")\n",
    "print(f\"{p.class_variable=}\")\n",
    "print(f\"{Person.class_variable=}\")"
   ]
  },
  {
   "cell_type": "markdown",
   "id": "4d5763bf",
   "metadata": {
    "slideshow": {
     "slide_type": "slide"
    }
   },
   "source": [
    "## Bele tudunk-e nézni egy osztályba, objektumba?"
   ]
  },
  {
   "cell_type": "code",
   "execution_count": null,
   "id": "3dd233f2",
   "metadata": {
    "slideshow": {
     "slide_type": "-"
    }
   },
   "outputs": [],
   "source": [
    "person = Person(name=\"Anna\", age=19)\n",
    "\n",
    "print(f\"{vars(person)=}\")\n",
    "\n",
    "vars(Person)"
   ]
  },
  {
   "cell_type": "markdown",
   "id": "bf3f3909",
   "metadata": {
    "slideshow": {
     "slide_type": "-"
    }
   },
   "source": [
    "Amikor az egyed egy `attribútum`-át kérdezzük le, vagy állítjuk be, akkor elindul egy keresés. Az egyed és az osztály változói (`vars` által visszaadott érték) között. Ha megtaláltuk az attribútumot azzal dolgozunk tovább.\n",
    "\n"
   ]
  },
  {
   "cell_type": "markdown",
   "id": "8b106e90",
   "metadata": {
    "slideshow": {
     "slide_type": "slide"
    }
   },
   "source": [
    "## Itt mi történik?"
   ]
  },
  {
   "cell_type": "code",
   "execution_count": null,
   "id": "4745aa1f",
   "metadata": {
    "slideshow": {
     "slide_type": "-"
    }
   },
   "outputs": [],
   "source": [
    "\n",
    "person = Person(name=\"Anna\", age=19)\n",
    "print(f\"{person.class_variable=}\")\n",
    "# person.class_variable = 150\n",
    "# print(f\"{vars(person)}\\n{person.class_variable=}\")\n",
    "Person.class_variable = 120\n",
    "print(f\"{person.class_variable=}, {Person.class_variable=}\")"
   ]
  },
  {
   "cell_type": "code",
   "execution_count": null,
   "id": "4c6a3ebf",
   "metadata": {
    "slideshow": {
     "slide_type": "fragment"
    }
   },
   "outputs": [],
   "source": [
    "print(f\"{vars(person)=}\")\n",
    "vars(Person)"
   ]
  },
  {
   "cell_type": "markdown",
   "id": "6164ca99",
   "metadata": {
    "slideshow": {
     "slide_type": "slide"
    }
   },
   "source": [
    "## És itt mi történik?"
   ]
  },
  {
   "cell_type": "code",
   "execution_count": null,
   "id": "197e0d99",
   "metadata": {
    "slideshow": {
     "slide_type": "-"
    }
   },
   "outputs": [],
   "source": [
    "person = Person(name=\"Anna\", age=19)\n",
    "person.is_pensioner = True #lambda: True\n",
    "print(f\"{person.is_pensioner()=}\")\n",
    "print(f\"{vars(person)=}\")"
   ]
  },
  {
   "cell_type": "code",
   "execution_count": null,
   "id": "42292890",
   "metadata": {
    "slideshow": {
     "slide_type": "slide"
    }
   },
   "outputs": [],
   "source": [
    "person = Person(name=\"Anna\", age=19)\n",
    "Person.is_pensioner = lambda self: self.age > 18\n",
    "person.is_pensioner()"
   ]
  },
  {
   "cell_type": "markdown",
   "id": "e23ed7a4",
   "metadata": {
    "slideshow": {
     "slide_type": "-"
    }
   },
   "source": [
    "Egy osztályhoz utólag is lehet műveleteket fűzni. \n",
    "\n",
    "Csak azért mert lehet, nem biztos, hogy kell is."
   ]
  },
  {
   "cell_type": "markdown",
   "id": "50d124ad",
   "metadata": {
    "slideshow": {
     "slide_type": "slide"
    }
   },
   "source": [
    "# További példa: ,,bankszámla'' osztály"
   ]
  },
  {
   "cell_type": "code",
   "execution_count": 55,
   "id": "261ebc16",
   "metadata": {
    "slideshow": {
     "slide_type": "-"
    }
   },
   "outputs": [],
   "source": [
    "class BankAccount:\n",
    "    def __init__(self, account_id, initial_amount=0):\n",
    "        self._id = account_id\n",
    "        self._amount = initial_amount\n",
    "    def __repr__(self):\n",
    "        return f\"BankAccount(account_id={self._id}, initial_amount={self._amount}).\"\n",
    "    def amount(self):\n",
    "        return self._amount\n",
    "    def deposit(self, money):\n",
    "        self._amount += money\n",
    "        return self._amount\n",
    "    def withdraw(self, money):\n",
    "        if self._amount < money:\n",
    "            print(f\"Not enough money on your account: requested {money} but your balance is {self.amount()}.\")\n",
    "            return 0\n",
    "        self._amount -= money\n",
    "        return money"
   ]
  },
  {
   "cell_type": "code",
   "execution_count": null,
   "id": "b86670b3",
   "metadata": {
    "slideshow": {
     "slide_type": "subslide"
    }
   },
   "outputs": [],
   "source": [
    "account = BankAccount(123)\n",
    "\n",
    "account.deposit(100)\n",
    "account.deposit(200)\n",
    "_ = account.withdraw(250)\n",
    "print(account)\n",
    "print(account.amount())"
   ]
  },
  {
   "cell_type": "markdown",
   "id": "f5aa3347",
   "metadata": {
    "slideshow": {
     "slide_type": "slide"
    }
   },
   "source": [
    "Ez a számla nem túl biztonságos, mert az `_amount` mezőt lehet kívülről manipulálni, csak a konvención és az én jóindulatomon múlt, hogy titokban ne adjak pénzt közvetlenül ehhez a mezőhöz."
   ]
  },
  {
   "cell_type": "code",
   "execution_count": null,
   "id": "6e8101fa",
   "metadata": {
    "slideshow": {
     "slide_type": "-"
    }
   },
   "outputs": [],
   "source": [
    "account = BankAccount(123)\n",
    "account._amount = 10000\n",
    "\n",
    "print(account.amount())"
   ]
  },
  {
   "cell_type": "markdown",
   "id": "211aa6f1",
   "metadata": {
    "slideshow": {
     "slide_type": "subslide"
    }
   },
   "source": [
    "Pythonban lehet ennél szigorúbb hozzáférést adni a tényleg privátnak gondolt mezőkhöz, illetve megfelelő settereket és gettereket itt is be lehet állítani \n",
    "<!-- , de mi most ennél tovább nem megyünk. -->"
   ]
  },
  {
   "cell_type": "code",
   "execution_count": 59,
   "id": "85910e9a",
   "metadata": {
    "slideshow": {
     "slide_type": "-"
    }
   },
   "outputs": [],
   "source": [
    "class BankAccount:\n",
    "    def __init__(self, account_id, initial_amount=0):\n",
    "        self._id = account_id\n",
    "        self._amount = initial_amount\n",
    "    def __repr__(self):\n",
    "        return f\"BankAccount(id={self._id}, amount={self._amount}).\"\n",
    "    \n",
    "    @property\n",
    "    def amount(self):\n",
    "        return self._amount\n",
    "    \n",
    "    @amount.setter\n",
    "    def amount(self, value):\n",
    "        print(\"use the deposit or withraw method to change your balance!\")\n",
    "        \n",
    "    def deposit(self, money):\n",
    "        self._amount += money\n",
    "        return self._amount\n",
    "        \n",
    "    def withdraw(self, money):\n",
    "        if self._amount < money:\n",
    "            print(f\"Not enough money on your account: requested {money}, but your balance is {self.amount}.\")\n",
    "            return 0\n",
    "        self._amount -= money\n",
    "        return money"
   ]
  },
  {
   "cell_type": "code",
   "execution_count": null,
   "id": "6aa2f0e6",
   "metadata": {
    "slideshow": {
     "slide_type": "subslide"
    }
   },
   "outputs": [],
   "source": [
    "account = BankAccount(123)\n",
    "account.deposit(100)\n",
    "\n",
    "print(account)\n",
    "print(account.amount)"
   ]
  },
  {
   "cell_type": "code",
   "execution_count": null,
   "id": "e03513b6",
   "metadata": {
    "slideshow": {
     "slide_type": "-"
    }
   },
   "outputs": [],
   "source": [
    "account.amount = 1000"
   ]
  },
  {
   "cell_type": "markdown",
   "id": "a93ade12",
   "metadata": {
    "slideshow": {
     "slide_type": "slide"
    }
   },
   "source": [
    " **Házi feladat.** Egészítsük ki  `Temperature` osztályt! "
   ]
  },
  {
   "cell_type": "code",
   "execution_count": 63,
   "id": "4987611a",
   "metadata": {
    "slideshow": {
     "slide_type": "-"
    }
   },
   "outputs": [],
   "source": [
    "class Temperature: ## csak ezért van így, hogy kiférjen a diára!!!\n",
    "    def __init__(self, celsius=0): \n",
    "        self.celsius = celsius\n",
    "    def __repr__(self): \n",
    "        return f\"{self.celsius} ℃ [{self.fahrenheit} ℉]\"\n",
    "    @property\n",
    "    def celsius(self): \n",
    "        pass\n",
    "    @celsius.setter\n",
    "    def celsius(self, value): \n",
    "        pass\n",
    "    @property\n",
    "    def fahrenheit(self): \n",
    "        pass\n",
    "    @fahrenheit.setter\n",
    "    def fahrenheit(self, value): \n",
    "        pass"
   ]
  },
  {
   "cell_type": "code",
   "execution_count": null,
   "id": "f3684009",
   "metadata": {
    "slideshow": {
     "slide_type": "subslide"
    }
   },
   "outputs": [],
   "source": [
    "t = Temperature()\n",
    "t.celsius = 25\n",
    "print(f\"{t.fahrenheit=}, {t=}\")\n",
    "\n",
    "t.fahrenheit = 101\n",
    "print(f\"{t.celsius=}, {t=}\")\n"
   ]
  },
  {
   "cell_type": "markdown",
   "id": "6621ebb4",
   "metadata": {},
   "source": [
    "Itt azt várnánk, hogy a `t.fahrenheit` értéke $32+25*9/5=77$ és `t` szöveges reprezentációja `25 ℃ [77.0 ℉]`"
   ]
  },
  {
   "cell_type": "markdown",
   "id": "de3df7c3",
   "metadata": {
    "slideshow": {
     "slide_type": "slide"
    }
   },
   "source": [
    "## Miért használunk osztályokat? "
   ]
  },
  {
   "cell_type": "markdown",
   "id": "8a09af1f",
   "metadata": {
    "slideshow": {
     "slide_type": "-"
    }
   },
   "source": [
    "Osztályokat nem kötelező használni, de előbb-utóbb találkozunk velük, mások kódjaiban, vagy könyvtárakból való importok esetén. Néhány érv a használatuk mellett:\n",
    "\n",
    "* Valamilyen módon összetartozó adatokat akarunk eltárolni egységbe zárva (encapsulation)\n",
    "\n",
    "* Egy állapotot kell nyilvántartani, illetve ezt az állapotot kell tudnunk megfelelő módon megváltoztatni.\n",
    "\n",
    "* Az adatot csak meghatározott módon lehessen manipulálni, a felhasználónak nem kell tudnia, hogy mi a belső implementáció (absztrakció)\n",
    "\n",
    "* Hierarchiába szervezhető adattípusok vannak (öröklődés)\n",
    "<!-- \n",
    "* Gépi tanulásban gyakori, hogy egy algoritmusnak több (hyper) (algoritmustól függő) paramétere van, ugyanakkor a modell illesztés és predikció ugyanolyan módon történik.\n",
    "\n",
    "```python\n",
    "from sklearn.linear_model import Ridge\n",
    "\n",
    "model = Ridge(alpha=0.1, fit_intercept=False, solver='saga', max_iter=5)\n",
    "model.fit(X_train, y_train)\n",
    "y_predict = model.predict(X_test)\n",
    "``` -->"
   ]
  },
  {
   "cell_type": "markdown",
   "id": "5517a250",
   "metadata": {
    "slideshow": {
     "slide_type": "slide"
    }
   },
   "source": [
    "# Double Ended Queue osztályként"
   ]
  },
  {
   "cell_type": "code",
   "execution_count": null,
   "id": "3ab072b0",
   "metadata": {
    "slideshow": {
     "slide_type": "-"
    }
   },
   "outputs": [],
   "source": [
    "class DeQueue:\n",
    "    min_size = 8\n",
    "    upfactor = 1.125\n",
    "    \n",
    "    def __init__(self, size=None):\n",
    "        if size is None:\n",
    "            size = self.min_size\n",
    "        size = max(size, self.min_size)\n",
    "        \n",
    "        self._values = [0]*size\n",
    "        self._start = 0 \n",
    "        self._size = 0\n"
   ]
  },
  {
   "cell_type": "markdown",
   "id": "f7554401",
   "metadata": {
    "slideshow": {
     "slide_type": "-"
    }
   },
   "source": [
    "Ebben a részletben `min_size` és `upfactor` a típus minden egyedére közös változó. Nem az egyedben, hanem a típusban van tárolva."
   ]
  },
  {
   "cell_type": "code",
   "execution_count": null,
   "id": "86111cbd",
   "metadata": {
    "slideshow": {
     "slide_type": "subslide"
    }
   },
   "outputs": [],
   "source": [
    "def dq_str(self):\n",
    "    return f\"{type(self).__name__} with size {self._size}.\"\n",
    "\n",
    "def dq_repr(self):\n",
    "    start, size = self._start, self._size\n",
    "    values, n = self._values, len(self._values)\n",
    "    elements = [values[(i+start) % n] for i in range(size)]\n",
    "    return f\"{type(self).__name__}({elements})\"\n",
    "\n",
    "## csak azért csináljuk így, hogy a diára ráférjen!!!\n",
    "DeQueue.__str__ = dq_str\n",
    "DeQueue.__repr__ = dq_repr"
   ]
  },
  {
   "cell_type": "code",
   "execution_count": null,
   "id": "0235dbc1",
   "metadata": {
    "scrolled": true,
    "slideshow": {
     "slide_type": "-"
    }
   },
   "outputs": [],
   "source": [
    "q = DeQueue()\n",
    "print(f\"{q=!r}\\n{q=!s}\")"
   ]
  },
  {
   "cell_type": "code",
   "execution_count": null,
   "id": "a1d18e86",
   "metadata": {
    "slideshow": {
     "slide_type": "subslide"
    }
   },
   "outputs": [],
   "source": [
    "def dq_reset(self, new_size):\n",
    "    new_values = [0]*new_size\n",
    "    values, n = self._values, len(self._values)\n",
    "    start = self._start \n",
    "    for i in range(self._size):\n",
    "        new_values[i] = values[(start+i) % n]\n",
    "    self._values = new_values\n",
    "    self._start = 0\n",
    "\n",
    "DeQueue._reset = dq_reset"
   ]
  },
  {
   "cell_type": "markdown",
   "id": "55e58597",
   "metadata": {
    "slideshow": {
     "slide_type": "-"
    }
   },
   "source": [
    "A `_reset` művelet neve aláhúzással kezdődik. Konvenció szerint ezt kívülről nem illik használni. \n",
    "Nincs ellenőrzés a `new_size`-ra. "
   ]
  },
  {
   "cell_type": "code",
   "execution_count": null,
   "id": "74194f3f",
   "metadata": {
    "slideshow": {
     "slide_type": "subslide"
    }
   },
   "outputs": [],
   "source": [
    "def dq_check_size(self):\n",
    "    if self._size >= len(self._values):\n",
    "        new_size = max(len(self._values)+1, int(len(self._values)*self.upfactor))\n",
    "        self._reset(new_size)\n",
    "    elif self.upfactor*self.upfactor*self._size <= len(self._values):\n",
    "        new_size = max(self.min_size, int(len(self._values)/self.upfactor))\n",
    "        if new_size != self._size:\n",
    "            self._reset(new_size)\n",
    "    \n",
    "DeQueue._check_size = dq_check_size"
   ]
  },
  {
   "cell_type": "code",
   "execution_count": null,
   "id": "58617416",
   "metadata": {},
   "outputs": [],
   "source": [
    "q = DeQueue()\n",
    "q._size = len(q._values)\n",
    "q._check_size()\n",
    "print(f\"növelés után: {len(q._values)=}\", end=\", \")\n",
    "q._size = 5\n",
    "q._check_size()\n",
    "print(f\"csökkentés után: {len(q._values)=}\")"
   ]
  },
  {
   "cell_type": "code",
   "execution_count": null,
   "id": "aba833f1",
   "metadata": {
    "slideshow": {
     "slide_type": "subslide"
    }
   },
   "outputs": [],
   "source": [
    "def dq_append(self, item):\n",
    "    self._check_size()\n",
    "    self._values[(self._start+self._size) % len(self._values)] = item\n",
    "    self._size += 1\n",
    "\n",
    "\n",
    "def dq_pop(self):\n",
    "    self._size -= 1\n",
    "    value = self._values[(self._start+self._size) % len(self._values)] \n",
    "    self._check_size()\n",
    "    return value\n",
    "\n",
    "DeQueue.append = dq_append\n",
    "DeQueue.pop = dq_pop"
   ]
  },
  {
   "cell_type": "code",
   "execution_count": null,
   "id": "d5cc078c",
   "metadata": {
    "slideshow": {
     "slide_type": "-"
    }
   },
   "outputs": [],
   "source": [
    "q = DeQueue()\n",
    "q.append(1)\n",
    "q.append(2)\n",
    "print(f\"{q=}, {q.pop()=}, {q=}\")"
   ]
  },
  {
   "cell_type": "code",
   "execution_count": null,
   "id": "1b53e274",
   "metadata": {
    "slideshow": {
     "slide_type": "subslide"
    }
   },
   "outputs": [],
   "source": [
    "def dq_append_left(self, item):\n",
    "    self._check_size()\n",
    "    self._start = (self._start - 1) % len(self._values)\n",
    "    self._values[self._start] = item\n",
    "    self._size += 1\n",
    "    \n",
    "def dq_pop_left(self):\n",
    "    value = self._values[self._start % len(self._values)]\n",
    "    self._start = (self._start + 1) % len(self._values)\n",
    "    self._size -= 1\n",
    "    self._check_size()\n",
    "    return value\n",
    "\n",
    "DeQueue.append_left = dq_append_left\n",
    "DeQueue.pop_left = dq_pop_left"
   ]
  },
  {
   "cell_type": "code",
   "execution_count": null,
   "id": "9d1140c3",
   "metadata": {
    "slideshow": {
     "slide_type": "-"
    }
   },
   "outputs": [],
   "source": [
    "q.append_left(3)\n",
    "print(f\"{q=}, {q.pop_left()=}, {q=}\")"
   ]
  },
  {
   "cell_type": "markdown",
   "id": "88a99177",
   "metadata": {
    "slideshow": {
     "slide_type": "slide"
    }
   },
   "source": [
    "## Oldjuk meg a motiváló feladatot.\n",
    "\n",
    "> Adott egy számokból álló lista `numbers` és egy `k` pozitív egész, ahol `1 <= k <= len(numbers)`. Számítsuk ki a `k` hosszú blokkok maximumait. Az eredmény `n - k + 1` hosszú lista.\n",
    "\n",
    "Van egy `double ended queue`-nk. Egy hatékonyabb implementáció megtalálható a `collections` könyvtárban `deque` névvel, azzal fogunk dolgozni."
   ]
  },
  {
   "cell_type": "markdown",
   "id": "c6b946bb",
   "metadata": {
    "slideshow": {
     "slide_type": "slide"
    }
   },
   "source": [
    "### Először brute force megoldás\n",
    "\n",
    "- Ezzel ellenőrizhetjük a ,,hatékony'' megoldásunkat.\n",
    "- Össze tudjuk hasonlítani a futási időket."
   ]
  },
  {
   "cell_type": "code",
   "execution_count": 65,
   "id": "e32e271b",
   "metadata": {
    "slideshow": {
     "slide_type": "-"
    }
   },
   "outputs": [],
   "source": [
    "def window_maxes_slow(numbers, k):\n",
    "    return [max(numbers[j] for j in range(i, i+k)) for i in range(len(numbers)-k+1)]       "
   ]
  },
  {
   "cell_type": "code",
   "execution_count": null,
   "id": "77c3b4f7",
   "metadata": {},
   "outputs": [],
   "source": [
    "window_maxes_slow([1, 2, 3, 2, 1], 2)"
   ]
  },
  {
   "cell_type": "code",
   "execution_count": 70,
   "id": "40316eca",
   "metadata": {},
   "outputs": [],
   "source": [
    "import random\n",
    "random_numbers = [random.random() for _ in range(15_000)]"
   ]
  },
  {
   "cell_type": "code",
   "execution_count": null,
   "id": "05f17dda",
   "metadata": {},
   "outputs": [],
   "source": [
    "%time maxes = window_maxes_slow(random_numbers, 7500)"
   ]
  },
  {
   "cell_type": "markdown",
   "id": "a03e235b",
   "metadata": {
    "slideshow": {
     "slide_type": "slide"
    }
   },
   "source": [
    "### Mit kell megjegyezni az utolsó $k$ számból?"
   ]
  },
  {
   "cell_type": "code",
   "execution_count": null,
   "id": "49c91542",
   "metadata": {
    "scrolled": false
   },
   "outputs": [],
   "source": [
    "import matplotlib.pyplot as plt\n",
    "colors = [\"blue\", \"red\"]\n",
    "is_max = [colors[x==max(random_numbers[i:20])] for i, x in enumerate(random_numbers[:20])]\n",
    "plt.scatter(x=range(20), y=random_numbers[:20], c=is_max) \n",
    "plt.grid()\n",
    "plt.show()"
   ]
  },
  {
   "cell_type": "markdown",
   "id": "ebc0025c",
   "metadata": {
    "slideshow": {
     "slide_type": "slide"
    }
   },
   "source": [
    "### Mit kell megjegyezni az utolsó $k$ számból?"
   ]
  },
  {
   "cell_type": "markdown",
   "id": "f4667673",
   "metadata": {
    "slideshow": {
     "slide_type": "-"
    }
   },
   "source": [
    "- Legyen `numbers[i-k:i]` `i>=k` az `i`. ablak. A feladat a maximumok összegyűjtése.\n",
    "\n",
    "- Minden ablakra jegyezzünk fel egy sorozatot a lehetséges maximum értékekből.\n",
    "  Ha `w` az ablak, akkor \n",
    "  \n",
    "  * a sorozat első eleme legyen az első maximum érték.\n",
    "  * a következő elem a tőle jobbra lévők közül az első maximum érték, stb. \n",
    "  \n",
    "  Az adott ablak maximális értéke, a hozzá tartozó sorozat első eleme.\n",
    "  \n",
    "- Ha az ablakot eggyel jobbra mozgatjuk, akkor \n",
    "  * a korábbi maximum érték kikerülhet az ablakból\n",
    "  * az új érték a sorozat néhány eleménél nagyobb lehet. Ezeket törölni kell. \n",
    "  * végül az új érték a tőle jobbra állóktól nem kisebb, így hozzá kell fűzni a sorozathoz.\n",
    "  \n"
   ]
  },
  {
   "cell_type": "markdown",
   "id": "dcac3c68",
   "metadata": {
    "slideshow": {
     "slide_type": "subslide"
    }
   },
   "source": [
    "## Ugyanez kóddal"
   ]
  },
  {
   "cell_type": "code",
   "execution_count": 74,
   "id": "e25f847f",
   "metadata": {
    "slideshow": {
     "slide_type": "-"
    }
   },
   "outputs": [],
   "source": [
    "from collections import deque\n",
    "\n",
    "def window_maxes(numbers, k):\n",
    "    queue = deque()\n",
    "    maxes = []\n",
    "    for i, num in enumerate(numbers):\n",
    "        if i >= k and queue[0] == numbers[i-k]:\n",
    "            queue.popleft()\n",
    "        while queue and queue[-1] < num:\n",
    "            queue.pop()\n",
    "        queue.append(num)\n",
    "        if i >= k-1:\n",
    "            maxes.append(queue[0])\n",
    "    return maxes"
   ]
  },
  {
   "cell_type": "code",
   "execution_count": 75,
   "id": "40b26459",
   "metadata": {
    "slideshow": {
     "slide_type": "subslide"
    }
   },
   "outputs": [],
   "source": [
    "import ipytest\n",
    "ipytest.autoconfig()"
   ]
  },
  {
   "cell_type": "code",
   "execution_count": null,
   "id": "888bb444",
   "metadata": {},
   "outputs": [],
   "source": [
    "%%ipytest\n",
    "\n",
    "def test_window_maxes():\n",
    "    for _ in range(20):\n",
    "        random_numbers = [random.randint(0, 1000)  for _ in range(200)]\n",
    "        assert window_maxes_slow(random_numbers, 100) == window_maxes(random_numbers, 100)\n"
   ]
  },
  {
   "cell_type": "markdown",
   "id": "b593cf5a",
   "metadata": {
    "slideshow": {
     "slide_type": "subslide"
    }
   },
   "source": [
    "## Futási idők"
   ]
  },
  {
   "cell_type": "code",
   "execution_count": null,
   "id": "7184b5fc",
   "metadata": {
    "slideshow": {
     "slide_type": "-"
    }
   },
   "outputs": [],
   "source": [
    "print(f\"{len(random_numbers)=}\")\n",
    "k = len(random_numbers)//2\n",
    "%time maxes = window_maxes_slow(random_numbers, k)\n",
    "%time maxes = window_maxes(random_numbers, k)"
   ]
  },
  {
   "cell_type": "markdown",
   "id": "715558b9",
   "metadata": {
    "slideshow": {
     "slide_type": "slide"
    }
   },
   "source": [
    "## `deque` helyett `list` típussal"
   ]
  },
  {
   "cell_type": "code",
   "execution_count": 78,
   "id": "da09c054",
   "metadata": {},
   "outputs": [],
   "source": [
    "def window_maxes_with_list(numbers, k):\n",
    "    queue = []\n",
    "    maxes = []\n",
    "    for i, num in enumerate(numbers):\n",
    "        if i >= k and queue[0] == numbers[i-k]:\n",
    "            queue.pop(0)\n",
    "        while queue and queue[-1] < num:\n",
    "            queue.pop()\n",
    "        queue.append(num)\n",
    "        if i >= k-1:\n",
    "            maxes.append(queue[0])\n",
    "    return maxes\n"
   ]
  },
  {
   "cell_type": "markdown",
   "id": "b30a0e35",
   "metadata": {
    "slideshow": {
     "slide_type": "subslide"
    }
   },
   "source": [
    "## Teszt"
   ]
  },
  {
   "cell_type": "code",
   "execution_count": null,
   "id": "89becf82",
   "metadata": {},
   "outputs": [],
   "source": [
    "%%ipytest\n",
    "\n",
    "def test_window_maxes_list():\n",
    "    for i in range(1, 20):\n",
    "        n = i*1000\n",
    "        numbers = [random.randint(0, 10000)  for _ in range(n)]\n",
    "        assert (\n",
    "            window_maxes_with_list(numbers, n//2) == \n",
    "            window_maxes(numbers, n//2)\n",
    "        )"
   ]
  },
  {
   "cell_type": "markdown",
   "id": "198fab6b",
   "metadata": {
    "slideshow": {
     "slide_type": "subslide"
    }
   },
   "source": [
    "## Futási idő"
   ]
  },
  {
   "cell_type": "code",
   "execution_count": null,
   "id": "52b7cd23",
   "metadata": {},
   "outputs": [],
   "source": [
    "n = 50_000\n",
    "random_numbers = [random.random() for _ in range(n)]\n",
    "print(f\"{len(random_numbers)=:_}\")\n",
    "%timeit -n 10 maxes = window_maxes_with_list(random_numbers, n//2)\n",
    "%timeit -n 10 maxes = window_maxes(random_numbers, n//2)"
   ]
  },
  {
   "cell_type": "markdown",
   "id": "de74ffed",
   "metadata": {
    "slideshow": {
     "slide_type": "fragment"
    }
   },
   "source": [
    "Lehet, hogy a lista típus jobb mint gondoltuk?"
   ]
  }
 ],
 "metadata": {
  "celltoolbar": "Slideshow",
  "kernelspec": {
   "display_name": "python3.10",
   "language": "python",
   "name": "python3"
  },
  "language_info": {
   "codemirror_mode": {
    "name": "ipython",
    "version": 3
   },
   "file_extension": ".py",
   "mimetype": "text/x-python",
   "name": "python",
   "nbconvert_exporter": "python",
   "pygments_lexer": "ipython3",
   "version": "3.10.12"
  }
 },
 "nbformat": 4,
 "nbformat_minor": 5
}
