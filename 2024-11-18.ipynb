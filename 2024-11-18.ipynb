{
 "cells": [
  {
   "cell_type": "markdown",
   "id": "4f620544",
   "metadata": {
    "slideshow": {
     "slide_type": "slide"
    }
   },
   "source": [
    "# Emlékeztető"
   ]
  },
  {
   "cell_type": "markdown",
   "id": "183b005c",
   "metadata": {},
   "source": [
    "Az elmúlt hetekben \n",
    "- Objektum orientált programozás: osztály definíció (`class`), dunder metódusok stb. \n",
    "- `numpy` és\n",
    "- `matplotlib` könyvtár\n",
    "volt terítéken. A `matplotlib` könytárat csak példákon keresztül néztük.\n",
    "\n",
    "A mai alkalommal \n",
    "\n",
    "- visszatérünk egy rövid példa erejéig az öröklödésre \n",
    "\n",
    "- példákon keresztül megnézzük a `pandas` könyvtár használatát.\n",
    "\n",
    "- ha marad idő megnézzük a Newton módszer alkalmazását."
   ]
  },
  {
   "cell_type": "markdown",
   "id": "ceef5b20",
   "metadata": {
    "slideshow": {
     "slide_type": "slide"
    }
   },
   "source": [
    "# Kis kitérő: Öröklődés"
   ]
  },
  {
   "cell_type": "markdown",
   "id": "737a0092",
   "metadata": {},
   "source": [
    "Korábban szerepelt ehhez hasonló példa. Legyenek `Polygon`, `Rectangle`, `Square` osztályaink.\n",
    "Minden négyzet téglalap és minden téglalap sokszög. Egy sokszöget a csúcsok felsorolásával adhatunk meg.\n",
    "Ebből a kerület, terület kiszámolható és eldönthető, hogy a sokszög konvex-e. Ha akarjuk pl. a `Matplotlib` könyvtárral ki is rajzolhatjuk a sokszöget.\n",
    "\n",
    "Menetközben síkvektorokkal akarunk számolni. Erre kényelmes a `numpy` könyvtárat használni."
   ]
  },
  {
   "cell_type": "code",
   "execution_count": null,
   "id": "9de53bf0",
   "metadata": {},
   "outputs": [],
   "source": [
    "import numpy as np\n",
    "from itertools import pairwise\n",
    "import matplotlib.pyplot as plt"
   ]
  },
  {
   "cell_type": "code",
   "execution_count": null,
   "id": "46d16ef1",
   "metadata": {
    "slideshow": {
     "slide_type": "subslide"
    }
   },
   "outputs": [],
   "source": [
    "class Point(np.ndarray):\n",
    "    def __new__(cls, point):\n",
    "        point = np.asarray(point)\n",
    "        assert point.shape[-1] == 2\n",
    "        return point.view(cls)\n",
    "\n",
    "    def __repr__(self):\n",
    "        if self.ndim > 1:\n",
    "            return f\"Array of Points\"\n",
    "        else:\n",
    "            a, b =  self\n",
    "        return f\"Point{(a,b)}\"\n",
    "    \n",
    "def rotate90(x):\n",
    "    return np.flip(x, axis=-1)*np.array([1, -1])"
   ]
  },
  {
   "cell_type": "code",
   "execution_count": null,
   "id": "798fb2f9",
   "metadata": {},
   "outputs": [],
   "source": [
    "Point((1,2))-Point((3,4))"
   ]
  },
  {
   "cell_type": "code",
   "execution_count": null,
   "id": "37cc18ae",
   "metadata": {
    "slideshow": {
     "slide_type": "subslide"
    }
   },
   "outputs": [],
   "source": [
    "class Polygon:\n",
    "    def __init__(self, nodes):\n",
    "        self.nodes = tuple((Point(node) for node in nodes))\n",
    "\n",
    "    def area(self):\n",
    "        nodes = np.array(self.nodes)\n",
    "        area = sum(v1[0]*v2[1]-v1[1]*v2[0] for v1, v2 in pairwise(nodes-nodes[0]))\n",
    "        return abs(area)/2\n",
    "\n",
    "    def edges(self):\n",
    "        nodes = np.array(self.nodes)\n",
    "        return nodes-np.roll(nodes, 1, axis=0)\n",
    "    \n",
    "    def perimeter(self):\n",
    "        return sum(np.linalg.norm(edge) for edge in self.edges())\n",
    "    \n",
    "    def is_convex(self):\n",
    "        edges = self.edges()\n",
    "        sgn = np.einsum('ij,ij->i', rotate90(edges), np.roll(edges, 1, axis=0))\n",
    "        return (min(sgn)*max(sgn)>=0)\n",
    "\n",
    "    def draw(self,  *args, fill=False, **kwargs):\n",
    "        nodes = np.array(self.nodes + self.nodes[:1])\n",
    "        if fill: plt.fill(*nodes.T, alpha=0.5)\n",
    "        plt.plot(*nodes.T, *args, **kwargs)\n",
    "        plt.axis('equal')\n",
    "\n",
    "    def __repr__(self):\n",
    "        return f'{type(self).__name__}({[tuple(x) for x in self.nodes]})'"
   ]
  },
  {
   "cell_type": "code",
   "execution_count": null,
   "id": "2697b2e6",
   "metadata": {
    "slideshow": {
     "slide_type": "subslide"
    }
   },
   "outputs": [],
   "source": [
    "class Rectangle(Polygon):\n",
    "\n",
    "    def __init__(self, P1, P2, r):\n",
    "        \"\"\"\n",
    "        P1, P2 froms an edge and r is the ratio of edge lengths.\n",
    "\n",
    "        Assuming that e is P1P2 rotated counterclockwise by 90 degree\n",
    "        the vertices are:\n",
    "        P1, P2, P2+r*e, P1+r*e\n",
    "        \"\"\"\n",
    "        P1, P2 = Point(P1), Point(P2)\n",
    "        v = rotate90(P2-P1)*r\n",
    "        super(Rectangle, self).__init__([P1, P2, P2+v, P1+v])\n",
    "\n",
    "    def is_convex(self):\n",
    "        return True"
   ]
  },
  {
   "cell_type": "code",
   "execution_count": null,
   "id": "c1ddda6e",
   "metadata": {
    "slideshow": {
     "slide_type": "subslide"
    }
   },
   "outputs": [],
   "source": [
    "class Square(Rectangle):\n",
    "\n",
    "    def __init__(self, P1, P2):\n",
    "        super(Square, self).__init__(P1, P2, 1)"
   ]
  },
  {
   "cell_type": "code",
   "execution_count": null,
   "id": "54540208",
   "metadata": {},
   "outputs": [],
   "source": [
    "rotate90(np.array([[0, 1], [1, 0]]))"
   ]
  },
  {
   "cell_type": "code",
   "execution_count": null,
   "id": "5fc6a366",
   "metadata": {},
   "outputs": [],
   "source": [
    "points = np.array([[0,0], [1,1]])\n",
    "s = Square(points[0], points[1])\n",
    "t = Rectangle(points[0], points[1], 2)\n",
    "p = Polygon(points)\n",
    "for x in [s, t, p]:\n",
    "    print(f\"{x} kerület: {x.perimeter():.2f}, konvex: {x.is_convex()}, terület: {x.area():.2f}\")\n"
   ]
  },
  {
   "cell_type": "markdown",
   "id": "aabd2c17",
   "metadata": {},
   "source": [
    "Vegyük észre, hogy az `__repr__` metódust csak egyszer implementáltuk, mégis minden egyednek a saját típusát írja ki!\n",
    "Az előző kód blokkot futtassuk le azután is, hogy a `draw` metódust implementáltuk."
   ]
  },
  {
   "cell_type": "code",
   "execution_count": null,
   "id": "bc6a925a",
   "metadata": {
    "slideshow": {
     "slide_type": "subslide"
    }
   },
   "outputs": [],
   "source": [
    "import matplotlib.pyplot as plt"
   ]
  },
  {
   "cell_type": "code",
   "execution_count": null,
   "id": "d04507c0",
   "metadata": {},
   "outputs": [],
   "source": [
    "points = np.array([[0,0], [2,0], [2,2], [1,1], [1,2], [0,2], [0.5,1]])\n",
    "p = Polygon(list(points))\n",
    "print(f\"{p} konvex?: {p.is_convex()}, {p.area()=}\")\n",
    "p.draw('o-', fill=True)\n",
    "plt.grid(); plt.show()\n"
   ]
  },
  {
   "cell_type": "code",
   "execution_count": null,
   "id": "5b8c4ea6",
   "metadata": {
    "slideshow": {
     "slide_type": "subslide"
    }
   },
   "outputs": [],
   "source": [
    "plt.plot(*np.array(s.nodes)[[0,1,2,3,0]].T)\n",
    "plt.grid()\n",
    "plt.axis('equal')\n",
    "# plt.axis('off')\n"
   ]
  },
  {
   "cell_type": "code",
   "execution_count": null,
   "id": "077e8ab7",
   "metadata": {
    "slideshow": {
     "slide_type": "subslide"
    }
   },
   "outputs": [],
   "source": [
    "t.draw('o-', alpha=0.5)\n",
    "s.draw('o:', markersize=10, alpha=0.5, fill=True)\n",
    "p.draw('o-', mfc=\"yellow\", mec='r', alpha=0.5)\n",
    "plt.show()"
   ]
  },
  {
   "cell_type": "code",
   "execution_count": null,
   "id": "e91256a4",
   "metadata": {
    "slideshow": {
     "slide_type": "subslide"
    }
   },
   "outputs": [],
   "source": [
    "p = Square([0,0], [1,0])\n",
    "p.draw(fill=True)"
   ]
  },
  {
   "cell_type": "markdown",
   "id": "aa3a0383",
   "metadata": {
    "slideshow": {
     "slide_type": "slide"
    }
   },
   "source": [
    "# Táblázatos adatok kezelése (pandas - tabular datasets in Python)"
   ]
  },
  {
   "cell_type": "markdown",
   "id": "79ca2b17",
   "metadata": {},
   "source": [
    "<table border=\"1\" class=\"dataframe\">\n",
    "    <thead>\n",
    "        <tr style=\"text-align: right;\">\n",
    "            <th></th>\n",
    "            <th>name</th>\n",
    "            <th>age</th>\n",
    "            <th>average</th>\n",
    "        </tr>\n",
    "    </thead>\n",
    "    <tbody>\n",
    "        <tr>\n",
    "            <th>0</th>\n",
    "            <td>Anna</td>\n",
    "            <td>20</td>\n",
    "            <td>4.5</td>\n",
    "        </tr>\n",
    "        <tr>\n",
    "            <th>1</th>\n",
    "            <td>Bob</td>\n",
    "            <td>19</td>\n",
    "            <td>3.9</td>\n",
    "        </tr>\n",
    "        <tr>\n",
    "            <th>2</th>\n",
    "            <td>Cecil</td>\n",
    "            <td>22</td>\n",
    "            <td>4.1</td>\n",
    "        </tr>\n",
    "    </tbody>\n",
    "</table>"
   ]
  },
  {
   "cell_type": "markdown",
   "id": "b295ef16",
   "metadata": {},
   "source": [
    "A `pandas` könyvtár az alábbi feladatokra kínál megoldást:\n",
    "* táblázatos adatok kezelése\n",
    "* műveletek, csoportok képzése, statisztikák számolása\n",
    "* idősoros adatok kezelése\n",
    "* hiányzó adatok kezelése\n",
    "* adatok összefésülése SQL-szerű műveletekkel\n",
    "* sokféle input és output formátum támogatása"
   ]
  },
  {
   "cell_type": "code",
   "execution_count": null,
   "id": "b442a459",
   "metadata": {
    "slideshow": {
     "slide_type": "subslide"
    }
   },
   "outputs": [],
   "source": [
    "import matplotlib.pyplot as plt\n",
    "import seaborn as sns\n",
    "import numpy as np\n",
    "import pandas as pd"
   ]
  },
  {
   "cell_type": "code",
   "execution_count": null,
   "id": "0c5c0b72",
   "metadata": {},
   "outputs": [],
   "source": [
    "small_df = pd.DataFrame(\n",
    "    [[\"Anna\", 20, 4.5], [\"Bob\", 19, 3.9], [\"Cecil\", 22, 4.1]],\n",
    "    columns=[\"name\", \"age\", \"average\"]\n",
    ")\n",
    "\n",
    "small_df"
   ]
  },
  {
   "cell_type": "code",
   "execution_count": null,
   "id": "1c9cf6f2",
   "metadata": {
    "slideshow": {
     "slide_type": "subslide"
    }
   },
   "outputs": [],
   "source": [
    "# rekordok listája, index értékekkel\n",
    "\n",
    "df = pd.DataFrame(\n",
    "    [[\"Anna\", 20, 4.5], [\"Bob\", 19, 3.9], [\"Cecil\", 22, 4.1]],\n",
    "    columns=[\"name\", \"age\", \"average\"],\n",
    "    index=[\"one\", \"two\", \"three\"]\n",
    ")\n",
    "\n",
    "df"
   ]
  },
  {
   "cell_type": "code",
   "execution_count": null,
   "id": "f8a9ebbb",
   "metadata": {
    "slideshow": {
     "slide_type": "subslide"
    }
   },
   "outputs": [],
   "source": [
    "df[\"name\"] # pandas Series objektum"
   ]
  },
  {
   "cell_type": "code",
   "execution_count": null,
   "id": "55df16e1",
   "metadata": {},
   "outputs": [],
   "source": [
    "df.loc[[\"one\", \"two\"]]"
   ]
  },
  {
   "cell_type": "code",
   "execution_count": null,
   "id": "cea694ee",
   "metadata": {
    "scrolled": true,
    "slideshow": {
     "slide_type": "subslide"
    }
   },
   "outputs": [],
   "source": [
    "df.loc[[\"one\", \"two\"], [\"name\", \"age\"]]"
   ]
  },
  {
   "cell_type": "code",
   "execution_count": null,
   "id": "955334d3",
   "metadata": {},
   "outputs": [],
   "source": [
    "df[[\"name\", \"age\"]] # nincs loc, vagy df.loc[:, [\"name\", \"age\"]]"
   ]
  },
  {
   "cell_type": "code",
   "execution_count": null,
   "id": "bc99b2f3",
   "metadata": {},
   "outputs": [],
   "source": [
    "df[df[\"average\"] >= 4.0] # bool index, vagy df.loc[df[\"average\"] >= 4]"
   ]
  },
  {
   "cell_type": "markdown",
   "id": "8173e5d3",
   "metadata": {
    "slideshow": {
     "slide_type": "subslide"
    }
   },
   "source": [
    "Nagyon sok adat táblázatos formátumú. \n",
    "\n",
    "Statisztikában, klasszikus gépi tanulási algoritmusoknál a táblázat sorai egy-egy adatpontot reprezentálnak. \n",
    "\n",
    "A sor elemei a megfigyelt tulajdonságok, ezek nem feltétlenül azonos típusúak.\n",
    "\n",
    "Egy példa a `Kaggle`-ről: **Időjárás Szegeden**"
   ]
  },
  {
   "cell_type": "code",
   "execution_count": null,
   "id": "40d75a66",
   "metadata": {},
   "outputs": [],
   "source": [
    "import kagglehub\n",
    "\n",
    "# Download latest version\n",
    "path = kagglehub.dataset_download(\"budincsevity/szeged-weather\")\n",
    "\n",
    "print(\"Path to dataset files:\", path)"
   ]
  },
  {
   "cell_type": "code",
   "execution_count": null,
   "id": "3166e62c",
   "metadata": {},
   "outputs": [],
   "source": [
    "from pathlib import Path\n",
    "\n",
    "path = Path(path)\n",
    "print(*path.glob(\"*\"), sep=\"\\n\")\n",
    "csv_file = next(iter(path.glob(\"*.csv\")))\n",
    "print(csv_file)"
   ]
  },
  {
   "cell_type": "code",
   "execution_count": null,
   "id": "57138a9d",
   "metadata": {
    "slideshow": {
     "slide_type": "subslide"
    }
   },
   "outputs": [],
   "source": [
    "!head -n 5 $csv_file"
   ]
  },
  {
   "cell_type": "code",
   "execution_count": null,
   "id": "847fd7d4",
   "metadata": {
    "slideshow": {
     "slide_type": "subslide"
    }
   },
   "outputs": [],
   "source": [
    "import pandas as pd\n",
    "import matplotlib.pyplot as plt\n",
    "import seaborn as sns\n",
    "import numpy as np"
   ]
  },
  {
   "cell_type": "code",
   "execution_count": null,
   "id": "d1796a8e",
   "metadata": {},
   "outputs": [],
   "source": [
    "df = pd.read_csv(csv_file, nrows=5)\n",
    "df.head()"
   ]
  },
  {
   "cell_type": "code",
   "execution_count": null,
   "id": "13f4b92d",
   "metadata": {
    "slideshow": {
     "slide_type": "subslide"
    }
   },
   "outputs": [],
   "source": [
    "df = pd.read_csv(csv_file)\n",
    "df.shape"
   ]
  },
  {
   "cell_type": "markdown",
   "id": "99d91759",
   "metadata": {
    "slideshow": {
     "slide_type": "subslide"
    }
   },
   "source": [
    "## Információk az adat keret (`pandas.DataFrame`) oszlopairól"
   ]
  },
  {
   "cell_type": "code",
   "execution_count": null,
   "id": "a2c4470d",
   "metadata": {},
   "outputs": [],
   "source": [
    "df.dtypes"
   ]
  },
  {
   "cell_type": "code",
   "execution_count": null,
   "id": "5e62ccd3",
   "metadata": {
    "slideshow": {
     "slide_type": "subslide"
    }
   },
   "outputs": [],
   "source": [
    "df.info()"
   ]
  },
  {
   "cell_type": "code",
   "execution_count": null,
   "id": "44b69f13",
   "metadata": {
    "slideshow": {
     "slide_type": "subslide"
    }
   },
   "outputs": [],
   "source": [
    "df.describe()"
   ]
  },
  {
   "cell_type": "markdown",
   "id": "e80d458b",
   "metadata": {
    "slideshow": {
     "slide_type": "subslide"
    }
   },
   "source": [
    "Látszik, hogy a  `Loud Cover` oszlop csupa nulla. Eldobhatjuk."
   ]
  },
  {
   "cell_type": "code",
   "execution_count": null,
   "id": "0ca501ef",
   "metadata": {},
   "outputs": [],
   "source": [
    "df.drop(columns=[\"Loud Cover\"], inplace=True)\n",
    "df.columns"
   ]
  },
  {
   "cell_type": "code",
   "execution_count": null,
   "id": "2e209bdd",
   "metadata": {
    "slideshow": {
     "slide_type": "subslide"
    }
   },
   "outputs": [],
   "source": [
    "df.isna().sum()"
   ]
  },
  {
   "cell_type": "markdown",
   "id": "36a7da26",
   "metadata": {},
   "source": [
    "Honnan jönnek az `NA` értékek?"
   ]
  },
  {
   "cell_type": "code",
   "execution_count": null,
   "id": "c8a21b73",
   "metadata": {
    "slideshow": {
     "slide_type": "subslide"
    }
   },
   "outputs": [],
   "source": [
    "df[\"date\"] = pd.to_datetime(df[\"Formatted Date\"], utc=True)\n",
    "df.sort_values(\"date\", inplace=True)\n",
    "\n",
    "plt.plot(df.date, df.isna().any(axis=1).cumsum())\n",
    "plt.grid()"
   ]
  },
  {
   "cell_type": "code",
   "execution_count": null,
   "id": "3188a4b3",
   "metadata": {},
   "outputs": [],
   "source": [
    "df[\"Precip Type\"].value_counts()"
   ]
  },
  {
   "cell_type": "code",
   "execution_count": null,
   "id": "0967c675",
   "metadata": {
    "slideshow": {
     "slide_type": "subslide"
    }
   },
   "outputs": [],
   "source": [
    "df.plot(x=\"Temperature (C)\", y=\"Apparent Temperature (C)\", kind=\"scatter\", s=1)\n",
    "plt.show()"
   ]
  },
  {
   "cell_type": "code",
   "execution_count": null,
   "id": "a71d4ea0",
   "metadata": {
    "slideshow": {
     "slide_type": "subslide"
    }
   },
   "outputs": [],
   "source": [
    "df[\"temp_diff\"] = df[\"Apparent Temperature (C)\"] - df[\"Temperature (C)\"]"
   ]
  },
  {
   "cell_type": "code",
   "execution_count": null,
   "id": "5ac100b2",
   "metadata": {},
   "outputs": [],
   "source": [
    "sns.scatterplot(data=df.sample(1000), \n",
    "                x=\"Wind Speed (km/h)\", y=\"temp_diff\", size=\"Humidity\", hue=\"Temperature (C)\")\n",
    "plt.show()"
   ]
  },
  {
   "cell_type": "code",
   "execution_count": null,
   "id": "b3db9ec0",
   "metadata": {
    "slideshow": {
     "slide_type": "subslide"
    }
   },
   "outputs": [],
   "source": [
    "sns.pairplot(df.sample(1000), diag_kind=\"kde\"); plt.show()"
   ]
  },
  {
   "cell_type": "code",
   "execution_count": null,
   "id": "e87103b0",
   "metadata": {
    "slideshow": {
     "slide_type": "subslide"
    }
   },
   "outputs": [],
   "source": [
    "df[\"rain_or_snow\"] = df[\"Precip Type\"].map({\"rain\": 0, \"snow\": 1})"
   ]
  },
  {
   "cell_type": "code",
   "execution_count": null,
   "id": "eb9fcffb",
   "metadata": {},
   "outputs": [],
   "source": [
    "sns.heatmap(df.loc(1)[df.dtypes!=np.dtype('O')].corr(), \n",
    "            annot=True, fmt=\".2f\", vmin=-1, vmax=1, cmap=\"coolwarm\")\n",
    "plt.show()"
   ]
  },
  {
   "cell_type": "markdown",
   "id": "d2119bfb",
   "metadata": {
    "slideshow": {
     "slide_type": "subslide"
    }
   },
   "source": [
    "## Idősorrá (time-series) alakítás"
   ]
  },
  {
   "cell_type": "code",
   "execution_count": null,
   "id": "466f5a09",
   "metadata": {},
   "outputs": [],
   "source": [
    "ts = df.drop(columns=[\"Formatted Date\"])\n",
    "ts[\"date\"] = (\n",
    "    pd.to_datetime(df[\"Formatted Date\"], utc=True)\n",
    "    .dt.tz_convert(\"Europe/Budapest\")\n",
    ")\n",
    "ts.set_index(\"date\", inplace=True)\n",
    "ts.sort_index(inplace=True)\n",
    "ts.head(3)"
   ]
  },
  {
   "cell_type": "markdown",
   "id": "afc21093",
   "metadata": {
    "slideshow": {
     "slide_type": "subslide"
    }
   },
   "source": [
    "## Megjegyzés.\n",
    "\n",
    "Már a beolvasáskor is a kívánt alakúra hozhatnánk az adat keretünket, de ez lassabb lenne."
   ]
  },
  {
   "cell_type": "code",
   "execution_count": null,
   "id": "4858d910",
   "metadata": {},
   "outputs": [],
   "source": [
    "%%time\n",
    "df0 = pd.read_csv(\n",
    "    csv_file, \n",
    "    # index_col=\"Formatted Date\", \n",
    "    parse_dates=[\"Formatted Date\"],\n",
    "#     converters={\"Formatted Date\": lambda x: pd.to_datetime(x, utc=True, format='ISO8601')},\n",
    ")"
   ]
  },
  {
   "cell_type": "code",
   "execution_count": null,
   "id": "9bc77677",
   "metadata": {},
   "outputs": [],
   "source": [
    "%%time\n",
    "df1 = pd.read_csv(csv_file)\n",
    "df1[\"Formatted Date\"] = pd.to_datetime(df[\"Formatted Date\"], utc=True)"
   ]
  },
  {
   "cell_type": "code",
   "execution_count": null,
   "id": "096686f5",
   "metadata": {
    "slideshow": {
     "slide_type": "-"
    }
   },
   "outputs": [],
   "source": [
    "#ellenőrzés\n",
    "(df0[\"Formatted Date\"] == df1[\"Formatted Date\"]).all()"
   ]
  },
  {
   "cell_type": "markdown",
   "id": "abc21270",
   "metadata": {
    "slideshow": {
     "slide_type": "subslide"
    }
   },
   "source": [
    "Egy `datetime` típusú oszlopból a dátum elemei kiolvashatóak a `dt.hour`, `dt.year` stb. tulajdonságok segítségével."
   ]
  },
  {
   "cell_type": "code",
   "execution_count": null,
   "id": "7494664a",
   "metadata": {
    "slideshow": {
     "slide_type": "-"
    }
   },
   "outputs": [],
   "source": [
    "ts[ts.index.hour==12].shape # Index exetén a `dt` rész elhagyható."
   ]
  },
  {
   "cell_type": "code",
   "execution_count": null,
   "id": "3957a91d",
   "metadata": {},
   "outputs": [],
   "source": [
    "import seaborn as sns\n",
    "\n",
    "plt.figure(figsize=(16, 4))\n",
    "ax = sns.scatterplot(\n",
    "    data=ts[ts.index.hour==12], \n",
    "    x=\"date\", y=\"Temperature (C)\", s=4\n",
    ")\n",
    "ax.set_title(\"Hőmérséklet Szegeden 12 órakor\")\n",
    "ax.set_xlabel(\"Év\"); ax.grid(); plt.show()"
   ]
  },
  {
   "cell_type": "code",
   "execution_count": null,
   "id": "dd7f041d",
   "metadata": {
    "slideshow": {
     "slide_type": "subslide"
    }
   },
   "outputs": [],
   "source": [
    "ax = ts.groupby(ts.index.hour)[\"Temperature (C)\"].mean().plot(kind=\"bar\", figsize=(8, 3))\n",
    "ax.set_xlabel(\"óra\")\n",
    "ax.set_ylabel(\"átlag hőmérséklet (C)\")\n",
    "plt.show()"
   ]
  },
  {
   "cell_type": "code",
   "execution_count": null,
   "id": "67125ac4",
   "metadata": {
    "slideshow": {
     "slide_type": "subslide"
    }
   },
   "outputs": [],
   "source": [
    "ts[\"hónap\"] = ts.index.month_name(locale=\"hu_HU.utf8\")\n",
    "ts[\"óra\"]  = ts.index.hour\n",
    "ts[\"nap\"] = ts.index.day_of_year\n",
    "ts[\"év\"] = ts.index.year\n",
    "ts.head()"
   ]
  },
  {
   "cell_type": "code",
   "execution_count": null,
   "id": "c24ad366",
   "metadata": {
    "slideshow": {
     "slide_type": "subslide"
    }
   },
   "outputs": [],
   "source": [
    "import seaborn as sns\n",
    "\n",
    "plt.figure(figsize=(16, 4))\n",
    "ax = sns.lineplot(\n",
    "    data=ts[(ts.index.hour == 12)], \n",
    "    x=\"nap\", \n",
    "    y=\"Temperature (C)\", \n",
    ")\n",
    "ax.set_title(\"Hőmérséklet Szegeden 12 órakor\")\n",
    "ax.grid(); plt.show()"
   ]
  },
  {
   "cell_type": "code",
   "execution_count": null,
   "id": "b6176d7d",
   "metadata": {
    "slideshow": {
     "slide_type": "subslide"
    }
   },
   "outputs": [],
   "source": [
    "ts[\"Temperature (C)\"].plot(figsize=(16, 4))\n",
    "plt.show()"
   ]
  },
  {
   "cell_type": "code",
   "execution_count": null,
   "id": "5d46e740",
   "metadata": {
    "slideshow": {
     "slide_type": "subslide"
    }
   },
   "outputs": [],
   "source": [
    "ts[\"Temperature (C)\"].iloc[:14*24].plot(figsize=(16, 4))\n",
    "plt.grid(); plt.show()"
   ]
  },
  {
   "cell_type": "code",
   "execution_count": null,
   "id": "6d1335b0",
   "metadata": {
    "slideshow": {
     "slide_type": "subslide"
    }
   },
   "outputs": [],
   "source": [
    "ts[\"Temperature (C)\"].loc[\"2006-10-20\":\"2006-10-27\"].plot(figsize=(16, 4))\n",
    "plt.grid(); plt.show()"
   ]
  },
  {
   "cell_type": "code",
   "execution_count": null,
   "id": "020fb52c",
   "metadata": {
    "slideshow": {
     "slide_type": "subslide"
    }
   },
   "outputs": [],
   "source": [
    "ts_one_year = ts.loc[\"2011-03-01\":\"2012-02-28\"]"
   ]
  },
  {
   "cell_type": "code",
   "execution_count": null,
   "id": "1e962f57",
   "metadata": {},
   "outputs": [],
   "source": [
    "ts_one_year"
   ]
  },
  {
   "cell_type": "code",
   "execution_count": null,
   "id": "18ac7ab4",
   "metadata": {
    "slideshow": {
     "slide_type": "subslide"
    }
   },
   "outputs": [],
   "source": [
    "ts_one_year[\"Temperature (C)\"].plot(figsize=(16, 4))\n",
    "plt.show()"
   ]
  },
  {
   "cell_type": "code",
   "execution_count": null,
   "id": "a27a19cb",
   "metadata": {
    "slideshow": {
     "slide_type": "subslide"
    }
   },
   "outputs": [],
   "source": [
    "ts_one_year['Temperature (C)'].resample('MS').apply(\"mean\").plot(kind=\"barh\")\n",
    "plt.show()"
   ]
  },
  {
   "cell_type": "code",
   "execution_count": null,
   "id": "74974d94",
   "metadata": {
    "slideshow": {
     "slide_type": "subslide"
    }
   },
   "outputs": [],
   "source": [
    "(ts['Temperature (C)']\n",
    "    .resample(\"YS\")\n",
    "    .apply(\"mean\")\n",
    "    .plot(kind=\"barh\")\n",
    ")\n",
    "plt.show()"
   ]
  },
  {
   "cell_type": "code",
   "execution_count": null,
   "id": "8fb49960",
   "metadata": {
    "slideshow": {
     "slide_type": "subslide"
    }
   },
   "outputs": [],
   "source": [
    "ts_one_year.resample('3MS')['Temperature (C)'].agg(['min','max', 'mean', 'count'])"
   ]
  },
  {
   "cell_type": "markdown",
   "id": "3e9f7603",
   "metadata": {},
   "source": [
    "**HF**: \n",
    "* Keressünk gyanús adapontokat. Nézzük meg a légnyomás oszlopot. Mi a mérési értékek eloszlása?\n",
    "* Hány napon havazott?\n",
    "* Mikor volt köd? Melyik a legködösebb hónap?"
   ]
  },
  {
   "cell_type": "markdown",
   "id": "6e9a5d28",
   "metadata": {
    "slideshow": {
     "slide_type": "slide"
    }
   },
   "source": [
    "## `pandas.DataFrame` létrehozása, indexelés "
   ]
  },
  {
   "cell_type": "markdown",
   "id": "e025ef82",
   "metadata": {},
   "source": [
    "Néhány lehetőség:"
   ]
  },
  {
   "cell_type": "code",
   "execution_count": null,
   "id": "f2792020",
   "metadata": {},
   "outputs": [],
   "source": [
    "data = [{'a': 1, 'b':2}, {'a': 3, 'b':4}]\n",
    "pd.DataFrame(data)"
   ]
  },
  {
   "cell_type": "code",
   "execution_count": null,
   "id": "99f70ffe",
   "metadata": {},
   "outputs": [],
   "source": [
    "pd.DataFrame({'a': [1, 3], 'b': [2, 4]})"
   ]
  },
  {
   "cell_type": "code",
   "execution_count": null,
   "id": "b418a024",
   "metadata": {},
   "outputs": [],
   "source": [
    "pd.DataFrame([[1,2], [3,4]], columns=['a', 'b'])"
   ]
  },
  {
   "cell_type": "markdown",
   "id": "e4eabcd4",
   "metadata": {
    "slideshow": {
     "slide_type": "subslide"
    }
   },
   "source": [
    "## Indexelés, `loc` és `iloc` segítségével"
   ]
  },
  {
   "cell_type": "markdown",
   "id": "85546c7c",
   "metadata": {},
   "source": [
    "`loc` esetén index értékeket és oszlopneveket használunk"
   ]
  },
  {
   "cell_type": "code",
   "execution_count": null,
   "id": "c0993e3a",
   "metadata": {},
   "outputs": [],
   "source": [
    "ts.loc[\"2007-01-01\":\"2007-12-31\", [\"Summary\", \"Humidity\", \"Precip Type\"]]"
   ]
  },
  {
   "cell_type": "markdown",
   "id": "c651f902",
   "metadata": {
    "slideshow": {
     "slide_type": "subslide"
    }
   },
   "source": [
    "`iloc` esetén numerikus indexeket."
   ]
  },
  {
   "cell_type": "code",
   "execution_count": null,
   "id": "a66d6ac2",
   "metadata": {},
   "outputs": [],
   "source": [
    "df.iloc[:5, :5]"
   ]
  },
  {
   "cell_type": "markdown",
   "id": "a7cd0fdf",
   "metadata": {
    "slideshow": {
     "slide_type": "subslide"
    }
   },
   "source": [
    "Egy data frame minden oszlopa egy `pandas.Series` objektum. Ezek indexelt numpy vectorok."
   ]
  },
  {
   "cell_type": "code",
   "execution_count": null,
   "id": "476f17d0",
   "metadata": {},
   "outputs": [],
   "source": [
    "col = ts[\"Summary\"]\n",
    "print(f\"{type(col)=},\\n{col.dtype=},\\n{col.shape=},\\n{col.ndim=},\\n{col.name=}\")\n",
    "col.head()\n"
   ]
  },
  {
   "cell_type": "code",
   "execution_count": null,
   "id": "f93cd85a",
   "metadata": {
    "slideshow": {
     "slide_type": "subslide"
    }
   },
   "outputs": [],
   "source": [
    "df[[\"Summary\"]].head() ## Ez egy egy oszlopos DataFrame"
   ]
  },
  {
   "cell_type": "code",
   "execution_count": null,
   "id": "ea2fd2e5",
   "metadata": {},
   "outputs": [],
   "source": [
    "df.iloc[:5,:5].values ## Ez egy numpy tömb"
   ]
  },
  {
   "cell_type": "code",
   "execution_count": null,
   "id": "0148b0f6",
   "metadata": {},
   "outputs": [],
   "source": [
    "df[\"Temperature (C)\"].values ## Ez egy numpy vector"
   ]
  },
  {
   "cell_type": "markdown",
   "id": "6ef0e5ef",
   "metadata": {
    "slideshow": {
     "slide_type": "subslide"
    }
   },
   "source": [
    "### Kiírás fileba"
   ]
  },
  {
   "cell_type": "code",
   "execution_count": null,
   "id": "cd722a0f",
   "metadata": {},
   "outputs": [],
   "source": [
    "# help(pd.DataFrame.to_csv)"
   ]
  },
  {
   "cell_type": "code",
   "execution_count": null,
   "id": "3897e3e9",
   "metadata": {},
   "outputs": [],
   "source": [
    "df.iloc[:5, :5].to_csv(\n",
    "    \"/tmp/small.csv\", # path\n",
    "#     index=False,\n",
    "#     sep=\";\",\n",
    "#     decimal=\",\",\n",
    ")\n",
    "! cat /tmp/small.csv"
   ]
  },
  {
   "cell_type": "markdown",
   "id": "41dab38e",
   "metadata": {
    "slideshow": {
     "slide_type": "subslide"
    }
   },
   "source": [
    "### Más formátumba alakítás"
   ]
  },
  {
   "cell_type": "code",
   "execution_count": null,
   "id": "cf6be18d",
   "metadata": {},
   "outputs": [],
   "source": [
    "print(small_df.to_markdown(index=False))"
   ]
  },
  {
   "cell_type": "code",
   "execution_count": null,
   "id": "b6e22321",
   "metadata": {
    "slideshow": {
     "slide_type": "subslide"
    }
   },
   "outputs": [],
   "source": [
    "print(small_df.to_latex(float_format=\"{:.1f}\".format))"
   ]
  },
  {
   "cell_type": "code",
   "execution_count": null,
   "id": "5ba8d3fd",
   "metadata": {
    "slideshow": {
     "slide_type": "subslide"
    }
   },
   "outputs": [],
   "source": [
    "[f for f in dir(small_df) if f.startswith(\"to_\")]"
   ]
  },
  {
   "cell_type": "markdown",
   "id": "ef64d8f2",
   "metadata": {
    "slideshow": {
     "slide_type": "slide"
    }
   },
   "source": [
    "## Néhány `DataFrame`-ekkel végezhető művelet\n",
    "\n",
    "- `numpy`-ban látott aggregáló műveletek (`min`, `max` `sum`, `mean`, `std`, `corr`)\n",
    "\n",
    "- `groupby`: Csoportosítás adott oszlop, vagy oszlopok értékei szerint. \n",
    "\n",
    "- idősorokra `resample`\n",
    "\n",
    "- `merge`: két `DataFrame`-ből egyet készít.\n",
    "\n",
    "- `pivot_table`: Összefoglaló táblázat (EXCEL funkcióhoz hasonlít).\n",
    "\n",
    "- Széles és hosszú formátumok közti konvertálás."
   ]
  },
  {
   "cell_type": "code",
   "execution_count": null,
   "id": "45da7eab",
   "metadata": {
    "slideshow": {
     "slide_type": "subslide"
    }
   },
   "outputs": [],
   "source": [
    "df.loc(1)[df.dtypes == np.float64].corr()"
   ]
  },
  {
   "cell_type": "code",
   "execution_count": null,
   "id": "ed11662f",
   "metadata": {
    "slideshow": {
     "slide_type": "subslide"
    }
   },
   "outputs": [],
   "source": [
    "months = pd.date_range(\"2000-01-01\", \"2000-12-31\", freq=\"ME\").month_name(locale=\"hu_HU.utf8\").values\n",
    "months"
   ]
  },
  {
   "cell_type": "code",
   "execution_count": null,
   "id": "1078d9bd",
   "metadata": {},
   "outputs": [],
   "source": [
    "mean_temp = ts.groupby(\"hónap\")[[\"Temperature (C)\"]].mean()\n",
    "\n",
    "mean_temp.columns = [\"Havi átlaghőmérséklet\"]\n",
    "mean_temp = mean_temp.loc(0)[months]\n",
    "mean_temp"
   ]
  },
  {
   "cell_type": "code",
   "execution_count": null,
   "id": "ec34b342",
   "metadata": {
    "slideshow": {
     "slide_type": "subslide"
    }
   },
   "outputs": [],
   "source": [
    "# több szempont szerint is lehet csoportosítani.\n",
    "mean_temp = ts.groupby([\"hónap\", \"Precip Type\"])[[\"Temperature (C)\"]].mean()\n",
    "\n",
    "mean_temp.columns = [\"Havi átlaghőmérséklet\"]\n",
    "mean_temp.loc(0)[months] "
   ]
  },
  {
   "cell_type": "code",
   "execution_count": null,
   "id": "9068978a",
   "metadata": {
    "slideshow": {
     "slide_type": "subslide"
    }
   },
   "outputs": [],
   "source": [
    "# Merge variációi: how lehet inner, left, right, outer\n",
    "a = pd.DataFrame([[1, 2], [3, 4]], columns=[\"a\", \"b\"])\n",
    "b = pd.DataFrame([[1, 3], [5, 6]], columns=[\"a\", \"b\"])\n",
    "\n",
    "a.merge(b, on=\"a\", \n",
    "        how=\"outer\", # \"inner\", \"left\" or \"right\"\n",
    "        suffixes=(\"_left\", \"_right\")\n",
    "       )"
   ]
  },
  {
   "cell_type": "code",
   "execution_count": null,
   "id": "0c092696",
   "metadata": {},
   "outputs": [],
   "source": [
    "# összefűzés\n",
    "pd.concat((a,b), ignore_index=True)"
   ]
  },
  {
   "cell_type": "code",
   "execution_count": null,
   "id": "caf02701",
   "metadata": {
    "slideshow": {
     "slide_type": "subslide"
    }
   },
   "outputs": [],
   "source": [
    "# Pivot_table\n",
    "ts[\"óra/4\"] = ts[\"óra\"]//4\n",
    "table = ts.pivot_table(index=\"hónap\", columns=\"óra/4\", values=\"Temperature (C)\", aggfunc=\"mean\")\n",
    "table "
   ]
  },
  {
   "cell_type": "code",
   "execution_count": null,
   "id": "4bb19394",
   "metadata": {
    "slideshow": {
     "slide_type": "subslide"
    }
   },
   "outputs": [],
   "source": [
    "table = table.loc(0)[months]\n",
    "table.columns = [f\"{i*4}-{(i+1)*4}\" for i in range(6)]\n",
    "table.columns.name = \"Idősáv\"\n",
    "table"
   ]
  },
  {
   "cell_type": "code",
   "execution_count": null,
   "id": "1cc8d0e4",
   "metadata": {
    "slideshow": {
     "slide_type": "subslide"
    }
   },
   "outputs": [],
   "source": [
    "# még egy példa\n",
    "ts[\"Idősáv\"] = pd.Categorical(\n",
    "    (ts[\"óra\"]//4).map(lambda i: f\"{i*4}-{(i+1)*4}\"), \n",
    "    categories=[f\"{i*4}-{(i+1)*4}\" for i in range(6)],\n",
    "    ordered=True)\n",
    "ts[\"Idősáv\"]"
   ]
  },
  {
   "cell_type": "code",
   "execution_count": null,
   "id": "ea3f1465",
   "metadata": {
    "slideshow": {
     "slide_type": "subslide"
    }
   },
   "outputs": [],
   "source": [
    "ts.pivot_table(\n",
    "    index=[\"hónap\", \"Precip Type\"], \n",
    "    columns=\"Idősáv\", \n",
    "    values=\"Temperature (C)\", \n",
    "    aggfunc=\"mean\",\n",
    "    observed=False\n",
    ").loc(0)[months]"
   ]
  },
  {
   "cell_type": "markdown",
   "id": "420c2ce0",
   "metadata": {
    "slideshow": {
     "slide_type": "slide"
    }
   },
   "source": [
    "## A világ népessége"
   ]
  },
  {
   "cell_type": "code",
   "execution_count": null,
   "id": "e7ecdcb7",
   "metadata": {},
   "outputs": [],
   "source": [
    "import kagglehub\n",
    "from pathlib import Path\n",
    "\n",
    "# Download latest version\n",
    "path = kagglehub.dataset_download(\"iamsouravbanerjee/world-population-dataset\")\n",
    "\n",
    "print(\"Path to dataset files:\", path)\n",
    "print(*Path(path).glob(\"*\"), sep=\"\\n\")\n",
    "csv_file = next(iter(Path(path).glob(\"*.csv\")))"
   ]
  },
  {
   "cell_type": "code",
   "execution_count": null,
   "id": "54e2dd6e",
   "metadata": {
    "slideshow": {
     "slide_type": "subslide"
    }
   },
   "outputs": [],
   "source": [
    "df = pd.read_csv(csv_file)"
   ]
  },
  {
   "cell_type": "code",
   "execution_count": null,
   "id": "8a4c1a36",
   "metadata": {
    "slideshow": {
     "slide_type": "fragment"
    }
   },
   "outputs": [],
   "source": [
    "df.shape"
   ]
  },
  {
   "cell_type": "code",
   "execution_count": null,
   "id": "e7aaed81",
   "metadata": {
    "slideshow": {
     "slide_type": "subslide"
    }
   },
   "outputs": [],
   "source": [
    "df.head()"
   ]
  },
  {
   "cell_type": "code",
   "execution_count": null,
   "id": "94ec9e59",
   "metadata": {
    "slideshow": {
     "slide_type": "subslide"
    }
   },
   "outputs": [],
   "source": [
    "df.columns"
   ]
  },
  {
   "cell_type": "code",
   "execution_count": null,
   "id": "91f39f1b",
   "metadata": {
    "slideshow": {
     "slide_type": "subslide"
    }
   },
   "outputs": [],
   "source": [
    "df.columns = df.columns.str.removesuffix(\" Population\")\n",
    "df.columns = df.columns.str.removesuffix(\"/Territory\")\n",
    "df = df.rename(columns=lambda x: x.split(\" (\")[0])\n",
    "df.columns \n"
   ]
  },
  {
   "cell_type": "code",
   "execution_count": null,
   "id": "eed86777",
   "metadata": {
    "slideshow": {
     "slide_type": "fragment"
    }
   },
   "outputs": [],
   "source": [
    "df.head()"
   ]
  },
  {
   "cell_type": "code",
   "execution_count": null,
   "id": "069d8ac6",
   "metadata": {
    "slideshow": {
     "slide_type": "subslide"
    }
   },
   "outputs": [],
   "source": [
    "if \"Capital\" in df.columns:\n",
    "    df.drop(columns=[\"CCA3\", \"Capital\"], inplace=True) "
   ]
  },
  {
   "cell_type": "code",
   "execution_count": null,
   "id": "5f3a68a0",
   "metadata": {
    "slideshow": {
     "slide_type": "fragment"
    }
   },
   "outputs": [],
   "source": [
    "df.head()"
   ]
  },
  {
   "cell_type": "code",
   "execution_count": null,
   "id": "a05e6641",
   "metadata": {
    "slideshow": {
     "slide_type": "subslide"
    }
   },
   "outputs": [],
   "source": [
    "df[df[\"Continent\"]==\"Europe\"].head()"
   ]
  },
  {
   "cell_type": "code",
   "execution_count": null,
   "id": "914d4e8a",
   "metadata": {
    "slideshow": {
     "slide_type": "subslide"
    }
   },
   "outputs": [],
   "source": [
    "df[df[\"Area\"] <= 10]"
   ]
  },
  {
   "cell_type": "code",
   "execution_count": null,
   "id": "a505fe6b",
   "metadata": {
    "slideshow": {
     "slide_type": "subslide"
    }
   },
   "outputs": [],
   "source": [
    "df[(df[\"Continent\"]!=\"Europe\") & (df[\"Area\"] <= 100)]"
   ]
  },
  {
   "cell_type": "code",
   "execution_count": null,
   "id": "47987956",
   "metadata": {},
   "outputs": [],
   "source": [
    "df.plot(x=\"Rank\", y=\"World Population Percentage\", kind=\"scatter\", s=1, logy=True)\n",
    "plt.show()"
   ]
  },
  {
   "cell_type": "code",
   "execution_count": null,
   "id": "ac172561",
   "metadata": {
    "slideshow": {
     "slide_type": "subslide"
    }
   },
   "outputs": [],
   "source": [
    "sorted_by_rank_df = df.sort_values(by=\"Rank\")\n",
    "\n",
    "sorted_by_rank_df.head(n=10)"
   ]
  },
  {
   "cell_type": "code",
   "execution_count": null,
   "id": "c5ac98c1",
   "metadata": {
    "slideshow": {
     "slide_type": "subslide"
    }
   },
   "outputs": [],
   "source": [
    "sorted_by_rank_df[sorted_by_rank_df[\"Continent\"]==\"Europe\"].head(n=20)"
   ]
  },
  {
   "cell_type": "code",
   "execution_count": null,
   "id": "f55c817e",
   "metadata": {
    "slideshow": {
     "slide_type": "subslide"
    }
   },
   "outputs": [],
   "source": [
    "europe_sorted_df = sorted_by_rank_df[sorted_by_rank_df[\"Continent\"]==\"Europe\"]\n",
    "\n",
    "k = 10"
   ]
  },
  {
   "cell_type": "code",
   "execution_count": null,
   "id": "181d7f8e",
   "metadata": {
    "slideshow": {
     "slide_type": "subslide"
    }
   },
   "outputs": [],
   "source": [
    "# Ábra készítése plt-vel. Ez a legegyszerűbb, ha csak egyetlen ábránk lesz\n",
    "k=16\n",
    "plt.figure(figsize=(16, 6))\n",
    "plt.bar(range(k), europe_sorted_df[\"2022\"][:k])\n",
    "plt.title(\"Countries in Europe with the largest population\")\n",
    "plt.xticks(range(k), labels=europe_sorted_df[\"Country\"][:k], rotation=60, fontsize=14)\n",
    "plt.show()"
   ]
  },
  {
   "cell_type": "code",
   "execution_count": null,
   "id": "0b4b2f05",
   "metadata": {
    "scrolled": true,
    "slideshow": {
     "slide_type": "subslide"
    }
   },
   "outputs": [],
   "source": [
    "# Ábra készítése az Axis objektummal.\n",
    "\n",
    "fig, ax = plt.subplots(figsize=(16, 6))\n",
    "ax.bar(range(k), europe_sorted_df[\"2022\"][:k])\n",
    "ax.set_title(\"Countries in Europe with the largest population\")\n",
    "ax.set_xticks(range(k), labels=europe_sorted_df[\"Country\"][:k], rotation=45, fontsize=14)\n",
    "ax.yaxis.set_major_formatter(\"{x:,.0f}\")\n",
    "plt.show()"
   ]
  },
  {
   "cell_type": "code",
   "execution_count": null,
   "id": "f02a0adb",
   "metadata": {
    "slideshow": {
     "slide_type": "subslide"
    }
   },
   "outputs": [],
   "source": [
    "# ábra sns-el\n",
    "ax = sns.barplot(data=europe_sorted_df.head(10), x=\"Country\", y=\"2022\")\n",
    "ax.set_title(\"Countries in Europe with the largest population\")\n",
    "ax.xaxis.set_tick_params(rotation=45, labelsize=14)\n",
    "ax.yaxis.set_major_formatter(\"{x:,.0f}\")\n",
    "ax.figure.set_size_inches(16, 6)\n",
    "plt.show()"
   ]
  },
  {
   "cell_type": "markdown",
   "id": "c09ba0ee",
   "metadata": {
    "slideshow": {
     "slide_type": "subslide"
    }
   },
   "source": [
    "Kérdések:\n",
    "\n",
    "* Melyik ország lakossága növekedett a legnagyobb mértékben 1970 és 2022 között?\n",
    "\n",
    "* Melyik ország lakossága csökkent a legnagyobb mértékben 1970 és 2022 között?\n",
    "\n",
    "* Földrészenként melyik a legnépesebb ország?\n",
    "\n",
    "* A világ népességének mi a százalékos megoszlása földrészenként?"
   ]
  },
  {
   "cell_type": "code",
   "execution_count": null,
   "id": "0d603c38",
   "metadata": {
    "slideshow": {
     "slide_type": "subslide"
    }
   },
   "outputs": [],
   "source": [
    "ratio = (df[\"2022\"] / df[\"1970\"]).sort_values(ascending=False)"
   ]
  },
  {
   "cell_type": "code",
   "execution_count": null,
   "id": "c2c32939",
   "metadata": {
    "slideshow": {
     "slide_type": "fragment"
    }
   },
   "outputs": [],
   "source": [
    "ratio.head()"
   ]
  },
  {
   "cell_type": "code",
   "execution_count": null,
   "id": "a353b523",
   "metadata": {
    "slideshow": {
     "slide_type": "subslide"
    }
   },
   "outputs": [],
   "source": [
    "country_name = df.loc[ratio.index[0], \"Country\"]\n",
    "\n",
    "country_name"
   ]
  },
  {
   "cell_type": "code",
   "execution_count": null,
   "id": "89d4a76b",
   "metadata": {
    "slideshow": {
     "slide_type": "fragment"
    }
   },
   "outputs": [],
   "source": [
    "df[df[\"Country\"]==country_name]"
   ]
  },
  {
   "cell_type": "code",
   "execution_count": null,
   "id": "66d4a710",
   "metadata": {
    "slideshow": {
     "slide_type": "subslide"
    }
   },
   "outputs": [],
   "source": [
    "ratio.tail()"
   ]
  },
  {
   "cell_type": "code",
   "execution_count": null,
   "id": "fee14bae",
   "metadata": {
    "slideshow": {
     "slide_type": "subslide"
    }
   },
   "outputs": [],
   "source": [
    "country_name = df.loc[ratio.index[-1], \"Country\"]\n",
    "\n",
    "country_name"
   ]
  },
  {
   "cell_type": "code",
   "execution_count": null,
   "id": "01a23b2c",
   "metadata": {
    "slideshow": {
     "slide_type": "fragment"
    }
   },
   "outputs": [],
   "source": [
    "df[df[\"Country\"]==country_name]"
   ]
  },
  {
   "cell_type": "code",
   "execution_count": null,
   "id": "354ef124",
   "metadata": {
    "slideshow": {
     "slide_type": "subslide"
    }
   },
   "outputs": [],
   "source": [
    "grouped = df.groupby([\"Continent\"])"
   ]
  },
  {
   "cell_type": "code",
   "execution_count": null,
   "id": "7c1aa9e6",
   "metadata": {
    "slideshow": {
     "slide_type": "-"
    }
   },
   "outputs": [],
   "source": [
    "df.loc[grouped[\"2022\"].idxmax(), [\"Continent\", \"Country\", \"2022\"]]"
   ]
  },
  {
   "cell_type": "code",
   "execution_count": null,
   "id": "a6bbf1d9",
   "metadata": {
    "slideshow": {
     "slide_type": "subslide"
    }
   },
   "outputs": [],
   "source": [
    "# percentage = grouped[\"World Population Percentage\"].aggregate(sum)\n",
    "percentage = grouped[\"World Population Percentage\"].agg(\"sum\")\n",
    "percentage"
   ]
  },
  {
   "cell_type": "code",
   "execution_count": null,
   "id": "a8aad501",
   "metadata": {
    "slideshow": {
     "slide_type": "subslide"
    }
   },
   "outputs": [],
   "source": [
    "fig1, ax = plt.subplots(figsize=(10, 10))\n",
    "ax.pie(\n",
    "    percentage, \n",
    "    labels=percentage.index, \n",
    "    explode=(0, 0, 0.1, 0, 0, 0), \n",
    "    textprops={\"fontsize\": 14}, \n",
    "#     autopct=\"%1.1f%%\"\n",
    "    autopct=lambda p: f\"{p:.1f}%\"  if p>1 else \"\"\n",
    ")\n",
    "plt.show()"
   ]
  },
  {
   "cell_type": "markdown",
   "id": "3c33981b",
   "metadata": {
    "slideshow": {
     "slide_type": "slide"
    }
   },
   "source": [
    "#### A földrészek népességének változása 1970-től 2022-ig"
   ]
  },
  {
   "cell_type": "code",
   "execution_count": null,
   "id": "76a2a2dd",
   "metadata": {
    "slideshow": {
     "slide_type": "-"
    }
   },
   "outputs": [],
   "source": [
    "grouped = df.groupby([\"Continent\"])\n",
    "years = [\"1970\", \"1980\", \"1990\", \"2000\", \"2010\", \"2015\", \"2020\", \"2022\"]\n",
    "df_contient_populations = grouped[years].sum()\n",
    "df_contient_populations"
   ]
  },
  {
   "cell_type": "markdown",
   "id": "5329752e",
   "metadata": {
    "slideshow": {
     "slide_type": "subslide"
    }
   },
   "source": [
    "### Széles formátum"
   ]
  },
  {
   "cell_type": "code",
   "execution_count": null,
   "id": "e26b698c",
   "metadata": {
    "slideshow": {
     "slide_type": "-"
    }
   },
   "outputs": [],
   "source": [
    "df_contient_populations"
   ]
  },
  {
   "cell_type": "markdown",
   "id": "65e7dfcf",
   "metadata": {
    "slideshow": {
     "slide_type": "subslide"
    }
   },
   "source": [
    "### Hosszú formátum"
   ]
  },
  {
   "cell_type": "code",
   "execution_count": null,
   "id": "9c413991",
   "metadata": {},
   "outputs": [],
   "source": [
    "df_long = df.melt(\n",
    "    id_vars=[\"Continent\", \"Country\"], #, \"Rank\", \"World Population Percentage\", \"Area\", \"Growth Rate\", \"Density\"], \n",
    "    value_vars=years, \n",
    "    var_name=\"Year\", \n",
    "    value_name=\"Population\"\n",
    ")\n",
    "df_long"
   ]
  },
  {
   "cell_type": "markdown",
   "id": "63dc5245",
   "metadata": {
    "slideshow": {
     "slide_type": "subslide"
    }
   },
   "source": [
    "- Szélesből hosszú formátumba  a `melt` metódussal,\n",
    "\n",
    "- Hosszúból szélesbe a `pivot` metódussal\n",
    "\n",
    "válthatunk"
   ]
  },
  {
   "cell_type": "code",
   "execution_count": null,
   "id": "47949dd0",
   "metadata": {},
   "outputs": [],
   "source": [
    "df_wide = df_long.pivot(index=[\"Country\", \"Continent\"], columns=\"Year\", values=\"Population\")\n",
    "# df_wide"
   ]
  },
  {
   "cell_type": "code",
   "execution_count": null,
   "id": "cdc80e24",
   "metadata": {},
   "outputs": [],
   "source": [
    "df_wide.columns.name = None\n",
    "df_wide = df_wide.reset_index()\n",
    "df_wide"
   ]
  },
  {
   "cell_type": "code",
   "execution_count": null,
   "id": "81c660e8",
   "metadata": {
    "slideshow": {
     "slide_type": "subslide"
    }
   },
   "outputs": [],
   "source": [
    "pop_by_year = df_long.pivot_table(index=\"Year\", columns=\"Continent\", values=\"Population\", aggfunc=\"sum\")\n",
    "pop_by_year"
   ]
  },
  {
   "cell_type": "code",
   "execution_count": null,
   "id": "b8d6529b",
   "metadata": {},
   "outputs": [],
   "source": [
    "pop_by_year.index = pd.to_datetime(pop_by_year.index, format=\"%Y\").year\n",
    "pop_by_year.index"
   ]
  },
  {
   "cell_type": "code",
   "execution_count": null,
   "id": "e9d43823",
   "metadata": {
    "slideshow": {
     "slide_type": "subslide"
    }
   },
   "outputs": [],
   "source": [
    "ax = pop_by_year.plot(kind=\"line\", figsize=(16, 6), linewidth=3)\n",
    "ax.set_title(\"Population by year\")\n",
    "ax.set_ylabel(\"Population (billion)\")\n",
    "ax.xaxis.set_ticks(pop_by_year.index)\n",
    "plt.grid()\n",
    "plt.show()"
   ]
  },
  {
   "cell_type": "markdown",
   "id": "9c0d50dd",
   "metadata": {
    "slideshow": {
     "slide_type": "slide"
    }
   },
   "source": [
    "# Néhány algoritmus"
   ]
  },
  {
   "cell_type": "markdown",
   "id": "777c74c2",
   "metadata": {},
   "source": [
    "Hogyan számolnánk ki ${}^3\\sqrt{2}$-at, vagy $\\sqrt{2}$-t 50 tizedesjegy pontossággal?"
   ]
  },
  {
   "cell_type": "code",
   "execution_count": null,
   "id": "8c5b87ee",
   "metadata": {
    "slideshow": {
     "slide_type": "subslide"
    }
   },
   "outputs": [],
   "source": [
    "import math\n",
    "\n",
    "def print_answer(answer):\n",
    "    answer = str(answer)\n",
    "    print(f\"{answer[0]}.\", end=\"\")\n",
    "    for i in range(1, len(answer), 50):\n",
    "        for j in range(i, i+50, 5):\n",
    "            print(answer[j:j+5], end=\" \")\n",
    "        print(\"\\n  \", end=\"\")\n",
    "    print()\n",
    "    \n",
    "n = 126\n",
    "answer = math.isqrt(2*(10**(2*n)))\n",
    "print_answer(answer)\n"
   ]
  },
  {
   "cell_type": "code",
   "execution_count": null,
   "id": "47f1fc20",
   "metadata": {},
   "outputs": [],
   "source": [
    "n = 100\n",
    "answer = math.isqrt(2*(10**(2*n)))\n",
    "print_answer(answer)\n"
   ]
  },
  {
   "cell_type": "markdown",
   "id": "f22232f3",
   "metadata": {
    "slideshow": {
     "slide_type": "subslide"
    }
   },
   "source": [
    "Mi a helyzet  ${}^3\\sqrt{2}$-mal?\n",
    "\n",
    "Az \n",
    "$$\n",
    "f(x) = c-x^3\n",
    "$$\n",
    "függvény nullhelyét keressük. Pontosabban azt a legnagyobb $x$ egészet, amire $f(x)\\geq 0$, ez a $^{3}\\sqrt{c}$ egészrésze. \n",
    "\n",
    "Ha $c=2*10^{3*n}$, ekkor a megoldás  $[^{3}\\sqrt{2}*10^n]$. Azaz az első $n$ tizedesjegy pontos lesz."
   ]
  },
  {
   "cell_type": "markdown",
   "id": "aefd0e90",
   "metadata": {
    "slideshow": {
     "slide_type": "subslide"
    }
   },
   "source": [
    "## Nullhely keresés"
   ]
  },
  {
   "cell_type": "markdown",
   "id": "742f19be",
   "metadata": {},
   "source": [
    "Ötlet, induljunk ki egy jó tippből és közelítsük a függvényünket lineáris függvénnyel.\n",
    "\n",
    "$$\n",
    "    f(x) \\approx f(x_n)+(x-x_n) f'(x_n)\n",
    "$$\n",
    "\n",
    "és \n",
    "\n",
    "$$\n",
    "    f(x_n) + (x-x_n) f'(x_n)=0 \\quad\\iff\\quad  x = x_n - \\frac{f(x_n)}{f'(x_n)}\n",
    "$$"
   ]
  },
  {
   "cell_type": "markdown",
   "id": "da2b4235",
   "metadata": {
    "slideshow": {
     "slide_type": "subslide"
    }
   },
   "source": [
    "Rekurzió:\n",
    "$$\n",
    "x_{n+1} = x_n-\\frac{f(x_n)}{f'(x_n)}\n",
    "$$\n",
    "Ha $f$ ,,szép'',  $f(t)=0$ és $x_n$ közel van $t$-hez, akkor\n",
    "\n",
    "$$\n",
    "\\begin{aligned}\n",
    "    x_{n+1} -t & = x_n-t -\\frac{f(x_n)-f(t)}{f'(x_n)} \\\\\n",
    "    & = (x_n-t)\\left(1-\\int_0^1 \\frac{f'(t+u(x_n-t))}{f'(x_n)} du\\right) \\\\\n",
    "    & = (x_n-t)\\int_0^1 \\frac{f'(x_n) - f'(t+u(x_n-t))}{f'(x_n)} du\n",
    "\\end{aligned}\n",
    "$$\n",
    "\n",
    "és ha $x_n, x_{n+1}, t \\in I$\n",
    "\n",
    "$$\n",
    "    |x_{n+1} -t|\\leq \\frac12|x_n-t|^2 \\cdot \\frac{\\max_{u\\in I}|f''(u)|}{\\min_{u\\in I} |f'(u)|}\n",
    "$$\n",
    "\n",
    "pl.\n",
    "\n",
    "$f(x) = x^2-2$, $f'(x)=2x$,\n",
    "  $f''(x)=2$ és ha $x_n, x_{n+1}, t \\in [1,2]$, akkor $|x_{n+1}-t|\\leq\\frac12|x_n-t|^2$.\n",
    "\n",
    "$f(x) = x^3-2$, $f'(x)=3x^2$, $f''(x)=6x$ és  $x_n, x_{n+1}, t \\in [1,2]$, akkor $|x_{n+1}-t| \\leq |x_n-t|^2$.\n"
   ]
  },
  {
   "cell_type": "markdown",
   "id": "0c83762e",
   "metadata": {
    "slideshow": {
     "slide_type": "subslide"
    }
   },
   "source": [
    "A rekurzió alakja $f(x) = x^3-c$-re.\n",
    "$$\n",
    "    x_{n+1} = x_n-\\frac{f(x_n)}{f'(x_n)} = \\frac{3x_n^3-(x_n^3-c)}{3 x_n^2}= \\frac{2x_n}3 + \\frac{c}{3x_n^2} \n",
    "$$"
   ]
  },
  {
   "cell_type": "code",
   "execution_count": null,
   "id": "199b2b1a",
   "metadata": {
    "slideshow": {
     "slide_type": "subslide"
    }
   },
   "outputs": [],
   "source": [
    "import sys \n",
    "sys.set_int_max_str_digits(50000)"
   ]
  },
  {
   "cell_type": "code",
   "execution_count": null,
   "id": "470ee231",
   "metadata": {
    "slideshow": {
     "slide_type": "subslide"
    }
   },
   "outputs": [],
   "source": [
    "def cube_root2(digits=1):\n",
    "    x = 1\n",
    "    c = 2\n",
    "    delta = 1\n",
    "    while digits > 0:\n",
    "        delta = min(delta, digits)\n",
    "        c *= 10**(3*delta)\n",
    "        x *= 10**delta\n",
    "        while True:\n",
    "            x0 = x+1\n",
    "            x = (2*x0+c//(x0**2))//3\n",
    "            if x0 == x+1:\n",
    "                break\n",
    "            # print(delta)\n",
    "        digits -= delta\n",
    "        delta <<=  1\n",
    "\n",
    "    return x\n"
   ]
  },
  {
   "cell_type": "code",
   "execution_count": null,
   "id": "2414061e",
   "metadata": {
    "slideshow": {
     "slide_type": "subslide"
    }
   },
   "outputs": [],
   "source": [
    "n = 85\n",
    "\n",
    "a = cube_root2(n)\n",
    "\n",
    "a_cube = a**3\n",
    "\n",
    "k = len(str(a_cube))-1\n",
    "\n",
    "a_cube <= 2*10**(k) < (a+1)**3\n"
   ]
  },
  {
   "cell_type": "code",
   "execution_count": null,
   "id": "789a50a9",
   "metadata": {},
   "outputs": [],
   "source": [
    "print_answer(a)"
   ]
  },
  {
   "cell_type": "code",
   "execution_count": null,
   "id": "2dffdb95",
   "metadata": {
    "slideshow": {
     "slide_type": "subslide"
    }
   },
   "outputs": [],
   "source": [
    "from tqdm.auto import tqdm\n",
    "import time\n",
    "import sys \n",
    "sys.set_int_max_str_digits(50000)\n",
    "\n",
    "timing = []\n",
    "n_repeat = 10\n",
    "for e in tqdm(range(1, 25)):\n",
    "    n = int(1.5 ** e)\n",
    "    start = time.perf_counter_ns()\n",
    "    for _ in range(n_repeat):\n",
    "        a = cube_root2(n)\n",
    "    end = time.perf_counter_ns()\n",
    "\n",
    "    timing.append({\"run_time\": (end-start)/n_repeat, \"digits\": len(str(a))-1})\n"
   ]
  },
  {
   "cell_type": "code",
   "execution_count": null,
   "id": "26fb7a84",
   "metadata": {
    "slideshow": {
     "slide_type": "subslide"
    }
   },
   "outputs": [],
   "source": [
    "df  = pd.DataFrame(timing)\n",
    "df.plot(x=\"digits\", y=\"run_time\", logx=True, logy=True)\n",
    "plt.show()"
   ]
  },
  {
   "cell_type": "code",
   "execution_count": null,
   "id": "3f039e0a",
   "metadata": {
    "slideshow": {
     "slide_type": "subslide"
    }
   },
   "outputs": [],
   "source": [
    "df"
   ]
  }
 ],
 "metadata": {
  "celltoolbar": "Slideshow",
  "kernelspec": {
   "display_name": "Python 3 (ipykernel)",
   "language": "python",
   "name": "python3"
  },
  "language_info": {
   "codemirror_mode": {
    "name": "ipython",
    "version": 3
   },
   "file_extension": ".py",
   "mimetype": "text/x-python",
   "name": "python",
   "nbconvert_exporter": "python",
   "pygments_lexer": "ipython3",
   "version": "3.10.12"
  }
 },
 "nbformat": 4,
 "nbformat_minor": 5
}
