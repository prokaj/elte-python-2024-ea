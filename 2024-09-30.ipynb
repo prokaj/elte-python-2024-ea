{
 "cells": [
  {
   "cell_type": "markdown",
   "id": "89a3415b",
   "metadata": {
    "slideshow": {
     "slide_type": "slide"
    }
   },
   "source": [
    "# Ismétlés előző óráról\n"
   ]
  },
  {
   "cell_type": "markdown",
   "id": "0566a011",
   "metadata": {},
   "source": [
    "### `list` és `tuple` típusok.\n",
    "\n",
    "- Mindkettőben véges sorozatot lehet tárolni, a sorozat elemei tetszőleges lehetnek.\n",
    "\n",
    "- A különbség abban van, hogy a `list` elemeit lehet változtatni (**mutable**) míg a `tuple` elemeit (**immutable**) nem.\n",
    "\n",
    "- hossz lekérdezés: `len`-nel, pl. `len([1,2,3])` eredménye 3.\n",
    "\n",
    "- tartalmazás lekérdezése: `in`, pl. `1 in [1, 2, 3]` eredménye `True`.\n",
    "\n"
   ]
  },
  {
   "cell_type": "markdown",
   "id": "5bc25a57",
   "metadata": {
    "slideshow": {
     "slide_type": "slide"
    },
    "tags": []
   },
   "source": [
    "# `dict` (szótár) típus"
   ]
  },
  {
   "cell_type": "markdown",
   "id": "7f08fe92",
   "metadata": {},
   "source": [
    "- Egy szótár (`dict`) kulcs, érték párokból áll. Minden kulcs legfeljebb egyszer fordulhat elő. Kulcs alapján lehet értékeket visszakeresni, és megadni. Más programozási nyelvekben `hashmap`-nek is hívják.\n",
    "\n",
    "-  Matematikában azt mondhatnánk, hogy a szótár egy függvény véges értelmezési tartománnyal. \n",
    " "
   ]
  },
  {
   "cell_type": "markdown",
   "id": "65c62b12",
   "metadata": {
    "slideshow": {
     "slide_type": "subslide"
    }
   },
   "source": [
    " ### Szótár létrehozása pythonban:"
   ]
  },
  {
   "cell_type": "code",
   "execution_count": 2,
   "id": "53c6166b",
   "metadata": {},
   "outputs": [
    {
     "data": {
      "text/plain": [
       "{'a': 1, 'b': 2}"
      ]
     },
     "execution_count": 2,
     "metadata": {},
     "output_type": "execute_result"
    }
   ],
   "source": [
    "# ez a ritka\n",
    "dict([(\"a\", 1), (\"b\", 2)])"
   ]
  },
  {
   "cell_type": "code",
   "execution_count": 3,
   "id": "b5c03e99",
   "metadata": {},
   "outputs": [
    {
     "data": {
      "text/plain": [
       "{'a': 1, 'b': 2}"
      ]
     },
     "execution_count": 3,
     "metadata": {},
     "output_type": "execute_result"
    }
   ],
   "source": [
    "# kis méretű dictionary gyakran így keletkezik\n",
    "{\"a\": 1, \"b\": 2}"
   ]
  },
  {
   "cell_type": "code",
   "execution_count": 6,
   "id": "510bd029",
   "metadata": {},
   "outputs": [
    {
     "data": {
      "text/plain": [
       "{'a': 0, 'b': 1, 'c': 2}"
      ]
     },
     "execution_count": 6,
     "metadata": {},
     "output_type": "execute_result"
    }
   ],
   "source": [
    "# dict comprehension\n",
    "{key: value for key, value in zip(\"abc\", range(5))}"
   ]
  },
  {
   "cell_type": "markdown",
   "id": "12d2f362",
   "metadata": {
    "slideshow": {
     "slide_type": "subslide"
    },
    "tags": []
   },
   "source": [
    "## Értékadás, indexelés"
   ]
  },
  {
   "cell_type": "markdown",
   "id": "dd8e47ca",
   "metadata": {},
   "source": [
    "- Adott kulcshoz tartozó érték kikeresése\n",
    "  ```python\n",
    "  colors = {\"red\": 1, \"blue\": 2}\n",
    "  colors[\"red\"] # -> 1\n",
    "  colors.get(\"red\")\n",
    "  ```\n",
    "- kulcsok:\n",
    "  `[key for key in colors.keys()] # -> [\"red\", \"blue\"]`\n",
    "\n",
    "- értékek:  `[value for value in colors.values()] # -> [1, 2, 3]`\n",
    "\n",
    "- adott kulcs meglétének ellenőrzése:`\"red\" in colors # -> True`\n"
   ]
  },
  {
   "cell_type": "markdown",
   "id": "7cbc08a1",
   "metadata": {
    "slideshow": {
     "slide_type": "subslide"
    },
    "tags": []
   },
   "source": [
    "## Mire jó a szótár?"
   ]
  },
  {
   "cell_type": "markdown",
   "id": "42643add",
   "metadata": {},
   "source": [
    ",,Two sum'' a Leetcode oldalról:\n",
    "\n",
    "> Given an array of integers `nums` and an integer `target`, return indices of the two numbers such that they add up to  `target`.  \n",
    ">\n",
    "> You may assume that each input would have exactly one solution, and you may not use the same element twice.\n",
    ">  \n",
    "> You can return the answer in any order.\n"
   ]
  },
  {
   "cell_type": "code",
   "execution_count": 7,
   "id": "4e17ee59",
   "metadata": {
    "slideshow": {
     "slide_type": "subslide"
    }
   },
   "outputs": [],
   "source": [
    "# brute force megoldás\n",
    "\n",
    "def two_sum(nums, target):\n",
    "    n = len(nums)\n",
    "    for i, num1 in enumerate(nums):\n",
    "        for j in range(i+1, n):\n",
    "            num2 = nums[j]\n",
    "            if num1 + num2 == target:\n",
    "                return i, j"
   ]
  },
  {
   "cell_type": "markdown",
   "id": "b0830687",
   "metadata": {},
   "source": [
    "Futási idő arányos `len(nums)` négyzetével.\n",
    "\n",
    "Ha a lista rövid, ez nem gond. 100 ezres listánál gond lehet."
   ]
  },
  {
   "cell_type": "markdown",
   "id": "3b5fceb2",
   "metadata": {
    "slideshow": {
     "slide_type": "subslide"
    },
    "tags": []
   },
   "source": [
    "# Jobb megoldás szótárral"
   ]
  },
  {
   "cell_type": "code",
   "execution_count": 8,
   "id": "27c5d218",
   "metadata": {},
   "outputs": [],
   "source": [
    "def two_sum_v2(nums, target):\n",
    "    value2pos = {}\n",
    "    for pos, value in enumerate(nums):\n",
    "        other_value = target - value\n",
    "        if other_value in value2pos:\n",
    "            return value2pos[other_value], pos\n",
    "        value2pos[value] = pos "
   ]
  },
  {
   "cell_type": "markdown",
   "id": "3df10d4a",
   "metadata": {},
   "source": [
    "- Végig megyünk a lista elemein **egyszer**\n",
    "\n",
    "- Minden `value` számra mégnézzük, hogy `target-value` előfordult-e korábban. \n",
    "\n",
    "    * Ha igen: készen vagyunk, meg van a pár.\n",
    "    * Ha nem feljegyezzük `value` pozícióját a `value2pos` szótárban.\n",
    "    \n",
    "- Lehetne olyan variáció hogy a ,,legkisebb'' index párt keressük. Hogyan módosítanánk?"
   ]
  },
  {
   "cell_type": "markdown",
   "id": "272d8f98",
   "metadata": {
    "slideshow": {
     "slide_type": "subslide"
    }
   },
   "source": [
    "### Futási idő"
   ]
  },
  {
   "cell_type": "code",
   "execution_count": 9,
   "id": "bd190ae7",
   "metadata": {
    "slideshow": {
     "slide_type": "-"
    }
   },
   "outputs": [
    {
     "name": "stdout",
     "output_type": "stream",
     "text": [
      "24 ms ± 171 µs per loop (mean ± std. dev. of 7 runs, 10 loops each)\n",
      "77.6 µs ± 449 ns per loop (mean ± std. dev. of 7 runs, 10000 loops each)\n"
     ]
    }
   ],
   "source": [
    "n = 1000\n",
    "nums = list(range(n))\n",
    "target = nums[-1]+nums[-2]\n",
    "%timeit two_sum(nums, target) \n",
    "%timeit two_sum_v2(nums, target)"
   ]
  },
  {
   "cell_type": "code",
   "execution_count": 11,
   "id": "cfba0e49",
   "metadata": {
    "slideshow": {
     "slide_type": "fragment"
    }
   },
   "outputs": [
    {
     "name": "stdout",
     "output_type": "stream",
     "text": [
      "CPU times: user 2.41 s, sys: 2.57 ms, total: 2.41 s\n",
      "Wall time: 2.41 s\n",
      "CPU times: user 845 µs, sys: 0 ns, total: 845 µs\n",
      "Wall time: 849 µs\n"
     ]
    },
    {
     "data": {
      "text/plain": [
       "(9998, 9999)"
      ]
     },
     "execution_count": 11,
     "metadata": {},
     "output_type": "execute_result"
    }
   ],
   "source": [
    "n = 10000\n",
    "nums = list(range(n))\n",
    "target = nums[-1]+nums[-2]\n",
    "%time two_sum(nums, target) \n",
    "%time two_sum_v2(nums, target)"
   ]
  },
  {
   "cell_type": "markdown",
   "id": "1d2549ef",
   "metadata": {
    "slideshow": {
     "slide_type": "subslide"
    },
    "tags": []
   },
   "source": [
    "## Mitől gyors a keresés a kulcsok között?"
   ]
  },
  {
   "cell_type": "markdown",
   "id": "08fa68af",
   "metadata": {},
   "source": [
    "A szótárban van egy keresést gyosító táblázat, ennek mérete általában kettő hatvány.\n",
    "\n",
    "- A háttérben kulcsokhoz számokat rendelünk, ez a hash értéke az adott kulcsnak. \n",
    "- A hash érték maradékát vesszük a gyorsító táblázat méretével, így kapunk egy indexet. \n",
    "- A gyorsító tábla adott indexű helye megmondja hol kezdjük el keresni a kulcsot a kulcsok listájában. \n",
    "- Ha az adott helyen másik kulcs van, akkor hasonló módon kapunk egy új helyet ahol érdemes megnézni a kulcsot.\n",
    "\n",
    "A szótár úgy van összerakva, hogy átlagban néhány lépés alatt megtaláljuk a kulcsot és így a hozzátartozó értéket is.\n",
    "\n",
    "Szótár használatakor **átlagban konstans idő** alatt ki tudjuk olvasni az adott kulcshoz tartozó értéket."
   ]
  },
  {
   "cell_type": "markdown",
   "id": "edcefe10",
   "metadata": {
    "slideshow": {
     "slide_type": "slide"
    },
    "tags": []
   },
   "source": [
    "# Szótár műveletek"
   ]
  },
  {
   "cell_type": "markdown",
   "id": "c154f3b7",
   "metadata": {},
   "source": [
    "- Elemek száma `len`, pl. `len({'a': 1})` értéke 1."
   ]
  },
  {
   "cell_type": "code",
   "execution_count": 12,
   "id": "c65378af",
   "metadata": {},
   "outputs": [
    {
     "name": "stdout",
     "output_type": "stream",
     "text": [
      "d={'a': 0, 'b': 1, 'c': 2, 'd': 3, 'e': 4}, len(d)=5\n"
     ]
    }
   ],
   "source": [
    "d = dict(zip(\"abcde\", range(5)))\n",
    "print(f\"{d=}, {len(d)=}\")"
   ]
  },
  {
   "cell_type": "markdown",
   "id": "80d21351",
   "metadata": {
    "slideshow": {
     "slide_type": "fragment"
    },
    "tags": []
   },
   "source": [
    "- `in` kulcs jelenlétének ellenőrzése."
   ]
  },
  {
   "cell_type": "code",
   "execution_count": 13,
   "id": "f30437f9",
   "metadata": {},
   "outputs": [
    {
     "name": "stdout",
     "output_type": "stream",
     "text": [
      "d={'a': 1, 'b': 2, 'c': 3}, ('a' in d)=True, ('d' in d)=False\n"
     ]
    }
   ],
   "source": [
    "d = dict(a=1, b=2, c=3)\n",
    "print(f\"{d=}, {('a' in d)=}, {('d' in d)=}\")"
   ]
  },
  {
   "cell_type": "markdown",
   "id": "55bcc729",
   "metadata": {
    "slideshow": {
     "slide_type": "subslide"
    },
    "tags": []
   },
   "source": [
    "- `copy`: Másolat (shallow)"
   ]
  },
  {
   "cell_type": "code",
   "execution_count": 16,
   "id": "707c0e11",
   "metadata": {},
   "outputs": [],
   "source": [
    "a = {'a': {'b': 1}, 'c': 2}\n",
    "b = a.copy()\n",
    "# print(f\"{a=}, {b=}\")\n",
    "# print(f\"{id(a)=:x}, {id(b)=:x}, {id(a['a'])=:x}, {id(b['a'])=:x}\")\n",
    "b['a']['b'] = 2\n",
    "b['c'] += 1\n",
    "# print(f\"{a=}, {b=}\")"
   ]
  },
  {
   "cell_type": "markdown",
   "id": "8ffe8c25",
   "metadata": {
    "slideshow": {
     "slide_type": "fragment"
    },
    "tags": []
   },
   "source": [
    "\n",
    "- `update`: Egy másik szótárral bővíti a kulcs-érték párokat. \n"
   ]
  },
  {
   "cell_type": "code",
   "execution_count": 17,
   "id": "cf965dba",
   "metadata": {},
   "outputs": [
    {
     "name": "stdout",
     "output_type": "stream",
     "text": [
      "update előtt d={'a': 0, 'b': 1, 'c': 2}\n",
      "update után d={'a': 0, 'b': 1, 'c': 0, 'd': 1, 'f': 2}\n"
     ]
    }
   ],
   "source": [
    "d = dict(zip(\"abc\", range(3)))\n",
    "e = dict(zip(\"cdf\", range(3)))\n",
    "print(f\"update előtt {d=}\")\n",
    "d.update(e)\n",
    "print(f\"update után {d=}\")"
   ]
  },
  {
   "cell_type": "markdown",
   "id": "b60b1e23",
   "metadata": {
    "slideshow": {
     "slide_type": "subslide"
    },
    "tags": []
   },
   "source": [
    "\n",
    "- `pop`: az adott kulcsot törli a szótárból és visszaadja a kulcshoz tartozó értéket.\n"
   ]
  },
  {
   "cell_type": "code",
   "execution_count": 18,
   "id": "a9dad5ed",
   "metadata": {},
   "outputs": [
    {
     "name": "stdout",
     "output_type": "stream",
     "text": [
      "pop előtt: d={'a': 0, 'b': 1, 'c': 2}\n",
      "d.pop('b')=1\n",
      "pop után: d={'a': 0, 'c': 2}\n"
     ]
    }
   ],
   "source": [
    "d = dict(zip(\"abc\", range(3)))\n",
    "print(f\"pop előtt: {d=}\")\n",
    "print(f\"{d.pop('b')=}\")\n",
    "print(f\"pop után: {d=}\")"
   ]
  },
  {
   "cell_type": "markdown",
   "id": "7f72f610",
   "metadata": {
    "slideshow": {
     "slide_type": "fragment"
    },
    "tags": []
   },
   "source": [
    "- `popitem`: egy elemet kiemel,"
   ]
  },
  {
   "cell_type": "code",
   "execution_count": 19,
   "id": "c8efc21a",
   "metadata": {},
   "outputs": [
    {
     "name": "stdout",
     "output_type": "stream",
     "text": [
      "popitem előtt: d={'a': 0, 'b': 1, 'c': 2}\n",
      "d.popitem()=('c', 2)\n",
      "popitem után: d={'a': 0, 'b': 1}\n"
     ]
    }
   ],
   "source": [
    "d = dict(zip(\"abc\", range(3)))\n",
    "print(f\"popitem előtt: {d=}\")\n",
    "print(f\"{d.popitem()=}\")\n",
    "print(f\"popitem után: {d=}\")"
   ]
  },
  {
   "cell_type": "markdown",
   "id": "01bf2583",
   "metadata": {
    "slideshow": {
     "slide_type": "subslide"
    },
    "tags": []
   },
   "source": [
    "- `clear`: Törli a szótár tartalmát."
   ]
  },
  {
   "cell_type": "code",
   "execution_count": 20,
   "id": "56f2ec09",
   "metadata": {},
   "outputs": [
    {
     "name": "stdout",
     "output_type": "stream",
     "text": [
      "clear előtt: d={'a': 0, 'b': 1, 'c': 2}\n",
      "d.clear()=None\n",
      "clear után: d={}\n"
     ]
    }
   ],
   "source": [
    "d = dict(zip(\"abc\", range(3)))\n",
    "print(f\"clear előtt: {d=}\")\n",
    "print(f\"{d.clear()=}\")\n",
    "print(f\"clear után: {d=}\")"
   ]
  },
  {
   "cell_type": "markdown",
   "id": "e9357c2e",
   "metadata": {
    "slideshow": {
     "slide_type": "subslide"
    },
    "tags": []
   },
   "source": [
    "- `setdefault`: ha a kulcs nem létezik, akkor létrehozza és beállítja az értéket."
   ]
  },
  {
   "cell_type": "code",
   "execution_count": 22,
   "id": "d429fdec",
   "metadata": {},
   "outputs": [
    {
     "name": "stdout",
     "output_type": "stream",
     "text": [
      "setdefault előtt: d={'a': 0, 'b': 1, 'c': 2}\n",
      "setdefault után: d={'a': 0, 'b': 1, 'c': 2, 'd': [1]}\n",
      "setdefault után: d={'a': 0, 'b': 1, 'c': 2, 'd': [1, 1]}\n"
     ]
    }
   ],
   "source": [
    "d = dict(zip(\"abc\", range(3)))\n",
    "print(f\"setdefault előtt: {d=}\")\n",
    "d.setdefault('d', []).append(1)\n",
    "print(f\"setdefault után: {d=}\")\n",
    "d.setdefault('d', []).append(1)\n",
    "print(f\"setdefault után: {d=}\")\n"
   ]
  },
  {
   "cell_type": "markdown",
   "id": "6bf814e4",
   "metadata": {
    "slideshow": {
     "slide_type": "subslide"
    },
    "tags": []
   },
   "source": [
    "- szótárból nyert sorozatok, ezek `for` ciklusban használhatóak:\n",
    "  \n",
    "  * `key()` kulcsok\n",
    "  * `values()` értékek\n",
    "  * `items()` kulcs érték párok"
   ]
  },
  {
   "cell_type": "code",
   "execution_count": 24,
   "id": "24561bf8-5005-4aca-8091-4a6afe7ada97",
   "metadata": {
    "slideshow": {
     "slide_type": "subslide"
    },
    "tags": []
   },
   "outputs": [],
   "source": [
    "d = dict(zip(\"abc\", range(3)))"
   ]
  },
  {
   "cell_type": "code",
   "execution_count": 30,
   "id": "23b0af6b-db2e-4722-9189-0e77363885d0",
   "metadata": {
    "slideshow": {
     "slide_type": ""
    },
    "tags": []
   },
   "outputs": [],
   "source": [
    "# for key in d.keys():\n",
    "#     print(key, end=\", \")\n",
    "# print()"
   ]
  },
  {
   "cell_type": "code",
   "execution_count": 29,
   "id": "8f235bea-5a98-49e9-8c12-07de493e83e4",
   "metadata": {
    "slideshow": {
     "slide_type": "fragment"
    },
    "tags": []
   },
   "outputs": [],
   "source": [
    "# for key in d.keys():\n",
    "#     print(key, end=\", \")\n",
    "# print()"
   ]
  },
  {
   "cell_type": "code",
   "execution_count": 31,
   "id": "f4900a8d-30ea-4591-b67c-0339eea80177",
   "metadata": {
    "slideshow": {
     "slide_type": "fragment"
    },
    "tags": []
   },
   "outputs": [],
   "source": [
    "# for value in d.values():\n",
    "#     print(value, end=\", \")\n",
    "# print()"
   ]
  },
  {
   "cell_type": "code",
   "execution_count": 35,
   "id": "d7e5ac8f-ff08-404f-9fc4-d85c6217dbca",
   "metadata": {
    "slideshow": {
     "slide_type": "fragment"
    },
    "tags": []
   },
   "outputs": [
    {
     "name": "stdout",
     "output_type": "stream",
     "text": [
      "key='a', value=0, key='b', value=1, key='c', value=2, \n"
     ]
    }
   ],
   "source": [
    "for key, value in d.items():\n",
    "    print(f\"{key=}, {value=}\", end=\", \")\n",
    "print()"
   ]
  },
  {
   "cell_type": "markdown",
   "id": "610c9485",
   "metadata": {
    "slideshow": {
     "slide_type": "subslide"
    },
    "tags": []
   },
   "source": [
    "# Mi lehet kulcs egy szótárban?"
   ]
  },
  {
   "cell_type": "markdown",
   "id": "1af93799-3840-45cf-baf7-3fad8ae653dd",
   "metadata": {
    "slideshow": {
     "slide_type": ""
    },
    "tags": []
   },
   "source": [
    "**Bármi, aminek van `hash` értéke**. \n",
    "\n",
    "Az `immutable` típusú változóknak `int`, `float`, `bool`, `str`, `tuple` van `hash` értéke. \n",
    "\n",
    "Amiket ezek segítségével rakunk össze azoknak is van.   \n",
    "\n",
    "pl. \n",
    "  - `(1,2)`, `(3.14, 'ez a pi értéke')` lehetséges kulcsok.\n",
    "  - `[1, 2]`, `(1, [])` ezek nem jók kulcsnak."
   ]
  },
  {
   "cell_type": "markdown",
   "id": "3f31cc21-8234-4041-a4d2-a3d90a6dc3f2",
   "metadata": {
    "slideshow": {
     "slide_type": "subslide"
    },
    "tags": []
   },
   "source": [
    "## Talán meglepő, de függvény is lehet kulcs."
   ]
  },
  {
   "cell_type": "code",
   "execution_count": 36,
   "id": "d7dbe80f",
   "metadata": {},
   "outputs": [
    {
     "name": "stdout",
     "output_type": "stream",
     "text": [
      "d={<function f at 0x72d200b16560>: 1, <class 'int'>: 2, <built-in function print>: 3}\n"
     ]
    }
   ],
   "source": [
    "def f():\n",
    "    pass\n",
    "\n",
    "d = {f: 1, int: 2, print: 3}\n",
    "print(f\"{d=}\")"
   ]
  },
  {
   "cell_type": "markdown",
   "id": "ec4f39f8",
   "metadata": {
    "slideshow": {
     "slide_type": "slide"
    },
    "tags": []
   },
   "source": [
    "# Összefoglaló a szótár (`dict`) típusról"
   ]
  },
  {
   "cell_type": "markdown",
   "id": "4cc12dc0",
   "metadata": {},
   "source": [
    "- Létrehozás: `{}` üres szótár, `{'a': 1}`, vagy dictonary comprehension\n",
    "\n",
    "- Használat `for` ciklusban:  \n",
    "  `for key in d:`, vagy  \n",
    "  `for value in d.values()`, vagy  \n",
    "  `for key, value in d.items()`.\n",
    "\n",
    "- Legfontosabb függvények: `len`, `in`, `.get`, `.pop`, `.update`, `.popitem`.\n",
    "\n",
    "- Az indexlés a kulccsal történik: `d[key]`, vagy `d.get(key, default_value)`\n",
    "\n",
    "- Átlagban konstans idő alatt tudjunk kiolvasni és beleírni kulcs érték párokat."
   ]
  },
  {
   "cell_type": "markdown",
   "id": "0a3c9cf4",
   "metadata": {
    "slideshow": {
     "slide_type": "subslide"
    }
   },
   "source": [
    "#### Példák"
   ]
  },
  {
   "cell_type": "code",
   "execution_count": 37,
   "id": "76a07e99",
   "metadata": {
    "slideshow": {
     "slide_type": "subslide"
    }
   },
   "outputs": [],
   "source": [
    "# {key1: value1, key2: value2, ....}\n",
    "\n",
    "country_capitals = {\n",
    "    \"Hungary\": \"Budapest\", \n",
    "    \"France\": \"Paris\", \n",
    "    \"Australia\": \"Canberra\", \n",
    "    \"Spain\": \"Madrid\"\n",
    "}"
   ]
  },
  {
   "cell_type": "code",
   "execution_count": 38,
   "id": "8d45317c",
   "metadata": {
    "slideshow": {
     "slide_type": "subslide"
    }
   },
   "outputs": [
    {
     "data": {
      "text/plain": [
       "{'Hungary': 'Budapest',\n",
       " 'France': 'Paris',\n",
       " 'Australia': 'Canberra',\n",
       " 'Spain': 'Madrid'}"
      ]
     },
     "execution_count": 38,
     "metadata": {},
     "output_type": "execute_result"
    }
   ],
   "source": [
    "countries = [\"Hungary\", \"France\", \"Australia\", \"Spain\"]\n",
    "capitals = [\"Budapest\", \"Paris\", \"Canberra\", \"Madrid\"]\n",
    "\n",
    "# dict-comprehension\n",
    "{country: capital for country, capital in zip(countries, capitals)}"
   ]
  },
  {
   "cell_type": "code",
   "execution_count": 39,
   "id": "5ec9e7fd",
   "metadata": {
    "slideshow": {
     "slide_type": "subslide"
    }
   },
   "outputs": [
    {
     "data": {
      "text/plain": [
       "{'Hungary': 'Budapest',\n",
       " 'France': 'Paris',\n",
       " 'Australia': 'Canberra',\n",
       " 'Spain': 'Madrid'}"
      ]
     },
     "execution_count": 39,
     "metadata": {},
     "output_type": "execute_result"
    }
   ],
   "source": [
    "dict(zip(countries, capitals))"
   ]
  },
  {
   "cell_type": "code",
   "execution_count": 40,
   "id": "1f2105b2",
   "metadata": {
    "slideshow": {
     "slide_type": "subslide"
    }
   },
   "outputs": [
    {
     "name": "stdout",
     "output_type": "stream",
     "text": [
      "False\n",
      "True\n"
     ]
    }
   ],
   "source": [
    "# Az `in` kulcsszót használjuk annak a tesztelésére, hogy valami előfordul-e kulcsként a szótárban.\n",
    "\n",
    "print(\"Portugal\" in country_capitals)\n",
    "\n",
    "print(\"Spain\" in country_capitals)"
   ]
  },
  {
   "cell_type": "code",
   "execution_count": 41,
   "id": "aca32063",
   "metadata": {
    "slideshow": {
     "slide_type": "fragment"
    }
   },
   "outputs": [
    {
     "data": {
      "text/plain": [
       "'Paris'"
      ]
     },
     "execution_count": 41,
     "metadata": {},
     "output_type": "execute_result"
    }
   ],
   "source": [
    "# Adott kulcshoz tartozó érték lekérdezése\n",
    "\n",
    "country_capitals[\"France\"]"
   ]
  },
  {
   "cell_type": "code",
   "execution_count": 42,
   "id": "a68ed411",
   "metadata": {
    "slideshow": {
     "slide_type": "fragment"
    }
   },
   "outputs": [
    {
     "ename": "KeyError",
     "evalue": "'Italy'",
     "output_type": "error",
     "traceback": [
      "\u001b[0;31m---------------------------------------------------------------------------\u001b[0m",
      "\u001b[0;31mKeyError\u001b[0m                                  Traceback (most recent call last)",
      "\u001b[0;32m/tmp/ipykernel_2287762/836186940.py\u001b[0m in \u001b[0;36m<cell line: 1>\u001b[0;34m()\u001b[0m\n\u001b[0;32m----> 1\u001b[0;31m \u001b[0mcountry_capitals\u001b[0m\u001b[0;34m[\u001b[0m\u001b[0;34m\"Italy\"\u001b[0m\u001b[0;34m]\u001b[0m\u001b[0;34m\u001b[0m\u001b[0;34m\u001b[0m\u001b[0m\n\u001b[0m",
      "\u001b[0;31mKeyError\u001b[0m: 'Italy'"
     ]
    }
   ],
   "source": [
    "country_capitals[\"Italy\"]"
   ]
  },
  {
   "cell_type": "code",
   "execution_count": 43,
   "id": "0b2edb66",
   "metadata": {
    "slideshow": {
     "slide_type": "subslide"
    }
   },
   "outputs": [
    {
     "data": {
      "text/plain": [
       "'Paris'"
      ]
     },
     "execution_count": 43,
     "metadata": {},
     "output_type": "execute_result"
    }
   ],
   "source": [
    "country_capitals.get(\"France\")"
   ]
  },
  {
   "cell_type": "code",
   "execution_count": 44,
   "id": "51735054",
   "metadata": {
    "slideshow": {
     "slide_type": "subslide"
    }
   },
   "outputs": [
    {
     "name": "stdout",
     "output_type": "stream",
     "text": [
      "None\n",
      "I do not know.\n"
     ]
    }
   ],
   "source": [
    "# Ha nincs ilyen kulcs, kérhetünk default értéket is\n",
    "\n",
    "print(country_capitals.get(\"Italy\"))\n",
    "\n",
    "print(country_capitals.get(\"Italy\", \"I do not know.\"))"
   ]
  },
  {
   "cell_type": "code",
   "execution_count": 45,
   "id": "003a55e1",
   "metadata": {
    "slideshow": {
     "slide_type": "subslide"
    }
   },
   "outputs": [
    {
     "name": "stdout",
     "output_type": "stream",
     "text": [
      "Hungary\n",
      "France\n",
      "Australia\n",
      "Spain\n"
     ]
    }
   ],
   "source": [
    "# Iterálás egy szótáron:\n",
    "\n",
    "for country in country_capitals:\n",
    "    print(country)"
   ]
  },
  {
   "cell_type": "code",
   "execution_count": 46,
   "id": "b06e5eee",
   "metadata": {
    "slideshow": {
     "slide_type": "subslide"
    }
   },
   "outputs": [
    {
     "name": "stdout",
     "output_type": "stream",
     "text": [
      "Hungary\n",
      "France\n",
      "Australia\n",
      "Spain\n"
     ]
    }
   ],
   "source": [
    "for country in country_capitals.keys():\n",
    "    print(country)"
   ]
  },
  {
   "cell_type": "code",
   "execution_count": 47,
   "id": "aa0918ab",
   "metadata": {
    "slideshow": {
     "slide_type": "subslide"
    }
   },
   "outputs": [
    {
     "name": "stdout",
     "output_type": "stream",
     "text": [
      "Budapest\n",
      "Paris\n",
      "Canberra\n",
      "Madrid\n"
     ]
    }
   ],
   "source": [
    "for capital in country_capitals.values():\n",
    "    print(capital)"
   ]
  },
  {
   "cell_type": "code",
   "execution_count": 48,
   "id": "e6abc129",
   "metadata": {
    "slideshow": {
     "slide_type": "subslide"
    }
   },
   "outputs": [
    {
     "name": "stdout",
     "output_type": "stream",
     "text": [
      "The capital of Hungary is Budapest.\n",
      "The capital of France is Paris.\n",
      "The capital of Australia is Canberra.\n",
      "The capital of Spain is Madrid.\n"
     ]
    }
   ],
   "source": [
    "for country, capital in country_capitals.items():\n",
    "    print(f\"The capital of {country} is {capital}.\")"
   ]
  },
  {
   "cell_type": "code",
   "execution_count": 49,
   "id": "e15c0c35",
   "metadata": {
    "slideshow": {
     "slide_type": "subslide"
    }
   },
   "outputs": [
    {
     "data": {
      "text/plain": [
       "{'Hungary': 'Budapest',\n",
       " 'France': 'Paris',\n",
       " 'Australia': 'Canberra',\n",
       " 'Spain': 'Madrid',\n",
       " 'Serbia': 'Belgrade'}"
      ]
     },
     "execution_count": 49,
     "metadata": {},
     "output_type": "execute_result"
    }
   ],
   "source": [
    "country_capitals[\"Serbia\"] = \"Belgrade\"\n",
    "\n",
    "country_capitals"
   ]
  },
  {
   "cell_type": "code",
   "execution_count": 50,
   "id": "3a0fa7b8",
   "metadata": {
    "slideshow": {
     "slide_type": "subslide"
    }
   },
   "outputs": [
    {
     "name": "stdout",
     "output_type": "stream",
     "text": [
      "Paris\n"
     ]
    },
    {
     "data": {
      "text/plain": [
       "{'Hungary': 'Budapest',\n",
       " 'Australia': 'Canberra',\n",
       " 'Spain': 'Madrid',\n",
       " 'Serbia': 'Belgrade'}"
      ]
     },
     "execution_count": 50,
     "metadata": {},
     "output_type": "execute_result"
    }
   ],
   "source": [
    "capital_of_france =  country_capitals.pop(\"France\")\n",
    "\n",
    "print(capital_of_france)\n",
    "\n",
    "country_capitals"
   ]
  },
  {
   "cell_type": "code",
   "execution_count": 51,
   "id": "8d036b43",
   "metadata": {
    "slideshow": {
     "slide_type": "subslide"
    }
   },
   "outputs": [
    {
     "ename": "KeyError",
     "evalue": "'Austria'",
     "output_type": "error",
     "traceback": [
      "\u001b[0;31m---------------------------------------------------------------------------\u001b[0m",
      "\u001b[0;31mKeyError\u001b[0m                                  Traceback (most recent call last)",
      "\u001b[0;32m/tmp/ipykernel_2287762/4270929196.py\u001b[0m in \u001b[0;36m<cell line: 1>\u001b[0;34m()\u001b[0m\n\u001b[0;32m----> 1\u001b[0;31m \u001b[0mcountry_capitals\u001b[0m\u001b[0;34m.\u001b[0m\u001b[0mpop\u001b[0m\u001b[0;34m(\u001b[0m\u001b[0;34m\"Austria\"\u001b[0m\u001b[0;34m)\u001b[0m\u001b[0;34m\u001b[0m\u001b[0;34m\u001b[0m\u001b[0m\n\u001b[0m",
      "\u001b[0;31mKeyError\u001b[0m: 'Austria'"
     ]
    }
   ],
   "source": [
    "country_capitals.pop(\"Austria\")"
   ]
  },
  {
   "cell_type": "code",
   "execution_count": 52,
   "id": "e338d5f3",
   "metadata": {
    "slideshow": {
     "slide_type": "subslide"
    }
   },
   "outputs": [
    {
     "data": {
      "text/plain": [
       "{'Hungary': 'Budapest', 'Australia': 'Canberra', 'Serbia': 'Belgrade'}"
      ]
     },
     "execution_count": 52,
     "metadata": {},
     "output_type": "execute_result"
    }
   ],
   "source": [
    "del country_capitals[\"Spain\"]\n",
    "\n",
    "country_capitals"
   ]
  },
  {
   "cell_type": "markdown",
   "id": "1ed566b5",
   "metadata": {
    "slideshow": {
     "slide_type": "slide"
    }
   },
   "source": [
    "# Halmaz (`set`) típus"
   ]
  },
  {
   "cell_type": "markdown",
   "id": "be948f06",
   "metadata": {},
   "source": [
    "- A halmaz hasonló a szótár (`dict`) típushoz. Olyan mintha csak kulcsokat tartalmazó szótárunk lenne.\n",
    "\n",
    "- Nevéhez méltóan úgy viselkedi, mint egy halmaz a matematikában. A halmazelméleti műveletek únió, metszet, különbség értelmezve vannak.\n",
    "\n",
    "\n",
    "- Létrehozás:\n",
    "\n",
    "  ```python\n",
    "  small_set = set([-1, 0, 1])\n",
    "  small_set = {1, 2, 3}\n",
    "  small_set = {x**2 for x in range(-5, 5)} \n",
    "  ```\n",
    "  De:\n",
    "  ```python\n",
    "  {} # nem az üres halmaz, hanem az üres szótár.\n",
    "  ```\n",
    " \n",
    "  \n"
   ]
  },
  {
   "cell_type": "markdown",
   "id": "37ccdad4",
   "metadata": {
    "slideshow": {
     "slide_type": "subslide"
    }
   },
   "source": [
    "## Halmaz műveletek"
   ]
  },
  {
   "cell_type": "markdown",
   "id": "b9754b70",
   "metadata": {},
   "source": [
    "- elem hozzáadása: `.add`"
   ]
  },
  {
   "cell_type": "code",
   "execution_count": 53,
   "id": "d660bc5c",
   "metadata": {},
   "outputs": [
    {
     "name": "stdout",
     "output_type": "stream",
     "text": [
      "{1, 2, 3}\n",
      "{0, 1, 2, 3}\n"
     ]
    }
   ],
   "source": [
    "numbers = {1, 2, 3}\n",
    "print(numbers)\n",
    "numbers.add(0)\n",
    "print(numbers)"
   ]
  },
  {
   "cell_type": "markdown",
   "id": "f42382ec",
   "metadata": {
    "slideshow": {
     "slide_type": "subslide"
    }
   },
   "source": [
    "- elem törlése: `.discard`"
   ]
  },
  {
   "cell_type": "code",
   "execution_count": 54,
   "id": "1e59e4e7",
   "metadata": {},
   "outputs": [
    {
     "name": "stdout",
     "output_type": "stream",
     "text": [
      "{0, 1, 2}\n",
      "{0, 1, 2}\n"
     ]
    }
   ],
   "source": [
    "numbers.discard(3)\n",
    "print(numbers)\n",
    "numbers.discard(3)\n",
    "print(numbers)\n"
   ]
  },
  {
   "cell_type": "markdown",
   "id": "68fb9e07",
   "metadata": {
    "slideshow": {
     "slide_type": "subslide"
    }
   },
   "source": [
    "- únió: `.union` vagy `|`"
   ]
  },
  {
   "cell_type": "code",
   "execution_count": 55,
   "id": "28ea607e",
   "metadata": {},
   "outputs": [
    {
     "name": "stdout",
     "output_type": "stream",
     "text": [
      "numbers.union(range(5))={0, 1, 2, 3, 4}, numbers={0, 1, 2}\n",
      "numbers.update(range(5))=None, numbers={0, 1, 2, 3, 4}\n"
     ]
    }
   ],
   "source": [
    "print(f\"{numbers.union(range(5))=}, {numbers=}\") # union új halmazt hoz létre, eredeti nem változik\n",
    "print(f\"{numbers.update(range(5))=}, {numbers=}\") # update módosít, érték None, eredeti változik\n"
   ]
  },
  {
   "cell_type": "markdown",
   "id": "2fe7e659",
   "metadata": {
    "slideshow": {
     "slide_type": "subslide"
    }
   },
   "source": [
    "- metszet: `.intersection` vagy `&`"
   ]
  },
  {
   "cell_type": "code",
   "execution_count": 56,
   "id": "688deb8f",
   "metadata": {},
   "outputs": [
    {
     "name": "stdout",
     "output_type": "stream",
     "text": [
      "numbers.intersection(range(2,10))={2, 3, 4}, numbers={0, 1, 2, 3, 4}\n",
      "numbers.intersection_update(range(2,10))=None, numbers={2, 3, 4}\n"
     ]
    }
   ],
   "source": [
    "print(f\"{numbers.intersection(range(2,10))=}, {numbers=}\") # union új halmazt hoz létre, eredeti nem változik\n",
    "print(f\"{numbers.intersection_update(range(2,10))=}, {numbers=}\") # eredeti változik\n"
   ]
  },
  {
   "cell_type": "markdown",
   "id": "11485827",
   "metadata": {
    "slideshow": {
     "slide_type": "subslide"
    }
   },
   "source": [
    "- különbség: `.difference`, `.difference_update`"
   ]
  },
  {
   "cell_type": "code",
   "execution_count": 57,
   "id": "67ae8cd7",
   "metadata": {},
   "outputs": [
    {
     "name": "stdout",
     "output_type": "stream",
     "text": [
      "numbers.difference(range(4))={4}, numbers={2, 3, 4}\n",
      "numbers.difference_update(range(4))=None, numbers={4}\n"
     ]
    }
   ],
   "source": [
    "print(f\"{numbers.difference(range(4))=}, {numbers=}\")\n",
    "print(f\"{numbers.difference_update(range(4))=}, {numbers=}\")\n"
   ]
  },
  {
   "cell_type": "markdown",
   "id": "e889b2b4",
   "metadata": {},
   "source": [
    "- szimmetrikus differencia: `.symmetric_difference`, `.symmetric_difference_update`\n",
    "\n",
    "$$\n",
    "(A\\cup B)\\setminus (A\\cap B)    \n",
    "$$"
   ]
  },
  {
   "cell_type": "markdown",
   "id": "a19c76b1",
   "metadata": {
    "slideshow": {
     "slide_type": "subslide"
    }
   },
   "source": [
    "- `.pop`. kivesz egy elemet a halmazból, ha az nem üres. (kb. `list(numbers)[0]` helyett. Hiba, ha üres a halmaz.\n",
    "\n",
    "- `.remove`. Adott elemet eltávolít. Hiba, ha az adott elem nincs a halmazban. (`.discard`-hoz hasonló, de az nem dob hibát.)\n",
    "\n",
    "- `.clear` törli a halmaz valamennyi elemét.\n",
    "\n",
    "- `.copy` másolatot készít.\n",
    "\n",
    "- összehasonlitások: `.issubset`, `.issuperset`, `isdisjoint`.\n"
   ]
  },
  {
   "cell_type": "code",
   "execution_count": 58,
   "id": "38e98b7f",
   "metadata": {},
   "outputs": [
    {
     "name": "stdout",
     "output_type": "stream",
     "text": [
      "a.isdisjoint({4})=True, a.issuperset({2})=True, a.issubset({0,1,2,3,4})=True\n"
     ]
    }
   ],
   "source": [
    "a = {1, 2, 3}\n",
    "\n",
    "print(f\"{a.isdisjoint({4})=}, {a.issuperset({2})=}, {a.issubset({0,1,2,3,4})=}\") "
   ]
  },
  {
   "cell_type": "markdown",
   "id": "22864176",
   "metadata": {
    "slideshow": {
     "slide_type": "subslide"
    }
   },
   "source": [
    "#### Példák"
   ]
  },
  {
   "cell_type": "code",
   "execution_count": 59,
   "id": "375e3140",
   "metadata": {},
   "outputs": [
    {
     "name": "stdout",
     "output_type": "stream",
     "text": [
      "string='kukkkuuuurrrriiiikuuuuuuuu', letters={'u', 'r', 'k', 'i'}\n"
     ]
    }
   ],
   "source": [
    "string = \"kukkkuuuurrrriiiikuuuuuuuu\"\n",
    "letters = set(string)\n",
    "print(f\"{string=}, {letters=}\")"
   ]
  },
  {
   "cell_type": "markdown",
   "id": "c4b99e6b",
   "metadata": {
    "slideshow": {
     "slide_type": "subslide"
    }
   },
   "source": [
    "Adott $n$ hosszú számsorozatról döntsük el, hogy $\\{0,\\dots, n-1\\}$ permutációja-e?"
   ]
  },
  {
   "cell_type": "code",
   "execution_count": 61,
   "id": "84d910d5",
   "metadata": {},
   "outputs": [
    {
     "name": "stdout",
     "output_type": "stream",
     "text": [
      "is_permutation([1, 2, 3, 4])=False\n",
      "is_permutation([0, 1, 0, 2])=False\n",
      "is_permutation([3, 1, 2, 0])=True\n"
     ]
    }
   ],
   "source": [
    "def is_permutation(nums):\n",
    "    n = len(nums)\n",
    "    return (\n",
    "        len(set(nums)) == n and \n",
    "        all(type(num) is int and 0 <= num < n for num in nums)\n",
    "    )\n",
    "\n",
    "print(f\"{is_permutation([1, 2, 3, 4])=}\")\n",
    "print(f\"{is_permutation([0, 1, 0, 2])=}\")\n",
    "print(f\"{is_permutation([3, 1, 2, 0])=}\")\n",
    "         "
   ]
  },
  {
   "cell_type": "markdown",
   "id": "6daa719a",
   "metadata": {
    "slideshow": {
     "slide_type": "subslide"
    }
   },
   "source": [
    "- A `set` típus **mutable** ezért szótárban nem használható kulcsként \n",
    "\n",
    "- Létezik `frozenset` is ami **immutable** és kulcsként használható.\n",
    "  Hasonló a helyzet a `list`, `tuple` párhoz."
   ]
  },
  {
   "cell_type": "markdown",
   "id": "3ac85f4a",
   "metadata": {
    "slideshow": {
     "slide_type": "slide"
    }
   },
   "source": [
    "# Függvények (functions)"
   ]
  },
  {
   "cell_type": "markdown",
   "id": "3aa325a2",
   "metadata": {
    "slideshow": {
     "slide_type": "skip"
    }
   },
   "source": [
    "- emlékeztető\n",
    "\n",
    "- típus annotáció, dokumentációs string\n",
    "\n",
    "- `*args`, `**kwargs`\n",
    "\n",
    "- `*`, `**` jelölés függvényhíváskor.\n",
    "\n",
    "- `*` jelölés egyéb alkalmazása\n",
    "\n",
    "- láthatóság. lokális, nem lokális és globális változók\n",
    "\n",
    "- lambda függvények\n",
    "\n",
    "- belső függvények, `closure`\n",
    "\n",
    "- rekurzív függvények, később, ha már lesz osztály, lehet fákkal dolgozni. Most csak említés, faktoriális, fibonacci.\n",
    "\n",
    "- generátor függvények.\n"
   ]
  },
  {
   "cell_type": "markdown",
   "id": "3d12bec3",
   "metadata": {},
   "source": [
    "#### Emlékeztető:\n",
    "\n",
    "```python\n",
    "def f(x):\n",
    "    return x*2\n",
    "```\n",
    "\n",
    "- Ez a kódrészlet egy függvényt definiál, hiszen `def` vezeti be.\n",
    "\n",
    "- A függvény neve `f` \n",
    "\n",
    "- Egy argumentuma van `x`\n",
    "\n",
    "- Visszatérési érték `x*2`"
   ]
  },
  {
   "cell_type": "code",
   "execution_count": 62,
   "id": "de925233",
   "metadata": {
    "slideshow": {
     "slide_type": "subslide"
    }
   },
   "outputs": [],
   "source": [
    "def f(x):\n",
    "    return x*2"
   ]
  },
  {
   "cell_type": "markdown",
   "id": "ca658f35",
   "metadata": {
    "slideshow": {
     "slide_type": "-"
    }
   },
   "source": [
    "- Mi lehet `x` ?\n",
    "\n",
    "- Milyen eredményt várunk?"
   ]
  },
  {
   "cell_type": "code",
   "execution_count": 63,
   "id": "43ad44a4",
   "metadata": {
    "slideshow": {
     "slide_type": "fragment"
    }
   },
   "outputs": [
    {
     "name": "stdout",
     "output_type": "stream",
     "text": [
      "x=1, f(x)=2\n",
      "x='alma', f(x)='almaalma'\n",
      "x=(1,), f(x)=(1, 1)\n"
     ]
    }
   ],
   "source": [
    "for x in [1, \"alma\", (1,),]:\n",
    "    print(f\"{x=}, {f(x)=}\")"
   ]
  },
  {
   "cell_type": "markdown",
   "id": "45b764b4",
   "metadata": {
    "slideshow": {
     "slide_type": "subslide"
    }
   },
   "source": [
    "### Lehet-e jelölni, mit várunk `x` értékként? Mi a függvény célja?"
   ]
  },
  {
   "cell_type": "code",
   "execution_count": 64,
   "id": "97488c42",
   "metadata": {},
   "outputs": [
    {
     "name": "stdout",
     "output_type": "stream",
     "text": [
      "Help on function f in module __main__:\n",
      "\n",
      "f(x: int) -> int\n",
      "    Returns the doubled value of x.\n",
      "\n"
     ]
    }
   ],
   "source": [
    "def f(x: int) -> int:\n",
    "    \"\"\"\n",
    "    Returns the doubled value of x.\n",
    "    \"\"\"\n",
    "    return x*2\n",
    "\n",
    "help(f)"
   ]
  },
  {
   "cell_type": "markdown",
   "id": "96963296",
   "metadata": {},
   "source": [
    "- A típus annotáció csak jelzés. Bármilyen `x`-el meghívhatjuk `f`-et ha `x`-et lehet 2-vel szorozni jobbról.\n",
    "\n",
    "- A dokumentációs sztring alkalmas arra, hogy leírja mit csinál a függvény, milyen paraméterei vannak, esetleg néhány példát is mutathat a használatra."
   ]
  },
  {
   "cell_type": "code",
   "execution_count": 65,
   "id": "5752d213",
   "metadata": {
    "scrolled": true,
    "slideshow": {
     "slide_type": "subslide"
    }
   },
   "outputs": [
    {
     "name": "stdout",
     "output_type": "stream",
     "text": [
      "Help on function set_index in module pandas.core.frame:\n",
      "\n",
      "set_index(self, keys, *, drop: 'bool' = True, append: 'bool' = False, inplace: 'bool' = False, verify_integrity: 'bool' = False) -> 'DataFrame | None'\n",
      "    Set the DataFrame index using existing columns.\n",
      "    \n",
      "    Set the DataFrame index (row labels) using one or more existing\n",
      "    columns or arrays (of the correct length). The index can replace the\n",
      "    existing index or expand on it.\n",
      "    \n",
      "    Parameters\n",
      "    ----------\n",
      "    keys : label or array-like or list of labels/arrays\n",
      "        This parameter can be either a single column key, a single array of\n",
      "        the same length as the calling DataFrame, or a list containing an\n",
      "        arbitrary combination of column keys and arrays. Here, \"array\"\n",
      "        encompasses :class:`Series`, :class:`Index`, ``np.ndarray``, and\n",
      "        instances of :class:`~collections.abc.Iterator`.\n",
      "    drop : bool, default True\n",
      "        Delete columns to be used as the new index.\n",
      "    append : bool, default False\n",
      "        Whether to append columns to existing index.\n",
      "    inplace : bool, default False\n",
      "        Whether to modify the DataFrame rather than creating a new one.\n",
      "    verify_integrity : bool, default False\n",
      "        Check the new index for duplicates. Otherwise defer the check until\n",
      "        necessary. Setting to False will improve the performance of this\n",
      "        method.\n",
      "    \n",
      "    Returns\n",
      "    -------\n",
      "    DataFrame or None\n",
      "        Changed row labels or None if ``inplace=True``.\n",
      "    \n",
      "    See Also\n",
      "    --------\n",
      "    DataFrame.reset_index : Opposite of set_index.\n",
      "    DataFrame.reindex : Change to new indices or expand indices.\n",
      "    DataFrame.reindex_like : Change to same indices as other DataFrame.\n",
      "    \n",
      "    Examples\n",
      "    --------\n",
      "    >>> df = pd.DataFrame({'month': [1, 4, 7, 10],\n",
      "    ...                    'year': [2012, 2014, 2013, 2014],\n",
      "    ...                    'sale': [55, 40, 84, 31]})\n",
      "    >>> df\n",
      "       month  year  sale\n",
      "    0      1  2012    55\n",
      "    1      4  2014    40\n",
      "    2      7  2013    84\n",
      "    3     10  2014    31\n",
      "    \n",
      "    Set the index to become the 'month' column:\n",
      "    \n",
      "    >>> df.set_index('month')\n",
      "           year  sale\n",
      "    month\n",
      "    1      2012    55\n",
      "    4      2014    40\n",
      "    7      2013    84\n",
      "    10     2014    31\n",
      "    \n",
      "    Create a MultiIndex using columns 'year' and 'month':\n",
      "    \n",
      "    >>> df.set_index(['year', 'month'])\n",
      "                sale\n",
      "    year  month\n",
      "    2012  1     55\n",
      "    2014  4     40\n",
      "    2013  7     84\n",
      "    2014  10    31\n",
      "    \n",
      "    Create a MultiIndex using an Index and a column:\n",
      "    \n",
      "    >>> df.set_index([pd.Index([1, 2, 3, 4]), 'year'])\n",
      "             month  sale\n",
      "       year\n",
      "    1  2012  1      55\n",
      "    2  2014  4      40\n",
      "    3  2013  7      84\n",
      "    4  2014  10     31\n",
      "    \n",
      "    Create a MultiIndex using two Series:\n",
      "    \n",
      "    >>> s = pd.Series([1, 2, 3, 4])\n",
      "    >>> df.set_index([s, s**2])\n",
      "          month  year  sale\n",
      "    1 1       1  2012    55\n",
      "    2 4       4  2014    40\n",
      "    3 9       7  2013    84\n",
      "    4 16     10  2014    31\n",
      "\n"
     ]
    }
   ],
   "source": [
    "import pandas as pd\n",
    "\n",
    "help(pd.DataFrame.set_index)"
   ]
  },
  {
   "cell_type": "markdown",
   "id": "17faba00",
   "metadata": {
    "slideshow": {
     "slide_type": "slide"
    }
   },
   "source": [
    "### Függvény változó számú paraméterrel"
   ]
  },
  {
   "cell_type": "markdown",
   "id": "17dfbb51",
   "metadata": {},
   "source": [
    "A `print` függvénynél láttuk, hogy tetszőleges számú paraméterrel meghívható, és bizonyos paramétereket névvel kell megadni, pl. `end`, `sep`.\n",
    "\n",
    "Tudunk-e hasonló saját függvényt definiálni. Pl.\n",
    "```python\n",
    "f(1, 0, 3) # -> 1 and 0 and 3 = 0\n",
    "f(1, 2) # -> 1 and 2 = 2\n",
    "```\n",
    "Azaz tetszőleges számú egész értékű bemenet, az eredmény az argumentumok `and`-el összekapcsolva.\n"
   ]
  },
  {
   "cell_type": "markdown",
   "id": "caffd08d",
   "metadata": {
    "slideshow": {
     "slide_type": "fragment"
    }
   },
   "source": [
    "Pythonban a maradék pozicionális argumentumokat a `*args` lehet jelölni az argumentum listában. A `*` lényeges, `args` a szokásos név. \n",
    "\n",
    "A függvény belsejében `args` egy `tuple` az átadott értékekkel."
   ]
  },
  {
   "cell_type": "code",
   "execution_count": 66,
   "id": "c0265436",
   "metadata": {
    "slideshow": {
     "slide_type": "subslide"
    }
   },
   "outputs": [],
   "source": [
    "def f(*parameters):\n",
    "    result = True\n",
    "    for arg in parameters:\n",
    "        result = result and arg\n",
    "        if not result:\n",
    "            return result\n",
    "    return result\n"
   ]
  },
  {
   "cell_type": "code",
   "execution_count": 67,
   "id": "986054eb",
   "metadata": {
    "slideshow": {
     "slide_type": "fragment"
    }
   },
   "outputs": [
    {
     "name": "stdout",
     "output_type": "stream",
     "text": [
      "f(1, 0, 3) = 0, f(1, 'kutya') = 'kutya'\n"
     ]
    }
   ],
   "source": [
    "print(f\"{f(1, 0, 3) = }, {f(1, 'kutya') = }\")"
   ]
  },
  {
   "cell_type": "markdown",
   "id": "367d2ae6",
   "metadata": {
    "slideshow": {
     "slide_type": "subslide"
    }
   },
   "source": [
    "### Változó számú névvel ellátott paraméter"
   ]
  },
  {
   "cell_type": "markdown",
   "id": "8fe366a9",
   "metadata": {},
   "source": [
    "Néha arra is szükség lehet, hogy sok (pl. konfigurációs paramétert) adjunk egy függvénynek, amit aztán az tovább add az általa meghívott függvényeknek is. \n",
    "\n",
    "A névvel ellátott maradék paramétereket a `**kwargs` argumentumban szokás összegyűjteni. `**` fontos, `kwargs` szokásos név (`keyword arguments`).\n",
    "\n",
    "A függvény belsejében `kwargs` értéke egy szótár. A kulcs a paraméter neve, az értéke a paraméter értéke.\n",
    "\n",
    "Indokolt esetben használjuk.\n"
   ]
  },
  {
   "cell_type": "markdown",
   "id": "a2238c5f",
   "metadata": {
    "slideshow": {
     "slide_type": "subslide"
    }
   },
   "source": [
    "Példa. Szótár készítése. A `dict` függvényhez hasonló működés."
   ]
  },
  {
   "cell_type": "code",
   "execution_count": 68,
   "id": "d2f866ad",
   "metadata": {},
   "outputs": [
    {
     "data": {
      "text/plain": [
       "{'a': 1, 'b': <function __main__.f(**kwargs)>}"
      ]
     },
     "execution_count": 68,
     "metadata": {},
     "output_type": "execute_result"
    }
   ],
   "source": [
    "def f(**kwargs):\n",
    "    return kwargs\n",
    "\n",
    "f(a=1, b=f)\n",
    "    "
   ]
  },
  {
   "cell_type": "markdown",
   "id": "d20d529c",
   "metadata": {
    "slideshow": {
     "slide_type": "subslide"
    }
   },
   "source": [
    "Változó számú paraméter és default érték megadása kombinálható, sőt bizonyos argumentumokról ki lehet kényszeríteni, hogy csak névvel, vagy csak név nélkül lehessen őket megadni."
   ]
  },
  {
   "cell_type": "code",
   "execution_count": 69,
   "id": "3c971125",
   "metadata": {},
   "outputs": [],
   "source": [
    "def f(a, *args, c=0, **kwargs):\n",
    "    print(f\"{a=}, {args=}, {c=}, {kwargs=}\")"
   ]
  },
  {
   "cell_type": "code",
   "execution_count": 70,
   "id": "b551c4e8",
   "metadata": {},
   "outputs": [
    {
     "name": "stdout",
     "output_type": "stream",
     "text": [
      "a=1, args=(2, 3), c=3, kwargs={'b': 2}\n"
     ]
    }
   ],
   "source": [
    "f(1, 2, 3, b=2, c=3)"
   ]
  },
  {
   "cell_type": "code",
   "execution_count": 74,
   "id": "0d86c7a9",
   "metadata": {
    "slideshow": {
     "slide_type": "fragment"
    }
   },
   "outputs": [],
   "source": [
    "# f(1, 2, 3, b=2, c=3, a=1) # -> hiba\n",
    "# f(2, 3, a=1) # -> hiba\n",
    "# f(a=1, 2, 3) # -> hiba"
   ]
  },
  {
   "cell_type": "markdown",
   "id": "64df9348",
   "metadata": {
    "slideshow": {
     "slide_type": "subslide"
    }
   },
   "source": [
    "### `*` és `**` operátor függvény híváskor"
   ]
  },
  {
   "cell_type": "code",
   "execution_count": 77,
   "id": "23acc3bb",
   "metadata": {},
   "outputs": [
    {
     "name": "stdout",
     "output_type": "stream",
     "text": [
      "a=1, b=2, c=3\n",
      "a=1, b=1, c=2\n"
     ]
    }
   ],
   "source": [
    "def f(a, b, c):\n",
    "    print(f\"{a=}, {b=}, {c=}\")\n",
    "    \n",
    "params = (1, 2, 3) # barmilyen sorozat lehetne, pl range(3) is\n",
    "f(*params)\n",
    "\n",
    "params = {\"b\": 1, \"c\":2}\n",
    "f(1, **params)"
   ]
  },
  {
   "cell_type": "code",
   "execution_count": 78,
   "id": "f2a5111f",
   "metadata": {},
   "outputs": [
    {
     "name": "stdout",
     "output_type": "stream",
     "text": [
      "range(0, 3)\n",
      "0, 1, 2\n"
     ]
    }
   ],
   "source": [
    "print(range(3), sep=\", \")\n",
    "print(*range(3), sep=\", \")"
   ]
  },
  {
   "cell_type": "markdown",
   "id": "c045d2c6",
   "metadata": {
    "slideshow": {
     "slide_type": "subslide"
    }
   },
   "source": [
    "### `*` operátor értékadás baloldalán"
   ]
  },
  {
   "cell_type": "code",
   "execution_count": 79,
   "id": "ad8b6511",
   "metadata": {},
   "outputs": [
    {
     "name": "stdout",
     "output_type": "stream",
     "text": [
      "a=1, b=[2, 3]\n"
     ]
    }
   ],
   "source": [
    "a, *b = 1, 2, 3\n",
    "print(f\"{a=}, {b=}\")"
   ]
  },
  {
   "cell_type": "code",
   "execution_count": 80,
   "id": "d26dc775",
   "metadata": {},
   "outputs": [
    {
     "name": "stdout",
     "output_type": "stream",
     "text": [
      "a=1, b=2, c=[3]\n"
     ]
    }
   ],
   "source": [
    "a, b, *c = 1, 2, 3\n",
    "print(f\"{a=}, {b=}, {c=}\")"
   ]
  },
  {
   "cell_type": "code",
   "execution_count": 81,
   "id": "70002db1",
   "metadata": {},
   "outputs": [
    {
     "name": "stdout",
     "output_type": "stream",
     "text": [
      "a=1, b=2, c=3, d=[]\n"
     ]
    }
   ],
   "source": [
    "a, b, c, *d = 1, 2, 3\n",
    "print(f\"{a=}, {b=}, {c=}, {d=}\")"
   ]
  },
  {
   "cell_type": "markdown",
   "id": "42f962b2",
   "metadata": {
    "slideshow": {
     "slide_type": "subslide"
    }
   },
   "source": [
    "### `*` operátor ,,comprehension'' belsejében"
   ]
  },
  {
   "cell_type": "code",
   "execution_count": 82,
   "id": "6a3ca219",
   "metadata": {
    "slideshow": {
     "slide_type": "-"
    }
   },
   "outputs": [
    {
     "data": {
      "text/plain": [
       "[<zip at 0x72d1e42964c0>]"
      ]
     },
     "execution_count": 82,
     "metadata": {},
     "output_type": "execute_result"
    }
   ],
   "source": [
    "nums = 1, 2, 3\n",
    "pars = 0, 0\n",
    "[zip(nums, pars)]"
   ]
  },
  {
   "cell_type": "code",
   "execution_count": 83,
   "id": "989e7da5",
   "metadata": {
    "slideshow": {
     "slide_type": "fragment"
    }
   },
   "outputs": [
    {
     "data": {
      "text/plain": [
       "[(1, 0), (2, 0)]"
      ]
     },
     "execution_count": 83,
     "metadata": {},
     "output_type": "execute_result"
    }
   ],
   "source": [
    "[*zip(nums, pars)]"
   ]
  },
  {
   "cell_type": "code",
   "execution_count": 84,
   "id": "bedb8068",
   "metadata": {
    "slideshow": {
     "slide_type": "fragment"
    }
   },
   "outputs": [
    {
     "data": {
      "text/plain": [
       "{range(0, 3)}"
      ]
     },
     "execution_count": 84,
     "metadata": {},
     "output_type": "execute_result"
    }
   ],
   "source": [
    "{range(3)}"
   ]
  },
  {
   "cell_type": "code",
   "execution_count": 85,
   "id": "cafaacce",
   "metadata": {
    "slideshow": {
     "slide_type": "fragment"
    }
   },
   "outputs": [
    {
     "data": {
      "text/plain": [
       "{0, 1, 2}"
      ]
     },
     "execution_count": 85,
     "metadata": {},
     "output_type": "execute_result"
    }
   ],
   "source": [
    "{*range(3)} # ugyanaz, mint set(range(3))"
   ]
  },
  {
   "cell_type": "markdown",
   "id": "bf879dce",
   "metadata": {
    "slideshow": {
     "slide_type": "subslide"
    }
   },
   "source": [
    "## Láthatóság"
   ]
  },
  {
   "cell_type": "markdown",
   "id": "bf2c9194",
   "metadata": {
    "slideshow": {
     "slide_type": "-"
    }
   },
   "source": [
    "Egy függvény eléri a kívül definiált változókat és függvényeket is."
   ]
  },
  {
   "cell_type": "code",
   "execution_count": 86,
   "id": "823e6354",
   "metadata": {
    "slideshow": {
     "slide_type": "-"
    }
   },
   "outputs": [
    {
     "name": "stdout",
     "output_type": "stream",
     "text": [
      "5\n",
      "15\n"
     ]
    }
   ],
   "source": [
    "a = 5\n",
    "\n",
    "def g(x):\n",
    "    result = x + a\n",
    "    return result\n",
    "\n",
    "print(a)\n",
    "print(g(10))"
   ]
  },
  {
   "cell_type": "markdown",
   "id": "a246e509",
   "metadata": {
    "slideshow": {
     "slide_type": "subslide"
    }
   },
   "source": [
    "Alapesetben függvényen belülről nem tudjuk a függvényen kívül definált értékeket megváltoztatni. \n",
    "<!-- (El lehet ezt érni, de kerülendő, ezért nem is tárgyaljuk!) -->"
   ]
  },
  {
   "cell_type": "code",
   "execution_count": 92,
   "id": "a32883f9",
   "metadata": {},
   "outputs": [
    {
     "name": "stdout",
     "output_type": "stream",
     "text": [
      "5\n"
     ]
    }
   ],
   "source": [
    "a = 5\n",
    "b = a\n",
    "\n",
    "def inc_a(x):\n",
    "    a = x + a\n",
    "    return a\n",
    "\n",
    "print(a)\n",
    "# inc_a(1) # -> hibára vezet."
   ]
  },
  {
   "cell_type": "markdown",
   "id": "d92a7cc2",
   "metadata": {},
   "source": [
    "- Itt `b` globális változó, `x` lokális változó a függvény belsejében. \n",
    "\n",
    "- A fordítási lépés során, amikor a forráskódból byte-kód lesz `a`-t lokális változónak jelöli meg a fordító. `a` a függvényen kívül globális változó értéke 5, a függvényen belül lokális változó.\n",
    "\n",
    "- A végrehajtás során `a = x+a` számításakor az `a` lokális változónak még nincs értéke, ezért kapunk hibát! "
   ]
  },
  {
   "cell_type": "markdown",
   "id": "053ab061",
   "metadata": {
    "slideshow": {
     "slide_type": "slide"
    }
   },
   "source": [
    "Mi történik a következő kódrészletben?\n",
    "\n",
    "Van-e itt valami gond?"
   ]
  },
  {
   "cell_type": "code",
   "execution_count": 93,
   "id": "d6865c5e",
   "metadata": {},
   "outputs": [],
   "source": [
    "def max_num(nums):\n",
    "    max_num = float(\"-inf\")\n",
    "    for num in nums:\n",
    "        if num > max_num:\n",
    "            max_num = num\n",
    "    return max_num"
   ]
  },
  {
   "cell_type": "code",
   "execution_count": 94,
   "id": "4d78a099",
   "metadata": {},
   "outputs": [
    {
     "data": {
      "text/plain": [
       "(3, -inf)"
      ]
     },
     "execution_count": 94,
     "metadata": {},
     "output_type": "execute_result"
    }
   ],
   "source": [
    "max_num({1, 2, 3}), max_num([])"
   ]
  },
  {
   "cell_type": "markdown",
   "id": "dba9d1bb",
   "metadata": {
    "slideshow": {
     "slide_type": "slide"
    }
   },
   "source": [
    "## Névtelen függvények, `lambda`-függvények"
   ]
  },
  {
   "cell_type": "markdown",
   "id": "23d7f756",
   "metadata": {
    "slideshow": {
     "slide_type": "-"
    }
   },
   "source": [
    "Rövid, egyetlen kifejezést tartalmazó függvényeket `lambda` függvényként is definiálhatunk\n"
   ]
  },
  {
   "cell_type": "code",
   "execution_count": 96,
   "id": "15d9b875",
   "metadata": {
    "slideshow": {
     "slide_type": "-"
    }
   },
   "outputs": [
    {
     "data": {
      "text/plain": [
       "True"
      ]
     },
     "execution_count": 96,
     "metadata": {},
     "output_type": "execute_result"
    }
   ],
   "source": [
    "is_positive = lambda x: x > 0\n",
    "is_positive(2)"
   ]
  },
  {
   "cell_type": "markdown",
   "id": "9c433cd3",
   "metadata": {
    "slideshow": {
     "slide_type": "subslide"
    }
   },
   "source": [
    "Vannak olyan függvények, metódusok, amik függvényt várnak paraméterként. Ha ez egyetlen kifejezéssel kiszámolható, akkor általában `lambda` függvényt használunk."
   ]
  },
  {
   "cell_type": "code",
   "execution_count": 97,
   "id": "dda12dc7",
   "metadata": {
    "slideshow": {
     "slide_type": "-"
    }
   },
   "outputs": [
    {
     "name": "stdout",
     "output_type": "stream",
     "text": [
      "[43, 1, 36, 38, 48, 68, 2, 31, 45, 75]\n",
      "['y', 'z', 'z', 'z', 'z', 'z', 'á', 'á', 'á', 'ü']\n"
     ]
    },
    {
     "data": {
      "text/plain": [
       "[60, 71, 76, 45, 52, 44, 36, 68, 38, 0]"
      ]
     },
     "execution_count": 97,
     "metadata": {},
     "output_type": "execute_result"
    }
   ],
   "source": [
    "text = \"Számoljuk ki a karakterek rangját, azaz nagyságszerinti sorrendben az indexüket!\"\n",
    "n = len(text)\n",
    "\n",
    "order = sorted(range(n), key=lambda i: (text[i].lower(), i))\n",
    "\n",
    "print(order[-10:])\n",
    "\n",
    "print([text[i] for i in order[-10:]])\n",
    "\n",
    "rank = [0]*n\n",
    "for i, pos in enumerate(order):\n",
    "    rank[pos] = i\n",
    "rank[:10]"
   ]
  },
  {
   "cell_type": "markdown",
   "id": "2b68cdb1",
   "metadata": {
    "slideshow": {
     "slide_type": "subslide"
    }
   },
   "source": [
    "### Mi történik itt?"
   ]
  },
  {
   "cell_type": "code",
   "execution_count": 102,
   "id": "90d21e56",
   "metadata": {
    "slideshow": {
     "slide_type": "-"
    }
   },
   "outputs": [
    {
     "ename": "NameError",
     "evalue": "name 'j' is not defined",
     "output_type": "error",
     "traceback": [
      "\u001b[0;31m---------------------------------------------------------------------------\u001b[0m",
      "\u001b[0;31mNameError\u001b[0m                                 Traceback (most recent call last)",
      "\u001b[0;32m/tmp/ipykernel_2287762/3059898529.py\u001b[0m in \u001b[0;36m<cell line: 4>\u001b[0;34m()\u001b[0m\n\u001b[1;32m      2\u001b[0m \u001b[0;34m\u001b[0m\u001b[0m\n\u001b[1;32m      3\u001b[0m \u001b[0mx\u001b[0m \u001b[0;34m=\u001b[0m \u001b[0;36m10\u001b[0m\u001b[0;34m\u001b[0m\u001b[0;34m\u001b[0m\u001b[0m\n\u001b[0;32m----> 4\u001b[0;31m \u001b[0mprint\u001b[0m\u001b[0;34m(\u001b[0m\u001b[0;34mf\"{x=}, {inc_1(x)=}, {inc_2(x)=}, {inc_3(x)=}  {j=}\"\u001b[0m\u001b[0;34m)\u001b[0m\u001b[0;34m\u001b[0m\u001b[0;34m\u001b[0m\u001b[0m\n\u001b[0m",
      "\u001b[0;31mNameError\u001b[0m: name 'j' is not defined"
     ]
    }
   ],
   "source": [
    "inc_1, inc_2, inc_3 = [lambda x: x+j for j in range(1, 4)]\n",
    "\n",
    "x = 10\n",
    "print(f\"{x=}, {inc_1(x)=}, {inc_2(x)=}, {inc_3(x)=}  {j=}\")"
   ]
  },
  {
   "cell_type": "code",
   "execution_count": 100,
   "id": "327b34af",
   "metadata": {
    "slideshow": {
     "slide_type": "fragment"
    }
   },
   "outputs": [
    {
     "name": "stdout",
     "output_type": "stream",
     "text": [
      "x=10, inc_1(x)=13, inc_2(x)=13, inc_3(x)=13\n"
     ]
    }
   ],
   "source": [
    "i = -1\n",
    "print(f\"{x=}, {inc_1(x)=}, {inc_2(x)=}, {inc_3(x)=}\")\n"
   ]
  },
  {
   "cell_type": "markdown",
   "id": "bebf5ce0",
   "metadata": {
    "slideshow": {
     "slide_type": "subslide"
    }
   },
   "source": [
    "## Dekorátorok, függvények módosítása"
   ]
  },
  {
   "cell_type": "markdown",
   "id": "fa2d0ce8",
   "metadata": {
    "slideshow": {
     "slide_type": "-"
    }
   },
   "source": [
    "- Minden függvény megjegyzi azokat az értékeket, amik nem lokális és nem globális változók. \n",
    "  Ezekhez hozzá lehet férni a `.__closure__` attribútumon keresztül, vagy az `inspect` modul használatával. \n",
    "  Ha marad idő visszatérünk rá.\n",
    "  \n",
    "- Függvény visszatérési értéke lehet függvény is. \n",
    " \n",
    "- A kettő kombinálásával egy meglévő függvényt módosíthatunk."
   ]
  },
  {
   "cell_type": "code",
   "execution_count": 103,
   "id": "73158ff2",
   "metadata": {
    "slideshow": {
     "slide_type": "subslide"
    }
   },
   "outputs": [
    {
     "name": "stdout",
     "output_type": "stream",
     "text": [
      "f(1, 2, c=3) -> 6\n"
     ]
    },
    {
     "data": {
      "text/plain": [
       "6"
      ]
     },
     "execution_count": 103,
     "metadata": {},
     "output_type": "execute_result"
    }
   ],
   "source": [
    "def f(a, b, c):\n",
    "    return a+b+c\n",
    "\n",
    "def show_call(fun):\n",
    "    def new_fun(*args, **kwargs):\n",
    "        result = fun(*args, **kwargs)\n",
    "        pos_params = [f\"{arg}\" for arg in args]\n",
    "        kw_params = [f\"{key}={value}\" for key, value in kwargs.items()]\n",
    "        print(f\"{fun.__name__}({', '.join(pos_params + kw_params)}) -> {result}\")\n",
    "        return result\n",
    "    return new_fun\n",
    "\n",
    "f_show_call = show_call(f)\n",
    "\n",
    "f_show_call(1, 2, c=3)"
   ]
  },
  {
   "cell_type": "markdown",
   "id": "d85a92da",
   "metadata": {
    "slideshow": {
     "slide_type": "subslide"
    }
   },
   "source": [
    "- Egy olyan függvényt, ami egy másik függvényt módosítanak **dekorátor**-nak hívunk.\n",
    "\n",
    "- Van egy kényelmes szintakszis is hozzá:\n",
    "  \n",
    "  ```python\n",
    "  @show_call\n",
    "  def f(a, b, c):\n",
    "    pass\n",
    "  ```\n",
    "  \n",
    "  ekvivalens azzal, hogy\n",
    "  ```python\n",
    "  def f(a, b, c):\n",
    "    pass\n",
    "\n",
    "  f = show_call(f) \n",
    "  ```\n",
    "  "
   ]
  },
  {
   "cell_type": "markdown",
   "id": "a2442500",
   "metadata": {
    "slideshow": {
     "slide_type": "slide"
    }
   },
   "source": [
    "## Rekurzív függvények\n",
    "\n",
    "Egy függvény más függvényeket esetleg saját magát is meghívhatja a függvény törzsében.\n",
    "\n",
    "Példák \n",
    "\n",
    "- Fibonacci számsorozat:\n",
    "  $\n",
    "      f_0 = 0,\\quad f_1 = 1, \\quad f_{n} = f_{n-1}+f_{n-2}, \\quad n\\geq 2\n",
    "  $\n",
    " \n",
    "- Faktoriális: $0!=1$, $n! = n\\cdot (n-1)!$ \n",
    "\n",
    "- Hatványozás: $x^0 = 1$, $x^n = x \\cdot (x^{n-1})$.\n",
    "\n",
    "- Vannak rekurzív adatszerkezetek, pl. bináris fa. Itt nagyon sok feladat természetes megoldása rekurzív függvényre vezet.\n",
    "\n",
    "Mindegyik példára az a jellemző, hogy a feladatot szétbontjuk ,,kisebb'' ugyanolyan típusú feladatra és azok megoldásából számoljuk ki a választ. A megoldás nem csak rekurzióval kapható meg, de sokszor az a természtes.\n",
    "\n",
    "Ez az alapötlet néha a ,,dinamikus programozás'' fedőnév alatt szerepel.  \n",
    "\n",
    "\n",
    "  "
   ]
  },
  {
   "cell_type": "code",
   "execution_count": 104,
   "id": "491c914b",
   "metadata": {
    "slideshow": {
     "slide_type": "subslide"
    }
   },
   "outputs": [],
   "source": [
    "# Egy függvény saját magát is meghívhatja a törzsében. \n",
    "\n",
    "# x ** k = x * (x ** (k - 1))\n",
    "def calc_integer_power(x, k):\n",
    "    if k == 0:\n",
    "        return 1\n",
    "    \n",
    "    return x * calc_integer_power(x, k - 1)"
   ]
  },
  {
   "cell_type": "markdown",
   "id": "58dfe71b",
   "metadata": {
    "slideshow": {
     "slide_type": "fragment"
    }
   },
   "source": [
    "**HF**: módosítsuk a fenti függvényt, hogy negatív k-ra is működjön"
   ]
  },
  {
   "cell_type": "code",
   "execution_count": 105,
   "id": "7f7376a5",
   "metadata": {
    "slideshow": {
     "slide_type": "fragment"
    }
   },
   "outputs": [
    {
     "data": {
      "text/plain": [
       "16"
      ]
     },
     "execution_count": 105,
     "metadata": {},
     "output_type": "execute_result"
    }
   ],
   "source": [
    "calc_integer_power(2, 4)"
   ]
  },
  {
   "cell_type": "code",
   "execution_count": 106,
   "id": "ec22ce0e",
   "metadata": {
    "slideshow": {
     "slide_type": "slide"
    }
   },
   "outputs": [
    {
     "ename": "RecursionError",
     "evalue": "maximum recursion depth exceeded",
     "output_type": "error",
     "traceback": [
      "\u001b[0;31m---------------------------------------------------------------------------\u001b[0m",
      "\u001b[0;31mRecursionError\u001b[0m                            Traceback (most recent call last)",
      "\u001b[0;32m/tmp/ipykernel_2287762/1818132067.py\u001b[0m in \u001b[0;36m<cell line: 5>\u001b[0;34m()\u001b[0m\n\u001b[1;32m      3\u001b[0m \u001b[0;34m\u001b[0m\u001b[0m\n\u001b[1;32m      4\u001b[0m \u001b[0;34m\u001b[0m\u001b[0m\n\u001b[0;32m----> 5\u001b[0;31m \u001b[0mendless_recursion\u001b[0m\u001b[0;34m(\u001b[0m\u001b[0;34m)\u001b[0m\u001b[0;34m\u001b[0m\u001b[0;34m\u001b[0m\u001b[0m\n\u001b[0m",
      "\u001b[0;32m/tmp/ipykernel_2287762/1818132067.py\u001b[0m in \u001b[0;36mendless_recursion\u001b[0;34m()\u001b[0m\n\u001b[1;32m      1\u001b[0m \u001b[0;32mdef\u001b[0m \u001b[0mendless_recursion\u001b[0m\u001b[0;34m(\u001b[0m\u001b[0;34m)\u001b[0m\u001b[0;34m:\u001b[0m\u001b[0;34m\u001b[0m\u001b[0;34m\u001b[0m\u001b[0m\n\u001b[0;32m----> 2\u001b[0;31m     \u001b[0;32mreturn\u001b[0m \u001b[0mendless_recursion\u001b[0m\u001b[0;34m(\u001b[0m\u001b[0;34m)\u001b[0m\u001b[0;34m\u001b[0m\u001b[0;34m\u001b[0m\u001b[0m\n\u001b[0m\u001b[1;32m      3\u001b[0m \u001b[0;34m\u001b[0m\u001b[0m\n\u001b[1;32m      4\u001b[0m \u001b[0;34m\u001b[0m\u001b[0m\n\u001b[1;32m      5\u001b[0m \u001b[0mendless_recursion\u001b[0m\u001b[0;34m(\u001b[0m\u001b[0;34m)\u001b[0m\u001b[0;34m\u001b[0m\u001b[0;34m\u001b[0m\u001b[0m\n",
      "... last 1 frames repeated, from the frame below ...\n",
      "\u001b[0;32m/tmp/ipykernel_2287762/1818132067.py\u001b[0m in \u001b[0;36mendless_recursion\u001b[0;34m()\u001b[0m\n\u001b[1;32m      1\u001b[0m \u001b[0;32mdef\u001b[0m \u001b[0mendless_recursion\u001b[0m\u001b[0;34m(\u001b[0m\u001b[0;34m)\u001b[0m\u001b[0;34m:\u001b[0m\u001b[0;34m\u001b[0m\u001b[0;34m\u001b[0m\u001b[0m\n\u001b[0;32m----> 2\u001b[0;31m     \u001b[0;32mreturn\u001b[0m \u001b[0mendless_recursion\u001b[0m\u001b[0;34m(\u001b[0m\u001b[0;34m)\u001b[0m\u001b[0;34m\u001b[0m\u001b[0;34m\u001b[0m\u001b[0m\n\u001b[0m\u001b[1;32m      3\u001b[0m \u001b[0;34m\u001b[0m\u001b[0m\n\u001b[1;32m      4\u001b[0m \u001b[0;34m\u001b[0m\u001b[0m\n\u001b[1;32m      5\u001b[0m \u001b[0mendless_recursion\u001b[0m\u001b[0;34m(\u001b[0m\u001b[0;34m)\u001b[0m\u001b[0;34m\u001b[0m\u001b[0;34m\u001b[0m\u001b[0m\n",
      "\u001b[0;31mRecursionError\u001b[0m: maximum recursion depth exceeded"
     ]
    }
   ],
   "source": [
    "def endless_recursion():\n",
    "    return endless_recursion()\n",
    "\n",
    "\n",
    "endless_recursion()"
   ]
  },
  {
   "cell_type": "code",
   "execution_count": 107,
   "id": "ba509d12",
   "metadata": {
    "slideshow": {
     "slide_type": "slide"
    }
   },
   "outputs": [],
   "source": [
    "def factorial(n):\n",
    "    if n == 0 or n == 1:\n",
    "        return 1\n",
    "    \n",
    "    return n * factorial(n - 1)"
   ]
  },
  {
   "cell_type": "markdown",
   "id": "3844d309",
   "metadata": {
    "slideshow": {
     "slide_type": "slide"
    }
   },
   "source": [
    "5 faktoriális kifejtése:\n",
    "\n",
    "```python\n",
    "factorial(5) \n",
    "    = 5 * factorial(4)\n",
    "    = 5 * (4 * factorial(3))\n",
    "    = 5 * (4 * (3 * factorial(2)))\n",
    "    = 5 * (4 * (3 * (2 * factorial(1))))\n",
    "    = 5 * (4 * (3 * (2 * (1))))\n",
    "    = 120\n",
    "```"
   ]
  },
  {
   "cell_type": "code",
   "execution_count": 108,
   "id": "b1f964a6",
   "metadata": {
    "slideshow": {
     "slide_type": "fragment"
    }
   },
   "outputs": [
    {
     "data": {
      "text/plain": [
       "120"
      ]
     },
     "execution_count": 108,
     "metadata": {},
     "output_type": "execute_result"
    }
   ],
   "source": [
    "factorial(5)"
   ]
  },
  {
   "cell_type": "code",
   "execution_count": null,
   "id": "4206ad0e",
   "metadata": {
    "slideshow": {
     "slide_type": "skip"
    }
   },
   "outputs": [],
   "source": [
    "# Függvények törzsében lehet belső függvényeket definiálni\n",
    "\n",
    "def another_factorial(n):\n",
    "    def loop(accumulator, k):\n",
    "        if k > n:\n",
    "            return accumulator\n",
    "        \n",
    "        return loop(accumulator * k, k + 1)\n",
    "    \n",
    "    return loop(1, 1)"
   ]
  },
  {
   "cell_type": "markdown",
   "id": "f7db6012",
   "metadata": {
    "slideshow": {
     "slide_type": "skip"
    }
   },
   "source": [
    "```python\n",
    "another_factorial(5) \n",
    "    = loop(1, 1)\n",
    "    = loop(1, 2)\n",
    "    = loop(2, 3)\n",
    "    = loop(6, 4)\n",
    "    = loop(24, 5)\n",
    "    = loop(120, 6)\n",
    "    = 120\n",
    "```\n",
    "\n",
    "Sajnos Python-ban nincs kihasználva az a tény, hogy ez a megoldás ugyan továbbra is rekurzív (a `loop` függvény rekurzív), de a rekurzió mélysége mindig pontosan 1."
   ]
  },
  {
   "cell_type": "code",
   "execution_count": null,
   "id": "f248e3bc",
   "metadata": {
    "slideshow": {
     "slide_type": "skip"
    }
   },
   "outputs": [],
   "source": [
    "another_factorial(5)"
   ]
  },
  {
   "cell_type": "markdown",
   "id": "0b27b364",
   "metadata": {
    "slideshow": {
     "slide_type": "subslide"
    }
   },
   "source": [
    "**HF**: Írjuk meg a faktoriális függvényt rekurzió nélkül.\n",
    "\n",
    "```python\n",
    "def factorial(n):    \n",
    "    pass\n",
    "```"
   ]
  },
  {
   "cell_type": "code",
   "execution_count": 109,
   "id": "30870aea",
   "metadata": {
    "slideshow": {
     "slide_type": "subslide"
    }
   },
   "outputs": [],
   "source": [
    "def fibonacci(n):\n",
    "    if n < 2:\n",
    "        return n\n",
    "    else:\n",
    "        return fibonacci(n-1)+fibonacci(n-2)"
   ]
  },
  {
   "cell_type": "code",
   "execution_count": 111,
   "id": "ea5c9136",
   "metadata": {
    "slideshow": {
     "slide_type": "fragment"
    }
   },
   "outputs": [
    {
     "name": "stdout",
     "output_type": "stream",
     "text": [
      "f_0=0, f_1=1, f_2=1, f_3=2, f_4=3, f_5=5, f_6=8, f_7=13, f_8=21, f_9=34, "
     ]
    }
   ],
   "source": [
    "for n in range(10):\n",
    "    print(f\"f_{n}={fibonacci(n)}\", end=\", \")"
   ]
  },
  {
   "cell_type": "markdown",
   "id": "7a81a19c",
   "metadata": {
    "slideshow": {
     "slide_type": "fragment"
    }
   },
   "source": [
    "Mennyit számolunk?, Hányszor hívjuk meg a `fibonacci` függvényt?"
   ]
  },
  {
   "cell_type": "code",
   "execution_count": 112,
   "id": "597825bf",
   "metadata": {
    "slideshow": {
     "slide_type": "subslide"
    }
   },
   "outputs": [],
   "source": [
    "def count_calls(fun):\n",
    "    def counted_fun(*args, **kwargs):\n",
    "        counted_fun.counter += 1\n",
    "        return fun(*args, **kwargs)\n",
    "    counted_fun.counter = 0\n",
    "    return counted_fun\n",
    "\n",
    "@count_calls\n",
    "def fibonacci(n):\n",
    "    if n < 2:\n",
    "        return n\n",
    "    else:\n",
    "        return fibonacci(n-1)+fibonacci(n-2)\n",
    "\n",
    "    "
   ]
  },
  {
   "cell_type": "code",
   "execution_count": 113,
   "id": "58d1b38e",
   "metadata": {
    "slideshow": {
     "slide_type": "subslide"
    }
   },
   "outputs": [
    {
     "name": "stdout",
     "output_type": "stream",
     "text": [
      "f_5=5, num calls: 15, 2f_6-1: 15\n",
      "f_10=55, num calls: 177, 2f_11-1: 177\n",
      "f_15=610, num calls: 1973, 2f_16-1: 1973\n",
      "f_20=6765, num calls: 21891, 2f_21-1: 21891\n"
     ]
    }
   ],
   "source": [
    "for n in [5, 10, 15, 20,]:\n",
    "    fibonacci.counter = 0\n",
    "    print(f\"f_{n}={fibonacci(n)}, num calls: {fibonacci.counter}, 2f_{n+1}-1: {2*fibonacci(n+1)-1}\")"
   ]
  },
  {
   "cell_type": "markdown",
   "id": "4420dd1b",
   "metadata": {
    "slideshow": {
     "slide_type": "fragment"
    }
   },
   "source": [
    "HF. A hívások száma $f_n$ kiszámításához: $2f_{n+1}-1$, azaz $n$-ben exponenciális sebességgel nő!"
   ]
  },
  {
   "cell_type": "markdown",
   "id": "69509c80",
   "metadata": {
    "slideshow": {
     "slide_type": "subslide"
    }
   },
   "source": [
    "## Memorizálás"
   ]
  },
  {
   "cell_type": "markdown",
   "id": "b783c385",
   "metadata": {
    "slideshow": {
     "slide_type": "-"
    }
   },
   "source": [
    "Általánosan használható technika dinamikus programozásban.\n",
    "\n",
    "Az eredményeket csak akkor kell kiszámolni, ha ez korábban nem történt meg."
   ]
  },
  {
   "cell_type": "code",
   "execution_count": null,
   "id": "565cf2ca",
   "metadata": {
    "slideshow": {
     "slide_type": "-"
    }
   },
   "outputs": [],
   "source": [
    "memo = {0: 0, 1: 1}\n",
    "\n",
    "@count_calls\n",
    "def fibonacci_with_memo(n):\n",
    "    if n not in memo:\n",
    "        value = fibonacci_with_memo(n-1) + fibonacci_with_memo(n-2)\n",
    "        memo[n] = value\n",
    "    return memo[n]\n",
    "\n",
    "for n in [5, 10, 15, 20]:\n",
    "    print(f\"f_{n}={fibonacci_with_memo(n)}, num calls: {fibonacci_with_memo.counter}\")"
   ]
  },
  {
   "cell_type": "markdown",
   "id": "be0f4b24",
   "metadata": {
    "slideshow": {
     "slide_type": "subslide"
    }
   },
   "source": [
    "## Fibonacci rekurzió nélkül"
   ]
  },
  {
   "cell_type": "code",
   "execution_count": null,
   "id": "d539474f",
   "metadata": {},
   "outputs": [],
   "source": [
    "def fibonacci_v1(n):\n",
    "    memo = [0]*(n+1)\n",
    "    memo[1] = 1\n",
    "    for i in range(2, n+1):\n",
    "        memo[i] = memo[i-1]+memo[i-2]\n",
    "    return memo[n]\n"
   ]
  },
  {
   "cell_type": "code",
   "execution_count": null,
   "id": "c0c8842c",
   "metadata": {},
   "outputs": [],
   "source": [
    "for n in [5, 20, 100, 1000]:\n",
    "    print(f\"f_{n}={fibonacci_v1(n)}\")\n"
   ]
  },
  {
   "cell_type": "markdown",
   "id": "d756daf7",
   "metadata": {
    "slideshow": {
     "slide_type": "subslide"
    }
   },
   "source": [
    "## Fibonacci rekurzió nélkül, egyszerűbben"
   ]
  },
  {
   "cell_type": "code",
   "execution_count": null,
   "id": "24ffa3d9",
   "metadata": {
    "slideshow": {
     "slide_type": "-"
    }
   },
   "outputs": [],
   "source": [
    "def fibonacci_v2(n):\n",
    "    a, b = 0, 1\n",
    "    for _ in range(n):\n",
    "        a, b = b, a+b\n",
    "    return a\n",
    "for n in [5, 20, 100, 1000]:\n",
    "    print(f\"f_{n}={fibonacci_v1(n)}\")\n"
   ]
  },
  {
   "cell_type": "markdown",
   "id": "fc7c278a",
   "metadata": {
    "slideshow": {
     "slide_type": "-"
    }
   },
   "source": [
    "Kérdések:\n",
    "\n",
    "- Mi köze ennek a megoldásnak a zárt formulához?\n",
    "\n",
    "- Lehet-e gyorsabban, vagy kevesebb művelettel?"
   ]
  }
 ],
 "metadata": {
  "celltoolbar": "Slideshow",
  "kernelspec": {
   "display_name": "Python 3 (ipykernel)",
   "language": "python",
   "name": "python3"
  },
  "language_info": {
   "codemirror_mode": {
    "name": "ipython",
    "version": 3
   },
   "file_extension": ".py",
   "mimetype": "text/x-python",
   "name": "python",
   "nbconvert_exporter": "python",
   "pygments_lexer": "ipython3",
   "version": "3.10.12"
  }
 },
 "nbformat": 4,
 "nbformat_minor": 5
}
