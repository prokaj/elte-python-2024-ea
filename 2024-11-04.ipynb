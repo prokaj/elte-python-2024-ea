{
 "cells": [
  {
   "cell_type": "markdown",
   "id": "05819086",
   "metadata": {
    "slideshow": {
     "slide_type": "slide"
    }
   },
   "source": [
    "# Ismétlés előző óráról"
   ]
  },
  {
   "cell_type": "markdown",
   "id": "c44d533d",
   "metadata": {},
   "source": [
    "- `contextmanager` olyan objektum, ami a `with` statementtel használható:\n",
    "  \n",
    "  * van egy `__enter__` és egy `__exit__` metódusa\n",
    " \n",
    "  * legkönnyebben generátor függvényből hozható létre a `@contextmanager` decorátorral.\n",
    "\n",
    "- Hibakezelés: \n",
    "  \n",
    "  * Hiba jelzése `raise` statementtel\n",
    "  * Hibajelzés feldolgozása  `try: ... except: ... finally: ...` blokkkal.\n",
    "\n",
    "- Végignéztük az `itertools` könyvtár függvényeit. Ha sorozatokkal dolgozunk érdemes lehet megnézni, van-e olyan függvénye a könyvtárnak, ami megoldja a feladatunkat."
   ]
  },
  {
   "cell_type": "code",
   "execution_count": 1,
   "id": "587a7715",
   "metadata": {
    "slideshow": {
     "slide_type": "subslide"
    }
   },
   "outputs": [],
   "source": [
    "import time\n",
    "\n",
    "class Timer:\n",
    "    def __init__(self):\n",
    "        self._start = None\n",
    "        self._elapsed_time = None\n",
    "\n",
    "    def __enter__(self):\n",
    "        self._start = time.perf_counter_ns()\n",
    "        self._elapsed_time = None\n",
    "        return self\n",
    "\n",
    "    def __exit__(self, exc_type, exc_value, traceback):\n",
    "        self._elapsed_time = time.perf_counter_ns() - self._start\n",
    "        print(f\"elapsed_time {self.elapsed_time_ms:.2f} ms\")\n",
    "\n",
    "    @property\n",
    "    def elapsed_time_ms(self):\n",
    "        return self._elapsed_time/10**6 if self._elapsed_time else None"
   ]
  },
  {
   "cell_type": "markdown",
   "id": "03961690",
   "metadata": {
    "slideshow": {
     "slide_type": "slide"
    }
   },
   "source": [
    "# A `functools` könyvtár"
   ]
  },
  {
   "cell_type": "markdown",
   "id": "509edbcf",
   "metadata": {},
   "source": [
    "Leggyakrabban használt függvények:\n",
    "\n",
    "- `reduce`: Egy sorozatot redukál egyetlen értékké a megadott függvény segítségével.\n",
    "\n",
    "- `lru_cache`: Memorizálás. Least Recently Used\n",
    "\n",
    "- `wraps`: Dekorátorok definiálásakor hasznos. A dekorálandó függvény attribútumait másolja.\n",
    "\n",
    "- `partial`: Parciális függvény."
   ]
  },
  {
   "cell_type": "markdown",
   "id": "71e33821",
   "metadata": {
    "slideshow": {
     "slide_type": "subslide"
    }
   },
   "source": [
    "## Példák."
   ]
  },
  {
   "cell_type": "markdown",
   "id": "245e28d0",
   "metadata": {},
   "source": [
    "#### `reduce` függvény."
   ]
  },
  {
   "cell_type": "code",
   "execution_count": 2,
   "id": "ea941c70",
   "metadata": {},
   "outputs": [
    {
     "data": {
      "text/plain": [
       "10"
      ]
     },
     "execution_count": 2,
     "metadata": {},
     "output_type": "execute_result"
    }
   ],
   "source": [
    "import functools\n",
    "functools.reduce(lambda x, y: x+y, range(5), 0) # (((((0 + 0) + 1) + 2) + 3) + 4) "
   ]
  },
  {
   "cell_type": "markdown",
   "id": "285622d8",
   "metadata": {},
   "source": [
    "```python\n",
    "def reduce(f, seq, initial):\n",
    "    a = initial \n",
    "    for b in seq:\n",
    "        a = f(a, b)\n",
    "    return a\n",
    "```"
   ]
  },
  {
   "cell_type": "markdown",
   "id": "0a86f8d3",
   "metadata": {
    "slideshow": {
     "slide_type": "subslide"
    }
   },
   "source": [
    "### `lru_cache` dekorátor"
   ]
  },
  {
   "cell_type": "code",
   "execution_count": 5,
   "id": "14b58ea7",
   "metadata": {},
   "outputs": [],
   "source": [
    "def fibonacci(n):\n",
    "    if n <= 1:\n",
    "        return n\n",
    "    return fibonacci(n-1) + fibonacci(n-2)\n",
    "# with Timer() as timer:\n",
    "#     print(f\"{fibonacci(30)=}\")"
   ]
  },
  {
   "cell_type": "code",
   "execution_count": 4,
   "id": "f0ee9e73",
   "metadata": {},
   "outputs": [
    {
     "name": "stdout",
     "output_type": "stream",
     "text": [
      "without caching timer.elapsed_time_ms=186.15 ms\n",
      "fibonacci(30)=832040\n",
      "elapsed_time 0.03 ms\n"
     ]
    }
   ],
   "source": [
    "@functools.lru_cache(maxsize=50)\n",
    "def fibonacci(n):\n",
    "    if n <= 1:\n",
    "        return n\n",
    "    return fibonacci(n-1) + fibonacci(n-2)\n",
    "\n",
    "print(f\"without caching {timer.elapsed_time_ms=:.2f} ms\")\n",
    "with Timer():\n",
    "    print(f\"{fibonacci(30)=}\")\n"
   ]
  },
  {
   "cell_type": "markdown",
   "id": "512048bf",
   "metadata": {
    "slideshow": {
     "slide_type": "subslide"
    }
   },
   "source": [
    "### `wraps` dekorátor"
   ]
  },
  {
   "cell_type": "code",
   "execution_count": 10,
   "id": "cc9e7800",
   "metadata": {},
   "outputs": [
    {
     "name": "stdout",
     "output_type": "stream",
     "text": [
      "Help on function add in module __main__:\n",
      "\n",
      "add(a: int, b: int) -> int\n",
      "    adds two number\n",
      "    \n",
      "    This  wrapped function also shows the call\n",
      "\n",
      "add(1, 1) -> 2\n"
     ]
    },
    {
     "data": {
      "text/plain": [
       "2"
      ]
     },
     "execution_count": 10,
     "metadata": {},
     "output_type": "execute_result"
    }
   ],
   "source": [
    "def show_call(fun):\n",
    "    @functools.wraps(fun) # Próbáljuk ki mi történik ha ezt kikommenteljük\n",
    "    def f(*args):\n",
    "        result = fun(*args) \n",
    "        print(f\"{fun.__name__}({', '.join(map(str, args))}) -> {result}\")\n",
    "        return result\n",
    "    f.__doc__ = \"\\n\\n\".join(([fun.__doc__.strip()] if fun.__doc__ else []) + [\"This  wrapped function also shows the call\"])\n",
    "    return f\n",
    "\n",
    "@show_call\n",
    "def add(a: int, b: int) -> int:\n",
    "    \"\"\"adds two number\"\"\"\n",
    "    return a+b \n",
    "\n",
    "help(add)\n",
    "add(1,1)"
   ]
  },
  {
   "cell_type": "markdown",
   "id": "77de61d8",
   "metadata": {
    "slideshow": {
     "slide_type": "subslide"
    }
   },
   "source": [
    "### `partial` "
   ]
  },
  {
   "cell_type": "code",
   "execution_count": 11,
   "id": "adf84806",
   "metadata": {},
   "outputs": [
    {
     "data": {
      "text/plain": [
       "3"
      ]
     },
     "execution_count": 11,
     "metadata": {},
     "output_type": "execute_result"
    }
   ],
   "source": [
    "def f(a, b):\n",
    "    return a+b\n",
    "\n",
    "inc1 = functools.partial(f, b=1)\n",
    "inc1(2)"
   ]
  },
  {
   "cell_type": "markdown",
   "id": "9106e8d0",
   "metadata": {
    "slideshow": {
     "slide_type": "subslide"
    }
   },
   "source": [
    "**HF** volt a mai órára. Mi történik a következő kódrészletben? "
   ]
  },
  {
   "cell_type": "code",
   "execution_count": 12,
   "id": "c761865d",
   "metadata": {},
   "outputs": [],
   "source": [
    "import sys\n",
    "import textwrap\n",
    "from functools import wraps\n",
    "from contextlib import contextmanager\n",
    "\n",
    "def add_indent(write, indentation):\n",
    "    @wraps(write)\n",
    "    def f(string):\n",
    "        return write(textwrap.indent(string, indentation))\n",
    "    return f\n",
    "\n",
    "@contextmanager\n",
    "def indented(indentation):\n",
    "    try:\n",
    "        sys.stdout.write = add_indent(sys.stdout.write, indentation)\n",
    "        yield\n",
    "    finally:\n",
    "        sys.stdout.write = sys.stdout.write.__wrapped__"
   ]
  },
  {
   "cell_type": "code",
   "execution_count": 13,
   "id": "c29904c5",
   "metadata": {
    "slideshow": {
     "slide_type": "subslide"
    }
   },
   "outputs": [
    {
     "name": "stdout",
     "output_type": "stream",
     "text": [
      "|---alma\n",
      "|---korte\n",
      "|---|-> alma\n",
      "|---|-> korte\n",
      "|---alma\n",
      "|---korte\n",
      "alma\n",
      "korte\n"
     ]
    }
   ],
   "source": [
    "with indented(\"|---\"):\n",
    "    print(\"alma\\nkorte\")\n",
    "    with indented(\"|-> \"):\n",
    "        print(\"alma\\nkorte\")\n",
    "    print(\"alma\\nkorte\")\n",
    "\n",
    "print(\"alma\\nkorte\")"
   ]
  },
  {
   "cell_type": "markdown",
   "id": "49d10d32",
   "metadata": {
    "slideshow": {
     "slide_type": "slide"
    }
   },
   "source": [
    "# Néhány szöveges fileformátum"
   ]
  },
  {
   "cell_type": "markdown",
   "id": "aee933ca",
   "metadata": {},
   "source": [
    "`json` és `yaml`\n",
    "\n",
    "- `json` ,,javascript object notation''. Hasonló ahhoz, amit `list`, `dict` esetén a képernyőn látunk. \n",
    "  Nem lehet mindent típust `json`-fileba menteni, de a legfontosabbakat igen:\n",
    "   \n",
    "  * `int`, `float`, `str`, `bool`\n",
    "  * `list`, `dict`.\n",
    "\n",
    "  `json` fileban nincs kommentelési lehetőség.\n",
    "\n",
    "- `yaml`. Több típust tud kezelni, ezért alapból nem `safe`, de könnyen olvasható, szerkeszthető, lehetnek kommentek is. "
   ]
  },
  {
   "cell_type": "code",
   "execution_count": 14,
   "id": "5a82c027",
   "metadata": {
    "slideshow": {
     "slide_type": "subslide"
    }
   },
   "outputs": [
    {
     "data": {
      "text/plain": [
       "'[{\"a\": 1, \"b\": true, \"pi\": 0.314, \"nested\": {\"c\": 3}}, 23, [1, 2, 3]]'"
      ]
     },
     "execution_count": 14,
     "metadata": {},
     "output_type": "execute_result"
    }
   ],
   "source": [
    "import json\n",
    "\n",
    "data = [\n",
    "    {'a': 1, 'b':True, 'pi': .314, \"nested\": {\"c\": 3}},\n",
    "    23,\n",
    "    [1, 2, 3]\n",
    "]\n",
    "\n",
    "json.dumps(data)"
   ]
  },
  {
   "cell_type": "code",
   "execution_count": 15,
   "id": "3799963b",
   "metadata": {},
   "outputs": [],
   "source": [
    "# fileba írás\n",
    "with open(\"/tmp/test.json\", \"w\") as f:\n",
    "    json.dump(data, f)"
   ]
  },
  {
   "cell_type": "code",
   "execution_count": 16,
   "id": "e064c6d6",
   "metadata": {},
   "outputs": [
    {
     "name": "stdout",
     "output_type": "stream",
     "text": [
      "[{'a': 1, 'b': True, 'pi': 0.314, 'nested': {'c': 3}}, 23, [1, 2, 3]]\n"
     ]
    }
   ],
   "source": [
    "with open(\"/tmp/test.json\", \"r\") as f:\n",
    "    print(json.load(f))"
   ]
  },
  {
   "cell_type": "code",
   "execution_count": 17,
   "id": "9f85d7f5",
   "metadata": {
    "slideshow": {
     "slide_type": "subslide"
    }
   },
   "outputs": [
    {
     "name": "stdout",
     "output_type": "stream",
     "text": [
      "- a: 1\n",
      "  b: true\n",
      "  nested:\n",
      "    c: 3\n",
      "  pi: 0.314\n",
      "- 23\n",
      "- - 1\n",
      "  - 2\n",
      "  - 3\n",
      "\n",
      "[{'a': 1, 'b': True, 'nested': {'c': 3}, 'pi': 0.314}, 23, [1, 2, 3]]\n"
     ]
    }
   ],
   "source": [
    "import yaml\n",
    "\n",
    "print(yaml.dump(data))\n",
    "# vagy\n",
    "with open(\"/tmp/test.yaml\", \"w\") as f:\n",
    "    yaml.dump(data, f)\n",
    "    \n",
    "with open(\"/tmp/test.yaml\", \"r\") as f:\n",
    "    print(yaml.safe_load(f))"
   ]
  },
  {
   "cell_type": "markdown",
   "id": "eb905793",
   "metadata": {
    "slideshow": {
     "slide_type": "subslide"
    }
   },
   "source": [
    "# Adatok beolvasás internet címről"
   ]
  },
  {
   "cell_type": "markdown",
   "id": "2737591d",
   "metadata": {},
   "source": [
    "Itt csak azzal foglalkozunk, hogy egy adott internet címen elérhető file-t akarunk letölteni beépített modul használatával.\n",
    "\n",
    "Ez az `urllib.request` modullal megoldható.\n",
    "\n",
    "Hasonló (de nem beépített) modulok:\n",
    "\n",
    "- `requests`\n",
    "- `urllib3`\n",
    "\n",
    "Adott esetben ezeket is érdemes lehet megnézni."
   ]
  },
  {
   "cell_type": "code",
   "execution_count": 18,
   "id": "1072eb23",
   "metadata": {
    "slideshow": {
     "slide_type": "subslide"
    }
   },
   "outputs": [
    {
     "name": "stdout",
     "output_type": "stream",
     "text": [
      "<class 'bytes'>\n",
      "<class 'str'>\n"
     ]
    }
   ],
   "source": [
    "import urllib.request as request\n",
    "\n",
    "url = \"https://www.gutenberg.org/files/1342/1342-0.txt\" # Pride and prejudice,\n",
    "url = \"https://www.gutenberg.org/ebooks/67098.txt.utf-8\" # Winnie the pooh\n",
    "\n",
    "with request.urlopen(url) as file:\n",
    "    btext = file.read()\n",
    "\n",
    "print(type(btext)) # a letöltött szöveg byteokban van\n",
    "text = btext.decode(\"utf-8\") # átkonvertáljuk szöveggé\n",
    "print(type(text))"
   ]
  },
  {
   "cell_type": "code",
   "execution_count": 19,
   "id": "853ae74d",
   "metadata": {},
   "outputs": [
    {
     "name": "stdout",
     "output_type": "stream",
     "text": [
      "                              INTRODUCTION\n",
      "\n",
      "If you happen to have read another book about Christopher Robin, you may\n",
      "remember that he once had a swan (or the swan had Christopher Robin, I\n",
      "don't know which) and that he used to call this swan Pooh. That was a\n",
      "long time ago, and when we said good-bye, we took the name with us, as\n",
      "we didn't think the swan would want it any more. Well, when Edward Bear\n",
      "said that he would like an exciting name all to himself, Christopher\n",
      "Robin said at once, without stopping to think, that he was\n",
      "Winnie-the-Pooh. And he was. So, as I have explained the Pooh part, I\n"
     ]
    }
   ],
   "source": [
    "print(*text.splitlines()[110:120], sep=\"\\n\")"
   ]
  },
  {
   "cell_type": "markdown",
   "id": "1f844def",
   "metadata": {
    "slideshow": {
     "slide_type": "slide"
    }
   },
   "source": [
    "# Milyen további beépített modulok vannak Pythonban?\n",
    "\n",
    "[The Python Standard Library](https://docs.python.org/3.10/library/index.html)"
   ]
  },
  {
   "cell_type": "markdown",
   "id": "248d9cfb",
   "metadata": {},
   "source": [
    "A leggyakrabban használtak:\n",
    "\n",
    "* datetime (dátumok, idő reprezentálása)"
   ]
  },
  {
   "cell_type": "markdown",
   "id": "6587fdfe",
   "metadata": {},
   "source": [
    "Pl. 1000 nap múlva hányadika lesz?"
   ]
  },
  {
   "cell_type": "code",
   "execution_count": 20,
   "id": "412b00de",
   "metadata": {},
   "outputs": [
    {
     "data": {
      "text/plain": [
       "datetime.datetime(2027, 8, 1, 8, 50, 51, 600399)"
      ]
     },
     "execution_count": 20,
     "metadata": {},
     "output_type": "execute_result"
    }
   ],
   "source": [
    "from datetime import datetime, timedelta\n",
    "\n",
    "\n",
    "later = datetime.now() + timedelta(days=1000)\n",
    "later"
   ]
  },
  {
   "cell_type": "markdown",
   "id": "519de3fc",
   "metadata": {
    "slideshow": {
     "slide_type": "subslide"
    }
   },
   "source": [
    "* **`itertools`** (iterátorok, \"lusta kiértékelésű\" adatszerkezetek)\n",
    "\n",
    "* **`collections`** (néhány adatszerkezet)\n",
    "\n",
    "* **`json`** (json formátumú fájlok olvasása/írása)\n",
    "\n",
    "* **`datetime`** (dátumok, idő reprezentálása)\n",
    "\n",
    "* **`math`** (matematikai függvények)\n",
    "\n",
    "* **`random`** (véletlenszámok valamilyen eloszlásból)\n",
    "\n",
    "* **`pathlib`** (fájl és folder elérési utak kezelése)\n",
    "\n",
    "* **`os`** (operációs rendszerhez kapcsolódó függvények)\n",
    "\n",
    "* **`csv`** (csv-formátumú fájlok írása/olvasása)\n",
    "\n",
    "és még egy csomó más (`sys`, `multiprocessing`, `time`, `dataclasses`, `io`, `gzip`, `tarfile`, `tempfile`, `copy`, `heapq`, `bisect`, `functools`, etc.)"
   ]
  },
  {
   "cell_type": "markdown",
   "id": "85c2d27d",
   "metadata": {
    "slideshow": {
     "slide_type": "subslide"
    }
   },
   "source": [
    "Ezenkívül vannak azok a könyvtárak, amelyek nem részei a standard library-nek, de valamilyen csomagkezelővel installálhatók (pl. pip-pel).\n",
    "\n",
    "* **numpy** (lineáris algebra, mátrixok, vektorok)\n",
    "* **scipy** (mérnöki számítások, jelfeldolgozás, differenciálegyenletek, integrálás, interpoláció, stb)\n",
    "* **pandas** (táblázatos adatok manipulációja, kezelése, ezeken való számítások)\n",
    "* **matplotlib** (vizualizáció)\n",
    "* **scikit-learn** (gépi tanulás könyvtár)\n",
    "\n",
    "\n",
    "* **tensorflow** (a Google által fejlesztett deep learning könyvtár)\n",
    "* **pytorch** (a Facebook által fejlesztett deep learning könyvtár)\n",
    "\n",
    "\n",
    "* **pyspark** (elosztott számításokra alkalmas gépi tanulás könyvtár)\n",
    "\n",
    "\n",
    "* **nltk** (természetesnyelv-feldolgozás könyvtár, NLP)\n",
    "* **spacy** (természetesnyelv-feldolgozás könyvtár, NLP)"
   ]
  },
  {
   "cell_type": "markdown",
   "id": "788a30a3",
   "metadata": {
    "slideshow": {
     "slide_type": "slide"
    }
   },
   "source": [
    "# OOP - öröklődés (inheritance)"
   ]
  },
  {
   "cell_type": "markdown",
   "id": "31495c3f",
   "metadata": {},
   "source": [
    "Ezt a témát csak röviden érintjük. A nagy OOP nyelvekben az öröklődés egy központi jelentőségű téma, de itt most ezen az órán csak érintőlegesen beszélünk róla.\n",
    "\n",
    "Gyakran fordul elő olyan helyzet, amikor valamilyen hierarchiába rendezhető osztályaink vannak. Pl. lehet egy `Person` osztályunk, amely emberekről tárol valamilyen attribútumokat, és lehet egy `Student` osztály is, amely hallgatók adatait tárolja. Mivel minden `Student` egyben egy `Person` is, ezért a `Person`-ban definiált attribútumok, metódusok egyben minden `Student` számára értelmesek, és ezeket nem kell újra definiálnunk, hanem megmondhatjuk, hogy a `Student` osztály örökölje meg a `Person` osztály metódusait.\n",
    "\n",
    "Arra is van lehetőség, hogy a megörökölt metódusokat az adott al-osztályban (subclass) felülírjuk (override)."
   ]
  },
  {
   "cell_type": "markdown",
   "id": "82502169",
   "metadata": {
    "slideshow": {
     "slide_type": "subslide"
    }
   },
   "source": [
    "Az első rövid példánkban a téglalapokat tároló `Rectangle` osztályt definiáljuk, melynek van egy `area` property-je. Minden négyzet egyben egy téglalap, ezért a négyzeteket tároló `Square` osztály leszármazik a `Rectangle` osztályból."
   ]
  },
  {
   "cell_type": "code",
   "execution_count": 22,
   "id": "c92f324d",
   "metadata": {},
   "outputs": [],
   "source": [
    "class Rectangle:\n",
    "    def __init__(self, width, height):\n",
    "        self.width = width\n",
    "        self.height = height    \n",
    "    @property\n",
    "    def area(self):\n",
    "        return self.width * self.height\n",
    "class Square(Rectangle):\n",
    "    def __init__(self, side_length):\n",
    "        pass"
   ]
  },
  {
   "cell_type": "code",
   "execution_count": 24,
   "id": "b5355045",
   "metadata": {
    "slideshow": {
     "slide_type": "fragment"
    }
   },
   "outputs": [
    {
     "ename": "AttributeError",
     "evalue": "'Square' object has no attribute 'width'",
     "output_type": "error",
     "traceback": [
      "\u001b[0;31m---------------------------------------------------------------------------\u001b[0m",
      "\u001b[0;31mAttributeError\u001b[0m                            Traceback (most recent call last)",
      "\u001b[0;32m/tmp/ipykernel_2182135/4055136677.py\u001b[0m in \u001b[0;36m<cell line: 2>\u001b[0;34m()\u001b[0m\n\u001b[1;32m      1\u001b[0m \u001b[0ms\u001b[0m \u001b[0;34m=\u001b[0m \u001b[0mSquare\u001b[0m\u001b[0;34m(\u001b[0m\u001b[0;36m10\u001b[0m\u001b[0;34m)\u001b[0m\u001b[0;34m\u001b[0m\u001b[0;34m\u001b[0m\u001b[0m\n\u001b[0;32m----> 2\u001b[0;31m \u001b[0ms\u001b[0m\u001b[0;34m.\u001b[0m\u001b[0marea\u001b[0m\u001b[0;34m\u001b[0m\u001b[0;34m\u001b[0m\u001b[0m\n\u001b[0m",
      "\u001b[0;32m/tmp/ipykernel_2182135/2890790111.py\u001b[0m in \u001b[0;36marea\u001b[0;34m(self)\u001b[0m\n\u001b[1;32m      5\u001b[0m     \u001b[0;34m@\u001b[0m\u001b[0mproperty\u001b[0m\u001b[0;34m\u001b[0m\u001b[0;34m\u001b[0m\u001b[0m\n\u001b[1;32m      6\u001b[0m     \u001b[0;32mdef\u001b[0m \u001b[0marea\u001b[0m\u001b[0;34m(\u001b[0m\u001b[0mself\u001b[0m\u001b[0;34m)\u001b[0m\u001b[0;34m:\u001b[0m\u001b[0;34m\u001b[0m\u001b[0;34m\u001b[0m\u001b[0m\n\u001b[0;32m----> 7\u001b[0;31m         \u001b[0;32mreturn\u001b[0m \u001b[0mself\u001b[0m\u001b[0;34m.\u001b[0m\u001b[0mwidth\u001b[0m \u001b[0;34m*\u001b[0m \u001b[0mself\u001b[0m\u001b[0;34m.\u001b[0m\u001b[0mheight\u001b[0m\u001b[0;34m\u001b[0m\u001b[0;34m\u001b[0m\u001b[0m\n\u001b[0m\u001b[1;32m      8\u001b[0m \u001b[0;32mclass\u001b[0m \u001b[0mSquare\u001b[0m\u001b[0;34m(\u001b[0m\u001b[0mRectangle\u001b[0m\u001b[0;34m)\u001b[0m\u001b[0;34m:\u001b[0m\u001b[0;34m\u001b[0m\u001b[0;34m\u001b[0m\u001b[0m\n\u001b[1;32m      9\u001b[0m     \u001b[0;32mdef\u001b[0m \u001b[0m__init__\u001b[0m\u001b[0;34m(\u001b[0m\u001b[0mself\u001b[0m\u001b[0;34m,\u001b[0m \u001b[0mside_length\u001b[0m\u001b[0;34m)\u001b[0m\u001b[0;34m:\u001b[0m\u001b[0;34m\u001b[0m\u001b[0;34m\u001b[0m\u001b[0m\n",
      "\u001b[0;31mAttributeError\u001b[0m: 'Square' object has no attribute 'width'"
     ]
    }
   ],
   "source": [
    "s = Square(10)\n",
    "s.area"
   ]
  },
  {
   "cell_type": "code",
   "execution_count": 25,
   "id": "bfa1c5b5",
   "metadata": {
    "slideshow": {
     "slide_type": "subslide"
    }
   },
   "outputs": [],
   "source": [
    "# Meg kell hívni az szülő-osztály __init__ metódusát\n",
    "\n",
    "class Square(Rectangle):\n",
    "    def __init__(self, side_length):\n",
    "        super().__init__(side_length, side_length)"
   ]
  },
  {
   "cell_type": "code",
   "execution_count": 26,
   "id": "9dca190f",
   "metadata": {
    "slideshow": {
     "slide_type": "fragment"
    }
   },
   "outputs": [
    {
     "data": {
      "text/plain": [
       "100"
      ]
     },
     "execution_count": 26,
     "metadata": {},
     "output_type": "execute_result"
    }
   ],
   "source": [
    "s = Square(10)\n",
    "\n",
    "s.area"
   ]
  },
  {
   "cell_type": "code",
   "execution_count": 28,
   "id": "1bcac084",
   "metadata": {
    "slideshow": {
     "slide_type": "subslide"
    }
   },
   "outputs": [],
   "source": [
    "class Rectangle:\n",
    "    def __init__(self, width, height):\n",
    "        self.width = width\n",
    "        self.height = height\n",
    "        \n",
    "    def __repr__(self):\n",
    "        return f\"{type(self).__name__}({self.width}, {self.height})\"\n",
    "        \n",
    "    @property\n",
    "    def area(self):\n",
    "        return self.width * self.height\n",
    "    \n",
    "class Square(Rectangle):\n",
    "    def __init__(self, side_length):\n",
    "        super().__init__(side_length, side_length)"
   ]
  },
  {
   "cell_type": "code",
   "execution_count": 30,
   "id": "10c79f0c",
   "metadata": {
    "slideshow": {
     "slide_type": "fragment"
    }
   },
   "outputs": [
    {
     "data": {
      "text/plain": [
       "Rectangle(3, 2)"
      ]
     },
     "execution_count": 30,
     "metadata": {},
     "output_type": "execute_result"
    }
   ],
   "source": [
    "s = Square(10)\n",
    "s\n",
    "Rectangle(3,2)"
   ]
  },
  {
   "cell_type": "code",
   "execution_count": 31,
   "id": "fe1445ed",
   "metadata": {
    "slideshow": {
     "slide_type": "subslide"
    }
   },
   "outputs": [],
   "source": [
    "class Rectangle:\n",
    "    def __init__(self, width, height):\n",
    "        self.width = width\n",
    "        self.height = height\n",
    "        \n",
    "    def __repr__(self):\n",
    "        return f\"{type(self).__name__}({self.width}, {self.height})\"\n",
    "        \n",
    "    @property\n",
    "    def area(self):\n",
    "        return self.width * self.height\n",
    "    \n",
    "class Square(Rectangle):\n",
    "    def __init__(self, side_length):\n",
    "        super().__init__(side_length, side_length)\n",
    "        \n",
    "    def __repr__(self):\n",
    "        return f\"{type(self).__name__}({self.width})\""
   ]
  },
  {
   "cell_type": "code",
   "execution_count": 32,
   "id": "c28c1bc2",
   "metadata": {
    "slideshow": {
     "slide_type": "subslide"
    }
   },
   "outputs": [
    {
     "name": "stdout",
     "output_type": "stream",
     "text": [
      "200\n",
      "Rectangle(10, 20)\n",
      "100\n",
      "Square(10)\n"
     ]
    }
   ],
   "source": [
    "r = Rectangle(10, 20)\n",
    "print(r.area)\n",
    "print(r)\n",
    "\n",
    "\n",
    "s = Square(10)\n",
    "print(s.area)\n",
    "print(s)"
   ]
  },
  {
   "cell_type": "code",
   "execution_count": 34,
   "id": "5d32141b",
   "metadata": {
    "slideshow": {
     "slide_type": "fragment"
    }
   },
   "outputs": [
    {
     "name": "stdout",
     "output_type": "stream",
     "text": [
      "<class '__main__.Square'>\n",
      "isinstance(s, Square)=True\n",
      "isinstance(s, Rectangle)=True\n",
      "True\n"
     ]
    }
   ],
   "source": [
    "print(type(s))\n",
    "\n",
    "print(f\"{isinstance(s, Square)=}\")\n",
    "print(f\"{isinstance(s, Rectangle)=}\")\n",
    "\n",
    "print(issubclass(Square, Rectangle))"
   ]
  },
  {
   "cell_type": "markdown",
   "id": "70bec801",
   "metadata": {
    "slideshow": {
     "slide_type": "subslide"
    }
   },
   "source": [
    "A beépített adatszerkezeteknél is láthatunk öröklődést. Például a korábban látott `Counter` osztály definíciója így kezdődik:\n",
    "```python\n",
    "class Counter(dict):\n",
    "    pass\n",
    "```\n",
    "azaz a `Counter` osztály leszármazik a `dict` osztályból, vagyis egy Counter egyben egy `dict` is. Pythonban lehetséges a többszörös öröklődés is, azonban ebbe az irányba már nem megyünk tovább."
   ]
  },
  {
   "cell_type": "markdown",
   "id": "a7e9913d",
   "metadata": {
    "slideshow": {
     "slide_type": "slide"
    }
   },
   "source": [
    "# Mátrixok és vektorok (Matrices and vectors)"
   ]
  },
  {
   "cell_type": "markdown",
   "id": "e382879f",
   "metadata": {},
   "source": [
    "A következőkben a legfontosabb, tudományos számításokra használt könyvtárakat tekintjük át.\n",
    "\n",
    "* numpy\n",
    "* matplotlib\n",
    "* pandas\n",
    "\n",
    "\n",
    "Elsőként a Numpy-al foglakozunk, ami a legalapvetőbb lineáris algebrai könyvtár. Ezek a könyvtárak a hatékonyság miatt elsősorban `C/C++`, esetleg Cython-ban implementált függvényekre támaszkodnak, vagyis itt valójában `C`-szerűen tárolt vektorokról lesz szó, amelyeken lényegében `C/C++` függvények hívódnak meg, mindezt elrejtve a felhasználó elől, Python függvényhívások mögé."
   ]
  },
  {
   "cell_type": "markdown",
   "id": "03a8d030",
   "metadata": {
    "slideshow": {
     "slide_type": "subslide"
    }
   },
   "source": [
    "A numpy nem része a Python standard library-nek, azaz installálni kell. Ha `colab`-on dolgozunk, vagy Anaconda csomagkezelőnk van, akkor a numpy már valószínűleg telepítve van, egyébként pedig a Python saját `pip` csomagkezelőjével lehet telepíteni, a \n",
    "\n",
    "```\n",
    "pip install numpy\n",
    "```\n",
    "paranccsal. Megadott verziószámú csomagot is lehet telepíteni, ha szükséges.\n",
    "\n",
    "```\n",
    "pip install numpy==1.26.4\n",
    "```"
   ]
  },
  {
   "cell_type": "code",
   "execution_count": 35,
   "id": "afea8ea9",
   "metadata": {},
   "outputs": [],
   "source": [
    "# A numpy importálására az alábbi konvenciót szokás használni.\n",
    "\n",
    "import numpy as np"
   ]
  },
  {
   "cell_type": "markdown",
   "id": "35896a1a",
   "metadata": {
    "slideshow": {
     "slide_type": "subslide"
    }
   },
   "source": [
    "A Numpy alapvető adatszerkezete az `ndarray`, ami egy $N$-dimenziós, azonos típusú elemeket tartalmazó, fix méretű tömb.\n",
    "\n",
    "Típus alatt itt elsősorban a C-ből ismert numerikus típusokat értjük, noha lehetséges sztringeket is ilyen tömbbe tenni. Egy Python lista Python objektumokat tartalmaz, amelyek össze-vissza lehetnek a memóriában, ezzel szemben egy C-tömb (kihasználva, hogy minden elemének ugyanaz a típusa) a memóriának egy összefüggő területét foglalja el.\n",
    "\n",
    "```\n",
    "np.float_, np.float32, np.float64, ...\n",
    "np.int_, np.int32, np.int64, ...\n",
    "np.bool_\n",
    "```\n",
    "\n",
    "Itt a hatékonyság kedvéért le kell mondanunk a tetszőleges hosszúságú Python egészekről."
   ]
  },
  {
   "cell_type": "markdown",
   "id": "1af66e68",
   "metadata": {
    "slideshow": {
     "slide_type": "subslide"
    }
   },
   "source": [
    "### Egydimenziós tömbök konstruálása"
   ]
  },
  {
   "cell_type": "code",
   "execution_count": 48,
   "id": "1e948143",
   "metadata": {},
   "outputs": [],
   "source": [
    "# # Tömbök konstruálása\n",
    "# v = np.array([1, 1, 2, 3, 5, 8])\n",
    "# v"
   ]
  },
  {
   "cell_type": "code",
   "execution_count": 50,
   "id": "ac8b9d0c",
   "metadata": {
    "slideshow": {
     "slide_type": "fragment"
    }
   },
   "outputs": [],
   "source": [
    "# v.dtype"
   ]
  },
  {
   "cell_type": "code",
   "execution_count": 51,
   "id": "ec18f533",
   "metadata": {
    "slideshow": {
     "slide_type": "fragment"
    }
   },
   "outputs": [],
   "source": [
    "v = np.array([1, 1, 2, 3, 5, 8], dtype=np.float_)"
   ]
  },
  {
   "cell_type": "code",
   "execution_count": 55,
   "id": "035ec2bb",
   "metadata": {},
   "outputs": [],
   "source": [
    "# v.dtype"
   ]
  },
  {
   "cell_type": "code",
   "execution_count": 54,
   "id": "b2b60162",
   "metadata": {
    "slideshow": {
     "slide_type": "fragment"
    }
   },
   "outputs": [],
   "source": [
    "# len(v)"
   ]
  },
  {
   "cell_type": "code",
   "execution_count": 53,
   "id": "ad765b97",
   "metadata": {
    "slideshow": {
     "slide_type": "fragment"
    }
   },
   "outputs": [],
   "source": [
    "# v.shape"
   ]
  },
  {
   "cell_type": "code",
   "execution_count": 57,
   "id": "12e659c8",
   "metadata": {
    "slideshow": {
     "slide_type": "fragment"
    }
   },
   "outputs": [],
   "source": [
    "# logikai tömb / boolean array\n",
    "# np.array([0, 1, 0, 0, 1], dtype=np.bool_)"
   ]
  },
  {
   "cell_type": "code",
   "execution_count": 58,
   "id": "a374d553",
   "metadata": {
    "slideshow": {
     "slide_type": "fragment"
    }
   },
   "outputs": [
    {
     "name": "stdout",
     "output_type": "stream",
     "text": [
      "array([False,  True, False, False,  True])\n",
      "array([0., 1., 0., 0., 1.], dtype=float32)\n"
     ]
    }
   ],
   "source": [
    "# Explicit type cast\n",
    "v = np.array([0, 1, 0, 0, 1], dtype=np.int_)\n",
    "print(repr(v.astype(np.bool_)))\n",
    "print(repr(v.astype(\"float32\")))"
   ]
  },
  {
   "cell_type": "markdown",
   "id": "7fa71794",
   "metadata": {
    "slideshow": {
     "slide_type": "subslide"
    }
   },
   "source": [
    "### Többdimenziós tömbök konstruálása"
   ]
  },
  {
   "cell_type": "code",
   "execution_count": 59,
   "id": "8a3f1ac2",
   "metadata": {},
   "outputs": [
    {
     "data": {
      "text/plain": [
       "array([[1, 2, 3],\n",
       "       [4, 5, 6]])"
      ]
     },
     "execution_count": 59,
     "metadata": {},
     "output_type": "execute_result"
    }
   ],
   "source": [
    "# az elemeket listák listájaként adhatjuk meg\n",
    "matrix = np.array([[1, 2, 3], [4, 5, 6]])\n",
    "matrix"
   ]
  },
  {
   "cell_type": "code",
   "execution_count": 60,
   "id": "d2072be7",
   "metadata": {
    "slideshow": {
     "slide_type": "fragment"
    }
   },
   "outputs": [
    {
     "data": {
      "text/plain": [
       "2"
      ]
     },
     "execution_count": 60,
     "metadata": {},
     "output_type": "execute_result"
    }
   ],
   "source": [
    "matrix.ndim"
   ]
  },
  {
   "cell_type": "code",
   "execution_count": 63,
   "id": "cf3070eb",
   "metadata": {
    "slideshow": {
     "slide_type": "fragment"
    }
   },
   "outputs": [
    {
     "data": {
      "text/plain": [
       "6"
      ]
     },
     "execution_count": 63,
     "metadata": {},
     "output_type": "execute_result"
    }
   ],
   "source": [
    "matrix.shape\n",
    "matrix.size"
   ]
  },
  {
   "cell_type": "code",
   "execution_count": 77,
   "id": "09a9eb93",
   "metadata": {
    "slideshow": {
     "slide_type": "subslide"
    }
   },
   "outputs": [],
   "source": [
    "# Speciális mátrix konstrukciók\n",
    "A = np.zeros(shape=(3, 3), dtype=np.int_)"
   ]
  },
  {
   "cell_type": "code",
   "execution_count": 75,
   "id": "0256459e",
   "metadata": {
    "slideshow": {
     "slide_type": "fragment"
    }
   },
   "outputs": [],
   "source": [
    "B = np.ones(shape=(3, 5), dtype=np.float_)"
   ]
  },
  {
   "cell_type": "code",
   "execution_count": 68,
   "id": "00c236d7",
   "metadata": {
    "slideshow": {
     "slide_type": "fragment"
    }
   },
   "outputs": [],
   "source": [
    "I = np.identity(3)"
   ]
  },
  {
   "cell_type": "code",
   "execution_count": 72,
   "id": "e8604c58",
   "metadata": {
    "slideshow": {
     "slide_type": "fragment"
    }
   },
   "outputs": [],
   "source": [
    "I = np.eye(4, 3, dtype=np.int_)"
   ]
  },
  {
   "cell_type": "code",
   "execution_count": null,
   "id": "5aa009e2",
   "metadata": {
    "slideshow": {
     "slide_type": "fragment"
    }
   },
   "outputs": [],
   "source": []
  },
  {
   "cell_type": "code",
   "execution_count": 74,
   "id": "408de1ae",
   "metadata": {
    "slideshow": {
     "slide_type": "fragment"
    }
   },
   "outputs": [
    {
     "data": {
      "text/plain": [
       "array([0, 1, 2, 3, 4, 5, 6, 7, 8, 9])"
      ]
     },
     "execution_count": 74,
     "metadata": {},
     "output_type": "execute_result"
    }
   ],
   "source": [
    "np.arange(10)"
   ]
  },
  {
   "cell_type": "code",
   "execution_count": 76,
   "id": "0a812889",
   "metadata": {
    "slideshow": {
     "slide_type": "fragment"
    }
   },
   "outputs": [
    {
     "data": {
      "text/plain": [
       "array([0. , 0.1, 0.2, 0.3, 0.4, 0.5, 0.6, 0.7, 0.8, 0.9, 1. ])"
      ]
     },
     "execution_count": 76,
     "metadata": {},
     "output_type": "execute_result"
    }
   ],
   "source": [
    "np.linspace(0, 1, 11)"
   ]
  },
  {
   "cell_type": "code",
   "execution_count": 78,
   "id": "6a12962d",
   "metadata": {
    "slideshow": {
     "slide_type": "fragment"
    }
   },
   "outputs": [
    {
     "data": {
      "text/plain": [
       "array([0., 0., 0., 0., 0.], dtype=float32)"
      ]
     },
     "execution_count": 78,
     "metadata": {},
     "output_type": "execute_result"
    }
   ],
   "source": [
    "v = np.array([1, 2, 4, 9, -1], dtype=np.float32)\n",
    "np.zeros_like(v) "
   ]
  },
  {
   "cell_type": "markdown",
   "id": "4f597bb0",
   "metadata": {
    "slideshow": {
     "slide_type": "subslide"
    }
   },
   "source": [
    "## Algebrai műveletek"
   ]
  },
  {
   "cell_type": "code",
   "execution_count": 79,
   "id": "374369be",
   "metadata": {
    "slideshow": {
     "slide_type": "-"
    }
   },
   "outputs": [],
   "source": [
    "A = np.array([[1, 2, 3], [4, 5, 6]])"
   ]
  },
  {
   "cell_type": "code",
   "execution_count": 85,
   "id": "ae814ba1",
   "metadata": {},
   "outputs": [],
   "source": [
    "# 2 * A"
   ]
  },
  {
   "cell_type": "code",
   "execution_count": 86,
   "id": "4b7bd4ce",
   "metadata": {
    "slideshow": {
     "slide_type": "fragment"
    }
   },
   "outputs": [],
   "source": [
    "#2.0 * A"
   ]
  },
  {
   "cell_type": "code",
   "execution_count": 88,
   "id": "489f7640",
   "metadata": {
    "slideshow": {
     "slide_type": "fragment"
    }
   },
   "outputs": [],
   "source": [
    "# -A"
   ]
  },
  {
   "cell_type": "code",
   "execution_count": 89,
   "id": "9cd71bff",
   "metadata": {
    "slideshow": {
     "slide_type": "fragment"
    }
   },
   "outputs": [],
   "source": [
    "# elemenkénti összeadás\n",
    "# np.add(A, A)"
   ]
  },
  {
   "cell_type": "code",
   "execution_count": 91,
   "id": "fcbd4128",
   "metadata": {},
   "outputs": [],
   "source": [
    "# A + A"
   ]
  },
  {
   "cell_type": "code",
   "execution_count": 94,
   "id": "bedf05f2",
   "metadata": {
    "slideshow": {
     "slide_type": "fragment"
    }
   },
   "outputs": [],
   "source": [
    "# elemenkénti szorzás\n",
    "# np.multiply(A, A)"
   ]
  },
  {
   "cell_type": "code",
   "execution_count": 95,
   "id": "bea44481",
   "metadata": {},
   "outputs": [],
   "source": [
    "#A * A"
   ]
  },
  {
   "cell_type": "code",
   "execution_count": 97,
   "id": "cf094c1b",
   "metadata": {
    "slideshow": {
     "slide_type": "fragment"
    }
   },
   "outputs": [],
   "source": [
    "# 2 * np.ones_like(A)"
   ]
  },
  {
   "cell_type": "code",
   "execution_count": 98,
   "id": "20fb161c",
   "metadata": {
    "slideshow": {
     "slide_type": "fragment"
    }
   },
   "outputs": [
    {
     "data": {
      "text/plain": [
       "array([[0.5, 1. , 1.5],\n",
       "       [2. , 2.5, 3. ]])"
      ]
     },
     "execution_count": 98,
     "metadata": {},
     "output_type": "execute_result"
    }
   ],
   "source": [
    "# elemenkénti osztás\n",
    "np.divide(A, B)"
   ]
  },
  {
   "cell_type": "code",
   "execution_count": 100,
   "id": "6e6c78db",
   "metadata": {},
   "outputs": [
    {
     "data": {
      "text/plain": [
       "array([[0, 1, 1],\n",
       "       [2, 2, 3]])"
      ]
     },
     "execution_count": 100,
     "metadata": {},
     "output_type": "execute_result"
    }
   ],
   "source": [
    "A // B"
   ]
  },
  {
   "cell_type": "markdown",
   "id": "5d78932f",
   "metadata": {
    "slideshow": {
     "slide_type": "subslide"
    }
   },
   "source": [
    "## Mátrix, vektor műveletek"
   ]
  },
  {
   "cell_type": "markdown",
   "id": "26b1ddcc",
   "metadata": {
    "slideshow": {
     "slide_type": "-"
    }
   },
   "source": [
    "- mátrix szorzás: `matmul`, (`@`), `dot`.\n",
    "- tenzoriális szorzás: `tensordot`\n",
    "- Einstein szummáció: `einsum`"
   ]
  },
  {
   "cell_type": "code",
   "execution_count": 101,
   "id": "4b531194",
   "metadata": {
    "slideshow": {
     "slide_type": "-"
    }
   },
   "outputs": [
    {
     "name": "stdout",
     "output_type": "stream",
     "text": [
      "(2, 3)\n",
      "(3,)\n"
     ]
    }
   ],
   "source": [
    "b = np.array([1, 2, 3])\n",
    "print(A.shape)\n",
    "print(b.shape)"
   ]
  },
  {
   "cell_type": "code",
   "execution_count": 102,
   "id": "9e862519",
   "metadata": {
    "slideshow": {
     "slide_type": "fragment"
    }
   },
   "outputs": [
    {
     "data": {
      "text/plain": [
       "array([14, 32])"
      ]
     },
     "execution_count": 102,
     "metadata": {},
     "output_type": "execute_result"
    }
   ],
   "source": [
    "# Mátrix-vektor szorzás\n",
    "\n",
    "np.matmul(A, b)"
   ]
  },
  {
   "cell_type": "code",
   "execution_count": 103,
   "id": "19053c9c",
   "metadata": {
    "slideshow": {
     "slide_type": "fragment"
    }
   },
   "outputs": [
    {
     "data": {
      "text/plain": [
       "array([14, 32])"
      ]
     },
     "execution_count": 103,
     "metadata": {},
     "output_type": "execute_result"
    }
   ],
   "source": [
    "A @ b"
   ]
  },
  {
   "cell_type": "markdown",
   "id": "f71d03e3",
   "metadata": {
    "slideshow": {
     "slide_type": "subslide"
    }
   },
   "source": [
    "Különböző dimenziójú mátrixokkal való műveletek esetén legyünk óvatosak, győződjünk meg arról, hogy az történik, amit szeretnénk."
   ]
  },
  {
   "cell_type": "code",
   "execution_count": 104,
   "id": "89006bfb",
   "metadata": {},
   "outputs": [
    {
     "name": "stdout",
     "output_type": "stream",
     "text": [
      "[[1 2 3]\n",
      " [4 5 6]]\n"
     ]
    },
    {
     "data": {
      "text/plain": [
       "array([[1],\n",
       "       [2],\n",
       "       [3]])"
      ]
     },
     "execution_count": 104,
     "metadata": {},
     "output_type": "execute_result"
    }
   ],
   "source": [
    "# Igazából ez lenne a helyes mátrixszorzás, megfelelő dimenziószámmal\n",
    "print(A)\n",
    "b = np.expand_dims(np.array([1, 2, 3]), 1)\n",
    "b"
   ]
  },
  {
   "cell_type": "code",
   "execution_count": 105,
   "id": "7fa60d1f",
   "metadata": {},
   "outputs": [
    {
     "name": "stdout",
     "output_type": "stream",
     "text": [
      "(2, 1)\n"
     ]
    },
    {
     "data": {
      "text/plain": [
       "array([[14],\n",
       "       [32]])"
      ]
     },
     "execution_count": 105,
     "metadata": {},
     "output_type": "execute_result"
    }
   ],
   "source": [
    "C = np.matmul(A, b)\n",
    "\n",
    "print(C.shape)\n",
    "C"
   ]
  },
  {
   "cell_type": "code",
   "execution_count": 106,
   "id": "ed117a3b",
   "metadata": {
    "slideshow": {
     "slide_type": "subslide"
    }
   },
   "outputs": [
    {
     "data": {
      "text/plain": [
       "array([[1, 2, 3],\n",
       "       [4, 5, 6]])"
      ]
     },
     "execution_count": 106,
     "metadata": {},
     "output_type": "execute_result"
    }
   ],
   "source": [
    "A"
   ]
  },
  {
   "cell_type": "code",
   "execution_count": 107,
   "id": "150d34cc",
   "metadata": {},
   "outputs": [
    {
     "data": {
      "text/plain": [
       "array([1, 2, 3])"
      ]
     },
     "execution_count": 107,
     "metadata": {},
     "output_type": "execute_result"
    }
   ],
   "source": [
    "b = np.array([1, 2, 3])\n",
    "b"
   ]
  },
  {
   "cell_type": "code",
   "execution_count": 108,
   "id": "d0a56d9d",
   "metadata": {},
   "outputs": [
    {
     "data": {
      "text/plain": [
       "array([[1. , 1. , 1. ],\n",
       "       [4. , 2.5, 2. ]])"
      ]
     },
     "execution_count": 108,
     "metadata": {},
     "output_type": "execute_result"
    }
   ],
   "source": [
    "A / b"
   ]
  },
  {
   "cell_type": "code",
   "execution_count": 109,
   "id": "acf2e8ae",
   "metadata": {},
   "outputs": [
    {
     "data": {
      "text/plain": [
       "array([[ 1,  4,  9],\n",
       "       [ 4, 10, 18]])"
      ]
     },
     "execution_count": 109,
     "metadata": {},
     "output_type": "execute_result"
    }
   ],
   "source": [
    "A * b"
   ]
  },
  {
   "cell_type": "markdown",
   "id": "5d52d223",
   "metadata": {},
   "source": [
    "A fenti két művelet elementkénti osztás és szorzás, és azért tud végrehajtódni, mert a $b$-ből két példányt véve le tudjuk fedni az $A$ dimenzióját, azaz a $b$ vektor automatikusan kiegészítődőtt saját maga másolatával úgy, hogy a mérete megegyezzen az $A$ méretével (**broadcasting**). A $b = [1, 2, 3]$, egydimenziós $(3,)$ méretű vektorból implicit módon egy $(1, 3)$-mas, ebből pedig egy kétdimenziós, $(2, 3)$-as tömb lett."
   ]
  },
  {
   "cell_type": "code",
   "execution_count": 110,
   "id": "d57583ed",
   "metadata": {},
   "outputs": [
    {
     "name": "stdout",
     "output_type": "stream",
     "text": [
      "(2, 1)\n",
      "(6,)\n"
     ]
    },
    {
     "data": {
      "text/plain": [
       "array([[ 2,  3,  4,  5,  6,  7],\n",
       "       [12, 13, 14, 15, 16, 17]])"
      ]
     },
     "execution_count": 110,
     "metadata": {},
     "output_type": "execute_result"
    }
   ],
   "source": [
    "v = np.array([[1], [11]])\n",
    "w = np.array([1, 2, 3, 4, 5, 6])\n",
    "print(v.shape)\n",
    "print(w.shape)\n",
    "w + v"
   ]
  },
  {
   "cell_type": "markdown",
   "id": "922d4281",
   "metadata": {
    "slideshow": {
     "slide_type": "subslide"
    }
   },
   "source": [
    "### `broadcasting` néhány példán keresztül"
   ]
  },
  {
   "cell_type": "markdown",
   "id": "63c04e32",
   "metadata": {},
   "source": [
    "<img src=\"data:image/png;base64,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\"/>"
   ]
  },
  {
   "cell_type": "markdown",
   "id": "e3528b13",
   "metadata": {
    "slideshow": {
     "slide_type": "subslide"
    }
   },
   "source": [
    "<img src=\"data:image/png;base64,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\"/>"
   ]
  },
  {
   "attachments": {
    "image.png": {
     "image/png": "[encoded data removed]"
    }
   },
   "cell_type": "markdown",
   "id": "b39f0f30",
   "metadata": {
    "slideshow": {
     "slide_type": "subslide"
    }
   },
   "source": [
    "![image.png](attachment:image.png)"
   ]
  },
  {
   "attachments": {
    "image.png": {
     "image/png": "[encoded data removed]"
    }
   },
   "cell_type": "markdown",
   "id": "fa201d77",
   "metadata": {
    "slideshow": {
     "slide_type": "subslide"
    }
   },
   "source": [
    "![image.png](attachment:image.png)"
   ]
  },
  {
   "attachments": {
    "image.png": {
     "image/png": "[encoded data removed]"
    }
   },
   "cell_type": "markdown",
   "id": "96a89459",
   "metadata": {
    "slideshow": {
     "slide_type": "subslide"
    }
   },
   "source": [
    "![image.png](attachment:image.png)"
   ]
  },
  {
   "cell_type": "markdown",
   "id": "b0a83a63",
   "metadata": {
    "slideshow": {
     "slide_type": "slide"
    }
   },
   "source": [
    "### Indexelés (indexing)"
   ]
  },
  {
   "cell_type": "code",
   "execution_count": 143,
   "id": "ffb910ef",
   "metadata": {},
   "outputs": [],
   "source": [
    "A = np.array([[1, 2, 3, 4, 5], [10, 20, 30, 40, 50], [9, 8, 7, 6, 5], [1, 0, 1, 0, 1]])"
   ]
  },
  {
   "cell_type": "code",
   "execution_count": 129,
   "id": "37b6ca53",
   "metadata": {},
   "outputs": [],
   "source": [
    "# A[1]"
   ]
  },
  {
   "cell_type": "code",
   "execution_count": 130,
   "id": "ff9eb140",
   "metadata": {
    "slideshow": {
     "slide_type": "fragment"
    }
   },
   "outputs": [],
   "source": [
    "# A[1][2]"
   ]
  },
  {
   "cell_type": "code",
   "execution_count": 131,
   "id": "ce173482",
   "metadata": {
    "slideshow": {
     "slide_type": "fragment"
    }
   },
   "outputs": [],
   "source": [
    "# A[1, 2]"
   ]
  },
  {
   "cell_type": "code",
   "execution_count": 122,
   "id": "f2e15d17",
   "metadata": {
    "slideshow": {
     "slide_type": "fragment"
    }
   },
   "outputs": [],
   "source": [
    "# A[:2, 1:4]"
   ]
  },
  {
   "cell_type": "code",
   "execution_count": 121,
   "id": "17701411",
   "metadata": {
    "slideshow": {
     "slide_type": "fragment"
    }
   },
   "outputs": [],
   "source": [
    "# A[:2, :]"
   ]
  },
  {
   "cell_type": "code",
   "execution_count": 136,
   "id": "1f8d456a",
   "metadata": {
    "slideshow": {
     "slide_type": "fragment"
    }
   },
   "outputs": [],
   "source": [
    "# A[0, 0:3] = -1 ; A"
   ]
  },
  {
   "cell_type": "code",
   "execution_count": 132,
   "id": "552db444",
   "metadata": {
    "slideshow": {
     "slide_type": "subslide"
    }
   },
   "outputs": [],
   "source": [
    "# np.array_equal(A, A)"
   ]
  },
  {
   "cell_type": "code",
   "execution_count": 137,
   "id": "86433ced",
   "metadata": {},
   "outputs": [],
   "source": [
    "# A[A <= 0] = -100 ; A"
   ]
  },
  {
   "cell_type": "code",
   "execution_count": 139,
   "id": "f0262696",
   "metadata": {},
   "outputs": [],
   "source": [
    "# np.where(A == 100, 0, 1)"
   ]
  },
  {
   "cell_type": "code",
   "execution_count": 141,
   "id": "4d2e2ef6",
   "metadata": {},
   "outputs": [],
   "source": [
    "# np.where(A == 100, -A, 2*A)"
   ]
  },
  {
   "cell_type": "code",
   "execution_count": 144,
   "id": "e247b051",
   "metadata": {},
   "outputs": [
    {
     "data": {
      "text/plain": [
       "array([[10, 20, 30, 40, 50],\n",
       "       [ 1,  0,  1,  0,  1]])"
      ]
     },
     "execution_count": 144,
     "metadata": {},
     "output_type": "execute_result"
    }
   ],
   "source": [
    "A[[1, 3]]"
   ]
  },
  {
   "cell_type": "code",
   "execution_count": 145,
   "id": "3797c2ba",
   "metadata": {},
   "outputs": [
    {
     "data": {
      "text/plain": [
       "array([[ 2,  4],\n",
       "       [20, 40],\n",
       "       [ 8,  6],\n",
       "       [ 0,  0]])"
      ]
     },
     "execution_count": 145,
     "metadata": {},
     "output_type": "execute_result"
    }
   ],
   "source": [
    "A[:, [1, 3]] "
   ]
  },
  {
   "cell_type": "code",
   "execution_count": null,
   "id": "4da2a81f",
   "metadata": {},
   "outputs": [],
   "source": [
    "A[:, [4, 2, 0]]"
   ]
  },
  {
   "cell_type": "markdown",
   "id": "06e4146a",
   "metadata": {
    "slideshow": {
     "slide_type": "subslide"
    }
   },
   "source": [
    "### Vektorizált elemenkénti függvények (Vectorized element-wise functions)"
   ]
  },
  {
   "cell_type": "code",
   "execution_count": 146,
   "id": "62fc7600",
   "metadata": {},
   "outputs": [
    {
     "data": {
      "text/plain": [
       "array([0, 1, 2, 3, 4])"
      ]
     },
     "execution_count": 146,
     "metadata": {},
     "output_type": "execute_result"
    }
   ],
   "source": [
    "v = np.arange(5)\n",
    "\n",
    "v"
   ]
  },
  {
   "cell_type": "code",
   "execution_count": 147,
   "id": "8627301c",
   "metadata": {},
   "outputs": [
    {
     "data": {
      "text/plain": [
       "array([ 0,  1,  4,  9, 16])"
      ]
     },
     "execution_count": 147,
     "metadata": {},
     "output_type": "execute_result"
    }
   ],
   "source": [
    "np.square(v)"
   ]
  },
  {
   "cell_type": "code",
   "execution_count": 148,
   "id": "dbbcbb6c",
   "metadata": {},
   "outputs": [
    {
     "data": {
      "text/plain": [
       "array([[ 0.84147098,  0.90929743,  0.14112001, -0.7568025 , -0.95892427],\n",
       "       [-0.54402111,  0.91294525, -0.98803162,  0.74511316, -0.26237485],\n",
       "       [ 0.41211849,  0.98935825,  0.6569866 , -0.2794155 , -0.95892427],\n",
       "       [ 0.84147098,  0.        ,  0.84147098,  0.        ,  0.84147098]])"
      ]
     },
     "execution_count": 148,
     "metadata": {},
     "output_type": "execute_result"
    }
   ],
   "source": [
    "np.sin(A)"
   ]
  },
  {
   "cell_type": "code",
   "execution_count": 149,
   "id": "efedf88e",
   "metadata": {
    "slideshow": {
     "slide_type": "subslide"
    }
   },
   "outputs": [
    {
     "data": {
      "text/plain": [
       "array([[2.71828183e+00, 7.38905610e+00, 2.00855369e+01, 5.45981500e+01,\n",
       "        1.48413159e+02],\n",
       "       [2.20264658e+04, 4.85165195e+08, 1.06864746e+13, 2.35385267e+17,\n",
       "        5.18470553e+21],\n",
       "       [8.10308393e+03, 2.98095799e+03, 1.09663316e+03, 4.03428793e+02,\n",
       "        1.48413159e+02],\n",
       "       [2.71828183e+00, 1.00000000e+00, 2.71828183e+00, 1.00000000e+00,\n",
       "        2.71828183e+00]])"
      ]
     },
     "execution_count": 149,
     "metadata": {},
     "output_type": "execute_result"
    }
   ],
   "source": [
    "np.exp(A)"
   ]
  },
  {
   "cell_type": "code",
   "execution_count": 150,
   "id": "8398d4ab",
   "metadata": {
    "slideshow": {
     "slide_type": "subslide"
    }
   },
   "outputs": [
    {
     "name": "stderr",
     "output_type": "stream",
     "text": [
      "/tmp/ipykernel_2182135/2475394391.py:1: RuntimeWarning: divide by zero encountered in log\n",
      "  np.log(A)\n"
     ]
    },
    {
     "data": {
      "text/plain": [
       "array([[0.        , 0.69314718, 1.09861229, 1.38629436, 1.60943791],\n",
       "       [2.30258509, 2.99573227, 3.40119738, 3.68887945, 3.91202301],\n",
       "       [2.19722458, 2.07944154, 1.94591015, 1.79175947, 1.60943791],\n",
       "       [0.        ,       -inf, 0.        ,       -inf, 0.        ]])"
      ]
     },
     "execution_count": 150,
     "metadata": {},
     "output_type": "execute_result"
    }
   ],
   "source": [
    "np.log(A)"
   ]
  },
  {
   "cell_type": "markdown",
   "id": "b41cdf59",
   "metadata": {
    "slideshow": {
     "slide_type": "subslide"
    }
   },
   "source": [
    "## Néhány tömb művelet"
   ]
  },
  {
   "cell_type": "code",
   "execution_count": 163,
   "id": "25f0f3e0",
   "metadata": {},
   "outputs": [],
   "source": [
    "# np.sum(v), v.sum(), v"
   ]
  },
  {
   "cell_type": "code",
   "execution_count": 154,
   "id": "8125ee5e",
   "metadata": {},
   "outputs": [],
   "source": [
    "import numpy as np\n",
    "np.random.seed(123)\n",
    "lst = np.random.randint(-1000, 1000, 1_000_000).tolist()"
   ]
  },
  {
   "cell_type": "code",
   "execution_count": 156,
   "id": "70684f58",
   "metadata": {},
   "outputs": [
    {
     "name": "stdout",
     "output_type": "stream",
     "text": [
      "10 ms ± 50.4 µs per loop (mean ± std. dev. of 7 runs, 100 loops each)\n"
     ]
    }
   ],
   "source": [
    "# %timeit -n 100 s = sum(lst) # így is mérhetünk futási időt"
   ]
  },
  {
   "cell_type": "code",
   "execution_count": 157,
   "id": "86e1aee8",
   "metadata": {},
   "outputs": [
    {
     "name": "stdout",
     "output_type": "stream",
     "text": [
      "320 µs ± 12.2 µs per loop (mean ± std. dev. of 7 runs, 100 loops each)\n"
     ]
    }
   ],
   "source": [
    "v = np.array(lst, dtype=np.int32)\n",
    "%timeit -n 100 s = np.sum(v) "
   ]
  },
  {
   "cell_type": "code",
   "execution_count": 159,
   "id": "b763f23a",
   "metadata": {},
   "outputs": [],
   "source": [
    "v = np.arange(30)\n",
    "A = np.reshape(v, (5, 6))    # vagy v.reshape(5, 6)\n",
    "# A"
   ]
  },
  {
   "cell_type": "code",
   "execution_count": 162,
   "id": "788f9e53",
   "metadata": {},
   "outputs": [
    {
     "data": {
      "text/plain": [
       "array([ 15,  51,  87, 123, 159])"
      ]
     },
     "execution_count": 162,
     "metadata": {},
     "output_type": "execute_result"
    }
   ],
   "source": [
    "A.sum(axis=1)"
   ]
  },
  {
   "cell_type": "code",
   "execution_count": null,
   "id": "a981260a",
   "metadata": {
    "slideshow": {
     "slide_type": "subslide"
    }
   },
   "outputs": [],
   "source": [
    "A = np.arange(15).reshape(3, 5)\n",
    "\n",
    "B = np.zeros(shape=(3, 5), dtype=np.int_)"
   ]
  },
  {
   "cell_type": "code",
   "execution_count": null,
   "id": "b8984b68",
   "metadata": {},
   "outputs": [],
   "source": [
    "# np.vstack((A, B))\n",
    "\n",
    "np.concatenate((A, B), axis=0)"
   ]
  },
  {
   "cell_type": "code",
   "execution_count": null,
   "id": "ba712fec",
   "metadata": {},
   "outputs": [],
   "source": [
    "# np.hstack((A, B))\n",
    "\n",
    "np.concatenate((A, B), axis=1)"
   ]
  },
  {
   "cell_type": "markdown",
   "id": "f5943a94",
   "metadata": {
    "slideshow": {
     "slide_type": "subslide"
    }
   },
   "source": [
    "### Egyszerűbb statisztikai függvények"
   ]
  },
  {
   "cell_type": "code",
   "execution_count": null,
   "id": "6f6f239c",
   "metadata": {},
   "outputs": [],
   "source": [
    "v = np.array([1, 4, 3, 5, 35, 0, -1, 2])\n",
    "\n",
    "v"
   ]
  },
  {
   "cell_type": "markdown",
   "id": "f1f20e5f",
   "metadata": {},
   "source": [
    "$$\n",
    "\\overline v \\equiv \\text{mean}(v) = \\frac{\\sum_{i=1}^n v_i}{n}\n",
    "$$\n",
    "\n",
    "\n",
    "$$\n",
    "\\text{std}(v) = \\sqrt{\\frac{\\sum_{i=1}^n (v_i - \\overline{v})^2}{n}}\n",
    "$$"
   ]
  },
  {
   "cell_type": "code",
   "execution_count": null,
   "id": "1105a9c4",
   "metadata": {},
   "outputs": [],
   "source": [
    "print(v)\n",
    "\n",
    "print(f\"összeg: {np.sum(v)}\")\n",
    "\n",
    "print(f\"átlag: {np.mean(v):.2f}\")\n",
    "\n",
    "print(f\"medián: {np.median(v)}\")\n",
    "\n",
    "print(f\"szórás: {np.std(v):.2f}\")\n",
    "\n",
    "print(f\"szórásnégyzet (variancia): {np.var(v):.2f}\")"
   ]
  },
  {
   "cell_type": "code",
   "execution_count": null,
   "id": "8a46253e",
   "metadata": {
    "slideshow": {
     "slide_type": "subslide"
    }
   },
   "outputs": [],
   "source": [
    "A = np.array([\n",
    "    [1, 2, 3],\n",
    "    [10, 11, 12],\n",
    "    [0, 3, 1],\n",
    "    [10, -5, 1]\n",
    "])\n",
    "\n",
    "A"
   ]
  },
  {
   "cell_type": "code",
   "execution_count": null,
   "id": "4953fa8f",
   "metadata": {},
   "outputs": [],
   "source": [
    "# A.sum()\n",
    "\n",
    "np.sum(A)"
   ]
  },
  {
   "cell_type": "code",
   "execution_count": null,
   "id": "14b3cafc",
   "metadata": {
    "slideshow": {
     "slide_type": "fragment"
    }
   },
   "outputs": [],
   "source": [
    "# Elemek abszolútértékeinek összege\n",
    "\n",
    "np.sum(np.abs(A))"
   ]
  },
  {
   "cell_type": "code",
   "execution_count": null,
   "id": "ce64dbc4",
   "metadata": {
    "slideshow": {
     "slide_type": "fragment"
    }
   },
   "outputs": [],
   "source": [
    "# elemek átlaga\n",
    "\n",
    "np.mean(A)"
   ]
  },
  {
   "cell_type": "code",
   "execution_count": null,
   "id": "428ecc22",
   "metadata": {
    "slideshow": {
     "slide_type": "fragment"
    }
   },
   "outputs": [],
   "source": [
    "# elemek szórása\n",
    "\n",
    "np.std(A)"
   ]
  },
  {
   "cell_type": "code",
   "execution_count": null,
   "id": "7f60086c",
   "metadata": {
    "slideshow": {
     "slide_type": "fragment"
    }
   },
   "outputs": [],
   "source": [
    "# elemek szórásnégyzete\n",
    "\n",
    "np.var(A)"
   ]
  },
  {
   "cell_type": "markdown",
   "id": "3a24b28c",
   "metadata": {
    "slideshow": {
     "slide_type": "subslide"
    }
   },
   "source": [
    "Többdimenziós tömböknél azonban érdekelhet minket a sorösszeg / oszlopösszeg, a sorátlag / oszlopátlag, stb. is."
   ]
  },
  {
   "cell_type": "code",
   "execution_count": null,
   "id": "df6230bd",
   "metadata": {},
   "outputs": [],
   "source": [
    "print(A.shape)\n",
    "\n",
    "# ez tehát az oszlopösszeg\n",
    "np.sum(A, axis=0)"
   ]
  },
  {
   "cell_type": "code",
   "execution_count": null,
   "id": "326e1344",
   "metadata": {
    "slideshow": {
     "slide_type": "fragment"
    }
   },
   "outputs": [],
   "source": [
    "print(np.sum(A[1, :]))\n",
    "\n",
    "# ez a sorösszeg\n",
    "np.sum(A, axis=1)"
   ]
  },
  {
   "cell_type": "code",
   "execution_count": null,
   "id": "5a41a265",
   "metadata": {
    "slideshow": {
     "slide_type": "fragment"
    }
   },
   "outputs": [],
   "source": [
    "# A keletkező vektor egyik dimenziója azonban eltűnt, a sorösszeg egy 1-dimenziós vektor lett\n",
    "\n",
    "row_sums = np.sum(A, axis=1, keepdims=True)\n",
    "\n",
    "print(row_sums.shape)\n",
    "\n",
    "row_sums"
   ]
  },
  {
   "cell_type": "code",
   "execution_count": null,
   "id": "ebd32d2b",
   "metadata": {
    "slideshow": {
     "slide_type": "fragment"
    }
   },
   "outputs": [],
   "source": [
    "# Hasonlóan, oszlopátlagot is számolhatunk\n",
    "\n",
    "np.mean(A, axis=0)"
   ]
  },
  {
   "cell_type": "code",
   "execution_count": null,
   "id": "19338698",
   "metadata": {
    "slideshow": {
     "slide_type": "subslide"
    }
   },
   "outputs": [],
   "source": [
    "A"
   ]
  },
  {
   "cell_type": "code",
   "execution_count": null,
   "id": "5a6efadb",
   "metadata": {},
   "outputs": [],
   "source": [
    "# melyik tengely mentén rendez a `sort`, ha nem adunk meg semmit?\n",
    "\n",
    "np.sort(A)"
   ]
  },
  {
   "cell_type": "code",
   "execution_count": null,
   "id": "ad24acc9",
   "metadata": {
    "slideshow": {
     "slide_type": "fragment"
    }
   },
   "outputs": [],
   "source": [
    "np.sort(A, axis=0)"
   ]
  },
  {
   "cell_type": "code",
   "execution_count": null,
   "id": "6350ce91",
   "metadata": {
    "slideshow": {
     "slide_type": "fragment"
    }
   },
   "outputs": [],
   "source": [
    "help(np.sort)"
   ]
  }
 ],
 "metadata": {
  "celltoolbar": "Slideshow",
  "kernelspec": {
   "display_name": "Python 3 (ipykernel)",
   "language": "python",
   "name": "python3"
  },
  "language_info": {
   "codemirror_mode": {
    "name": "ipython",
    "version": 3
   },
   "file_extension": ".py",
   "mimetype": "text/x-python",
   "name": "python",
   "nbconvert_exporter": "python",
   "pygments_lexer": "ipython3",
   "version": "3.10.12"
  }
 },
 "nbformat": 4,
 "nbformat_minor": 5
}
