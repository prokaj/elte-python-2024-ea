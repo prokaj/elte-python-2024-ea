{
 "cells": [
  {
   "cell_type": "markdown",
   "id": "18f7acc0",
   "metadata": {
    "editable": true,
    "slideshow": {
     "slide_type": "slide"
    },
    "tags": []
   },
   "source": [
    "# A Python nyelv alapelemei"
   ]
  },
  {
   "cell_type": "markdown",
   "id": "b2757950",
   "metadata": {
    "editable": true,
    "slideshow": {
     "slide_type": ""
    },
    "tags": []
   },
   "source": [
    "## Összefoglalás előző óráról\n",
    "\n",
    "- Értékadás változónak példa:\n",
    "  ```python\n",
    "  a = 1\n",
    "  ```\n",
    "- Műveletek egyszerű típusokkal:\n",
    "    \n",
    "  * Számokkal a szokásos műveletek a szokásos jelölésekkel. Kivétel a hatványozás $2^3$: `2**3`\n",
    "    \n",
    "  * string: `a+b` a két string összefűzése, `a*n` `a` megismétlése `n`-szer\n",
    "   \n",
    "  * logikai változók: `or`, `and`\n",
    "    \n",
    "  * összehasonlítás: `==`, `!=`, `is`, `is not`, `<`, `<=`, `>`, `>=`.\n",
    "\n",
    "- Kiírás, beolvasás: `print` és `input`\n"
   ]
  },
  {
   "cell_type": "markdown",
   "id": "e3f83edb",
   "metadata": {
    "editable": true,
    "slideshow": {
     "slide_type": "subslide"
    },
    "tags": []
   },
   "source": [
    "## Összefoglalás előző óráról\n",
    "\n",
    "- Szövegformázás: `f-string`: `f\"{n=}, {fibonacci(n)=}\"`\n",
    "\n",
    "- függvény definíció példa:\n",
    "  ```python\n",
    "  def cube(x):\n",
    "      y = x**3 # y kiszámolása\n",
    "      return y\n",
    "  ```\n",
    "- `for` ciklus példa:\n",
    "   ```python\n",
    "   for i in range(10):\n",
    "       print(i)\n",
    "   ```\n",
    "- `while` ciklus példa:\n",
    "  ```python\n",
    "  i = 0\n",
    "  while i < 10:\n",
    "      print(i)\n",
    "  ```\n",
    "<!-- - Elágazás példa:\n",
    "   ```python\n",
    "   if condition:\n",
    "       print(f\"A feltétel igaz\")\n",
    "   else:\n",
    "       print(f\"A feltétel hamis\")\n",
    "   ``` -->"
   ]
  },
  {
   "cell_type": "markdown",
   "id": "5aa7c461",
   "metadata": {
    "editable": true,
    "slideshow": {
     "slide_type": "slide"
    },
    "tags": []
   },
   "source": [
    "# Fibonacci példa vége előző előadásról"
   ]
  },
  {
   "cell_type": "code",
   "execution_count": null,
   "id": "54d94872",
   "metadata": {},
   "outputs": [],
   "source": [
    "def fibonacci(n):\n",
    "    sqrt5 = 5**0.5\n",
    "    x_1 = (1+sqrt5)/2 \n",
    "    x_2 = (1-sqrt5)/2\n",
    "    f = (x_1**n - x_2**n)/sqrt5\n",
    "    return int(f)"
   ]
  },
  {
   "cell_type": "code",
   "execution_count": null,
   "id": "4e86351f",
   "metadata": {},
   "outputs": [],
   "source": [
    "for n in range(5):\n",
    "    print(n, fibonacci(n))"
   ]
  },
  {
   "cell_type": "markdown",
   "id": "0349413b",
   "metadata": {
    "editable": true,
    "slideshow": {
     "slide_type": ""
    },
    "tags": []
   },
   "source": [
    "Remek! \n",
    "\n",
    "Kell-e `x_2**n`?\n",
    "\n",
    "$$\n",
    "    f_n = \\frac{1}{\\sqrt{5}} x_1^n -\\frac{1}{\\sqrt{5}} x_2^n \\in \\mathbb{Z}\n",
    "$$\n",
    "de itt a második tag abszolút értékben legfeljebb $1/\\sqrt{5}<1/2$. Azaz simán vehetnénk az első tag kerekített értékét."
   ]
  },
  {
   "cell_type": "markdown",
   "id": "f6db08cc",
   "metadata": {
    "editable": true,
    "slideshow": {
     "slide_type": "subslide"
    },
    "tags": []
   },
   "source": [
    "### Lehet-e szebben `print`-elni? `f-string`\n"
   ]
  },
  {
   "cell_type": "markdown",
   "id": "94ee22c4",
   "metadata": {},
   "source": [
    "\n",
    "Egy kényelmes módja a szöveg formázásának az ún. `f-string`. Például:  "
   ]
  },
  {
   "cell_type": "code",
   "execution_count": null,
   "id": "89c8bc35",
   "metadata": {},
   "outputs": [],
   "source": [
    "n = 10\n",
    "print(f\"A {n}. Fibonacci szám: {fibonacci(n)}\")\n",
    "print(f\"Ha {n=}, akkor {fibonacci(n)=}\")\n"
   ]
  },
  {
   "cell_type": "markdown",
   "id": "aa0ea898",
   "metadata": {},
   "source": [
    "Mi történik itt?\n",
    "\n",
    "Mivel a sztring előtt állt az `f` betű, a sztringen belül a kapcsos zárójel speciális szerepet kapott. \n",
    "\n",
    "A kapcsos zárójelek közti részeket a Python értelmező helyettesítette az ott szereplő kifejezések aktuális értékével (string interpolation). \n",
    "\n",
    "Az `=` jel itt nem értékadást jelöl, hanem azt, hogy azt a kifejezést is ki akarjuk írni amiből az érték adódott.\n",
    "\n",
    "`f-string`-gel nagyon sok mindent meg lehet oldani. Gyakorlaton lesznek további példák."
   ]
  },
  {
   "cell_type": "markdown",
   "id": "78367004",
   "metadata": {
    "editable": true,
    "slideshow": {
     "slide_type": "subslide"
    },
    "tags": []
   },
   "source": [
    "### Jó eredményt ad-e a függvényünk?"
   ]
  },
  {
   "cell_type": "code",
   "execution_count": null,
   "id": "632d7dd6",
   "metadata": {},
   "outputs": [],
   "source": [
    "for n in range(10):\n",
    "    a = fibonacci(n)\n",
    "    b = fibonacci(n+1)\n",
    "    c = fibonacci(n+2)\n",
    "    print(f\"{n=:2}, f_{n}={a:2}, f_{n+1}={b:2}, f_{n+2}={c:2}, rekurzió teljesül {a+b==c}\")\n",
    "    "
   ]
  },
  {
   "cell_type": "markdown",
   "id": "7b6fce61",
   "metadata": {
    "editable": true,
    "slideshow": {
     "slide_type": "slide"
    },
    "tags": []
   },
   "source": [
    "## Fibonacci kalkulátor\n"
   ]
  },
  {
   "cell_type": "code",
   "execution_count": null,
   "id": "9884cb25",
   "metadata": {},
   "outputs": [],
   "source": [
    "\n",
    "n = 3.1\n",
    "print(f\"A(z) {n}. Fibonacci szám {fibonacci(n)}\")"
   ]
  },
  {
   "cell_type": "markdown",
   "id": "1cf0c37a",
   "metadata": {},
   "source": [
    "Mi a hiba? Hogyan orvosolható? Tudjuk-e ellenőrizni, hogy egy adott változó értéke megfelelő típusú-e?"
   ]
  },
  {
   "cell_type": "markdown",
   "id": "954fdd0e",
   "metadata": {
    "editable": true,
    "slideshow": {
     "slide_type": "slide"
    },
    "tags": []
   },
   "source": [
    "## Feltételes elágazás"
   ]
  },
  {
   "cell_type": "markdown",
   "id": "1b92b4ea",
   "metadata": {},
   "source": [
    "A `fibonacci` függvény csak számmal működik, de igazából csak nem negatív egész számra értelmes. Tudjuk-e ezt a feltételt ellenőrizni.\n",
    "\n",
    "Erre szolgál az `if ... else ...`, `if ... elif ... else ...` kifejezés. "
   ]
  },
  {
   "cell_type": "code",
   "execution_count": null,
   "id": "747423e8",
   "metadata": {},
   "outputs": [],
   "source": [
    "num = 3.1\n",
    "\n",
    "if type(num) is int:\n",
    "    print(f\"{num=} egy egész\")\n",
    "elif type(num ) is float:\n",
    "    print(f\"{num=} egy valós (lebegőpontos)\")\n",
    "else:\n",
    "    print(f\"{num=} típusa {type(num)}\")"
   ]
  },
  {
   "cell_type": "markdown",
   "id": "c212e172",
   "metadata": {
    "editable": true,
    "slideshow": {
     "slide_type": "slide"
    },
    "tags": []
   },
   "source": [
    "## Kicsit hibatűrőbb `fibonacci`"
   ]
  },
  {
   "cell_type": "code",
   "execution_count": 6,
   "id": "0d2ca499",
   "metadata": {},
   "outputs": [],
   "source": [
    "def fibonacci(n):\n",
    "    if type(n) is not int or n < 0:\n",
    "        print(f\"nem negatív egész számot várok. Ezzel szemben {type(n)=} és {n=}.\")\n",
    "    else:\n",
    "        sqrt5 = 5**0.5\n",
    "        x_1 = (1+sqrt5)/2 \n",
    "        f = round(x_1**n/sqrt5)\n",
    "        return int(f)\n"
   ]
  },
  {
   "cell_type": "markdown",
   "id": "f7417268",
   "metadata": {
    "editable": true,
    "slideshow": {
     "slide_type": ""
    },
    "tags": []
   },
   "source": [
    "Két logikai kifejezést  `type(n) is not int` és `n < 0` az `or` művelettel kapcsoltunk össze. \n",
    "\n",
    "- `or` logikai vagy\n",
    "- `and` logikai és.\n",
    "- `is` tagadása `is not`, `==` tagadása `!=`"
   ]
  },
  {
   "cell_type": "markdown",
   "id": "6ddad8ed-27e5-46e5-9e3b-cba454af359d",
   "metadata": {
    "editable": true,
    "slideshow": {
     "slide_type": "subslide"
    },
    "tags": []
   },
   "source": [
    "## Kis teszt"
   ]
  },
  {
   "cell_type": "code",
   "execution_count": 7,
   "id": "b562ba4e-7184-422d-9d09-b2842693dd7b",
   "metadata": {},
   "outputs": [
    {
     "data": {
      "text/plain": [
       "\u001b[0;31mSignature:\u001b[0m \u001b[0mfibonacci\u001b[0m\u001b[0;34m(\u001b[0m\u001b[0mn\u001b[0m\u001b[0;34m)\u001b[0m\u001b[0;34m\u001b[0m\u001b[0;34m\u001b[0m\u001b[0m\n",
       "\u001b[0;31mDocstring:\u001b[0m <no docstring>\n",
       "\u001b[0;31mSource:\u001b[0m   \n",
       "\u001b[0;32mdef\u001b[0m \u001b[0mfibonacci\u001b[0m\u001b[0;34m(\u001b[0m\u001b[0mn\u001b[0m\u001b[0;34m)\u001b[0m\u001b[0;34m:\u001b[0m\u001b[0;34m\u001b[0m\n",
       "\u001b[0;34m\u001b[0m    \u001b[0;32mif\u001b[0m \u001b[0mtype\u001b[0m\u001b[0;34m(\u001b[0m\u001b[0mn\u001b[0m\u001b[0;34m)\u001b[0m \u001b[0;32mis\u001b[0m \u001b[0;32mnot\u001b[0m \u001b[0mint\u001b[0m \u001b[0;32mor\u001b[0m \u001b[0mn\u001b[0m \u001b[0;34m<\u001b[0m \u001b[0;36m0\u001b[0m\u001b[0;34m:\u001b[0m\u001b[0;34m\u001b[0m\n",
       "\u001b[0;34m\u001b[0m        \u001b[0mprint\u001b[0m\u001b[0;34m(\u001b[0m\u001b[0;34mf\"nem negatív egész számot várok. Ezzel szemben {type(n)=} és {n=}.\"\u001b[0m\u001b[0;34m)\u001b[0m\u001b[0;34m\u001b[0m\n",
       "\u001b[0;34m\u001b[0m    \u001b[0;32melse\u001b[0m\u001b[0;34m:\u001b[0m\u001b[0;34m\u001b[0m\n",
       "\u001b[0;34m\u001b[0m        \u001b[0msqrt5\u001b[0m \u001b[0;34m=\u001b[0m \u001b[0;36m5\u001b[0m\u001b[0;34m**\u001b[0m\u001b[0;36m0.5\u001b[0m\u001b[0;34m\u001b[0m\n",
       "\u001b[0;34m\u001b[0m        \u001b[0mx_1\u001b[0m \u001b[0;34m=\u001b[0m \u001b[0;34m(\u001b[0m\u001b[0;36m1\u001b[0m\u001b[0;34m+\u001b[0m\u001b[0msqrt5\u001b[0m\u001b[0;34m)\u001b[0m\u001b[0;34m/\u001b[0m\u001b[0;36m2\u001b[0m \u001b[0;34m\u001b[0m\n",
       "\u001b[0;34m\u001b[0m        \u001b[0mf\u001b[0m \u001b[0;34m=\u001b[0m \u001b[0mround\u001b[0m\u001b[0;34m(\u001b[0m\u001b[0mx_1\u001b[0m\u001b[0;34m**\u001b[0m\u001b[0mn\u001b[0m\u001b[0;34m/\u001b[0m\u001b[0msqrt5\u001b[0m\u001b[0;34m)\u001b[0m\u001b[0;34m\u001b[0m\n",
       "\u001b[0;34m\u001b[0m        \u001b[0;32mreturn\u001b[0m \u001b[0mint\u001b[0m\u001b[0;34m(\u001b[0m\u001b[0mf\u001b[0m\u001b[0;34m)\u001b[0m\u001b[0;34m\u001b[0m\u001b[0;34m\u001b[0m\u001b[0m\n",
       "\u001b[0;31mFile:\u001b[0m      /tmp/ipykernel_85198/964350478.py\n",
       "\u001b[0;31mType:\u001b[0m      function\n"
      ]
     },
     "metadata": {},
     "output_type": "display_data"
    }
   ],
   "source": [
    "fibonacci??"
   ]
  },
  {
   "cell_type": "code",
   "execution_count": null,
   "id": "3be0e4e8",
   "metadata": {
    "editable": true,
    "slideshow": {
     "slide_type": ""
    },
    "tags": []
   },
   "outputs": [],
   "source": [
    "fibonacci('12')\n",
    "fibonacci(1.0)\n",
    "fibonacci(-1)\n"
   ]
  },
  {
   "cell_type": "markdown",
   "id": "1c45bf94",
   "metadata": {},
   "source": [
    "Hf. Gondolkodjunk rajta miért nem kaptunk hibajelzést az első esetben! A `'12' < 0` kifejezés végrehajtása hibára vezetne!"
   ]
  },
  {
   "cell_type": "markdown",
   "id": "943fc80b",
   "metadata": {
    "editable": true,
    "slideshow": {
     "slide_type": "slide"
    },
    "tags": []
   },
   "source": [
    "## Logikai értékek (Boolean values)"
   ]
  },
  {
   "cell_type": "markdown",
   "id": "bd27831b",
   "metadata": {},
   "source": [
    "Majdnem mindennek van logikai értéke. Ezt a `bool` függvénnyel kapjuk meg. Valójában típus konverzió történik, csak úgy mint az `int`, `float`, `str` alkalmazásakor."
   ]
  },
  {
   "cell_type": "code",
   "execution_count": null,
   "id": "561970b4",
   "metadata": {
    "editable": true,
    "slideshow": {
     "slide_type": ""
    },
    "tags": []
   },
   "outputs": [],
   "source": [
    "print(f\"{bool(0)=}, {bool(-1)=}, {bool(0.0)=}, {bool(2.0)=}\")\n",
    "print(f\"{bool([])=}, {bool([0])=},  {bool('')=}, {bool('a')=}\")\n",
    "print(f\"{bool(range(0))=}, {bool(range(10))=}, {bool(None)=}\")"
   ]
  },
  {
   "cell_type": "markdown",
   "id": "b9f2112b",
   "metadata": {
    "editable": true,
    "slideshow": {
     "slide_type": "subslide"
    },
    "tags": []
   },
   "source": [
    "## Hogyan értékelődnek ki a logikai kifejezések?"
   ]
  },
  {
   "cell_type": "markdown",
   "id": "e00d8f6a",
   "metadata": {
    "editable": true,
    "slideshow": {
     "slide_type": ""
    },
    "tags": []
   },
   "source": [
    "Balról jobbra mindaddig amíg el nem dől a kifejezés értéke. Pl.\n",
    "\n",
    "```python\n",
    "a and b\n",
    "```\n",
    "esetén először `a` logikai értéke  `bool(a)` kerül kiszámításra. Ha ez hamis tudjuk, hogy `a and b` is hamis és a kifejezés értéke `a` értéke lesz. Ha `a` igaz, akkor a kifejezés értéke `b` értéke lesz.\n",
    "\n",
    "Hasonlóan `or`-nál:\n",
    "```python\n",
    "a or b\n",
    "```\n",
    "esetén, ha `bool(a)` igaz, akkor az értéke `a` értéke, ha hamis akkor `b`-é.\n"
   ]
  },
  {
   "cell_type": "markdown",
   "id": "a2de9098",
   "metadata": {
    "editable": true,
    "slideshow": {
     "slide_type": "subslide"
    },
    "tags": []
   },
   "source": [
    "## Példa."
   ]
  },
  {
   "cell_type": "code",
   "execution_count": null,
   "id": "700ed2d1",
   "metadata": {
    "slideshow": {
     "slide_type": "fragment"
    }
   },
   "outputs": [],
   "source": [
    "def true0():\n",
    "    print(\"calling true0\")\n",
    "    return \"true0\"\n",
    "\n",
    "def true1():\n",
    "    print(\"calling true1\")\n",
    "    return -2\n",
    "\n",
    "def false0():\n",
    "    print(\"calling false0\")\n",
    "    return None"
   ]
  },
  {
   "cell_type": "code",
   "execution_count": null,
   "id": "8cef98c9",
   "metadata": {},
   "outputs": [],
   "source": [
    "print(f\"{true0() and true1()=}\", end=\"\\n---\\n\")\n",
    "print(f\"{true0() and false0() and true1()=}\", end=\"\\n---\\n\")\n",
    "print(f\"{true0() or true1()=}\", end=\"\\n---\\n\")\n",
    "print(f\"{false0() or true0() or true1()=}\", end=\"\\n---\\n\")"
   ]
  },
  {
   "cell_type": "markdown",
   "id": "47bd71c8",
   "metadata": {
    "editable": true,
    "slideshow": {
     "slide_type": "subslide"
    },
    "tags": []
   },
   "source": [
    "# Kérdés a felmérőből:\n",
    "\n",
    "`True + True`"
   ]
  },
  {
   "cell_type": "code",
   "execution_count": null,
   "id": "ad26bcd6",
   "metadata": {},
   "outputs": [],
   "source": [
    "True + True"
   ]
  },
  {
   "cell_type": "code",
   "execution_count": null,
   "id": "6dfc32ae",
   "metadata": {},
   "outputs": [],
   "source": [
    "print(f\"{type(True)=}, {isinstance(True, int)=}\")"
   ]
  },
  {
   "cell_type": "code",
   "execution_count": null,
   "id": "e034d7c4",
   "metadata": {},
   "outputs": [],
   "source": [
    "True + 1, True*15"
   ]
  },
  {
   "cell_type": "code",
   "execution_count": null,
   "id": "53254739",
   "metadata": {},
   "outputs": [],
   "source": [
    "a = 10 \n",
    "b = 0\n",
    "\n",
    "a + (b==0)"
   ]
  },
  {
   "cell_type": "markdown",
   "id": "bb2116a6",
   "metadata": {
    "editable": true,
    "slideshow": {
     "slide_type": "slide"
    },
    "tags": []
   },
   "source": [
    "## Feltételes elágazások: if - elif - else (Conditional branching)"
   ]
  },
  {
   "cell_type": "markdown",
   "id": "30985ec9",
   "metadata": {},
   "source": [
    "Ha a feltétel igaz, csináljunk valamit. (Feltételes utasítás)\n",
    "\n",
    "\n",
    "```python\n",
    "if condition:\n",
    "    do_something()\n",
    "```"
   ]
  },
  {
   "cell_type": "code",
   "execution_count": null,
   "id": "0f4b7826",
   "metadata": {},
   "outputs": [],
   "source": [
    "a = 2022\n",
    "\n",
    "if a % 2 == 0:\n",
    "    a = a // 2\n",
    "    \n",
    "print(a)    "
   ]
  },
  {
   "cell_type": "markdown",
   "id": "a0009deb",
   "metadata": {
    "slideshow": {
     "slide_type": "subslide"
    }
   },
   "source": [
    "Az `elif` ágak és az `else` ág opcionális. Amelyik feltétel először teljesül, az az ág hajtódik végre, a többi nem. Ha egyik sem teljesül és van `else` ág, akkor az `else` ág hajtódik végre.\n",
    "\n",
    "```python\n",
    "if condition_1:\n",
    "    do_something_1() \n",
    "elif condition_2:\n",
    "    do_something_2()   \n",
    "# ...\n",
    "elif condition_n:\n",
    "    do_something_n()\n",
    "else:\n",
    "    do_something_else()\n",
    "```"
   ]
  },
  {
   "cell_type": "code",
   "execution_count": null,
   "id": "0de26a26",
   "metadata": {
    "editable": true,
    "slideshow": {
     "slide_type": "subslide"
    },
    "tags": []
   },
   "outputs": [],
   "source": [
    "a = 10\n",
    "\n",
    "if a % 3 == 0:\n",
    "    print(\"A\")\n",
    "    \n",
    "elif a % 2 == 0:\n",
    "    print(\"B\")\n",
    "    \n",
    "elif a % 5 == 0:\n",
    "    print(\"C\")\n",
    "    \n",
    "else:\n",
    "    print(\"D\")"
   ]
  },
  {
   "cell_type": "markdown",
   "id": "813f26b2",
   "metadata": {
    "editable": true,
    "slideshow": {
     "slide_type": "slide"
    },
    "tags": []
   },
   "source": [
    "# Hogyan ellenőriznénk le hogy egy pozitív szám prím-e?"
   ]
  },
  {
   "cell_type": "markdown",
   "id": "9846b7f2",
   "metadata": {},
   "source": [
    "$n>1$ prím $\\iff$ nem létezik $1< a < n$ ami osztaná $n$-et.\n",
    "\n",
    "Megjegyzés. Nem ez a definíció. $p$ prím, ha $p| ab$ esetén vagy $p|a$ vagy $p|b$. Ezt nem tudnánk ellenőrizni!"
   ]
  },
  {
   "cell_type": "code",
   "execution_count": null,
   "id": "1059662c",
   "metadata": {},
   "outputs": [],
   "source": [
    "def is_prime(n):\n",
    "    for a in range(n):\n",
    "        if a > 1 and n % a == 0:\n",
    "            return False\n",
    "    return True"
   ]
  },
  {
   "cell_type": "markdown",
   "id": "e4a889db",
   "metadata": {
    "slideshow": {
     "slide_type": "fragment"
    }
   },
   "source": [
    "A kód végtelenül egyszerű. Jó-e?"
   ]
  },
  {
   "cell_type": "code",
   "execution_count": null,
   "id": "77103259",
   "metadata": {},
   "outputs": [],
   "source": [
    "i = -1\n",
    "while i < 5:\n",
    "    print(f\"{i=}, {'nem' if not is_prime(i) else ''} prím\")\n",
    "    i += 1"
   ]
  },
  {
   "cell_type": "markdown",
   "id": "dc989ac5",
   "metadata": {
    "editable": true,
    "slideshow": {
     "slide_type": "subslide"
    },
    "tags": []
   },
   "source": [
    "## Javítás. \n",
    "\n",
    "Ha $n$ negatív nézzük az abszolút értékét és figyeljünk oda, hogy $n$ lehet nulla és egy is."
   ]
  },
  {
   "cell_type": "code",
   "execution_count": null,
   "id": "885e926c",
   "metadata": {},
   "outputs": [],
   "source": [
    "def is_prime(n):\n",
    "    if n < 0:\n",
    "        n = -n\n",
    "    if n < 2:\n",
    "        return False\n",
    "    for a in range(n):\n",
    "        if a > 1 and n % a == 0:\n",
    "            return False\n",
    "    return True"
   ]
  },
  {
   "cell_type": "markdown",
   "id": "28de6f4f",
   "metadata": {
    "editable": true,
    "slideshow": {
     "slide_type": "subslide"
    },
    "tags": []
   },
   "source": [
    "## Tesztelés"
   ]
  },
  {
   "cell_type": "markdown",
   "id": "1b12690f",
   "metadata": {},
   "source": [
    "A Python-ban van beépített `unittest` modul és van egy külső könyvtár `pytest` néven. Mi az utóbbi Jupyter notebook-os változatát használjuk majd. \n",
    "\n",
    "Szükség esetén a telepítés, Jupyter notebook-on belülről indítva a\n",
    "```\n",
    "! pip install ipytest\n",
    "```\n",
    "paranccsal lehetséges. A `!` a sor elején jelzi, hogy ezt a parancsot az operációs rendszerünk parancssorában akarjuk futtatni.\n",
    "\n"
   ]
  },
  {
   "cell_type": "code",
   "execution_count": null,
   "id": "8854719b",
   "metadata": {},
   "outputs": [],
   "source": [
    "import ipytest\n",
    "\n",
    "ipytest.autoconfig() "
   ]
  },
  {
   "cell_type": "markdown",
   "id": "b0175e20",
   "metadata": {
    "editable": true,
    "slideshow": {
     "slide_type": "subslide"
    },
    "tags": []
   },
   "source": [
    "## Teszt cella"
   ]
  },
  {
   "cell_type": "code",
   "execution_count": null,
   "id": "c1a4b4c3",
   "metadata": {},
   "outputs": [],
   "source": [
    "%%ipytest\n",
    "\n",
    "def test_is_prime():\n",
    "    assert is_prime(0) == False\n",
    "    assert is_prime(1) == False\n",
    "    assert is_prime(2) == True\n",
    "    assert is_prime(3) == True\n",
    "    assert is_prime(4) == False\n",
    "    assert is_prime(5) == True\n",
    "    assert is_prime(6) == False\n",
    "    assert is_prime(7) == True\n",
    "    assert is_prime(8) == False\n",
    "    assert is_prime(9) == False\n",
    "    assert is_prime(10) == False\n",
    "    assert is_prime(11) == True"
   ]
  },
  {
   "cell_type": "markdown",
   "id": "1c9b7c9a",
   "metadata": {
    "editable": true,
    "slideshow": {
     "slide_type": "subslide"
    },
    "tags": []
   },
   "source": [
    "## Futási idő"
   ]
  },
  {
   "cell_type": "code",
   "execution_count": null,
   "id": "60302ca5",
   "metadata": {},
   "outputs": [],
   "source": [
    "import pandas as pd\n",
    "\n",
    "def timing(p):\n",
    "    timing = %timeit -n 10 -o -q is_prime(p)\n",
    "    return timing.average\n",
    "\n",
    "run_times = [(p, t:=(1000*timing(p)), t/p) for p in [997, 9973, 99991, 999983]] \n",
    "df = pd.DataFrame(run_times, columns=[\"p\", \"run time (ms)\", \"run time/p (ms)\"])\n",
    "df"
   ]
  },
  {
   "cell_type": "markdown",
   "id": "d0b2c8ee",
   "metadata": {},
   "source": [
    "Futási idő közel lineáris $p$-ben. Ha $p$ prím a futási idő közelítőleg: $p*50$ ns.\n",
    "\n",
    "Mi lenne a futási idő $p=10^9+7$-re (ez is prím): $p\\times 5\\cdot 10^{-8}\\approx 50$ másodperc."
   ]
  },
  {
   "cell_type": "code",
   "execution_count": null,
   "id": "377c10c2",
   "metadata": {
    "scrolled": true
   },
   "outputs": [],
   "source": [
    "%%time\n",
    "is_prime(10**9+7)"
   ]
  },
  {
   "cell_type": "markdown",
   "id": "ed4bf196",
   "metadata": {
    "editable": true,
    "slideshow": {
     "slide_type": ""
    },
    "tags": []
   },
   "source": [
    "Házi feladat. Írjunk meg prímszám tesztet úgy, hogy $p=10^9+7$-re is lefusson elfogadható időn belül.\n",
    "\n",
    "Az a megoldás, hogy ezt az esetet külön kezeljük, nem elfogadható!"
   ]
  },
  {
   "cell_type": "markdown",
   "id": "566c15ef",
   "metadata": {
    "editable": true,
    "slideshow": {
     "slide_type": "slide"
    },
    "tags": []
   },
   "source": [
    "# Eratoszthenészi szita"
   ]
  },
  {
   "cell_type": "markdown",
   "id": "b6723be6",
   "metadata": {},
   "source": [
    "Kiindulunk a számok listájából ($0$ és $n$) között 0 és 1 nem prímszám, ezeket kihúzzuk. Az első szám amit nem húztunk ki 2 ez prím, a többszöröseit töröljük, és így tovább.\n",
    "\n",
    "Van-e olyan típus pythonban, amit itt használhatnánk?\n",
    "\n",
    "`int`, `float`, `bool` csak egy értéket tud tárolni. "
   ]
  },
  {
   "cell_type": "markdown",
   "id": "abd8f420",
   "metadata": {
    "editable": true,
    "slideshow": {
     "slide_type": "slide"
    },
    "tags": []
   },
   "source": [
    "# Listák"
   ]
  },
  {
   "cell_type": "markdown",
   "id": "191b9056",
   "metadata": {},
   "source": [
    "A Pythonban egy véges sorozat elemeinek tárolására a `list` típus szolgál. A sorozat elemei különböző típusúak is lehetnek, a lista hossza futási időben változhat. \n",
    "\n",
    "Más nyelvekben `vector` név is használatos erre a típusra."
   ]
  },
  {
   "cell_type": "markdown",
   "id": "4962258d",
   "metadata": {
    "editable": true,
    "slideshow": {
     "slide_type": "subslide"
    },
    "tags": []
   },
   "source": [
    "## Lista létrehozása:"
   ]
  },
  {
   "cell_type": "code",
   "execution_count": null,
   "id": "af26657b",
   "metadata": {},
   "outputs": [],
   "source": [
    "# list hasában egy sorozatot ,,generáló'' függvény\n",
    "values = list(range(10))\n",
    "print(values)"
   ]
  },
  {
   "cell_type": "code",
   "execution_count": null,
   "id": "3293c1b5",
   "metadata": {},
   "outputs": [],
   "source": [
    "\n",
    "# elemek felsorolásával szögletes zárójelek között\n",
    "values = [0, 1, 2, 3, 4, 5, 6, 7, 8, 9]\n",
    "print(values)"
   ]
  },
  {
   "cell_type": "code",
   "execution_count": null,
   "id": "3770e8a9",
   "metadata": {},
   "outputs": [],
   "source": [
    "\n",
    "# list comprehension (generátor kifejezés szögletes zárójelek között)\n",
    "values = [x**2 for x in range(10)]\n",
    "print(values)"
   ]
  },
  {
   "cell_type": "markdown",
   "id": "0c97336b",
   "metadata": {
    "editable": true,
    "slideshow": {
     "slide_type": "subslide"
    },
    "tags": []
   },
   "source": [
    "## Műveletek listákkal:"
   ]
  },
  {
   "cell_type": "markdown",
   "id": "12c94bfe",
   "metadata": {},
   "source": [
    "- aritmetikai műveletek: `+`, `*`. Sztringekhez hasonló: `+` összefűzés, `*` ismételt összefűzés önmagával.\n",
    "\n",
    "- indexelés: hasonlóan sztringekhez: `lst[0]` a nulla indexű (azaz első) lista elem, `lst[10]` a 11. elem (hiba, ha  a lista rövidebb). `lst[-1]` az utolsó elem, `lst[-2]`  hátulról a második, stb.\n",
    "\n",
    "- indexeléshez `slice` is használható. pl.\n",
    "  ```python\n",
    "  numbers = list(range(10))\n",
    "  numbers[1::2]  # páratlan számok részsorozata\n",
    "  ```\n",
    "  Jelölés: `start : end : step` "
   ]
  },
  {
   "cell_type": "markdown",
   "id": "9f435afd",
   "metadata": {
    "editable": true,
    "slideshow": {
     "slide_type": "subslide"
    },
    "tags": []
   },
   "source": [
    "## Lista metódusok, függvények:\n",
    "\n",
    "* `len`: `len(lst)` visszadja az `lst` lista elemeinek számát, azaz a hosszát.\n",
    "\n",
    "* `append`: `lst.append(1)` új értéket (1) fűz a lista végére.\n",
    "\n",
    "* `pop`: kivesz egy elemet a megadott helyről, alapértelmezésben a lista végéről, `lst.pop()`  \n",
    "\n",
    "* `sort`: sorbarendezi a lista elemeit (a lista megváltozik!).  \n",
    "\n",
    "* `extend`: kibővíti a listát a megadott sorozat elemeivel. pl. `lst.extend(range(10))`.\n",
    "\n",
    "***** \n",
    "\n",
    "* `clear`: a lista minden elemét törli, pl. `lst.clear()`\n",
    "\n",
    "* `insert`: beszúr egy elemet a megadott helyre, pl. `lst.insert(0, 'a')`\n",
    "\n",
    "* `remove`: töröl egy elemet a listából, hiba, ha az elem nincs is a listában, pl. `lst.remove('a')`.\n",
    "\n",
    "* `index`: visszaadja az elem helyét a listában, hiba, ha az elem nincs is a listában, pl. `lst.index('a')`. \n",
    "\n",
    "* `count`: megszámolja hányszor fordul elő egy érték a listában, `lst.count('a')`.\n",
    "\n"
   ]
  },
  {
   "cell_type": "markdown",
   "id": "4283199f",
   "metadata": {
    "editable": true,
    "slideshow": {
     "slide_type": "subslide"
    },
    "tags": []
   },
   "source": [
    "# Egy ***kerülendő*** megoldás szitálásra"
   ]
  },
  {
   "cell_type": "code",
   "execution_count": null,
   "id": "d78d518f",
   "metadata": {},
   "outputs": [],
   "source": [
    "%%time\n",
    "\n",
    "numbers = list(range(1000))\n",
    "numbers.remove(0)\n",
    "numbers.remove(1)\n",
    "i = 0\n",
    "while i < len(numbers):\n",
    "    prime = numbers[i]\n",
    "    i += 1\n",
    "    multiple = prime * 2\n",
    "    while multiple <= numbers[-1]:\n",
    "        if multiple in numbers:\n",
    "            numbers.remove(multiple)\n",
    "        multiple += prime\n",
    "\n",
    "\n",
    "print(numbers[:20])"
   ]
  },
  {
   "cell_type": "markdown",
   "id": "79c36944",
   "metadata": {
    "editable": true,
    "slideshow": {
     "slide_type": "subslide"
    },
    "tags": []
   },
   "source": [
    "## Gondok\n",
    "\n",
    "- A `remove` ,,drága'' művelet. Ha az `i.` elemet töröljük, akkor minden elemet az  `i+1.` kezdve az eggyel korábbi helyre kell másolni. 1000-ből 168 prím. 1000-168 elemet töröltünk másolások számának nagyságrendje 1000*1000\n",
    "  Ha az első százezer számra alkalmaznánk a szitálást ez már elfogadhatatlan futási időt eredményezne.\n",
    "\n",
    "- `multiple in numbers` szintén ,,drága'' művelet. A kiszámítás jobb híján úgy történik, hogy végigmegyünk a listán és ha egyik elemmel sem egyezik meg `multiple` értéke akkor `False` az eredmény egyébként `True`.\n",
    "\n",
    "- Összességében négyzetes a futási idő a kiindulási lista hosszának függvényében.\n"
   ]
  },
  {
   "cell_type": "markdown",
   "id": "28dda1ef",
   "metadata": {
    "editable": true,
    "slideshow": {
     "slide_type": "subslide"
    },
    "tags": []
   },
   "source": [
    "## Futási idő"
   ]
  },
  {
   "cell_type": "code",
   "execution_count": null,
   "id": "73e6fcd3",
   "metadata": {},
   "outputs": [],
   "source": [
    "def sieve(n):\n",
    "    numbers = list(range(n))\n",
    "    numbers.remove(0)\n",
    "    numbers.remove(1)\n",
    "    i = 0\n",
    "    while i < len(numbers):\n",
    "        prime = numbers[i]\n",
    "        i += 1\n",
    "        multiple = prime * 2\n",
    "        while multiple <= numbers[-1]:\n",
    "            if multiple in numbers:\n",
    "                numbers.remove(multiple)\n",
    "            multiple += prime\n",
    "    return numbers\n"
   ]
  },
  {
   "cell_type": "code",
   "execution_count": null,
   "id": "7fe455a2",
   "metadata": {
    "slideshow": {
     "slide_type": "subslide"
    }
   },
   "outputs": [],
   "source": [
    "\n",
    "def timing(f, n):\n",
    "    timing = %timeit -n 5 -o -q f(n)\n",
    "    return timing.average\n"
   ]
  },
  {
   "cell_type": "code",
   "execution_count": null,
   "id": "391692b1",
   "metadata": {},
   "outputs": [],
   "source": [
    "\n",
    "run_times = [(n, t:=(1000*timing(sieve, n)), (10**6)*t/n**2) for n in [100, 1000, 10000]]\n",
    "pd.DataFrame(run_times, columns=[\"n\", \"run time (ms)\", \"time/n^2 (ns)\"])\n"
   ]
  },
  {
   "cell_type": "markdown",
   "id": "71a6f914",
   "metadata": {
    "editable": true,
    "slideshow": {
     "slide_type": "subslide"
    },
    "tags": []
   },
   "source": [
    "## Jobb szitálás"
   ]
  },
  {
   "cell_type": "markdown",
   "id": "0381d6ce",
   "metadata": {},
   "source": [
    "Törlés helyett elegendő megjelölni, mi az ami nem prím."
   ]
  },
  {
   "cell_type": "code",
   "execution_count": null,
   "id": "d1493355",
   "metadata": {},
   "outputs": [],
   "source": [
    "def sieve_v1(n):\n",
    "    markers = [True] * n # alapból minden szám lehet prím\n",
    "    markers[0] = False # 0 nem prím\n",
    "    markers[1] = False # 1 nem prím\n",
    "    primes = []\n",
    "    for num in range(len(markers)):\n",
    "        if markers[num]:\n",
    "            primes.append(num)\n",
    "            multiple = num * 2\n",
    "            while multiple < len(markers):\n",
    "                markers[multiple] = False\n",
    "                multiple += num\n",
    "    return primes"
   ]
  },
  {
   "cell_type": "code",
   "execution_count": null,
   "id": "e8625a65",
   "metadata": {},
   "outputs": [],
   "source": [
    "run_times = [(n, t:=1000*timing(sieve_v1, n), t/n) for n in [100, 1000, 10_000, 100_000]]\n",
    "pd.DataFrame(run_times, columns=[\"n\", \"run time (ms)\", \"time/n (ms)\"])"
   ]
  },
  {
   "cell_type": "markdown",
   "id": "e9da6e0a",
   "metadata": {
    "editable": true,
    "slideshow": {
     "slide_type": "subslide"
    },
    "tags": []
   },
   "source": [
    "## Az `append` miért nem ,,drága''?\n",
    "\n",
    "- Ha egy listához új elemet fűzünk hozzá, akkor elvben mindent másolni kellene, hiszen hova rakjuk az új elemet.\n",
    "\n",
    "- Valójában a kért hossznál nagyobb területet foglal le egyszerre a Python, ha elfogy a hely, csak akkor kell másolni.\n"
   ]
  },
  {
   "cell_type": "code",
   "execution_count": null,
   "id": "2b07318c",
   "metadata": {},
   "outputs": [],
   "source": [
    "import plotly.express as px\n",
    "import itertools\n",
    "import sys\n",
    "\n",
    "sizes = []\n",
    "list_base_size = sys.getsizeof(sizes)\n",
    "print(f\"{list_base_size=}\")\n",
    "\n",
    "for i in range(10000):\n",
    "    num_slots = (sys.getsizeof(sizes)-list_base_size)/8\n",
    "    sizes.append(num_slots)\n",
    "\n",
    "avg_moves = []\n",
    "total_moves = 0\n",
    "for i, (a, b) in enumerate(itertools.pairwise(sizes), 1):\n",
    "    total_moves += b if b > a else 0\n",
    "    avg_moves.append(total_moves/i)\n"
   ]
  },
  {
   "cell_type": "code",
   "execution_count": null,
   "id": "42212d40",
   "metadata": {
    "editable": true,
    "slideshow": {
     "slide_type": "subslide"
    },
    "tags": []
   },
   "outputs": [],
   "source": [
    "\n",
    "px.scatter(y=sizes).show()\n"
   ]
  },
  {
   "cell_type": "code",
   "execution_count": null,
   "id": "e1291e19",
   "metadata": {
    "editable": true,
    "slideshow": {
     "slide_type": "subslide"
    },
    "tags": []
   },
   "outputs": [],
   "source": [
    "\n",
    "px.scatter(y=avg_moves).show()\n",
    "\n",
    "\n"
   ]
  },
  {
   "cell_type": "markdown",
   "id": "3db38b7d",
   "metadata": {
    "editable": true,
    "slideshow": {
     "slide_type": "subslide"
    },
    "tags": []
   },
   "source": [
    "## További javítási lehetőségek"
   ]
  },
  {
   "cell_type": "markdown",
   "id": "ac438de2",
   "metadata": {},
   "source": [
    "- Egy listán nem csak indexeléssel lehet végigmenni, sőt Python-ban ez a ritka eset.\n",
    "\n",
    "```python\n",
    "for marker in markers:\n",
    "    pass\n",
    "```\n",
    "sorban végig megy az elemeken.\n",
    "\n",
    "- Arra is szükségünk van, hogy éppen melyik számnál tartunk. Ezt az `enumerate` függvénnyel lehet elérni.\n",
    "  ```python\n",
    "  for index, elem in enumerate(lst):\n",
    "      pass\n",
    "  ```\n",
    "  Ekkor a for ciklus végig megy a lista elemein és mindegyik mellé oda kerül az index is a listában.\n"
   ]
  },
  {
   "cell_type": "markdown",
   "id": "421b7b40",
   "metadata": {
    "editable": true,
    "slideshow": {
     "slide_type": "subslide"
    },
    "tags": []
   },
   "source": [
    "## Indexelés helyett, `enumerate`"
   ]
  },
  {
   "cell_type": "code",
   "execution_count": null,
   "id": "d4a71bb1",
   "metadata": {},
   "outputs": [],
   "source": [
    "def sieve_v2(n):\n",
    "    markers = [True] * n # alapból minden szám lehet prím\n",
    "    markers[0] = False # 0 nem prím\n",
    "    markers[1] = False # 1 nem prím\n",
    "    primes = []\n",
    "    for num, marker in enumerate(markers):\n",
    "        if marker:\n",
    "            primes.append(num)\n",
    "            multiple = num * 2\n",
    "            while multiple < len(markers):\n",
    "                markers[multiple] = False\n",
    "                multiple += num\n",
    "    return primes"
   ]
  },
  {
   "cell_type": "markdown",
   "id": "be5f0294",
   "metadata": {
    "editable": true,
    "slideshow": {
     "slide_type": "subslide"
    },
    "tags": []
   },
   "source": [
    "## `range` ügyesebb használata\n"
   ]
  },
  {
   "cell_type": "markdown",
   "id": "694c4650",
   "metadata": {},
   "source": [
    "\n",
    "A `range` függvény is többet tud, mint amit eddig használtunk belőle.\n",
    "\n",
    "`range(start, end, step)`\n",
    "\n",
    "azt a `start`-tal kezdődő sorozatot állítja elő, aminek a lépésköze `step` és **minden eleme kisebb mint `end`**.\n",
    "\n",
    "A többszörösök sorozata kényelmesebben is megadható:\n",
    "\n",
    "```python\n",
    "for multiple in range(2*prime, n, prime):\n",
    "    markers[multiple] = False\n",
    "```"
   ]
  },
  {
   "cell_type": "markdown",
   "id": "74c6bcd8",
   "metadata": {},
   "source": [
    "Még az is igaz, hogy nem kell `2*prime` indulni. Ha van egy nem prím szám $x$, akkor a legkisebb prím osztója legfeljebb $\\sqrt{x}$. Azaz a $\\text{prime}^2$-nél kisebb nem prím számokat már a korábban megtalált prímeknél megjelöltük."
   ]
  },
  {
   "cell_type": "markdown",
   "id": "7d1d8da9",
   "metadata": {
    "editable": true,
    "slideshow": {
     "slide_type": "subslide"
    },
    "tags": []
   },
   "source": [
    "## Indexelés $\\sqrt{n}$-ig és a `range` ügyesebb használata a belső ciklusban "
   ]
  },
  {
   "cell_type": "code",
   "execution_count": null,
   "id": "b567e27f",
   "metadata": {},
   "outputs": [],
   "source": [
    "import math # egész gyök függvényhez: math.isqrt\n",
    "\n",
    "def sieve_v3(n):\n",
    "    markers = [True] * n # alapból minden szám lehet prím\n",
    "    markers[0] = False # 0 nem prím\n",
    "    markers[1] = False # 1 nem prím\n",
    "\n",
    "    for num in range(math.isqrt(n)+1):\n",
    "        if markers[num]:\n",
    "            start = num*num\n",
    "            for multiple in range(start, n, num):\n",
    "                markers[multiple] = False\n",
    "\n",
    "    return [num for num, marker in enumerate(markers) if marker]"
   ]
  },
  {
   "cell_type": "code",
   "execution_count": null,
   "id": "aca8f809",
   "metadata": {
    "editable": true,
    "slideshow": {
     "slide_type": "subslide"
    },
    "tags": []
   },
   "outputs": [],
   "source": [
    "run_times = [\n",
    "    (n, f.__name__, t:=1000*timing(f, n), t/n) \n",
    "    for n in [100, 1000, 10_000, 100_000] \n",
    "    for f in [sieve_v1, sieve_v2, sieve_v3]\n",
    "]    \n",
    "df = pd.DataFrame(run_times, columns=[\"n\", \"function\", \"run time (ms)\", \"time/n (ms)\"])"
   ]
  },
  {
   "cell_type": "markdown",
   "id": "fe557904",
   "metadata": {
    "slideshow": {
     "slide_type": "skip"
    }
   },
   "source": [
    "Nem ez a legjobb módja az idő mérésének, és az eredmények megjelenítésének. Később visszatérünk rá!"
   ]
  },
  {
   "cell_type": "code",
   "execution_count": null,
   "id": "d6f75bb0",
   "metadata": {
    "editable": true,
    "slideshow": {
     "slide_type": "skip"
    },
    "tags": []
   },
   "outputs": [],
   "source": [
    "primes = sieve_v3(1_000_000)\n",
    "[max(p for p in primes if len(str(p))==i) for i in range(1, 7)]"
   ]
  },
  {
   "cell_type": "markdown",
   "id": "da4f5a26",
   "metadata": {
    "editable": true,
    "slideshow": {
     "slide_type": "subslide"
    },
    "tags": []
   },
   "source": [
    "\n",
    "Listát használtunk a `markers` változóhoz. Valójában a méret rögzített volt és minden érték vagy igaz, vagy hamis, ami 1 biten tárolható.\n"
   ]
  },
  {
   "cell_type": "code",
   "execution_count": null,
   "id": "8d409072",
   "metadata": {
    "editable": true,
    "slideshow": {
     "slide_type": ""
    },
    "tags": []
   },
   "outputs": [],
   "source": [
    "\n",
    "def sieve_v4(n):\n",
    "    markers = bytearray(n)\n",
    "    markers[0] = 1\n",
    "    markers[1] = 1\n",
    "\n",
    "    for num in range(math.isqrt(n)+1):\n",
    "        if not markers[num]:\n",
    "            start = num*num\n",
    "            for multiple in range(start, n, num):\n",
    "                markers[multiple] = 1 \n",
    "\n",
    "    return [num for num, marker in enumerate(markers) if not marker]\n"
   ]
  },
  {
   "cell_type": "code",
   "execution_count": null,
   "id": "108cb438",
   "metadata": {},
   "outputs": [],
   "source": [
    "%%time\n",
    "primes = sieve_v4(10_000_000)\n"
   ]
  },
  {
   "cell_type": "code",
   "execution_count": null,
   "id": "68795777",
   "metadata": {},
   "outputs": [],
   "source": [
    "len(primes)"
   ]
  },
  {
   "cell_type": "code",
   "execution_count": null,
   "id": "32188008",
   "metadata": {},
   "outputs": [],
   "source": [
    "import sys\n",
    "sys.getsizeof([True]*100_000), sys.getsizeof(bytearray(100_000))"
   ]
  },
  {
   "cell_type": "markdown",
   "id": "3fb6064c",
   "metadata": {
    "editable": true,
    "slideshow": {
     "slide_type": "slide"
    },
    "tags": []
   },
   "source": [
    "# Összefoglaló az eddigiekről"
   ]
  },
  {
   "cell_type": "markdown",
   "id": "60a9ae8e",
   "metadata": {},
   "source": [
    "- Sok minden előre meg van írva, de nem feltétlenül érhető el közvetlenül. Ilyenkor a megfelelő modult importálni kell.\n",
    "  pl.\n",
    "\n",
    "  ```python\n",
    "  import math\n",
    "\n",
    "  # innentől kezve használhatjuk a math könyvtár függvényeit\n",
    "  print(math.isqrt(8)) # eredmény 2\n",
    "  ```\n",
    "\n",
    "  Ha nem szeretjük a ,,pontos'' jelölést, akkor használhatjuk az alábbi formát is.\n",
    "  ```python\n",
    "  from math import isqrt\n",
    "\n",
    "  isqrt(8) # eredmény: 2\n",
    "  ```\n",
    "  "
   ]
  },
  {
   "cell_type": "markdown",
   "id": "8eb24311",
   "metadata": {
    "slideshow": {
     "slide_type": "subslide"
    }
   },
   "source": [
    "- Láttuk hogyan lehet listát létrehozni, lépésenként bővíteni, indexelni:\n",
    "  ``` python\n",
    "  a = [1, 2, 3, 4]\n",
    "  a[1:5:2] # -> [2, 4]\n",
    "  a[0] # -> 1\n",
    "  a[:3] # -> [1, 2, 3]\n",
    "  ```\n",
    "- Egy lista elemei megváltoztathatóak, ez a típus `mutable`.\n"
   ]
  },
  {
   "cell_type": "markdown",
   "id": "77b1c201",
   "metadata": {
    "editable": true,
    "slideshow": {
     "slide_type": "subslide"
    },
    "tags": []
   },
   "source": [
    "## `tuple` típus\n"
   ]
  },
  {
   "cell_type": "markdown",
   "id": "144657e1",
   "metadata": {},
   "source": [
    "\n",
    "- A listához hasonló a rendezett $n$-es (`tuple`) típus, aminek az elemei nem változtathatóak meg.\n",
    "  ```python\n",
    "  a = 1, 2 \n",
    "  b = (1, 2)\n",
    "  a == b # igaz mind a két tuple az 1 és 2 értékekből áll.\n",
    "  a == [1, 2] # hamis más a típus.\n",
    "  ```\n",
    "  A `tuple` típus `immutable`. Ennek később lesz jelentősége.\n",
    "  \n",
    "- Egy `tuple` típusú változóra csak azok a függvények használhatóak, amik nem változtatják meg:\n",
    "  ```python\n",
    "  a = (1, 2, 3)\n",
    "  len(a), a.count(1), a.index(2), a[1], a[::2]\n",
    "  ``` "
   ]
  },
  {
   "cell_type": "markdown",
   "id": "c2eaf214",
   "metadata": {
    "editable": true,
    "slideshow": {
     "slide_type": "subslide"
    },
    "tags": []
   },
   "source": [
    "Mit gondolunk a következőről? Lefut-e hiba nélkül? Ha nem, hol akad el?"
   ]
  },
  {
   "cell_type": "code",
   "execution_count": null,
   "id": "f1ae7a85",
   "metadata": {},
   "outputs": [],
   "source": [
    "a = ([1], \"alma\", (1, 2))\n"
   ]
  },
  {
   "cell_type": "code",
   "execution_count": null,
   "id": "a473eb82",
   "metadata": {},
   "outputs": [],
   "source": [
    "print(a[0])\n",
    "print(a[2])"
   ]
  },
  {
   "cell_type": "code",
   "execution_count": null,
   "id": "a9edd918",
   "metadata": {},
   "outputs": [],
   "source": [
    "a[0][0] = 2"
   ]
  },
  {
   "cell_type": "code",
   "execution_count": null,
   "id": "a5fa75d4",
   "metadata": {},
   "outputs": [],
   "source": [
    "a[2][0] = 2"
   ]
  },
  {
   "cell_type": "markdown",
   "id": "716c0293",
   "metadata": {
    "editable": true,
    "slideshow": {
     "slide_type": "subslide"
    },
    "tags": []
   },
   "source": [
    "- Láttuk, hogy a `for` ciklusban nem csak `range`-en lehet végig iterálni. Valójában bármilyen sorozat állhat a `for` ciklusban.\n",
    "  ```python\n",
    "  for num in [1, 2, 3]:\n",
    "    pass\n",
    "  for num in (1, 2, 3):\n",
    "    pass\n",
    "  ```\n",
    "\n",
    "- A sorozatot lehet módosítani. pl. `enumerate`-tel. Ez minden elem mellé odarakja az ,,indexét''. Megadható, hogy honnan induljon az indexelés. Alapértelmezésben nullától.\n",
    "  ```python\n",
    "  list(enumerate([1, 2, 3], -1)) # -> [(-1, 1), (0, 2), (1, 3)]\n",
    "  ```\n",
    "\n",
    "- Bizonyos sorozatok (`range`, `list`, `tuple`) megfordíthatóak a `reversed` függvénnyel:\n",
    "  ```python\n",
    "  [num for num in reversed(range(3))] # -> [2, 1, 0]\n",
    "  ```\n",
    "\n",
    "- Több sorozatot ,,zip''-pelhetünk, \n",
    "  ```python\n",
    "  list(zip(range(10), reversed(range(3)))) # -> [(0, 2), (1, 1), (2, 0)] \n",
    "  ```"
   ]
  },
  {
   "cell_type": "markdown",
   "id": "448cbbb7",
   "metadata": {
    "editable": true,
    "slideshow": {
     "slide_type": "slide"
    },
    "tags": []
   },
   "source": [
    "# További apróságok ciklusokról"
   ]
  },
  {
   "cell_type": "markdown",
   "id": "8357638e",
   "metadata": {},
   "source": [
    "For-ciklus: adott sorozaton megy végig, az iterációk száma általában előre ismert.\n",
    "\n",
    "**Feladat**: hány darab 9-es számjegy van az 1 és 100 közötti számokban? Általánosabban 1 és $n$ közötti számokban?\n",
    "\n",
    "$n=100$-ra tudjuk az eredményt: `10 + 10  = 20`"
   ]
  },
  {
   "cell_type": "code",
   "execution_count": null,
   "id": "0d18e659",
   "metadata": {
    "editable": true,
    "slideshow": {
     "slide_type": "subslide"
    },
    "tags": []
   },
   "outputs": [],
   "source": [
    "count = 0\n",
    "# Kezdetben nincs egyetlen szamjegyunk sem\n",
    "# iteraljunk vegig a szamokon 1 es 100 kozott es szamoljuk meg a 9-eseket\n",
    "pass"
   ]
  },
  {
   "cell_type": "code",
   "execution_count": null,
   "id": "7a0e1f89",
   "metadata": {
    "editable": true,
    "slideshow": {
     "slide_type": "subslide"
    },
    "tags": []
   },
   "outputs": [],
   "source": [
    "count = 0\n",
    "for n in range(1, 101):\n",
    "    pass\n",
    "\n",
    "\n",
    "print(count)"
   ]
  },
  {
   "cell_type": "code",
   "execution_count": null,
   "id": "d12958f6",
   "metadata": {
    "editable": true,
    "slideshow": {
     "slide_type": "subslide"
    },
    "tags": []
   },
   "outputs": [],
   "source": [
    "count = 0\n",
    "for n in range(1, 101):\n",
    "    string = str(n)\n",
    "    for char in string:\n",
    "        pass\n",
    "\n",
    "\n",
    "print(count)"
   ]
  },
  {
   "cell_type": "code",
   "execution_count": null,
   "id": "d71fb00e",
   "metadata": {
    "editable": true,
    "slideshow": {
     "slide_type": "subslide"
    },
    "tags": []
   },
   "outputs": [],
   "source": [
    "count = 0\n",
    "for n in range(1, 101):\n",
    "    string = str(n)\n",
    "    for char in string:\n",
    "        if char == \"9\":\n",
    "            count += 1\n",
    "\n",
    "\n",
    "print(count)"
   ]
  },
  {
   "cell_type": "markdown",
   "id": "39c2f574",
   "metadata": {
    "editable": true,
    "slideshow": {
     "slide_type": "subslide"
    },
    "tags": []
   },
   "source": [
    "## Ugyanez függvénnyel"
   ]
  },
  {
   "cell_type": "code",
   "execution_count": null,
   "id": "4eb35d9c",
   "metadata": {
    "editable": true,
    "slideshow": {
     "slide_type": ""
    },
    "tags": []
   },
   "outputs": [],
   "source": [
    "def number_of_nines(max_num):\n",
    "    count = 0\n",
    "    for num in range(1, max_num+1):\n",
    "        string = str(num)\n",
    "        for char in string:\n",
    "            if char == \"9\":\n",
    "                count += 1\n",
    "    return count"
   ]
  },
  {
   "cell_type": "code",
   "execution_count": null,
   "id": "3c31021d",
   "metadata": {},
   "outputs": [],
   "source": [
    "number_of_nines(265897)"
   ]
  },
  {
   "cell_type": "markdown",
   "id": "c26900af",
   "metadata": {
    "editable": true,
    "slideshow": {
     "slide_type": ""
    },
    "tags": []
   },
   "source": [
    "Egysoros változatban:"
   ]
  },
  {
   "cell_type": "code",
   "execution_count": null,
   "id": "19628577",
   "metadata": {
    "editable": true,
    "slideshow": {
     "slide_type": ""
    },
    "tags": []
   },
   "outputs": [],
   "source": [
    "def number_of_nines(max_num):\n",
    "    return sum(str(num).count(\"9\") for num in range(1, max_num+1))\n",
    "\n",
    "\n",
    "number_of_nines(265897)"
   ]
  },
  {
   "cell_type": "markdown",
   "id": "0c8d4619",
   "metadata": {},
   "source": [
    "`sum` és társai később még előjönnek."
   ]
  },
  {
   "cell_type": "markdown",
   "id": "5305fcf3",
   "metadata": {
    "editable": true,
    "slideshow": {
     "slide_type": "subslide"
    },
    "tags": []
   },
   "source": [
    "## `while`-ciklus\n",
    "\n",
    "Addig iterálunk, amíg valamilyen feltétel teljesül.\n",
    "\n",
    "\n",
    "**Feladat**: Keressük azt a legkisebb $n$ természetes számot, hogy az 1 és $n$ közötti számok 10000 darab 9-es számjegyet tartalmaznak."
   ]
  },
  {
   "cell_type": "code",
   "execution_count": null,
   "id": "3ebccaf4",
   "metadata": {
    "slideshow": {
     "slide_type": "subslide"
    }
   },
   "outputs": [],
   "source": [
    "n = 1\n",
    "count = 0\n",
    "\n",
    "while count < 10000:\n",
    "    pass\n",
    "    count += 1\n",
    "\n",
    "print(n)"
   ]
  },
  {
   "cell_type": "code",
   "execution_count": null,
   "id": "279053f9",
   "metadata": {
    "slideshow": {
     "slide_type": "subslide"
    }
   },
   "outputs": [],
   "source": [
    "n = 0\n",
    "count = 0\n",
    "\n",
    "while count < 10000:\n",
    "    n += 1 \n",
    "    count += str(n).count(\"9\")\n",
    "\n",
    "print(n)"
   ]
  },
  {
   "cell_type": "markdown",
   "id": "557c9c27",
   "metadata": {
    "editable": true,
    "slideshow": {
     "slide_type": "subslide"
    },
    "tags": []
   },
   "source": [
    "## `break`, `continue`\n",
    "\n",
    "Ciklusokból egyes lépéseket át lehet ugorni, vagy akár idő előtt ki lehet lépni belőlük. Mivel ezek a parancsok megszakítják a kód természetes futásának menetét, akkor használjuk őket, ha úgy érezzük, hogy így egyszerűbb a program logikája."
   ]
  },
  {
   "cell_type": "code",
   "execution_count": null,
   "id": "05cd2731",
   "metadata": {
    "editable": true,
    "slideshow": {
     "slide_type": ""
    },
    "tags": []
   },
   "outputs": [],
   "source": [
    "for x in range(10):\n",
    "    if x % 3 == 0:\n",
    "        # folytassuk a kovetekezo x-nel\n",
    "        continue\n",
    "        \n",
    "    print(x)"
   ]
  },
  {
   "cell_type": "code",
   "execution_count": null,
   "id": "df673908",
   "metadata": {
    "editable": true,
    "slideshow": {
     "slide_type": ""
    },
    "tags": []
   },
   "outputs": [],
   "source": [
    "for x in range(10):\n",
    "    if x == 7:\n",
    "        # lepjunk ki a ciklus torzsebol\n",
    "        break\n",
    "        \n",
    "    print(x)"
   ]
  },
  {
   "cell_type": "markdown",
   "id": "790b9496-a877-42a4-a4ad-fdef7adcaca0",
   "metadata": {
    "editable": true,
    "slideshow": {
     "slide_type": "subslide"
    },
    "tags": []
   },
   "source": [
    "# HF: nézzünk utána, mit csinál a for-else konstrukció\n"
   ]
  },
  {
   "cell_type": "code",
   "execution_count": null,
   "id": "3e233d3a",
   "metadata": {
    "editable": true,
    "slideshow": {
     "slide_type": ""
    },
    "tags": []
   },
   "outputs": [],
   "source": [
    "\n",
    "limit = 10\n",
    "\n",
    "for n in range(limit):\n",
    "    print(n)\n",
    "    if n > 7:\n",
    "        break\n",
    "        \n",
    "else:\n",
    "    print(\"Hello\")"
   ]
  },
  {
   "cell_type": "code",
   "execution_count": null,
   "id": "8cccba7f",
   "metadata": {
    "editable": true,
    "slideshow": {
     "slide_type": ""
    },
    "tags": []
   },
   "outputs": [],
   "source": [
    "# HF: mit csinál az alábbi kód?\n",
    "\n",
    "limit = 100\n",
    "\n",
    "for n in range(2, limit+1):\n",
    "    for k in range(2, n):\n",
    "        if n % k == 0:\n",
    "            break\n",
    "    else:\n",
    "        print(n)"
   ]
  },
  {
   "cell_type": "markdown",
   "id": "d0b52637",
   "metadata": {
    "editable": true,
    "slideshow": {
     "slide_type": "slide"
    },
    "tags": []
   },
   "source": [
    "## Összefoglaló\n",
    "\n",
    "- Egy ciklust meg lehet szakítani a `break` kifejezés kiértékelésével.\n",
    "  \n",
    "  Tipikus használat, ha a megállási feltétel a ciklus törzsében derül ki.\n",
    "  \n"
   ]
  },
  {
   "cell_type": "code",
   "execution_count": null,
   "id": "10e38533",
   "metadata": {
    "editable": true,
    "slideshow": {
     "slide_type": ""
    },
    "tags": []
   },
   "outputs": [],
   "source": [
    "def read_int():\n",
    "    while True:\n",
    "        answer = input(\"Adj meg egy egész számot: \")\n",
    "        if answer.isdigit() or (answer[0] in \"+-\" and answer[1:].isdigit()):\n",
    "            break\n",
    "        print(f\"{answer!r} nem tűnik egész számnak!\")\n",
    "    return int(answer)\n"
   ]
  },
  {
   "cell_type": "code",
   "execution_count": null,
   "id": "7ff64d9f",
   "metadata": {},
   "outputs": [],
   "source": [
    "read_int()"
   ]
  },
  {
   "cell_type": "markdown",
   "id": "b0881ee2",
   "metadata": {},
   "source": [
    "- `continue` tovább lehet lépni. Megoldható `if`-fel is, néha a `continue` olvashatóbb."
   ]
  },
  {
   "cell_type": "markdown",
   "id": "5bc25a57",
   "metadata": {
    "editable": true,
    "slideshow": {
     "slide_type": "slide"
    },
    "tags": []
   },
   "source": [
    "# `dict` (szótár) típus"
   ]
  },
  {
   "cell_type": "markdown",
   "id": "65c62b12",
   "metadata": {},
   "source": [
    "- Egy szótár (`dict`) kulcs, érték párokból áll. Minden kulcs legfeljebb egyszer fordulhat elő. Kulcs alapján lehet értékeket visszakeresni, és megadni. Más programozási nyelvekben `hashmap`-nek is hívják.\n",
    "\n",
    "  Matematikában azt mondhatnánk, hogy a szótár egy függvény véges értelmezési tartománnyal. \n",
    "\n",
    "- Szótár létrehozása pythonban:"
   ]
  },
  {
   "cell_type": "code",
   "execution_count": null,
   "id": "53c6166b",
   "metadata": {},
   "outputs": [],
   "source": [
    "# ez a ritka\n",
    "dict(a=1, b=2)"
   ]
  },
  {
   "cell_type": "code",
   "execution_count": null,
   "id": "b5c03e99",
   "metadata": {},
   "outputs": [],
   "source": [
    "# kis méretű dictionary gyakran így keletkezik\n",
    "{\"a\": 1, \"b\": 2}"
   ]
  },
  {
   "cell_type": "code",
   "execution_count": null,
   "id": "510bd029",
   "metadata": {},
   "outputs": [],
   "source": [
    "# dict comprehension\n",
    "{key: value for key, value in zip(\"abc\", range(3))}"
   ]
  },
  {
   "cell_type": "markdown",
   "id": "12d2f362",
   "metadata": {
    "editable": true,
    "slideshow": {
     "slide_type": "subslide"
    },
    "tags": []
   },
   "source": [
    "## Értékadás, indexelés"
   ]
  },
  {
   "cell_type": "markdown",
   "id": "dd8e47ca",
   "metadata": {},
   "source": [
    "- Adott kulcshoz tartozó érték kikeresése\n",
    "  ```python\n",
    "  colors = {\"red\": 1, \"blue\": 2, \"green\": 3}\n",
    "  colors[\"red\"] # -> 1\n",
    "  ```\n",
    "\n",
    "- kulcsok:\n",
    "  ```python\n",
    "  [key for key colors.keys()] # -> [\"red\", \"blue\", \"green\"]\n",
    "  ```\n",
    "\n",
    "- értékek:\n",
    "  ```python\n",
    "  [value for value in colors.values()] # -> [1, 2, 3]\n",
    "  ```\n",
    "\n",
    "- adott kulcs meglétének ellenőrzése:\n",
    "  ```\n",
    "  \"red\" in colors\n",
    "  ```\n"
   ]
  },
  {
   "cell_type": "markdown",
   "id": "7cbc08a1",
   "metadata": {
    "editable": true,
    "slideshow": {
     "slide_type": "subslide"
    },
    "tags": []
   },
   "source": [
    "## Mire jó a szótár?"
   ]
  },
  {
   "cell_type": "markdown",
   "id": "42643add",
   "metadata": {},
   "source": [
    ",,Two sum'' a Leetcode oldalról:\n",
    "\n",
    "> Given an array of integers `nums` and an integer `target`, return indices of the two numbers such that they add up to  `target`.  \n",
    ">\n",
    "> You may assume that each input would have exactly one solution, and you may not use the same element twice.\n",
    ">  \n",
    "> You can return the answer in any order.\n"
   ]
  },
  {
   "cell_type": "code",
   "execution_count": null,
   "id": "4e17ee59",
   "metadata": {},
   "outputs": [],
   "source": [
    "# brute force megoldás\n",
    "\n",
    "def two_sum(nums, target):\n",
    "    n = len(nums)\n",
    "    for i, num1 in enumerate(nums):\n",
    "        for j in range(i+1, n):\n",
    "            num2 = nums[j]\n",
    "            if num1 + num2 == target:\n",
    "                return i, j"
   ]
  },
  {
   "cell_type": "markdown",
   "id": "b0830687",
   "metadata": {},
   "source": [
    "Futási idő arányos `len(nums)` négyzetével.\n",
    "\n",
    "Ha a lista rövid, ez nem gond. 100 ezres listánál gond lehet."
   ]
  },
  {
   "cell_type": "markdown",
   "id": "3b5fceb2",
   "metadata": {
    "editable": true,
    "slideshow": {
     "slide_type": "subslide"
    },
    "tags": []
   },
   "source": [
    "# Jobb megoldás szótárral"
   ]
  },
  {
   "cell_type": "code",
   "execution_count": null,
   "id": "27c5d218",
   "metadata": {},
   "outputs": [],
   "source": [
    "\n",
    "def two_sum_v2(nums, target):\n",
    "    value2pos = {}\n",
    "    for pos, value in enumerate(nums):\n",
    "        other_value = target - value\n",
    "        if other_value in value2pos:\n",
    "            return value2pos[other_value], pos\n",
    "        value2pos[value] = pos "
   ]
  },
  {
   "cell_type": "code",
   "execution_count": null,
   "id": "bd190ae7",
   "metadata": {},
   "outputs": [],
   "source": [
    "n = 1000\n",
    "nums = list(range(n))\n",
    "target = nums[-1]+nums[-2]\n",
    "%timeit two_sum(nums, target) \n",
    "%timeit two_sum_v2(nums, target)"
   ]
  },
  {
   "cell_type": "code",
   "execution_count": null,
   "id": "cfba0e49",
   "metadata": {},
   "outputs": [],
   "source": [
    "n = 10000\n",
    "nums = list(range(n))\n",
    "target = nums[-1]+nums[-2]\n",
    "%time two_sum(nums, target) \n",
    "%time two_sum_v2(nums, target)"
   ]
  },
  {
   "cell_type": "markdown",
   "id": "1d2549ef",
   "metadata": {
    "editable": true,
    "slideshow": {
     "slide_type": "subslide"
    },
    "tags": []
   },
   "source": [
    "## Mitől gyors a keresés a kulcsok között?"
   ]
  },
  {
   "cell_type": "markdown",
   "id": "08fa68af",
   "metadata": {},
   "source": [
    "A szótárban van egy keresést gyosító táblázat, ennek mérete általában kettő hatvány. Mondjuk legyen 128.\n",
    "\n",
    "- A háttérben kulcsokhoz számokat rendelünk, ez a hash értéke az adott kulcsnak. \n",
    "- A hash érték maradékát vesszük a gyorsító táblázat méretével, így kapunk egy indexet. \n",
    "- A gyorsító tábla adott indexű helye megmondja hol kezdjük el keresni a kulcsot a kulcsok listájában. \n",
    "- Ha az adott helyen másik kulcs van, akkor hasonló módon kapunk egy új helyet ahol érdemes megnézni a kulcsot.\n",
    "\n",
    "A szótár úgy van összerakva, hogy átlagban néhány lépés alatt megtaláljuk a kulcsot és így a hozzátartozó értéket is.\n",
    "\n",
    "Szótár használatakor **átlagban konstans idő** alatt ki tudjuk olvasni az adott kulcshoz tartozó értéket."
   ]
  },
  {
   "cell_type": "markdown",
   "id": "edcefe10",
   "metadata": {
    "editable": true,
    "slideshow": {
     "slide_type": "slide"
    },
    "tags": []
   },
   "source": [
    "# Szótár műveletek"
   ]
  },
  {
   "cell_type": "markdown",
   "id": "c154f3b7",
   "metadata": {},
   "source": [
    "- Elemek száma `len`, pl. `len({'a': 1})` értéke 1."
   ]
  },
  {
   "cell_type": "code",
   "execution_count": null,
   "id": "c65378af",
   "metadata": {},
   "outputs": [],
   "source": [
    "d = dict(zip(\"abcde\", range(5)))\n",
    "print(f\"{d=}, {len(d)=}\")"
   ]
  },
  {
   "cell_type": "markdown",
   "id": "80d21351",
   "metadata": {
    "editable": true,
    "slideshow": {
     "slide_type": "fragment"
    },
    "tags": []
   },
   "source": [
    "- `in` kulcs jelenlétének ellenőrzése."
   ]
  },
  {
   "cell_type": "code",
   "execution_count": null,
   "id": "f30437f9",
   "metadata": {},
   "outputs": [],
   "source": [
    "d = dict(a=1, b=2, c=3)\n",
    "print(f\"{d=}, {('a' in d)=}, {('d' in d)=}\")"
   ]
  },
  {
   "cell_type": "markdown",
   "id": "55bcc729",
   "metadata": {
    "editable": true,
    "slideshow": {
     "slide_type": "subslide"
    },
    "tags": []
   },
   "source": [
    "- `copy`: Másolat (shallow)"
   ]
  },
  {
   "cell_type": "code",
   "execution_count": null,
   "id": "707c0e11",
   "metadata": {},
   "outputs": [],
   "source": [
    "a = {'a': {'b': 1}, 'c': 2}\n",
    "b = a.copy()\n",
    "print(f\"{a=}, {b=}\")\n",
    "print(f\"{id(a)=:x}, {id(b)=:x}, {id(a['a'])=:x}, {id(b['a'])=:x}\")\n",
    "b['a']['b'] = 2\n",
    "b['c'] += 1\n",
    "print(f\"{a=}, {b=}\")"
   ]
  },
  {
   "cell_type": "markdown",
   "id": "8ffe8c25",
   "metadata": {
    "editable": true,
    "slideshow": {
     "slide_type": "fragment"
    },
    "tags": []
   },
   "source": [
    "\n",
    "- `update`: Egy másik szótárral bővíti a kulcs-érték párokat. \n"
   ]
  },
  {
   "cell_type": "code",
   "execution_count": null,
   "id": "cf965dba",
   "metadata": {},
   "outputs": [],
   "source": [
    "d = dict(zip(\"abc\", range(3)))\n",
    "e = dict(zip(\"cdf\", range(3)))\n",
    "print(f\"update előtt {d=}\")\n",
    "d.update(e)\n",
    "print(f\"update után {d=}\")"
   ]
  },
  {
   "cell_type": "markdown",
   "id": "b60b1e23",
   "metadata": {
    "editable": true,
    "slideshow": {
     "slide_type": "subslide"
    },
    "tags": []
   },
   "source": [
    "\n",
    "- `pop`: az adott kulcsot törli a szótárból és visszaadja a kulcshoz tartozó értéket.\n"
   ]
  },
  {
   "cell_type": "code",
   "execution_count": null,
   "id": "a9dad5ed",
   "metadata": {},
   "outputs": [],
   "source": [
    "d = dict(zip(\"abc\", range(3)))\n",
    "print(f\"pop előtt: {d=}\")\n",
    "print(f\"{d.pop('b')=}\")\n",
    "print(f\"pop után: {d=}\")"
   ]
  },
  {
   "cell_type": "markdown",
   "id": "7f72f610",
   "metadata": {
    "editable": true,
    "slideshow": {
     "slide_type": "fragment"
    },
    "tags": []
   },
   "source": [
    "- `popitem`: egy elemet kiemel,"
   ]
  },
  {
   "cell_type": "code",
   "execution_count": null,
   "id": "c8efc21a",
   "metadata": {},
   "outputs": [],
   "source": [
    "d = dict(zip(\"abc\", range(3)))\n",
    "print(f\"popitem előtt: {d=}\")\n",
    "print(f\"{d.popitem()=}\")\n",
    "print(f\"popitem után: {d=}\")"
   ]
  },
  {
   "cell_type": "markdown",
   "id": "01bf2583",
   "metadata": {
    "editable": true,
    "slideshow": {
     "slide_type": "subslide"
    },
    "tags": []
   },
   "source": [
    "- `clear`: Törli a szótár tartalmát."
   ]
  },
  {
   "cell_type": "code",
   "execution_count": null,
   "id": "56f2ec09",
   "metadata": {},
   "outputs": [],
   "source": [
    "d = dict(zip(\"abc\", range(3)))\n",
    "print(f\"clear előtt: {d=}\")\n",
    "print(f\"{d.clear()=}\")\n",
    "print(f\"clear után: {d=}\")"
   ]
  },
  {
   "cell_type": "markdown",
   "id": "e9357c2e",
   "metadata": {
    "editable": true,
    "slideshow": {
     "slide_type": "fragment"
    },
    "tags": []
   },
   "source": [
    "- `setdefault`: ha a kulcs nem létezik, akkor létrehozza és beállítja az értéket."
   ]
  },
  {
   "cell_type": "code",
   "execution_count": null,
   "id": "d429fdec",
   "metadata": {},
   "outputs": [],
   "source": [
    "d = dict(zip(\"abc\", range(3)))\n",
    "print(f\"setdefault előtt: {d=}\")\n",
    "d.setdefault('d', []).append(1)\n",
    "print(f\"setdefault után: {d=}\")\n"
   ]
  },
  {
   "cell_type": "markdown",
   "id": "6bf814e4",
   "metadata": {
    "editable": true,
    "slideshow": {
     "slide_type": "subslide"
    },
    "tags": []
   },
   "source": [
    "- szótárból nyert sorozatok, ezek `for` ciklusban használhatóak:\n",
    "  \n",
    "  * `key()` kulcsok\n",
    "  * `values()` értékek\n",
    "  * `items()` kulcs érték párok"
   ]
  },
  {
   "cell_type": "code",
   "execution_count": null,
   "id": "24561bf8-5005-4aca-8091-4a6afe7ada97",
   "metadata": {
    "editable": true,
    "slideshow": {
     "slide_type": "subslide"
    },
    "tags": []
   },
   "outputs": [],
   "source": [
    "d = dict(zip(\"abc\", range(3)))"
   ]
  },
  {
   "cell_type": "code",
   "execution_count": null,
   "id": "23b0af6b-db2e-4722-9189-0e77363885d0",
   "metadata": {
    "editable": true,
    "slideshow": {
     "slide_type": ""
    },
    "tags": []
   },
   "outputs": [],
   "source": [
    "for key in d:\n",
    "    print(key, end=\", \")\n",
    "print()"
   ]
  },
  {
   "cell_type": "code",
   "execution_count": null,
   "id": "8f235bea-5a98-49e9-8c12-07de493e83e4",
   "metadata": {
    "editable": true,
    "slideshow": {
     "slide_type": "fragment"
    },
    "tags": []
   },
   "outputs": [],
   "source": [
    "for key in d.keys():\n",
    "    print(key, end=\", \")\n",
    "print()"
   ]
  },
  {
   "cell_type": "code",
   "execution_count": null,
   "id": "f4900a8d-30ea-4591-b67c-0339eea80177",
   "metadata": {
    "editable": true,
    "slideshow": {
     "slide_type": "fragment"
    },
    "tags": []
   },
   "outputs": [],
   "source": [
    "for value in d.values():\n",
    "    print(value, end=\", \")\n",
    "print()"
   ]
  },
  {
   "cell_type": "code",
   "execution_count": null,
   "id": "d7e5ac8f-ff08-404f-9fc4-d85c6217dbca",
   "metadata": {
    "editable": true,
    "slideshow": {
     "slide_type": "fragment"
    },
    "tags": []
   },
   "outputs": [],
   "source": [
    "for key, value in d.items():\n",
    "    print(f\"{key=}, {value=}\", end=\", \")\n",
    "print()"
   ]
  },
  {
   "cell_type": "markdown",
   "id": "610c9485",
   "metadata": {
    "editable": true,
    "slideshow": {
     "slide_type": "subslide"
    },
    "tags": []
   },
   "source": [
    "# Mi lehet kulcs egy szótárban?"
   ]
  },
  {
   "cell_type": "markdown",
   "id": "1af93799-3840-45cf-baf7-3fad8ae653dd",
   "metadata": {
    "editable": true,
    "slideshow": {
     "slide_type": ""
    },
    "tags": []
   },
   "source": [
    "**Bármi, aminek van `hash` értéke**. \n",
    "\n",
    "Az `immutable` típusú változóknak `int`, `float`, `bool`, `str`, `tuple` van `hash` értéke. \n",
    "\n",
    "Amiket ezek segítségével rakunk össze azoknak is van.   \n",
    "\n",
    "pl. \n",
    "  - `(1,2)`, `(3.14, 'ez a pi értéke')` lehetséges kulcsok.\n",
    "  - `[1, 2]`, `(1, [])` ezek nem jók kulcsnak."
   ]
  },
  {
   "cell_type": "markdown",
   "id": "3f31cc21-8234-4041-a4d2-a3d90a6dc3f2",
   "metadata": {
    "editable": true,
    "slideshow": {
     "slide_type": "subslide"
    },
    "tags": []
   },
   "source": [
    "## Talán meglepő, de függvény is lehet kulcs."
   ]
  },
  {
   "cell_type": "code",
   "execution_count": null,
   "id": "d7dbe80f",
   "metadata": {},
   "outputs": [],
   "source": [
    "def f():\n",
    "    pass\n",
    "\n",
    "d = {f: 1, int: 2, print: 3}\n",
    "print(f\"{d=}\")"
   ]
  },
  {
   "cell_type": "markdown",
   "id": "ec4f39f8",
   "metadata": {
    "editable": true,
    "slideshow": {
     "slide_type": ""
    },
    "tags": []
   },
   "source": [
    "# Összefoglaló a szótár (`dict`) típusról"
   ]
  },
  {
   "cell_type": "markdown",
   "id": "4cc12dc0",
   "metadata": {},
   "source": [
    "- Létrehozás: `{}` üres szótár, `{'a': 1}`, vagy dictonary comprehension\n",
    "\n",
    "- Használat `for` ciklusban: `for key in d:`, vagy `for value in d.values()`, vagy `for key, value in d.items()`.\n",
    "\n",
    "- Legfontosabb függvények: `len`, `in`, `get`, `pop`, `update`, `popitem`.\n",
    "\n",
    "- Az indexlés a kulccsal történik: `d[key]`, vagy `d.get(key, default_value)`\n",
    "\n",
    "- Átlagban konstans idő alatt tudjunk kiolvasni és beleírni kulcs érték párokat."
   ]
  }
 ],
 "metadata": {
  "celltoolbar": "Slideshow",
  "kernelspec": {
   "display_name": "Python 3 (ipykernel)",
   "language": "python",
   "name": "python3"
  },
  "language_info": {
   "codemirror_mode": {
    "name": "ipython",
    "version": 3
   },
   "file_extension": ".py",
   "mimetype": "text/x-python",
   "name": "python",
   "nbconvert_exporter": "python",
   "pygments_lexer": "ipython3",
   "version": "3.10.12"
  }
 },
 "nbformat": 4,
 "nbformat_minor": 5
}
