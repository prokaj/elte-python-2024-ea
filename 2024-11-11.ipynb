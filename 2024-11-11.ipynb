{
 "cells": [
  {
   "cell_type": "markdown",
   "id": "2dcbec99",
   "metadata": {
    "slideshow": {
     "slide_type": "slide"
    }
   },
   "source": [
    "# Ismétlés."
   ]
  },
  {
   "cell_type": "markdown",
   "id": "3710ca63",
   "metadata": {},
   "source": [
    "- OOP: öröklödés. Látunk rá egy rövid példát.\n",
    "- `numpy`. Numerikus python könyvtár. Legfontosabb típusa a ,,tömb'', `ndarray`.\n",
    "    \n",
    "   * A tömb típus legfontosabb attribútumai: `shape`, `dtype`.\n",
    "\n",
    "   * tömb létrehozása: `np.array`, `np.zeros`, `np.ones`, `np.empty`, `np.full`\n",
    "     (létezik `_like` változat is, amikor az `dtype`, `shape` attribútumokat egy másik tömb alapján állítja be).\n"
   ]
  },
  {
   "cell_type": "markdown",
   "id": "e4594b95",
   "metadata": {
    "slideshow": {
     "slide_type": "subslide"
    }
   },
   "source": [
    "Műveletek:\n",
    "\n",
    "- Elemenkénti műveletek: aritmetikai, logikai, bit műveletek elemenként értendőek.\n",
    "\n",
    "- Broadcasting: Ha két tömb alakja kompatibilis, akkor nincs gond az elemenkénti műveletekkel. Szabály: \n",
    "     \n",
    "  * A rövidebb `shape` kiegészül egyesekkel az elején.\n",
    "     \n",
    "  * Ha a két `shape` azonos hosszúságú, akkor az azonos tengelyek vagy egyforma méretűek, vagy legalább az egyik egyes.\n",
    "    \n",
    "- mátrix szorzás: `@`, `np.matmul`.\n",
    "\n",
    "- tömb műveletek: `sum`, `min`, `max`.\n",
    "  \n",
    "  * ezeknek lehet `axis` paraméterük. Melyik tengely mentén végezzük el az összevonást?\n",
    "\n",
    "   "
   ]
  },
  {
   "cell_type": "markdown",
   "id": "b12702c6",
   "metadata": {
    "slideshow": {
     "slide_type": "subslide"
    }
   },
   "source": [
    "### Tömbök összefűzése"
   ]
  },
  {
   "cell_type": "code",
   "execution_count": null,
   "id": "92454664",
   "metadata": {},
   "outputs": [],
   "source": [
    "import numpy as np"
   ]
  },
  {
   "cell_type": "code",
   "execution_count": null,
   "id": "55dae317",
   "metadata": {},
   "outputs": [],
   "source": [
    "A = np.arange(15).reshape(3, 5)\n",
    "\n",
    "B = np.zeros(shape=(3, 5), dtype=np.int_)"
   ]
  },
  {
   "cell_type": "code",
   "execution_count": null,
   "id": "0505c38d",
   "metadata": {
    "slideshow": {
     "slide_type": "-"
    }
   },
   "outputs": [],
   "source": [
    "# np.vstack((A, B))\n",
    "np.concatenate((A, B), axis=0)"
   ]
  },
  {
   "cell_type": "code",
   "execution_count": null,
   "id": "b9cebb0d",
   "metadata": {
    "slideshow": {
     "slide_type": "subslide"
    }
   },
   "outputs": [],
   "source": [
    "# np.hstack((A, B))\n",
    "np.concatenate((A, B), axis=1)"
   ]
  },
  {
   "cell_type": "code",
   "execution_count": null,
   "id": "5578f556",
   "metadata": {},
   "outputs": [],
   "source": [
    "np.stack((A, B))"
   ]
  },
  {
   "cell_type": "markdown",
   "id": "bced1e2d",
   "metadata": {
    "slideshow": {
     "slide_type": "subslide"
    }
   },
   "source": [
    "### Egyszerűbb statisztikai függvények"
   ]
  },
  {
   "cell_type": "code",
   "execution_count": null,
   "id": "d6c9142f",
   "metadata": {},
   "outputs": [],
   "source": [
    "v = np.array([1, 4, 3, 5, 35, 0, -1, 2])"
   ]
  },
  {
   "cell_type": "markdown",
   "id": "23471f54",
   "metadata": {},
   "source": [
    "$$\n",
    "\\overline v \\equiv \\text{mean}(v) = \\frac{\\sum_{i=1}^n v_i}{n},\n",
    "\\quad\n",
    "\\text{std}(v) = \\sqrt{\\frac{\\sum_{i=1}^n (v_i - \\overline{v})^2}{n}}\n",
    "$$"
   ]
  },
  {
   "cell_type": "code",
   "execution_count": null,
   "id": "0a3e0eaf",
   "metadata": {},
   "outputs": [],
   "source": [
    "print(f\"összeg: {np.sum(v)}, átlag: {np.mean(v):.3f}\")\n",
    "print(f\"medián: {np.median(v)}, szórás: {np.std(v):.3f}\")\n",
    "print(f\"szórásnégyzet (variancia): {np.var(v):.3f}\")"
   ]
  },
  {
   "cell_type": "code",
   "execution_count": null,
   "id": "629b2541",
   "metadata": {
    "slideshow": {
     "slide_type": "subslide"
    }
   },
   "outputs": [],
   "source": [
    "A = np.array([[1,  2,  3],\n",
    "              [10, 11, 12],\n",
    "              [0,  3,  1],\n",
    "              [10, -5, 1]])\n",
    "A"
   ]
  },
  {
   "cell_type": "code",
   "execution_count": null,
   "id": "963c8be9",
   "metadata": {},
   "outputs": [],
   "source": [
    "# A.sum()\n",
    "np.sum(A)"
   ]
  },
  {
   "cell_type": "code",
   "execution_count": null,
   "id": "8b16ad43",
   "metadata": {},
   "outputs": [],
   "source": [
    "# Elemek abszolútértékeinek összege\n",
    "np.sum(np.abs(A))"
   ]
  },
  {
   "cell_type": "code",
   "execution_count": null,
   "id": "6bddab4b",
   "metadata": {
    "slideshow": {
     "slide_type": "subslide"
    }
   },
   "outputs": [],
   "source": [
    "# elemek átlaga\n",
    "np.mean(A)"
   ]
  },
  {
   "cell_type": "code",
   "execution_count": null,
   "id": "15fedf4d",
   "metadata": {},
   "outputs": [],
   "source": [
    "# elemek szórása\n",
    "np.std(A)"
   ]
  },
  {
   "cell_type": "code",
   "execution_count": null,
   "id": "e8355c2d",
   "metadata": {},
   "outputs": [],
   "source": [
    "# elemek szórásnégyzete\n",
    "np.var(A)"
   ]
  },
  {
   "cell_type": "markdown",
   "id": "5c7427e8",
   "metadata": {
    "slideshow": {
     "slide_type": "subslide"
    }
   },
   "source": [
    "Többdimenziós tömböknél azonban érdekelhet minket a sorösszeg / oszlopösszeg, a sorátlag / oszlopátlag, stb. is."
   ]
  },
  {
   "cell_type": "code",
   "execution_count": null,
   "id": "c72c249b",
   "metadata": {},
   "outputs": [],
   "source": [
    "print(A.shape)\n",
    "# ez tehát az oszlopösszeg\n",
    "np.sum(A, axis=0)"
   ]
  },
  {
   "cell_type": "code",
   "execution_count": null,
   "id": "3c378752",
   "metadata": {},
   "outputs": [],
   "source": [
    "print(np.sum(A[1, :]))\n",
    "# ez a sorösszeg\n",
    "np.sum(A, axis=1)"
   ]
  },
  {
   "cell_type": "code",
   "execution_count": null,
   "id": "2b7a67a1",
   "metadata": {
    "slideshow": {
     "slide_type": "subslide"
    }
   },
   "outputs": [],
   "source": [
    "# A keletkező vektor egyik dimenziója azonban eltűnt, \n",
    "# a sorösszeg egy 1-dimenziós vektor lett\n",
    "row_sums = np.sum(A, axis=1, keepdims=True)\n",
    "print(row_sums.shape)\n",
    "row_sums"
   ]
  },
  {
   "cell_type": "code",
   "execution_count": null,
   "id": "d32a8d5b",
   "metadata": {},
   "outputs": [],
   "source": [
    "# Hasonlóan, oszlopátlagot is számolhatunk\n",
    "np.mean(A, axis=0)"
   ]
  },
  {
   "cell_type": "code",
   "execution_count": null,
   "id": "ba6e8868",
   "metadata": {
    "slideshow": {
     "slide_type": "subslide"
    }
   },
   "outputs": [],
   "source": [
    "A"
   ]
  },
  {
   "cell_type": "code",
   "execution_count": null,
   "id": "354a6500",
   "metadata": {},
   "outputs": [],
   "source": [
    "# melyik tengely mentén rendez a `sort`, ha nem adunk meg semmit?\n",
    "np.sort(A)"
   ]
  },
  {
   "cell_type": "code",
   "execution_count": null,
   "id": "aa5c6344",
   "metadata": {},
   "outputs": [],
   "source": [
    "np.sort(A, axis=0)"
   ]
  },
  {
   "cell_type": "code",
   "execution_count": null,
   "id": "a80afec1",
   "metadata": {
    "slideshow": {
     "slide_type": "subslide"
    }
   },
   "outputs": [],
   "source": [
    "help(np.sort)"
   ]
  },
  {
   "cell_type": "markdown",
   "id": "e433a2f3",
   "metadata": {
    "slideshow": {
     "slide_type": "subslide"
    }
   },
   "source": [
    "## Lineáris algebra és alkalmazásai"
   ]
  },
  {
   "cell_type": "code",
   "execution_count": null,
   "id": "bf477c6e",
   "metadata": {},
   "outputs": [],
   "source": [
    "A = np.array([[2, 4, 1], [2, 6, -1], [1, 5, 2]])\n",
    "b = np.array([4, 10, 2])"
   ]
  },
  {
   "cell_type": "code",
   "execution_count": null,
   "id": "62827aca",
   "metadata": {},
   "outputs": [],
   "source": [
    "print(f\"Az A mátrix determinánsa {np.linalg.det(A)}\")"
   ]
  },
  {
   "cell_type": "markdown",
   "id": "95c3847f",
   "metadata": {},
   "source": [
    "Hogy lehet egy egész elemű mátrix determinánsa nem egész?"
   ]
  },
  {
   "cell_type": "code",
   "execution_count": null,
   "id": "d8d5db40",
   "metadata": {
    "slideshow": {
     "slide_type": "subslide"
    }
   },
   "outputs": [],
   "source": [
    "qr = np.linalg.qr(A)\n",
    "print(qr.Q)\n",
    "print(\"-\"*10)\n",
    "print(qr.R)\n",
    "print(\"-\"*10)\n",
    "print(np.prod(qr.R.diagonal()))"
   ]
  },
  {
   "cell_type": "code",
   "execution_count": null,
   "id": "4ca9da13",
   "metadata": {
    "slideshow": {
     "slide_type": "subslide"
    }
   },
   "outputs": [],
   "source": [
    "print(qr.Q.T @ qr.Q)\n",
    "print(\"-\"*10)\n",
    "print(qr.Q @ qr.R)"
   ]
  },
  {
   "cell_type": "code",
   "execution_count": null,
   "id": "eb582b35",
   "metadata": {
    "slideshow": {
     "slide_type": "subslide"
    }
   },
   "outputs": [],
   "source": [
    "import functools\n",
    "\n",
    "def prod(iterable):\n",
    "    return functools.reduce(lambda a, b: a*b, iterable, 1)\n",
    "\n",
    "def det3(A):\n",
    "    assert A.shape == (3, 3)\n",
    "    return sum(\n",
    "        prod(A[j, (j+i) % 3] for j in range(3)) \n",
    "        - \n",
    "        prod(A[j, (i-j) % 3] for j in range(3))\n",
    "        for i in range(3) \n",
    "    )"
   ]
  },
  {
   "cell_type": "code",
   "execution_count": null,
   "id": "86e4c02a",
   "metadata": {},
   "outputs": [],
   "source": [
    "det3(A)"
   ]
  },
  {
   "cell_type": "code",
   "execution_count": null,
   "id": "0667feef",
   "metadata": {
    "slideshow": {
     "slide_type": "subslide"
    }
   },
   "outputs": [],
   "source": [
    "# Az A mátrix inverze\n",
    "np.linalg.inv(A), np.linalg.inv(A) @ A"
   ]
  },
  {
   "cell_type": "code",
   "execution_count": null,
   "id": "b3ffbf25",
   "metadata": {},
   "outputs": [],
   "source": [
    "# Az Ax = b lineáris egyenletrendszer megoldása:\n",
    "x = np.linalg.solve(A, b)\n",
    "x"
   ]
  },
  {
   "cell_type": "code",
   "execution_count": null,
   "id": "1ffcd0d5",
   "metadata": {},
   "outputs": [],
   "source": [
    "print(f\"{A @ x=}, {b=}\")"
   ]
  },
  {
   "cell_type": "markdown",
   "id": "fa779ea7",
   "metadata": {
    "slideshow": {
     "slide_type": "subslide"
    }
   },
   "source": [
    "**Feladat**: Adott két numpy vektor, `a = np.array([1,2,3,2,3,4,3,4,5,6])` és `b = np.array([7,2,10,2,7,4,9,4,9,8])`, állítsuk elő azt a vektort, ami a közös elemeket tartalmazza. (Keressünk numpy függvényeket erre a célra.)\n",
    "\n",
    "\n",
    "**Feladat**: Készítsünk egy $3\\times 3$-mas mátrixot, ami $2$ és $4$ közötti véletlen számokat tartalmaz. (Nézzük meg az `np.random` modul függvényeit.)\n",
    "\n",
    "**Feladat**: Az alábbi mátrix tartalmaz végtelen értékeket is. Töröljük azokat az oszlopokat, amelyekben szerepel végtelen érték. Hogyan kaphatjuk meg azon oszlopok indexeit, amely tartalmaz végtelen értéket?\n",
    "\n",
    "```python\n",
    "A = np.array([\n",
    "    [1,      2,       3, 14], \n",
    "    [2, np.inf,      -4,  0], \n",
    "    [3,      4, -np.inf, -3]\n",
    "])\n",
    "```\n",
    "\n",
    "**Feladat**: Adott mátrixra számoljuk ki minden sorra a sorbeli minimum és maximum értékek hányadosát."
   ]
  },
  {
   "cell_type": "markdown",
   "id": "e1eeb952",
   "metadata": {
    "slideshow": {
     "slide_type": "subslide"
    }
   },
   "source": [
    "A `numpy` egy nagy könyvtár, minden részletét megismerni valószínűleg felesleges, megtanulni valószínűleg lehetetlen. \n",
    "\n",
    "Ha valamire szükségünk van, akkor érdemes utánanézni, hogyan oldható meg.\n",
    "\n",
    "- [`numpy` dokumentáció](https://numpy.org/doc)\n",
    "\n",
    "- [`numpy` tutorials](https://numpy.org/numpy-tutorials/features.html)\n",
    "\n",
    "- [`numpy` howtos](https://numpy.org/doc/1.26/user/howtos_index.html)\n",
    "\n",
    "- [web3c numpy](https://www.w3schools.com/python/numpy/default.asp)"
   ]
  },
  {
   "cell_type": "markdown",
   "id": "4a923bab",
   "metadata": {
    "slideshow": {
     "slide_type": "slide"
    }
   },
   "source": [
    "# Adatok vizualizációja, `plot`s"
   ]
  },
  {
   "cell_type": "markdown",
   "id": "476a9cb6",
   "metadata": {},
   "source": [
    "Azonban akár képekkel, akár idősorokkal dolgozunk, nehéz tájékozódni vizuális segítség nélkül. \n",
    "\n",
    "A Python leggyakrabban használt plot-könyvtára a `matplotlib`.\n",
    "\n",
    "Néhány erre épülő könyvtár:\n",
    "\n",
    "- `seaborn` kényelmes statisztikai ábrák\n",
    "\n",
    "- `plotnine` kényelmes statisztikai ábrák, (a `ggplot2` `R` csomag pythonos megfelelője).\n",
    "\n",
    "Javascript-re épülő interaktív grafika jupyter notebookban:\n",
    "\n",
    "- `plotly`.\n",
    "\n",
    "- `gravis` gráfok megjelenítésére.\n",
    "\n",
    "Statikus gráf megjelenítés: `graphviz`."
   ]
  },
  {
   "cell_type": "markdown",
   "id": "8ccfc97b",
   "metadata": {
    "slideshow": {
     "slide_type": "subslide"
    }
   },
   "source": [
    "## Néhány példa függvény ábrára"
   ]
  },
  {
   "cell_type": "code",
   "execution_count": null,
   "id": "81b5b268",
   "metadata": {},
   "outputs": [],
   "source": [
    "import matplotlib.pyplot as plt"
   ]
  },
  {
   "cell_type": "code",
   "execution_count": null,
   "id": "f0919c5a",
   "metadata": {
    "scrolled": false
   },
   "outputs": [],
   "source": [
    "plt.figure(figsize=(16, 4))\n",
    "xs = np.linspace(0, 2*np.pi, 100)\n",
    "plt.plot(xs, np.sin(xs))\n",
    "plt.title(\"A szinusz függvény\")\n",
    "plt.grid(); plt.show() "
   ]
  },
  {
   "cell_type": "code",
   "execution_count": null,
   "id": "12198288",
   "metadata": {
    "slideshow": {
     "slide_type": "subslide"
    }
   },
   "outputs": [],
   "source": [
    "plt.figure(figsize=(16, 4))\n",
    "xs = np.linspace(0, 2*np.pi, 100)\n",
    "plt.plot(xs, np.sin(xs))\n",
    "plt.yticks([-1, -0.5, 0, 0.5, 1.0])\n",
    "plt.title(\"A szinusz függvény\"); plt.grid(); plt.show()"
   ]
  },
  {
   "cell_type": "code",
   "execution_count": null,
   "id": "40f191ee",
   "metadata": {
    "slideshow": {
     "slide_type": "subslide"
    }
   },
   "outputs": [],
   "source": [
    "fig, ax = plt.subplots(nrows=3, ncols=1, figsize=(18, 6))\n",
    "xs = np.linspace(0, 2*np.pi, 100)\n",
    "ax[0].plot(xs, np.sin(xs))\n",
    "ax[1].plot(xs, np.sin(2*xs))\n",
    "ax[2].plot(xs, np.sin(4*xs))\n",
    "plt.show()"
   ]
  },
  {
   "cell_type": "code",
   "execution_count": null,
   "id": "509ed86d",
   "metadata": {
    "slideshow": {
     "slide_type": "subslide"
    }
   },
   "outputs": [],
   "source": [
    "fig, ax = plt.subplots(nrows=3, ncols=1, figsize=(18, 6), sharex=True)\n",
    "xs = np.linspace(0, 2*np.pi, 100)\n",
    "ax[0].plot(xs, np.sin(xs), label=\"sin(x)\")\n",
    "ax[0].legend(loc=\"upper right\")\n",
    "ax[1].plot(xs, np.sin(2*xs), c=\"g\", label=\"sin(2x)\")\n",
    "ax[1].legend(loc=\"upper right\")\n",
    "ax[2].plot(xs, np.sin(4*xs), c=\"r\", label=\"sin(4x)\")\n",
    "ax[2].legend(loc=\"upper right\")\n",
    "plt.show()"
   ]
  },
  {
   "cell_type": "markdown",
   "id": "0d82702d",
   "metadata": {
    "slideshow": {
     "slide_type": "slide"
    }
   },
   "source": [
    "\n",
    "# Faktoriális értékének közelítése"
   ]
  },
  {
   "cell_type": "markdown",
   "id": "63ee73ad",
   "metadata": {},
   "source": [
    "Mekkora $n!$, ha $n$ nagy?\n",
    "\n",
    "Ötlet:\n",
    "$$\n",
    "    \\log n! = \\sum_{k=1}^n \\log k \\approx \\int_1^{?} \\log x dx = \\left[ x(\\log x-1)\\right]_{x=1}^{x=?}\n",
    "$$"
   ]
  },
  {
   "cell_type": "code",
   "execution_count": null,
   "id": "51ab2796",
   "metadata": {
    "slideshow": {
     "slide_type": "subslide"
    }
   },
   "outputs": [],
   "source": [
    "import matplotlib.pyplot as plt\n",
    "import math\n",
    "import numpy as np\n",
    "\n",
    "def subdivision(a, b, n):\n",
    "    return np.linspace(a, b, n+1)\n",
    "\n",
    "def add_function_curve(f, a, b, n=100):\n",
    "    xs = subdivision(a, b, n)\n",
    "    fxs = np.vectorize(f)(xs) \n",
    "    plt.plot(xs, fxs, \"r-\")"
   ]
  },
  {
   "cell_type": "markdown",
   "id": "a8d2d7ac",
   "metadata": {
    "slideshow": {
     "slide_type": "subslide"
    }
   },
   "source": [
    "## Téglalap közelítés"
   ]
  },
  {
   "cell_type": "code",
   "execution_count": null,
   "id": "2525edc2",
   "metadata": {},
   "outputs": [],
   "source": [
    "k_values = range(1, 11)\n",
    "for k in k_values:\n",
    "    plt.fill_between([k+i for k in k_values for i in range(2)], \n",
    "                     [math.log(k) for k in k_values for i in range(2)], \n",
    "                     color='lightblue')\n",
    "add_function_curve(math.log, 1, 11)"
   ]
  },
  {
   "cell_type": "markdown",
   "id": "769ed39d",
   "metadata": {
    "slideshow": {
     "slide_type": "subslide"
    }
   },
   "source": [
    "## A téglalap közelítéssel elkövetett hiba:"
   ]
  },
  {
   "cell_type": "code",
   "execution_count": null,
   "id": "beb68610",
   "metadata": {},
   "outputs": [],
   "source": [
    "def primitive_function(x):\n",
    "    return x*(math.log(x)-1)\n",
    "\n",
    "def rectangle_error(k):\n",
    "    return primitive_function(k+1)-primitive_function(k)-math.log(k)\n",
    "\n",
    "def cummulative_error(n, error_fun=rectangle_error):\n",
    "    return sum(error_fun(k) for k in range(1, n+1))"
   ]
  },
  {
   "cell_type": "code",
   "execution_count": null,
   "id": "02893834",
   "metadata": {},
   "outputs": [],
   "source": [
    "for n in [10, 100, 1000]:\n",
    "    print(f\"{n=}, {cummulative_error(n)=}\")"
   ]
  },
  {
   "cell_type": "markdown",
   "id": "dadacb76",
   "metadata": {
    "slideshow": {
     "slide_type": "subslide"
    }
   },
   "source": [
    "### Javítás, trapéz összeg közelítés"
   ]
  },
  {
   "cell_type": "markdown",
   "id": "394b245d",
   "metadata": {},
   "source": [
    "Téglalapok helyett minden egység intervallumon a beírt trapézt  használjuk."
   ]
  },
  {
   "cell_type": "code",
   "execution_count": null,
   "id": "e27f26af",
   "metadata": {},
   "outputs": [],
   "source": [
    "k_values = range(1, 11) \n",
    "for k in k_values:\n",
    "    plt.fill_between(k_values, [math.log(k) for k in k_values], color='lightblue')\n",
    "add_function_curve(math.log, 1, 10)"
   ]
  },
  {
   "cell_type": "code",
   "execution_count": null,
   "id": "dc48e2c6",
   "metadata": {
    "slideshow": {
     "slide_type": "subslide"
    }
   },
   "outputs": [],
   "source": [
    "def error_fun(x):\n",
    "    k, t = divmod(x, 1)\n",
    "    return math.log(x) - ((1-t)*math.log(k) + t*math.log(k+1))\n",
    "\n",
    "xs = subdivision(1, 10, 100)\n",
    "plt.fill_between(xs, [error_fun(x) for x in xs], color='lightblue')\n",
    "add_function_curve(error_fun, 1, 10, 500)"
   ]
  },
  {
   "cell_type": "code",
   "execution_count": null,
   "id": "4c612284",
   "metadata": {
    "slideshow": {
     "slide_type": "subslide"
    }
   },
   "outputs": [],
   "source": [
    "def modified_error_fun(x):\n",
    "    k = x//1\n",
    "    return k*k*error_fun(x)\n",
    "\n",
    "def show_modified_error(a):\n",
    "    b = a+10\n",
    "    xs = subdivision(a, b, 1000)\n",
    "    plt.fill_between(xs, [modified_error_fun(x) for x in xs], color='lightblue')\n",
    "    add_function_curve(modified_error_fun, a, b, 1000)\n",
    "    plt.show()"
   ]
  },
  {
   "cell_type": "code",
   "execution_count": null,
   "id": "273be583",
   "metadata": {
    "slideshow": {
     "slide_type": "subslide"
    }
   },
   "outputs": [],
   "source": [
    "show_modified_error(1)"
   ]
  },
  {
   "cell_type": "code",
   "execution_count": null,
   "id": "63ed5d11",
   "metadata": {
    "slideshow": {
     "slide_type": "subslide"
    }
   },
   "outputs": [],
   "source": [
    "show_modified_error(10)"
   ]
  },
  {
   "cell_type": "code",
   "execution_count": null,
   "id": "64d79758",
   "metadata": {
    "slideshow": {
     "slide_type": "subslide"
    }
   },
   "outputs": [],
   "source": [
    "show_modified_error(100)"
   ]
  },
  {
   "cell_type": "code",
   "execution_count": null,
   "id": "81f77b35",
   "metadata": {
    "slideshow": {
     "slide_type": "subslide"
    }
   },
   "outputs": [],
   "source": [
    "show_modified_error(10000)"
   ]
  },
  {
   "cell_type": "code",
   "execution_count": null,
   "id": "be246ce2",
   "metadata": {
    "slideshow": {
     "slide_type": "subslide"
    }
   },
   "outputs": [],
   "source": [
    "def trapezoid_error(k):\n",
    "    return primitive_function(k+1)-primitive_function(k)-0.5*(math.log(k)+math.log(k+1))\n"
   ]
  },
  {
   "cell_type": "code",
   "execution_count": null,
   "id": "75531e21",
   "metadata": {},
   "outputs": [],
   "source": [
    "for n in [10, 100, 1000]:\n",
    "    print(f\"{n = :>4}, {cummulative_error(n, trapezoid_error) = :.8f}\")"
   ]
  },
  {
   "cell_type": "markdown",
   "id": "22aa743c",
   "metadata": {
    "slideshow": {
     "slide_type": "subslide"
    }
   },
   "source": [
    "## Látszik, hogy a hiba lassan nő. Tudunk-e felső becslést adni rá?\n",
    "\n",
    "$$\n",
    "    \\int_{k}^{k+1} \\log x dx = \\int_0^1 \\log(k+x) dx\n",
    "$$\n",
    "\n",
    "A beírt trapéz területe integrállal\n",
    "\n",
    "$$\n",
    "    \\int_0^1 x\\log(k+1)+(1-x)\\log(k) dx\n",
    "$$\n",
    "\n",
    "Tudjuk-e becsülni a két integrandus különbségét?\n",
    "\n",
    "$$\n",
    "    \\log(k+x) - (x\\log(k+1)+(1-x)\\log(k)) \n",
    "    = \\log\\left(1+\\frac xk\\right) - x\\log\\left(1+\\frac 1k\\right)\n",
    "$$\n"
   ]
  },
  {
   "cell_type": "markdown",
   "id": "5679d645",
   "metadata": {
    "slideshow": {
     "slide_type": "subslide"
    }
   },
   "source": [
    "A logaritmus függvény konkáv, a derivált monoton fogy ($1/x$) és egy beírt húr mindig a végponthoz behúzott érintő egyenesek alatt van.\n",
    "\n",
    "$$\n",
    "    \\log (1+x)\\leq x\n",
    "$$\n",
    "\n",
    "ezért\n",
    "$$\n",
    "    0\\leq \\log\\left(1+\\frac xk\\right) - x \\log\\left(1+\\frac1k\\right)\\leq \n",
    "\\frac xk + x\\log\\left(\\frac{k}{k+1}\\right) \n",
    "\\leq x\\left(\\frac1k-\\frac1{k+1}\\right)\n",
    "$$\n",
    "<!-- \n",
    "de\n",
    "$$\n",
    "    \\log(1+1/k) = \\log\\frac{k+1}{k} = -\\log\\frac{k}{k+1} = -\\log(1-1/(k+1)) \\geq \\frac1{k+1}\n",
    "$$\n",
    " \n",
    "Így\n",
    "\n",
    "$$\n",
    "    \\log(1+x/k) - x \\log(1+1/k)\\leq x\\left(\\frac1k-\\frac1{k+1}\\right)\n",
    "$$\n",
    "-->\n",
    "és a $k$. intervallumon elkövetett hiba legfeljebb\n",
    "$$\n",
    "    \\int_{0}^{1} \\log(k+x) - ((1-x)\\log(k)+x\\log(k+1))dx = \\int_0^1 x dx \\left(\\frac1k -\\frac1{k+1}\\right)\n",
    "$$\n",
    "A hibák összege legfeljebb:\n",
    "$$\n",
    "    \\frac12 \\sum_{k=1}^\\infty \\frac1k -\\frac1{k+1} =\\frac12\n",
    "$$"
   ]
  },
  {
   "cell_type": "markdown",
   "id": "9fd6ce9e",
   "metadata": {
    "slideshow": {
     "slide_type": "subslide"
    }
   },
   "source": [
    "**Összefoglalva**:\n",
    "\n",
    "$$\n",
    "    \\log n! = \\int_1^n \\log x dx + \\frac12 \\log n + r_n =\n",
    "    \\log\\left(\\sqrt{n}\\left(\\frac{n}{e}\\right)^n\\right) + 1 + r_n\n",
    "$$\n",
    "ahol $r_n$ a közelítés hibája az első $n$ intervallumon\n",
    "$$\n",
    "    r_n = \\sum_{k=1}^n \\int_0^1 \\log(1+x/k)-x\\log(1+1/k)dx \\leq 1/2\n",
    "$$\n",
    "$(r_n)$ monoton nő, ezért létezik limesze.\n",
    "\n",
    "Visszaírva faktoriálisra:\n",
    "\n",
    "$$\n",
    "    n! = \\sqrt{n}\\left(\\frac{n}{e}\\right)^n c_n\n",
    "$$\n",
    "ahol $c_n=e^{1+r_n}\\leq e^{3/2}$"
   ]
  },
  {
   "cell_type": "markdown",
   "id": "eb870997",
   "metadata": {
    "slideshow": {
     "slide_type": "subslide"
    }
   },
   "source": [
    "Analízisben a **Wallis** formulaként szerepel a következő eredmény:\n",
    "$$\n",
    "    \\lim_{n\\to\\infty} \\sqrt{n}\\frac{1}{2^{2n}} \\binom{2n}{n} =\\frac{1}{\\sqrt{\\pi}}\n",
    "$$\n",
    "\n",
    "\n",
    "**HF** Írjuk be a faktoriális fenti alakját, a Wallis formulába, használjuk ki, hogy $(c_n)$ konvergens és számítsuk ki, hogy\n",
    "$$\n",
    "\\lim c_n = \\sqrt{2\\pi}\n",
    "$$\n",
    "\n",
    "Ez a nevezetes **Stirling** formula:\n",
    "$$\n",
    " \\frac{n!}{\\sqrt{2\\pi n}\\left(\\frac{n}{e}\\right)^n} \\to 1\n",
    "$$"
   ]
  },
  {
   "cell_type": "markdown",
   "id": "37952c7f",
   "metadata": {
    "slideshow": {
     "slide_type": "subslide"
    }
   },
   "source": [
    "## Maximum eloszlása szimmetrikus bolyongásnál"
   ]
  },
  {
   "cell_type": "markdown",
   "id": "48e1eba2",
   "metadata": {},
   "source": [
    "\n",
    "Szimmetrikus bolyongás alatt olyan véletlen sorozatot értünk, ami a nullából indul és minden lépése (megváltozása 1 vagy −1, 1/2–1/2 valószínűséggel a többi lépéstől függetlenül.\n",
    "\n",
    "**Cél**:\n",
    "\n",
    "- Írjunk egy függvényt, ami a numpy könyvtár függvényei segítségével elkészíti $n$ hosszú bolyongásoknak egy $m$ elemű sorozatát! Azaz a függvény kimenete egy $m\\times n$ mátrix, az egyes sorok az egyes bolyongásokat írják le.\n",
    "\n",
    "- Rajzoljunk ki néhány bolyongást! \n",
    "- Készítsünk hisztogramot a bolyongások utolsó pozíciójából (ez a függvény által visszakapott mátrix utolsó oszlopa). \n",
    "- Készítsünk hisztogramot a bolyongások maximális értékéből is (ezek a mátrixunk soronkénti maximumai). "
   ]
  },
  {
   "cell_type": "code",
   "execution_count": null,
   "id": "40628cda",
   "metadata": {
    "slideshow": {
     "slide_type": "subslide"
    }
   },
   "outputs": [],
   "source": [
    "import numpy as np\n",
    "import matplotlib.pyplot as plt\n",
    "\n",
    "def random_walk(n, m=1):\n",
    "    steps = np.where(np.random.binomial(1, 0.5, size=(m, n-1)), 1, -1)\n",
    "    walk = np.zeros((m, n), dtype=np.int32)\n",
    "    steps.cumsum(axis=1, out=walk[:,1:])\n",
    "    return walk"
   ]
  },
  {
   "cell_type": "code",
   "execution_count": null,
   "id": "dcff6fb7",
   "metadata": {
    "slideshow": {
     "slide_type": "-"
    }
   },
   "outputs": [],
   "source": [
    "random_walk(10)"
   ]
  },
  {
   "cell_type": "code",
   "execution_count": null,
   "id": "8630ea1f",
   "metadata": {
    "slideshow": {
     "slide_type": "subslide"
    }
   },
   "outputs": [],
   "source": [
    "import ipytest\n",
    "ipytest.autoconfig()"
   ]
  },
  {
   "cell_type": "code",
   "execution_count": null,
   "id": "c1089b35",
   "metadata": {},
   "outputs": [],
   "source": [
    "%%ipytest\n",
    "\n",
    "def test_random_walk():\n",
    "    rw = random_walk(10)\n",
    "    assert rw.shape == (1,10)\n",
    "\n",
    "    rw = random_walk(100)\n",
    "    assert set(np.diff(rw[0])) == {-1, 1}\n",
    "  \n",
    "    rw = random_walk(100, 1000)\n",
    "    assert (rw[:, 0]==0).all()\n",
    "\n"
   ]
  },
  {
   "cell_type": "code",
   "execution_count": null,
   "id": "995c49df",
   "metadata": {
    "slideshow": {
     "slide_type": "subslide"
    }
   },
   "outputs": [],
   "source": [
    "rw = random_walk(10000, 4)\n",
    "for i in range(4):\n",
    "    plt.plot(rw[i], linewidth=0.5)\n",
    "plt.grid()\n",
    "plt.show()"
   ]
  },
  {
   "cell_type": "code",
   "execution_count": null,
   "id": "4106aede",
   "metadata": {
    "slideshow": {
     "slide_type": "subslide"
    }
   },
   "outputs": [],
   "source": [
    "rw = random_walk(101, 200000) # 100 lépés, 200_000 elemű minta"
   ]
  },
  {
   "cell_type": "code",
   "execution_count": null,
   "id": "ef10310c",
   "metadata": {
    "slideshow": {
     "slide_type": "subslide"
    }
   },
   "outputs": [],
   "source": [
    "rw_last  =  rw[:, -1]\n",
    "plt.hist(rw_last, density=True)\n",
    "plt.grid()\n",
    "plt.show()"
   ]
  },
  {
   "cell_type": "code",
   "execution_count": null,
   "id": "07421546",
   "metadata": {
    "slideshow": {
     "slide_type": "subslide"
    }
   },
   "outputs": [],
   "source": [
    "\n",
    "bins = np.arange(rw_last.min()-1, rw_last.max()+2, 2)\n",
    "plt.hist(rw_last, bins, density=True)\n",
    "plt.grid()\n",
    "plt.show()"
   ]
  },
  {
   "cell_type": "code",
   "execution_count": null,
   "id": "4e26b1d1",
   "metadata": {
    "slideshow": {
     "slide_type": "subslide"
    }
   },
   "outputs": [],
   "source": [
    "rw_max = rw.max(axis=1)\n",
    "# print(rw_max.shape)"
   ]
  },
  {
   "cell_type": "code",
   "execution_count": null,
   "id": "08b0cb23",
   "metadata": {},
   "outputs": [],
   "source": [
    "plt.hist(rw_max, density=True)\n",
    "plt.grid(); plt.show()"
   ]
  },
  {
   "cell_type": "code",
   "execution_count": null,
   "id": "7c5bca74",
   "metadata": {
    "slideshow": {
     "slide_type": "subslide"
    }
   },
   "outputs": [],
   "source": [
    "bins = np.arange(rw_max.max()+2)-0.5\n",
    "plt.hist(rw_max, bins, density=True)\n",
    "plt.grid(); plt.show()"
   ]
  },
  {
   "cell_type": "code",
   "execution_count": null,
   "id": "d35aad4a",
   "metadata": {
    "slideshow": {
     "slide_type": "subslide"
    }
   },
   "outputs": [],
   "source": [
    "bins = np.arange(rw_last.min()-1, rw_last.max()+2, 2)\n",
    "plt.hist(rw_last, bins, alpha=0.5)\n",
    "bins = np.arange(0,rw_max.max()+2, 1)-0.5\n",
    "plt.hist(rw_max, bins, alpha=0.5)\n",
    "plt.grid(); plt.show()"
   ]
  },
  {
   "cell_type": "markdown",
   "id": "4bbf25c8",
   "metadata": {
    "slideshow": {
     "slide_type": "subslide"
    }
   },
   "source": [
    "## Magyarázat\n",
    "\n",
    "A két ábra nagyon hasonlít, a maximumok hisztogrammja olyan mint felső ábra pozitív fele.\n",
    "\n",
    "A szimmetikus bolyongás egy véletlen sorozat, a szokásos jelölés $(S_k)_{0\\leq k\\leq n}$.\n",
    "\n",
    "A maximum eloszlása pl. tükrözési elvvel számolható. $\\ell\\geq0$-ra:\n",
    "\n",
    "$$\n",
    "\\mathbb{P}(\\max_{k\\leq n} S_k\\geq x) =\n",
    "\\mathbb{P}(\\max_{k\\leq n} S_k\\geq x,\\, S_n\\geq x) +\n",
    "\\mathbb{P}(\\max_{k\\leq n} S_k\\geq x,\\, S_n<x)\n",
    "$$\n",
    "\n",
    "A második taggal kell foglalkozni. Nézzük azt az esetet, amikor $S_n=y< x$.\n",
    "\n",
    "Minden lehetséges út egyformán valószínű ($1/2^n$). Így az  a kérdés, hány olyan út van ami $(0,0)$-ból $(n,y)$-ba, aminek maximuma legalább $x$. Az ilyen utak a *jó* utak.\n",
    "\n",
    "Egy jó út esetén legyen $t$ az első olyan index, amikor az $x$ szinten jár, és a $t$ utáni lépéseket fordítsuk az ellentettjükre."
   ]
  },
  {
   "cell_type": "code",
   "execution_count": null,
   "id": "c2cef5a0",
   "metadata": {
    "slideshow": {
     "slide_type": "subslide"
    }
   },
   "outputs": [],
   "source": [
    "rw_max = rw.max(axis=1)\n",
    "x = 8\n",
    "idx = np.where((rw_last<x) & (rw_max>=x))[0]\n",
    "\n",
    "if len(idx)>0:\n",
    "    idx = idx.min()\n",
    "    rw0 = rw[idx]\n",
    "    t = np.where(rw0==x)[0].min()\n",
    "    rw1 = np.zeros_like(rw0)\n",
    "    rw1[:t+1] = rw0[:t+1]\n",
    "    rw1[t+1:] = 2*rw0[t]-rw0[t+1:]\n",
    "else:\n",
    "    print(\"nincs a feltételnek megfelelő bolyongás\")"
   ]
  },
  {
   "cell_type": "code",
   "execution_count": null,
   "id": "9927ec86",
   "metadata": {
    "slideshow": {
     "slide_type": "subslide"
    }
   },
   "outputs": [],
   "source": [
    "plt.plot(rw0, label=\"eredeti út\", alpha=0.5)\n",
    "plt.plot(rw1, label=\"tükrözött út\", alpha=0.5)\n",
    "plt.hlines([x], 0, len(rw0))\n",
    "plt.plot(t, x, 'ro')\n",
    "plt.grid(); plt.legend(); plt.show()"
   ]
  },
  {
   "cell_type": "markdown",
   "id": "461594a5",
   "metadata": {
    "slideshow": {
     "slide_type": "subslide"
    }
   },
   "source": [
    "Ha $x\\geq 0$ és $y<x$, akkor\n",
    "a fenti hozzárendelés bijekció azon utak között, amik $(0,0)$-ból $(n,y)$-ba mennek és közben járnak $x$ magasságban és azon utak között, amik\n",
    "$(0,0)$-ból $(n,2x-y)$ mennek. A tükrözött útból úgy kaphatjuk vissza az eredetit, hogy $t$ a tükrözött útból is megkapható, mint az első olyan index, amikor az $x$ szinten jár a bolyongás, és a $t$ utáni növekményeket $-1$-gyel szorozzuk.\n",
    "\n",
    "$$\n",
    "\\begin{aligned}\n",
    "\\mathbb{P}(\\max_{k\\leq n} S_k\\geq x) &=\n",
    "\\mathbb{P}(\\max_{k\\leq n} S_k\\geq x,\\, S_n\\geq x) +\n",
    "\\mathbb{P}(\\max_{k\\leq n} S_k\\geq x,\\, S_n<x)\\\\\n",
    "&= \\mathbb{P}(S_n\\geq x) +\n",
    "\\mathbb{P}(S_n>x)\n",
    "\\end{aligned}\n",
    "$$\n",
    "\n",
    "Ebből\n",
    "$$\n",
    "\\mathbb{P}(\\max_{k\\leq n} S_k = x) = \\mathbb{P}(S_n = x) + \\mathbb{P}(S_n = x+1)\n",
    "$$\n",
    "\n"
   ]
  },
  {
   "cell_type": "markdown",
   "id": "5994952b",
   "metadata": {
    "slideshow": {
     "slide_type": "subslide"
    }
   },
   "source": [
    "A *tükrözési elvből* valójában az jött ki, hogy:\n",
    "\n",
    "$$\n",
    "\\mathbb{P}(\\max_{k\\leq n} S_k\\geq x,\\, S_n\\leq y)= \\mathbb{P}(S_n\\geq 2x-y),\\quad\\text{ha $x\\geq 0$ és $y\\leq x$}\n",
    "$$\n",
    "\n",
    "Ebből, ha $x\\geq 0$ és $y\\leq x$\n",
    "\n",
    "$$\n",
    "\\begin{aligned}\n",
    "\\mathbb{P}(\\max_{k\\leq n} S_k = x,\\, S_n\\leq y) \n",
    "& = \\mathbb{P}(S_n\\geq 2x-y)- \\mathbb{P}(S_n\\geq 2x-y+2)\\\\\n",
    "& = \\mathbb{P}(S_n = 2x-y)+\\mathbb{P}(S_n = 2x-y+1)\\\\\n",
    "\\mathbb{P}(\\max_{k\\leq n} S_k = x,\\, S_n = y) &\n",
    "= \\mathbb{P}(S_n = 2x-y)+\\mathbb{P}(S_n = 2x-y+1) \\\\\n",
    "&\\hphantom{{}={}} - (\\mathbb{P}(S_n = 2x-(y-1))+\\mathbb{P}(S_n = 2x-(y-1)+1))\\\\\n",
    "& = \\mathbb{P}(S_n = 2x-y)-\\mathbb{P}(S_n = 2x-y+2)\n",
    "\\end{aligned}\n",
    "$$\n",
    "\n"
   ]
  },
  {
   "cell_type": "markdown",
   "id": "dd440f8e",
   "metadata": {
    "slideshow": {
     "slide_type": "subslide"
    }
   },
   "source": [
    "\n",
    "A `plt.hist` függvény használata helyett célszerű magunknak kigyűjteni a gyakoriságokat."
   ]
  },
  {
   "cell_type": "code",
   "execution_count": null,
   "id": "d9608631",
   "metadata": {},
   "outputs": [],
   "source": [
    "rw_last_values, rw_last_cnts = np.unique(rw_last, return_counts=True)\n",
    "rw_last_probs = rw_last_cnts/rw_last_cnts.sum()\n",
    "\n",
    "rw_max_values, rw_max_cnts = np.unique(rw_max, return_counts=True)\n",
    "rw_max_probs = rw_max_cnts/rw_max_cnts.sum()\n",
    "\n",
    "plt.bar(rw_last_values, rw_last_probs, width=2, alpha=0.5, label='last')\n",
    "plt.bar(rw_max_values, rw_max_probs, width=1, alpha=0.5, label='max')\n",
    "plt.legend()\n",
    "plt.show()"
   ]
  },
  {
   "cell_type": "markdown",
   "id": "b8c65067",
   "metadata": {
    "slideshow": {
     "slide_type": "subslide"
    }
   },
   "source": [
    "Be tudjuk-e rajzolni a haranggörbét?\n",
    "\n",
    "Ehhez egyrészt használhatjuk a `scipy.stats` `norm` objektumának `pdf` (probablity density function) metódusát. Vagy megírhatjuk magunk is.\n",
    "\n",
    "Vegyük észre, hogy 100 lépés után az átlag 0  a szórás $10=\\sqrt{100}$. Pl. a generált mintában ezek az értékek:"
   ]
  },
  {
   "cell_type": "code",
   "execution_count": null,
   "id": "a37a6d77",
   "metadata": {},
   "outputs": [],
   "source": [
    "print(f\"minta átlag = {rw_last.mean():.3f}, minta szórása={rw_last.std():.3f}\")"
   ]
  },
  {
   "cell_type": "code",
   "execution_count": null,
   "id": "5d4b6c9b",
   "metadata": {
    "slideshow": {
     "slide_type": "subslide"
    }
   },
   "outputs": [],
   "source": [
    "from scipy.stats import norm as gauss"
   ]
  },
  {
   "cell_type": "code",
   "execution_count": null,
   "id": "fb6e4bca",
   "metadata": {},
   "outputs": [],
   "source": [
    "sigma = (rw.shape[1]-1)**0.5\n",
    "plt.plot(rw_last_values, gauss.pdf(rw_last_values, 0, sigma))\n",
    "plt.grid()\n",
    "plt.show()"
   ]
  },
  {
   "cell_type": "code",
   "execution_count": null,
   "id": "53c09d91",
   "metadata": {
    "slideshow": {
     "slide_type": "subslide"
    }
   },
   "outputs": [],
   "source": [
    "plt.bar(rw_last_values, rw_last_probs, width=2, alpha=0.5)\n",
    "plt.bar(rw_max_values, rw_max_probs, width=1, alpha=0.5)\n",
    "plt.plot(rw_last_values, 2*gauss.pdf(rw_last_values, 0, sigma))\n",
    "plt.show()"
   ]
  },
  {
   "cell_type": "markdown",
   "id": "d0f8eb46",
   "metadata": {
    "slideshow": {
     "slide_type": "subslide"
    }
   },
   "source": [
    "## Utolsó nullhely.\n",
    "\n",
    "Szimmetrikus bolyongás alatt olyan véletlen sorozatot értünk, ami a nullából indul és minden lépése (megváltozása) 1 vagy −1, 1/2–1/2\n",
    "valószínűséggel a többi lépéstől függetlenül.\n",
    "\n",
    "**Cél**:\n",
    "\n",
    "- Minden bolyongásra számoljuk ki az utolsó nulla érték indexét és ezt osszuk el a bolyongás hosszával. \n",
    "\n",
    "- Készítsünk hisztogramot az így kapott értékekből.\n",
    "\n",
    "- Van-e olyan szép függvény, ami illeszkedik a hisztogram alakjára."
   ]
  },
  {
   "cell_type": "code",
   "execution_count": null,
   "id": "61cb231d",
   "metadata": {},
   "outputs": [],
   "source": [
    "np.nonzero?"
   ]
  },
  {
   "cell_type": "code",
   "execution_count": null,
   "id": "3ad5ce00",
   "metadata": {},
   "outputs": [],
   "source": [
    "np.where(rw[0]==0)[0]"
   ]
  },
  {
   "cell_type": "markdown",
   "id": "fa8cdcb5",
   "metadata": {
    "slideshow": {
     "slide_type": "subslide"
    }
   },
   "source": [
    "A bolyongás legyártásában nincs különbség. Az utolsó nullhelyet nehézkesebb csak array műveletekkel számolni."
   ]
  },
  {
   "cell_type": "code",
   "execution_count": null,
   "id": "23f8f8fc",
   "metadata": {},
   "outputs": [],
   "source": [
    "def last_zero(rw):\n",
    "    return np.array([np.where(row==0)[0].max() for row in rw])\n",
    "\n",
    "def last_zero_2(rw):\n",
    "    return ((rw==0)*np.arange(0, rw.shape[1])).max(axis=1)"
   ]
  },
  {
   "cell_type": "code",
   "execution_count": null,
   "id": "1bcf7535",
   "metadata": {
    "slideshow": {
     "slide_type": "subslide"
    }
   },
   "outputs": [],
   "source": [
    "%%ipytest\n",
    "\n",
    "def last_zero_row(row):\n",
    "    idx = 0\n",
    "    for i, x in enumerate(row):\n",
    "        if x==0:\n",
    "            idx = i\n",
    "    return idx\n",
    "\n",
    "def last_zero_with_for(rw):\n",
    "    return np.array([last_zero_row(row) for row in rw])\n",
    "\n",
    "\n",
    "def test_last_zero():\n",
    "    rw = random_walk(100,1000)\n",
    "    assert (last_zero(rw) == last_zero_with_for(rw)).all()\n",
    "    assert (last_zero_2(rw) == last_zero_with_for(rw)).all()\n"
   ]
  },
  {
   "cell_type": "code",
   "execution_count": null,
   "id": "8d322d20",
   "metadata": {
    "slideshow": {
     "slide_type": "subslide"
    }
   },
   "outputs": [],
   "source": [
    "print(f\"{sum(rw[:,-2]==0)=}, {rw.shape=}\")"
   ]
  },
  {
   "cell_type": "code",
   "execution_count": null,
   "id": "d8b9e4b1",
   "metadata": {},
   "outputs": [],
   "source": [
    "rw_last_zero = last_zero(rw)/(rw.shape[1]-1)\n",
    "print(f\"{rw_last_zero.min()}, {rw_last_zero.max()}\")\n",
    "plt.hist(rw_last_zero)\n",
    "plt.show()"
   ]
  },
  {
   "cell_type": "code",
   "execution_count": null,
   "id": "958dbd2e",
   "metadata": {
    "slideshow": {
     "slide_type": "subslide"
    }
   },
   "outputs": [],
   "source": [
    "rw_last_zero = last_zero_2(rw)\n",
    "rw_last_zero_values, rw_last_zero_cnts = np.unique(rw_last_zero, return_counts=True)\n",
    "rw_last_zero_probs = rw_last_zero_cnts/rw_last_zero_cnts.sum()\n",
    "rw_last_zero_values  = rw_last_zero_values.astype(np.float64)/(rw.shape[1]-1)\n",
    "width = np.diff(rw_last_zero_values).max()"
   ]
  },
  {
   "cell_type": "code",
   "execution_count": null,
   "id": "25f20d37",
   "metadata": {},
   "outputs": [],
   "source": [
    "plt.bar(rw_last_zero_values, rw_last_zero_probs, width=0.9*width)\n",
    "plt.show()"
   ]
  },
  {
   "cell_type": "markdown",
   "id": "61c4aea9",
   "metadata": {
    "slideshow": {
     "slide_type": "subslide"
    }
   },
   "source": [
    "## Magyarázat.\n",
    "\n",
    "A korábbi számolásból\n",
    "\n",
    "$$\n",
    "  \\begin{aligned}\n",
    "    \\mathbb{P}(S_{1}\\geq 0, \\dots S_n\\geq 0) &= \n",
    "    \\mathbb{P}(\\min_{k\\leq n} S_k\\geq 0) = \\mathbb{P}(\\max_{k\\leq n} S_k\\leq 0) \\\\\n",
    "    &= \\mathbb{P}(\\max_{k\\leq n} S_k= 0) = \\mathbb{P}(S_n=0)+\\mathbb{P}(S_n=1)\\\\ \n",
    "    &= \\mathbb{P}(S_n=0)+\\mathbb{P}(S_{n+1}=0)\n",
    "  \\end{aligned}\n",
    "$$\n",
    "\n",
    "Innen\n",
    "\n",
    "$$\n",
    "    \\mathbb{P}(S_{1}> 0, \\dots S_n> 0) = \\frac12\\mathbb{P}(\\min_{k\\leq n} S_k-S_1\\geq 0) = \\frac12\\left(\\mathbb{P}(S_{n-1}=0)+\\mathbb{P}(S_{n}=0)\\right)\n",
    "$$\n",
    "\n",
    "és\n",
    "\n",
    "$$\n",
    "  \\begin{aligned}\n",
    "    \\mathbb{P}(S_{1}\\neq 0, \\dots S_n\\neq 0) &=\n",
    "    \\mathbb{P}(S_{1}> 0, \\dots S_n> 0)+\\mathbb{P}(S_{1}< 0, \\dots S_n< 0) \\\\\n",
    "    & = \\mathbb{P}(S_{n-1}=0)+\\mathbb{P}(S_{n}=0)\n",
    "  \\end{aligned}\n",
    "$$"
   ]
  },
  {
   "cell_type": "markdown",
   "id": "08330e73",
   "metadata": {
    "slideshow": {
     "slide_type": "subslide"
    }
   },
   "source": [
    "Legyen $n=2k$ páros és $T_n$ az utolsó nullhely az első $n$ lépés során.\n",
    "\n",
    "Az előző számolásból:\n",
    "\n",
    "$$\n",
    "\\mathbb{P}(S_{1}\\neq 0, \\dots S_{2k}\\neq 0)= \\mathbb{P}(S_{2k}=0)\n",
    "$$\n",
    "\n",
    "\n",
    "$$\n",
    "  \\begin{aligned}\n",
    "    \\mathbb{P}(T_n = 2\\ell) & =\n",
    "    \\mathbb{P}(S_{2\\ell}=0,\\, S_{2\\ell+i}-S_{2\\ell}\\neq 0,\\, i=1,\\dots,2k-2\\ell) \\\\\n",
    "    & = \\mathbb{P}(S_{2\\ell}=0)\\mathbb{P}(S_{2(n-\\ell)}=0)\\\\\n",
    "    & = \\frac{1}{2^{2\\ell}}\\binom{2\\ell}{\\ell}\\frac{1}{2^{2(k-\\ell)}}\\binom{2(k-\\ell)}{k-\\ell}\n",
    "  \\end{aligned}\n",
    "$$\n",
    "\n",
    "HF középiskolából: rekurzió $I_k = \\int_0^{\\pi/2}\\cos^k(\\alpha)d\\alpha$. Ha ezt felírjuk, kihasználjuk, hogy $I_0=\\pi/2$, $I_1=1$, akkor azt kapjuk, hogy\n",
    "$$\n",
    "    \\frac1{\\sqrt{\\pi(k+1/2)}}\\leq \\frac{1}{2^{2k}}\\binom{2k}{k}\\leq \\frac{1}{\\sqrt{\\pi k}},\n",
    "    \\quad\n",
    "    \\frac1{\\sqrt{\\pi(k+1/4)}}\\approx \\frac{1}{2^{2k}}\\binom{2k}{k}\n",
    "$$\n",
    "\n",
    "Azaz\n",
    "\n",
    "$$\n",
    "    \\mathbb{P}(T_n=2\\ell) \\approx \\frac{2}{n}\\left.\\frac{1}{\\pi}\\cdot\\frac1{\\sqrt{x(1-x)}}\\right|_{x=\\frac{2\\ell}{n}}\n",
    "$$"
   ]
  },
  {
   "cell_type": "markdown",
   "id": "6157118d",
   "metadata": {
    "slideshow": {
     "slide_type": "subslide"
    }
   },
   "source": [
    ",,Ellenőrizzük'' a kapott formulát"
   ]
  },
  {
   "cell_type": "code",
   "execution_count": null,
   "id": "aa621cfd",
   "metadata": {},
   "outputs": [],
   "source": [
    "def arcsin_probs(x):\n",
    "    width = np.diff(rw_last_zero_values).max()\n",
    "    d = np.zeros_like(x)\n",
    "    y = (x+0.33*width)*(1-x+0.33*width)\n",
    "    d[y>0] = width/(np.sqrt(y[y>0])*np.pi)\n",
    "    return d"
   ]
  },
  {
   "cell_type": "code",
   "execution_count": null,
   "id": "b5cf51a5",
   "metadata": {},
   "outputs": [],
   "source": [
    "plt.bar(rw_last_zero_values, rw_last_zero_probs, width=0.9*width)\n",
    "plt.plot(rw_last_zero_values, arcsin_probs(rw_last_zero_values), color='red')\n",
    "plt.show()"
   ]
  },
  {
   "cell_type": "markdown",
   "id": "61ccee1c",
   "metadata": {
    "slideshow": {
     "slide_type": "subslide"
    }
   },
   "source": [
    "## Variációk `numpy` függvényekre "
   ]
  },
  {
   "cell_type": "markdown",
   "id": "6aa22593",
   "metadata": {},
   "source": [
    "Tudunk-e cummulative maximumot számolni `numpy` segítségével?\n",
    "\n",
    "Ilyen függvényt nem találunk, de teszőleges `ufunc`-ból lehet **accumulált** változatot készíteni."
   ]
  },
  {
   "cell_type": "markdown",
   "id": "c307ce79",
   "metadata": {
    "slideshow": {
     "slide_type": "subslide"
    }
   },
   "source": [
    "## Kitérő: `np.ufunc` Univerzális tömb függvények"
   ]
  },
  {
   "cell_type": "code",
   "execution_count": null,
   "id": "068c1acd",
   "metadata": {},
   "outputs": [],
   "source": [
    "[method for method in dir(np.ufunc) if not method.startswith(\"_\")]"
   ]
  },
  {
   "cell_type": "code",
   "execution_count": null,
   "id": "5e5b67b1",
   "metadata": {},
   "outputs": [],
   "source": [
    "def short_help(f):\n",
    "\n",
    "    i = f.__doc__.find(\"Parameters\")\n",
    "    return f.__doc__ if i<0 else f.__doc__[:i]"
   ]
  },
  {
   "cell_type": "code",
   "execution_count": null,
   "id": "e986f21b",
   "metadata": {
    "slideshow": {
     "slide_type": "subslide"
    }
   },
   "outputs": [],
   "source": [
    "print(short_help(np.ufunc.accumulate))"
   ]
  },
  {
   "cell_type": "code",
   "execution_count": null,
   "id": "e75c796f",
   "metadata": {
    "slideshow": {
     "slide_type": "subslide"
    }
   },
   "outputs": [],
   "source": [
    "print(short_help(np.ufunc.at))"
   ]
  },
  {
   "cell_type": "code",
   "execution_count": null,
   "id": "57d6af08",
   "metadata": {
    "slideshow": {
     "slide_type": "subslide"
    }
   },
   "outputs": [],
   "source": [
    "print(short_help(np.ufunc.outer))"
   ]
  },
  {
   "cell_type": "code",
   "execution_count": null,
   "id": "5d7a2546",
   "metadata": {
    "slideshow": {
     "slide_type": "subslide"
    }
   },
   "outputs": [],
   "source": [
    "print(short_help(np.ufunc.reduce))"
   ]
  },
  {
   "cell_type": "code",
   "execution_count": null,
   "id": "197a6512",
   "metadata": {
    "slideshow": {
     "slide_type": "subslide"
    }
   },
   "outputs": [],
   "source": [
    "print(short_help(np.ufunc.reduceat))"
   ]
  },
  {
   "cell_type": "code",
   "execution_count": null,
   "id": "2cad62ff",
   "metadata": {
    "slideshow": {
     "slide_type": "subslide"
    }
   },
   "outputs": [],
   "source": [
    "np.maximum.accumulate(rw, axis=1)"
   ]
  },
  {
   "cell_type": "code",
   "execution_count": null,
   "id": "930f9936",
   "metadata": {},
   "outputs": [],
   "source": [
    "rw = random_walk(1000)[0]\n",
    "running_min = np.minimum.accumulate(rw, axis=-1)\n",
    "# rw.shape, running_min.shape\n",
    "plt.plot(rw, label=\"$S$\")\n",
    "plt.plot(running_min, label=\"$S$\\u0332\")\n",
    "plt.plot(rw-running_min, label=\"$S-S\\u0332$\")\n",
    "# plt.plot(rw-2*running_min, label=\"$S-2S\\u0332$\")\n",
    "plt.legend()\n",
    "plt.grid()\n",
    "plt.show()"
   ]
  },
  {
   "cell_type": "markdown",
   "id": "5e08d30b",
   "metadata": {
    "slideshow": {
     "slide_type": "slide"
    }
   },
   "source": [
    "# Öröklődés"
   ]
  },
  {
   "cell_type": "markdown",
   "id": "5b0bdbf6",
   "metadata": {},
   "source": [
    "Korábban szerepelt ehhez hasonló példa. Legyenek `Polygon`, `Rectangle`, `Square` osztályaink.\n",
    "Minden négyzet téglalap és minden téglalap sokszög. Egy sokszöget a csúcsok felsorolásával adhatunk meg.\n",
    "Ebből a kerület, terület kiszámolható és eldönthető, hogy a sokszög konvex-e. Ha akarjuk pl. a `Matplotlib` könyvtárral ki is rajzolhatjuk a sokszöget.\n",
    "\n",
    "Menetközben síkvektorokkal akarunk számolni. Erre kényelmes a `numpy` könyvtárat használni."
   ]
  },
  {
   "cell_type": "code",
   "execution_count": null,
   "id": "728b8a5b",
   "metadata": {
    "slideshow": {
     "slide_type": "subslide"
    }
   },
   "outputs": [],
   "source": [
    "import numpy as np\n",
    "from itertools import pairwise\n",
    "import matplotlib.pyplot as plt"
   ]
  },
  {
   "cell_type": "code",
   "execution_count": null,
   "id": "c6ca0615",
   "metadata": {},
   "outputs": [],
   "source": [
    "class Point(np.ndarray):\n",
    "    def __new__(cls, point):\n",
    "        point = np.asarray(point)\n",
    "        assert point.shape[-1] == 2\n",
    "        return point.view(cls)\n",
    "\n",
    "    def __repr__(self):\n",
    "        if self.ndim > 1:\n",
    "            return f\"Array of Points\"\n",
    "        else:\n",
    "            a, b =  self\n",
    "        return f\"Point{(a,b)}\"\n",
    "    \n",
    "def rotate90(x):\n",
    "    return np.flip(x, axis=-1)*np.array([1, -1])"
   ]
  },
  {
   "cell_type": "code",
   "execution_count": null,
   "id": "46f4ce33",
   "metadata": {},
   "outputs": [],
   "source": [
    "Point((1,2))-Point((3,4))"
   ]
  },
  {
   "cell_type": "code",
   "execution_count": null,
   "id": "80693c9a",
   "metadata": {
    "slideshow": {
     "slide_type": "subslide"
    }
   },
   "outputs": [],
   "source": [
    "class Polygon:\n",
    "\n",
    "    def __init__(self, nodes):\n",
    "        self.nodes = tuple((Point(node) for node in nodes))\n",
    "\n",
    "    def area(self):\n",
    "        nodes = np.array(self.nodes)\n",
    "        area = sum(v1[0]*v2[1]-v1[1]*v2[0] for v1, v2 in pairwise(nodes-nodes[0]))\n",
    "        return abs(area)/2\n",
    "\n",
    "    def edges(self):\n",
    "        nodes = np.array(self.nodes)\n",
    "        return nodes-np.roll(nodes, 1, axis=0)\n",
    "    \n",
    "    def perimeter(self):\n",
    "        return sum(np.linalg.norm(edge) for edge in self.edges())\n",
    "    \n",
    "    def is_convex(self):\n",
    "        edges = self.edges()\n",
    "        sgn = np.einsum('ij,ij->i', rotate90(edges), np.roll(edges, 1, axis=0))\n",
    "        return (min(sgn)*max(sgn)>=0)\n",
    "\n",
    "    def draw(self,  *args, fill=False, **kwargs):\n",
    "        nodes = self.nodes + self.nodes[:1]\n",
    "        x, y = np.array(nodes).T\n",
    "        if fill:\n",
    "            plt.fill(x, y, alpha=0.5)\n",
    "        plt.plot(x, y, *args, **kwargs)\n",
    "        plt.axis('equal')\n",
    "\n",
    "    def __repr__(self):\n",
    "        return f'{type(self).__name__}({[tuple(x) for x in self.nodes]})'"
   ]
  },
  {
   "cell_type": "code",
   "execution_count": null,
   "id": "d5b1fb48",
   "metadata": {
    "slideshow": {
     "slide_type": "subslide"
    }
   },
   "outputs": [],
   "source": [
    "class Rectangle(Polygon):\n",
    "\n",
    "    def __init__(self, P1, P2, r):\n",
    "        \"\"\"\n",
    "        P1, P2 froms an edge and r is the ratio of edge lengths.\n",
    "\n",
    "        Assuming that e is P1P2 rotated counterclockwise by 90 degree\n",
    "        the vertices are:\n",
    "        P1, P2, P2+r*e, P1+r*e\n",
    "        \"\"\"\n",
    "        P1, P2 = Point(P1), Point(P2)\n",
    "        v = rotate90(P2-P1)*r\n",
    "        super(Rectangle, self).__init__([P1, P2, P2+v, P1+v])\n",
    "\n",
    "\n",
    "class Square(Rectangle):\n",
    "\n",
    "    def __init__(self, P1, P2):\n",
    "        super(Square, self).__init__(P1, P2, 1)"
   ]
  },
  {
   "cell_type": "code",
   "execution_count": null,
   "id": "f08112f9",
   "metadata": {},
   "outputs": [],
   "source": [
    "rotate90(np.array([[0, 1], [1, 0]]))"
   ]
  },
  {
   "cell_type": "code",
   "execution_count": null,
   "id": "716e8ea0",
   "metadata": {
    "slideshow": {
     "slide_type": "subslide"
    }
   },
   "outputs": [],
   "source": [
    "points = np.array([[0,0], [1,1]])\n",
    "s = Square(points[0], points[1])\n",
    "t = Rectangle(points[0], points[1], 2)\n",
    "p = Polygon(points)\n",
    "for x in [s, t, p]:\n",
    "    print(f\"{x} kerület: {x.perimeter():.2f}, konvex: {x.is_convex()}, terület: {x.area():.2f}\")\n"
   ]
  },
  {
   "cell_type": "markdown",
   "id": "e0674903",
   "metadata": {},
   "source": [
    "Vegyük észre, hogy az `__repr__` metódust csak egyszer implementáltuk, mégis minden egyednek a saját típusát írja ki!\n",
    "Az előző kód blokkot futtassuk le azután is, hogy a `draw` metódust implementáltuk."
   ]
  },
  {
   "cell_type": "code",
   "execution_count": null,
   "id": "6c746e9c",
   "metadata": {
    "slideshow": {
     "slide_type": "subslide"
    }
   },
   "outputs": [],
   "source": [
    "import matplotlib.pyplot as plt"
   ]
  },
  {
   "cell_type": "code",
   "execution_count": null,
   "id": "e76e04d7",
   "metadata": {},
   "outputs": [],
   "source": [
    "points = np.array([[0,0], [2,0], [2,2], [1,1], [1,2], [0,2], [0.5,1]])\n",
    "p = Polygon(list(points))\n",
    "print(f\"{p} konvex?: {p.is_convex()}, {p.area()=}\")\n",
    "p.draw('o-', fill=True)\n",
    "plt.grid(); plt.show()\n"
   ]
  },
  {
   "cell_type": "code",
   "execution_count": null,
   "id": "00f63ce4",
   "metadata": {
    "slideshow": {
     "slide_type": "subslide"
    }
   },
   "outputs": [],
   "source": [
    "plt.plot(*np.array(s.nodes)[[0,1,2,3,0]].T)\n",
    "plt.grid()\n",
    "plt.axis('equal')\n",
    "# plt.axis('off')\n"
   ]
  },
  {
   "cell_type": "code",
   "execution_count": null,
   "id": "6e713b24",
   "metadata": {
    "slideshow": {
     "slide_type": "subslide"
    }
   },
   "outputs": [],
   "source": [
    "t.draw('o-', alpha=0.5)\n",
    "s.draw('o:', markersize=10, alpha=0.5, fill=True)\n",
    "p.draw('o-', mfc=\"r\", mec='r', alpha=0.5)\n",
    "plt.show()"
   ]
  },
  {
   "cell_type": "code",
   "execution_count": null,
   "id": "2faac5e5",
   "metadata": {
    "slideshow": {
     "slide_type": "subslide"
    }
   },
   "outputs": [],
   "source": [
    "p = Square([0,0], [1,0])\n",
    "p.draw(fill=True)"
   ]
  },
  {
   "cell_type": "markdown",
   "id": "e9e656ba",
   "metadata": {
    "slideshow": {
     "slide_type": "slide"
    }
   },
   "source": [
    "# A `pandas` könyvtár"
   ]
  },
  {
   "cell_type": "markdown",
   "id": "4b580695",
   "metadata": {},
   "source": [
    "Nagyon sok adat táblázatos formátumú. \n",
    "\n",
    "Statisztikában, klasszikus gépi tanulási algoritmusoknál a táblázat sorai egy-egy adatpontot reprezentálnak. \n",
    "\n",
    "A sor elemei a megfigyelt tulajdonságok, ezek nem feltétlenül azonos típusúak.\n",
    "\n",
    "Egy példa a `Kaggle`-ről: "
   ]
  },
  {
   "cell_type": "code",
   "execution_count": null,
   "id": "e5b7874a",
   "metadata": {},
   "outputs": [],
   "source": [
    "import kagglehub\n",
    "\n",
    "# Download latest version\n",
    "path = kagglehub.dataset_download(\"budincsevity/szeged-weather\")\n",
    "\n",
    "print(\"Path to dataset files:\", path)"
   ]
  },
  {
   "cell_type": "code",
   "execution_count": null,
   "id": "03eadbe1",
   "metadata": {
    "slideshow": {
     "slide_type": "subslide"
    }
   },
   "outputs": [],
   "source": [
    "from pathlib import Path\n",
    "\n",
    "path = Path(path)\n",
    "\n",
    "print(*path.glob(\"*\"), sep=\"\\n\")"
   ]
  },
  {
   "cell_type": "code",
   "execution_count": null,
   "id": "7e0e7f5d",
   "metadata": {},
   "outputs": [],
   "source": [
    "import pandas as pd\n",
    "csv_file = next(iter(path.glob(\"*.csv\")))\n",
    "df = pd.read_csv(csv_file, nrows=5)\n",
    "df.head()"
   ]
  },
  {
   "cell_type": "code",
   "execution_count": null,
   "id": "72d61d4f",
   "metadata": {
    "slideshow": {
     "slide_type": "subslide"
    }
   },
   "outputs": [],
   "source": [
    "df = pd.read_csv(csv_file)\n",
    "df.shape"
   ]
  },
  {
   "cell_type": "code",
   "execution_count": null,
   "id": "236a4ffc",
   "metadata": {
    "slideshow": {
     "slide_type": "subslide"
    }
   },
   "outputs": [],
   "source": [
    "df.info()"
   ]
  },
  {
   "cell_type": "code",
   "execution_count": null,
   "id": "560cf779",
   "metadata": {
    "slideshow": {
     "slide_type": "subslide"
    }
   },
   "outputs": [],
   "source": [
    "df.describe()"
   ]
  },
  {
   "cell_type": "code",
   "execution_count": null,
   "id": "5e63f33c",
   "metadata": {
    "slideshow": {
     "slide_type": "subslide"
    }
   },
   "outputs": [],
   "source": [
    "df.isna().sum()"
   ]
  },
  {
   "cell_type": "code",
   "execution_count": null,
   "id": "0b033c63",
   "metadata": {
    "slideshow": {
     "slide_type": "subslide"
    }
   },
   "outputs": [],
   "source": [
    "df[\"Precip Type\"].value_counts()"
   ]
  },
  {
   "cell_type": "code",
   "execution_count": null,
   "id": "6dc897b4",
   "metadata": {
    "slideshow": {
     "slide_type": "subslide"
    }
   },
   "outputs": [],
   "source": [
    "df[\"date\"] = pd.to_datetime(df[\"Formatted Date\"], utc=True)"
   ]
  },
  {
   "cell_type": "code",
   "execution_count": null,
   "id": "f3ba5067",
   "metadata": {},
   "outputs": [],
   "source": [
    "df[df[\"date\"].dt.hour==12].shape\n"
   ]
  },
  {
   "cell_type": "code",
   "execution_count": null,
   "id": "c65dea64",
   "metadata": {
    "slideshow": {
     "slide_type": "subslide"
    }
   },
   "outputs": [],
   "source": [
    "import matplotlib.pyplot as plt\n",
    "\n",
    "ax = df[df.date.dt.hour==12].plot(x=\"date\", y=\"Temperature (C)\", figsize=(16, 4), kind=\"scatter\", s=1)\n",
    "ax.set_title(\"Hőmérséklet Szegeden 12 órakor (UTC)\")\n",
    "ax.set_xlabel(\"Év\")\n",
    "ax.grid()\n",
    "plt.show()"
   ]
  },
  {
   "cell_type": "code",
   "execution_count": null,
   "id": "a9eca2c9",
   "metadata": {
    "slideshow": {
     "slide_type": "subslide"
    }
   },
   "outputs": [],
   "source": [
    "ax = df.groupby(df.date.dt.hour)[\"Temperature (C)\"].mean().plot(kind=\"bar\", figsize=(8, 3))\n",
    "ax.set_xlabel(\"óra\")\n",
    "ax.set_ylabel(\"átlag hőmérséklet (C)\")\n",
    "plt.show()"
   ]
  },
  {
   "cell_type": "code",
   "execution_count": null,
   "id": "54b1c031",
   "metadata": {
    "slideshow": {
     "slide_type": "subslide"
    }
   },
   "outputs": [],
   "source": [
    "import seaborn as sns\n",
    "\n",
    "df[\"hónap\"] = df.date.dt.month_name(locale=\"hu_HU.utf8\")\n",
    "df[\"óra\"]  = df.date.dt.hour\n",
    "df[\"nap\"] = df.date.dt.day_of_year\n",
    "df[\"év\"] = df.date.dt.year\n",
    "    \n",
    "plt.figure(figsize=(8, 3))\n",
    "sns.lineplot(\n",
    "    data=df[(df.date.dt.hour == 12)], \n",
    "    x=\"nap\", \n",
    "    y=\"Temperature (C)\", \n",
    ")\n",
    "plt.show()"
   ]
  },
  {
   "cell_type": "markdown",
   "id": "de547587",
   "metadata": {
    "slideshow": {
     "slide_type": "subslide"
    }
   },
   "source": [
    "## `pandas.DataFrame` létrehozása, indexelés "
   ]
  },
  {
   "cell_type": "markdown",
   "id": "a6ebfb49",
   "metadata": {},
   "source": [
    "Néhány lehetőség:"
   ]
  },
  {
   "cell_type": "code",
   "execution_count": null,
   "id": "b951f2d9",
   "metadata": {},
   "outputs": [],
   "source": [
    "data = [{'a': 1, 'b':2}, {'a': 3, 'b':4}]\n",
    "pd.DataFrame(data)"
   ]
  },
  {
   "cell_type": "code",
   "execution_count": null,
   "id": "0cc8b3bb",
   "metadata": {
    "slideshow": {
     "slide_type": "subslide"
    }
   },
   "outputs": [],
   "source": [
    "pd.DataFrame({'a': [1, 3], 'b': [2, 4]})"
   ]
  },
  {
   "cell_type": "code",
   "execution_count": null,
   "id": "0f907dae",
   "metadata": {},
   "outputs": [],
   "source": [
    "pd.DataFrame([[1,2], [3,4]], columns=['a', 'b'])"
   ]
  },
  {
   "cell_type": "markdown",
   "id": "67743e60",
   "metadata": {
    "slideshow": {
     "slide_type": "subslide"
    }
   },
   "source": [
    "## Indexelés, `loc` és `iloc` segítségével"
   ]
  },
  {
   "cell_type": "code",
   "execution_count": null,
   "id": "0f461cf0",
   "metadata": {},
   "outputs": [],
   "source": [
    "if df.index.name is None:\n",
    "    df.set_index(\"date\", inplace=True)\n",
    "if 'Formatted Date' in df.columns:\n",
    "    df.drop(columns=[\"Formatted Date\"], inplace=True)\n",
    "df = df.sort_index()"
   ]
  },
  {
   "cell_type": "markdown",
   "id": "88e6262c",
   "metadata": {},
   "source": [
    "`loc` esetén index értékeket és oszlopneveket használunk"
   ]
  },
  {
   "cell_type": "code",
   "execution_count": null,
   "id": "1e453a73",
   "metadata": {},
   "outputs": [],
   "source": [
    "df.loc[\"2007-01-01\":\"2007-12-31\", [\"Summary\", \"Humidity\", \"Precip Type\"]]"
   ]
  },
  {
   "cell_type": "markdown",
   "id": "b541306d",
   "metadata": {
    "slideshow": {
     "slide_type": "subslide"
    }
   },
   "source": [
    "`iloc` esetén numerikus indexeket."
   ]
  },
  {
   "cell_type": "code",
   "execution_count": null,
   "id": "c3f8ee00",
   "metadata": {},
   "outputs": [],
   "source": [
    "df.iloc[:5, :5]"
   ]
  },
  {
   "cell_type": "markdown",
   "id": "792beaa9",
   "metadata": {
    "slideshow": {
     "slide_type": "subslide"
    }
   },
   "source": [
    "Egy data frame minden oszlopa egy `pandas.Series` objektum. Ezek indexelt numpy vectorok."
   ]
  },
  {
   "cell_type": "code",
   "execution_count": null,
   "id": "b01b3db0",
   "metadata": {},
   "outputs": [],
   "source": [
    "col = df[\"Summary\"]\n",
    "print(f\"{type(col)=}, {col.dtype=}, {col.shape=}, {col.ndim=}, {col.name=}\")\n",
    "col.head()\n"
   ]
  },
  {
   "cell_type": "code",
   "execution_count": null,
   "id": "d4ee9bfa",
   "metadata": {
    "slideshow": {
     "slide_type": "subslide"
    }
   },
   "outputs": [],
   "source": [
    "df[[\"Summary\"]].head()"
   ]
  },
  {
   "cell_type": "code",
   "execution_count": null,
   "id": "8bb0f453",
   "metadata": {
    "slideshow": {
     "slide_type": "subslide"
    }
   },
   "outputs": [],
   "source": [
    "df.iloc[:5,:5].values"
   ]
  },
  {
   "cell_type": "code",
   "execution_count": null,
   "id": "1aee087c",
   "metadata": {
    "slideshow": {
     "slide_type": "subslide"
    }
   },
   "outputs": [],
   "source": [
    "df[\"Temperature (C)\"].values"
   ]
  },
  {
   "cell_type": "markdown",
   "id": "c7937eda",
   "metadata": {
    "slideshow": {
     "slide_type": "subslide"
    }
   },
   "source": [
    "### Kiírás fileba"
   ]
  },
  {
   "cell_type": "code",
   "execution_count": null,
   "id": "bbe933fe",
   "metadata": {},
   "outputs": [],
   "source": [
    "df.iloc[:5, :5].to_csv(\"/tmp/small.csv\")"
   ]
  },
  {
   "cell_type": "code",
   "execution_count": null,
   "id": "eb03ed96",
   "metadata": {},
   "outputs": [],
   "source": [
    "! cat /tmp/small.csv"
   ]
  },
  {
   "cell_type": "markdown",
   "id": "31dfc8c5",
   "metadata": {
    "slideshow": {
     "slide_type": "subslide"
    }
   },
   "source": [
    "## Néhány `DataFrame`-ekkel végezhető művelet\n",
    "\n",
    "- `numpy`-ban látott aggregáló műveletek (`min`, `max` `sum`, `mean`, `std`, `corr`)\n",
    "\n",
    "- `groupby`: Csoportosítás adott oszlop, vagy oszlopok értékei szerint. \n",
    "\n",
    "- `merge`: két `DataFrame`-ből egyet készít.\n",
    "\n",
    "- `pivot_table`: Összefoglaló táblázat (EXCEL funkcióhoz hasonlít)."
   ]
  },
  {
   "cell_type": "code",
   "execution_count": null,
   "id": "2f944edd",
   "metadata": {
    "slideshow": {
     "slide_type": "subslide"
    }
   },
   "outputs": [],
   "source": [
    "df.loc(1)[df.dtypes == np.float64].corr()"
   ]
  },
  {
   "cell_type": "code",
   "execution_count": null,
   "id": "b0ac37f9",
   "metadata": {
    "slideshow": {
     "slide_type": "subslide"
    }
   },
   "outputs": [],
   "source": [
    "months = pd.date_range(\"2000-01-01\", \"2000-12-31\", freq=\"ME\").month_name(locale=\"hu_HU.utf8\").values\n",
    "months"
   ]
  },
  {
   "cell_type": "code",
   "execution_count": null,
   "id": "f9d24a5e",
   "metadata": {},
   "outputs": [],
   "source": [
    "mean_temp = df.groupby(\"hónap\")[[\"Temperature (C)\"]].mean()\n",
    "mean_temp.columns = [\"Havi átlaghőmérséklet\"]\n",
    "mean_temp = mean_temp.loc(0)[months]\n",
    "mean_temp\n"
   ]
  },
  {
   "cell_type": "code",
   "execution_count": null,
   "id": "06f11bbb",
   "metadata": {
    "slideshow": {
     "slide_type": "subslide"
    }
   },
   "outputs": [],
   "source": [
    "# több szempont szerint is lehet csoportosítani.\n",
    "mean_temp = df.groupby([\"hónap\", \"Precip Type\"])[[\"Temperature (C)\"]].mean()\n",
    "mean_temp.columns = [\"Havi átlaghőmérséklet\"]\n",
    "mean_temp.loc(0)[months] "
   ]
  },
  {
   "cell_type": "code",
   "execution_count": null,
   "id": "cd871126",
   "metadata": {
    "slideshow": {
     "slide_type": "subslide"
    }
   },
   "outputs": [],
   "source": [
    "# Merge variációi: how lehet inner, left, right, outer\n",
    "a = pd.DataFrame([[1, 2], [3, 4]], columns=[\"a\", \"b\"])\n",
    "b = pd.DataFrame([[1, 3], [5, 6]], columns=[\"a\", \"b\"])\n",
    "a.merge(b, on=\"a\", how=\"outer\", suffixes=(\"_left\", \"_right\"))"
   ]
  },
  {
   "cell_type": "code",
   "execution_count": null,
   "id": "041ea513",
   "metadata": {
    "slideshow": {
     "slide_type": "subslide"
    }
   },
   "outputs": [],
   "source": [
    "df[\"óra/4\"] = df[\"óra\"]//4\n",
    "table = df.pivot_table(index=\"hónap\", columns=\"óra/4\", values=\"Temperature (C)\", aggfunc=\"mean\")\n",
    "table = table.loc(0)[months]\n",
    "table.columns = [f\"{i*4}-{(i+1)*4}\" for i in range(6)]\n",
    "table.columns.name = \"Idősáv\"\n",
    "table"
   ]
  },
  {
   "cell_type": "code",
   "execution_count": null,
   "id": "ed5f0a4a",
   "metadata": {},
   "outputs": [],
   "source": [
    "df.pivot_table(index=[\"hónap\", \"Precip Type\"], columns=\"óra/4\", values=\"Temperature (C)\", aggfunc=\"mean\").loc(0)[months]"
   ]
  },
  {
   "cell_type": "markdown",
   "id": "35b5388b",
   "metadata": {
    "slideshow": {
     "slide_type": "slide"
    }
   },
   "source": [
    "# Néhány algoritmus"
   ]
  },
  {
   "cell_type": "markdown",
   "id": "dcf1ae87",
   "metadata": {},
   "source": [
    "Hogyan számolnánk ki ${}^3\\sqrt{2}$-at, vagy $\\sqrt{2}$-t 50 tizedesjegy pontossággal?"
   ]
  },
  {
   "cell_type": "code",
   "execution_count": null,
   "id": "06e89060",
   "metadata": {
    "slideshow": {
     "slide_type": "subslide"
    }
   },
   "outputs": [],
   "source": [
    "import math\n",
    "\n",
    "def print_answer(answer):\n",
    "    answer = str(answer)\n",
    "    print(f\"{answer[0]}.\", end=\"\")\n",
    "    for i in range(1, len(answer), 50):\n",
    "        for j in range(i, i+50, 5):\n",
    "            print(answer[j:j+5], end=\" \")\n",
    "        print(\"\\n  \", end=\"\")\n",
    "    print()\n",
    "    \n",
    "n = 126\n",
    "answer = math.isqrt(2*(10**(2*n)))\n",
    "print_answer(answer)\n"
   ]
  },
  {
   "cell_type": "code",
   "execution_count": null,
   "id": "dd2c6e50",
   "metadata": {
    "slideshow": {
     "slide_type": "subslide"
    }
   },
   "outputs": [],
   "source": [
    "n = 100\n",
    "answer = math.isqrt(2*(10**(2*n)))\n",
    "print_answer(answer)\n"
   ]
  },
  {
   "cell_type": "markdown",
   "id": "31f6183a",
   "metadata": {
    "slideshow": {
     "slide_type": "subslide"
    }
   },
   "source": [
    "Mi a helyzet  ${}^3\\sqrt{2}$-mal?\n",
    "\n",
    "Az \n",
    "$$\n",
    "f(x) = c-x^3\n",
    "$$\n",
    "függvény nullhelyét keressük. Pontosabban azt a legnagyobb $x$ egészet, amire $f(x)\\geq 0$, ez a $^{3}\\sqrt{c}$ egészrésze. \n",
    "\n",
    "Ha $c=2*10^{3*n}$, ekkor a megoldás  $[^{3}\\sqrt{2}*10^n]$. Azaz az első $n$ tizedesjegy pontos lesz."
   ]
  },
  {
   "cell_type": "markdown",
   "id": "f5aad7b7",
   "metadata": {
    "slideshow": {
     "slide_type": "subslide"
    }
   },
   "source": [
    "## Nullhely keresés"
   ]
  },
  {
   "cell_type": "markdown",
   "id": "96cb481b",
   "metadata": {},
   "source": [
    "Ötlet, induljunk ki egy jó tippből és közelítsük a függvényünket lineáris függvénnyel.\n",
    "\n",
    "$$\n",
    "    f(x) \\approx f(x_n)+(x-x_n) f'(x_n)\n",
    "$$\n",
    "\n",
    "és \n",
    "\n",
    "$$\n",
    "    f(x_n) + (x-x_n) f'(x_n)=0 \\quad\\iff\\quad  x = x_n - \\frac{f(x_n)}{f'(x_n)}\n",
    "$$"
   ]
  },
  {
   "cell_type": "markdown",
   "id": "caa31d0e",
   "metadata": {
    "slideshow": {
     "slide_type": "subslide"
    }
   },
   "source": [
    "Rekurzió:\n",
    "$$\n",
    "x_{n+1} = x_n-\\frac{f(x_n)}{f'(x_n)}\n",
    "$$\n",
    "Ha $f$ ,,szép'',  $f(t)=0$ és $x_n$ közel van $t$-hez, akkor\n",
    "\n",
    "$$\n",
    "    x_{n+1} -t = x_n-t -\\frac{f(x_n)-f(t)}{f'(x_n)} \n",
    "    = (x_n-t)\\left(1-\\int_0^1 \\frac{f'(t+u(x_n-t))}{f'(x_n)} du\\right) \n",
    "    = (x_n-t)\\int_0^1 \\frac{f'(x_n) - f'(t+u(x_n-t))}{f'(x_n)} du\n",
    "$$\n",
    "\n",
    "és ha $x_n, x_{n+1}, t \\in I$\n",
    "\n",
    "$$\n",
    "    |x_{n+1} -t|\\leq \\frac12|x_n-t|^2 \\cdot \\frac{\\max_{u\\in I}|f''(u)|}{\\min_{u\\in I} f'(u)}\n",
    "$$\n",
    "\n",
    "pl.\n",
    "\n",
    "$f(x) = x^2-2$, $f'(x)=2x$,\n",
    "  $f''(x)=2$ és ha $x_n, x_{n+1}, t \\in [1,2]$, akkor $|x_{n+1}-t|\\leq\\frac12|x_n-t|^2$.\n",
    "\n",
    "$f(x) = x^3-2$, $f'(x)=3x^2$, $f''(x)=6x$ és  $x_n, x_{n+1}, t \\in [1,2]$, akkor $|x_{n+1}-t| \\leq |x_n-t|^2$.\n"
   ]
  },
  {
   "cell_type": "markdown",
   "id": "6d61f196",
   "metadata": {
    "slideshow": {
     "slide_type": "subslide"
    }
   },
   "source": [
    "A rekurzió alakja $f(x) = x^3-c$-re.\n",
    "$$\n",
    "    x_{n+1} = x_n-\\frac{f(x_n)}{f'(x_n)} = \\frac{3x_n^3-(x_n^3-c)}{3 x_n^2}= \\frac{2x_n}3 + \\frac{c}{3x_n^2} \n",
    "$$"
   ]
  },
  {
   "cell_type": "code",
   "execution_count": null,
   "id": "2b7a09bf",
   "metadata": {},
   "outputs": [],
   "source": [
    "import sys \n",
    "sys.set_int_max_str_digits(50000)"
   ]
  },
  {
   "cell_type": "code",
   "execution_count": null,
   "id": "7d092b93",
   "metadata": {},
   "outputs": [],
   "source": [
    "def cube_root2(digits=1):\n",
    "    x = 1\n",
    "    c = 2\n",
    "    delta = 1\n",
    "    while digits > 0:\n",
    "        delta = min(delta, digits)\n",
    "        c *= 10**(3*delta)\n",
    "        x *= 10**delta\n",
    "        while True:\n",
    "            x0 = x+1\n",
    "            x = (2*x0+c//(x0**2))//3\n",
    "            if x0 == x+1:\n",
    "                break\n",
    "            # print(delta)\n",
    "        digits -= delta\n",
    "        delta <<=  1\n",
    "\n",
    "    return x\n"
   ]
  },
  {
   "cell_type": "code",
   "execution_count": null,
   "id": "36c4ce7f",
   "metadata": {
    "slideshow": {
     "slide_type": "subslide"
    }
   },
   "outputs": [],
   "source": [
    "n = 85\n",
    "a = cube_root2(n)\n",
    "a_cube = a**3\n",
    "k = len(str(a_cube))-1\n",
    "a_cube <= 2*10**(k) < (a+1)**3\n"
   ]
  },
  {
   "cell_type": "code",
   "execution_count": null,
   "id": "e49f96da",
   "metadata": {},
   "outputs": [],
   "source": [
    "print_answer(a)"
   ]
  },
  {
   "cell_type": "code",
   "execution_count": null,
   "id": "c703e2b2",
   "metadata": {
    "slideshow": {
     "slide_type": "subslide"
    }
   },
   "outputs": [],
   "source": [
    "from tqdm.auto import tqdm\n",
    "import time\n",
    "timing = []\n",
    "n_repeat = 10\n",
    "for e in tqdm(range(1, 25)):\n",
    "    n = int(1.5 ** e)\n",
    "    start = time.perf_counter_ns()\n",
    "    for _ in range(n_repeat):\n",
    "        a = cube_root2(n)\n",
    "    end = time.perf_counter_ns()\n",
    "\n",
    "    timing.append({\"run_time\": (end-start)/n_repeat, \"digits\": len(str(a))-1})\n"
   ]
  },
  {
   "cell_type": "code",
   "execution_count": null,
   "id": "568e09c9",
   "metadata": {
    "slideshow": {
     "slide_type": "subslide"
    }
   },
   "outputs": [],
   "source": [
    "df  = pd.DataFrame(timing)\n",
    "df.plot(x=\"digits\", y=\"run_time\", logx=True, logy=True)"
   ]
  },
  {
   "cell_type": "code",
   "execution_count": null,
   "id": "6bb6cd2c",
   "metadata": {
    "slideshow": {
     "slide_type": "subslide"
    }
   },
   "outputs": [],
   "source": [
    "df"
   ]
  }
 ],
 "metadata": {
  "celltoolbar": "Slideshow",
  "kernelspec": {
   "display_name": "Python 3 (ipykernel)",
   "language": "python",
   "name": "python3"
  },
  "language_info": {
   "codemirror_mode": {
    "name": "ipython",
    "version": 3
   },
   "file_extension": ".py",
   "mimetype": "text/x-python",
   "name": "python",
   "nbconvert_exporter": "python",
   "pygments_lexer": "ipython3",
   "version": "3.10.12"
  }
 },
 "nbformat": 4,
 "nbformat_minor": 5
}
