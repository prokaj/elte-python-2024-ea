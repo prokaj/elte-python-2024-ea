{
 "cells": [
  {
   "cell_type": "markdown",
   "id": "7a1dc37d",
   "metadata": {
    "slideshow": {
     "slide_type": "slide"
    }
   },
   "source": [
    "# Ismétlés."
   ]
  },
  {
   "cell_type": "markdown",
   "id": "57e2bf5f",
   "metadata": {},
   "source": [
    "Előző órán:\n",
    "\n",
    "- osztály, `class`\n",
    "\n",
    "- dunder metódusok: `__add__`, `__mul__`, és társaik, pl. `__call__`. `Polinom` osztály műveleteit defináltuk így. \n",
    "\n",
    "- File műveletek. Írás olvasás fileból.\n",
    "  Új  nyelvi konstrukció:\n",
    "\n",
    "  ```python\n",
    "  with open(\"./data/P0022_names.txt\", \"r\") as f:\n",
    "      text = f.read()\n",
    "  ```"
   ]
  },
  {
   "cell_type": "code",
   "execution_count": 1,
   "id": "83996d9b",
   "metadata": {
    "slideshow": {
     "slide_type": "subslide"
    }
   },
   "outputs": [],
   "source": [
    "import ipytest\n",
    "ipytest.autoconfig()\n",
    "\n",
    "def print_lines(names, max_lines, per_line):\n",
    "    for i in range(0, len(names), per_line):\n",
    "        print(\", \".join(names[i: i+per_line]), end=\"\")\n",
    "        if i == (max_lines-1)*per_line:\n",
    "            if i < len(names):\n",
    "                print(\", ...\")\n",
    "            else:\n",
    "                print()\n",
    "            break\n",
    "        print()\n",
    "    \n",
    "def print_dunder(cls, max_lines=float(\"inf\"), per_line=8):\n",
    "    print_lines([attr for attr in dir(cls) if attr.startswith(\"__\")], max_lines, per_line)\n",
    "    \n",
    "def print_methods(cls, max_lines=float(\"inf\"), per_line=8):\n",
    "    print_lines([attr for attr in dir(cls) if not attr.startswith(\"_\")], max_lines, per_line)"
   ]
  },
  {
   "cell_type": "markdown",
   "id": "331c2220",
   "metadata": {
    "slideshow": {
     "slide_type": "slide"
    }
   },
   "source": [
    "## Mitől lesz egy file (open ereménye) a `with` után használható? "
   ]
  },
  {
   "cell_type": "code",
   "execution_count": 4,
   "id": "45feb1eb",
   "metadata": {
    "scrolled": true
   },
   "outputs": [
    {
     "name": "stdout",
     "output_type": "stream",
     "text": [
      "__class__, __del__, __delattr__, __dict__, __dir__\n",
      "__doc__, __enter__, __eq__, __exit__, __format__, ...\n"
     ]
    }
   ],
   "source": [
    "filepath = \"./data/P0022_names.txt\"\n",
    "with open(filepath) as f:\n",
    "    pass\n",
    "print_dunder(f, 2, 5)"
   ]
  },
  {
   "cell_type": "markdown",
   "id": "6b6b4ec9",
   "metadata": {},
   "source": [
    "<!-- Az `open` függvény azért használható a `with` statement-tel, mert van egy\n",
    " -->\n",
    "A magyarázat kulcsa az `__enter__` és az `__exit__` metódus. Azokat az objektumokat, amik ezekkel rendelkeznek\n",
    "`contextmanager`-nek is hívják.\n",
    "\n",
    "Mi történik a következő kódrészlet végrehajtásakor?\n",
    "```python\n",
    "with obj as x:\n",
    "    pass # do something with x\n",
    "```\n",
    "\n",
    "1. `x = obj.__enter__()`.  Ezen a ponton az `obj` objektum feljegyezheti, mit akar visszaállítani ha a `with` blokk véget ért. \n",
    "\n",
    "2. Törzs kiértékelése. Ez a példában `pass` nem csinál semmit.\n",
    "\n",
    "3. `obj.__exit__(...)` végrehajtása. Itt a `...` paraméterek azt írják le, hogy sikerült-e a `with` blokk törzsét végrehajtani."
   ]
  },
  {
   "cell_type": "markdown",
   "id": "cd4e9f78",
   "metadata": {
    "slideshow": {
     "slide_type": "subslide"
    }
   },
   "source": [
    "### Egyszerű `contextmanager` a működés szemléltetésére"
   ]
  },
  {
   "cell_type": "code",
   "execution_count": 5,
   "id": "ad11798b",
   "metadata": {},
   "outputs": [
    {
     "name": "stdout",
     "output_type": "stream",
     "text": [
      "init\n",
      "enter\n",
      "inside sw=<__main__.SimpleWith object at 0x72a041186c50>\n",
      "exit called with exc_type=None, exc_value=None, traceback=None\n",
      "outside\n"
     ]
    }
   ],
   "source": [
    "class SimpleWith:\n",
    "    def __init__(self):\n",
    "        print(\"init\")\n",
    "    def __enter__(self):\n",
    "        print(\"enter\")\n",
    "        return self\n",
    "\n",
    "    def __exit__(self, exc_type, exc_value, traceback): # lehetne def __exit__(self, *args):\n",
    "        print(f\"exit called with {exc_type=}, {exc_value=}, {traceback=}\")\n",
    "        return True\n",
    "\n",
    "with SimpleWith() as sw:\n",
    "    print(f\"inside {sw=}\")\n",
    "\n",
    "print(\"outside\")"
   ]
  },
  {
   "cell_type": "markdown",
   "id": "f1f9f7e7",
   "metadata": {
    "slideshow": {
     "slide_type": "subslide"
    }
   },
   "source": [
    "## `with` statement-tel használható timer"
   ]
  },
  {
   "cell_type": "code",
   "execution_count": 6,
   "id": "359f1991",
   "metadata": {},
   "outputs": [],
   "source": [
    "import time\n",
    "\n",
    "class Timer:\n",
    "    def __init__(self):\n",
    "        self._start = None\n",
    "        self._elapsed_time = None\n",
    "\n",
    "    def __enter__(self):\n",
    "        self._start = time.perf_counter_ns()\n",
    "        self._elapsed_time = None\n",
    "        return self\n",
    "\n",
    "    def __exit__(self, exc_type, exc_value, traceback):\n",
    "        self._elapsed_time = time.perf_counter_ns() - self._start\n",
    "        print(f\"elapsed_time {self.elapsed_time:.2f} ms\")\n",
    "\n",
    "    @property\n",
    "    def elapsed_time(self):\n",
    "        return self._elapsed_time/10**6 if self._elapsed_time else None"
   ]
  },
  {
   "cell_type": "code",
   "execution_count": 8,
   "id": "34bbb33a",
   "metadata": {
    "slideshow": {
     "slide_type": "subslide"
    }
   },
   "outputs": [
    {
     "name": "stdout",
     "output_type": "stream",
     "text": [
      "elapsed_time 1001.32 ms\n",
      "elapsed_time 0.00 ms\n"
     ]
    }
   ],
   "source": [
    "with Timer() as timer:\n",
    "    time.sleep(1)\n",
    "\n",
    "with timer:\n",
    "    pass\n",
    "#     time.sleep(0.001) "
   ]
  },
  {
   "cell_type": "markdown",
   "id": "96e81352",
   "metadata": {},
   "source": [
    "**HF** Írjunk `__str__` metódust a `Timer` osztályhoz, ami ,,kulturált'' formában kiírja az utolsónak mért futási időt."
   ]
  },
  {
   "cell_type": "markdown",
   "id": "905d5055",
   "metadata": {
    "slideshow": {
     "slide_type": "slide"
    }
   },
   "source": [
    "# Kivételkezelés (Exception handling)"
   ]
  },
  {
   "cell_type": "code",
   "execution_count": 9,
   "id": "f3f960a4",
   "metadata": {},
   "outputs": [
    {
     "ename": "ZeroDivisionError",
     "evalue": "division by zero",
     "output_type": "error",
     "traceback": [
      "\u001b[0;31m---------------------------------------------------------------------------\u001b[0m",
      "\u001b[0;31mZeroDivisionError\u001b[0m                         Traceback (most recent call last)",
      "\u001b[0;32m/tmp/ipykernel_3864290/1455669704.py\u001b[0m in \u001b[0;36m<cell line: 1>\u001b[0;34m()\u001b[0m\n\u001b[0;32m----> 1\u001b[0;31m \u001b[0;36m1\u001b[0m \u001b[0;34m/\u001b[0m \u001b[0;36m0\u001b[0m\u001b[0;34m\u001b[0m\u001b[0;34m\u001b[0m\u001b[0m\n\u001b[0m",
      "\u001b[0;31mZeroDivisionError\u001b[0m: division by zero"
     ]
    }
   ],
   "source": [
    "1 / 0"
   ]
  },
  {
   "cell_type": "code",
   "execution_count": 10,
   "id": "622e213c",
   "metadata": {},
   "outputs": [
    {
     "ename": "NameError",
     "evalue": "name 'a' is not defined",
     "output_type": "error",
     "traceback": [
      "\u001b[0;31m---------------------------------------------------------------------------\u001b[0m",
      "\u001b[0;31mNameError\u001b[0m                                 Traceback (most recent call last)",
      "\u001b[0;32m/tmp/ipykernel_3864290/4096688.py\u001b[0m in \u001b[0;36m<cell line: 1>\u001b[0;34m()\u001b[0m\n\u001b[0;32m----> 1\u001b[0;31m \u001b[0ma\u001b[0m \u001b[0;34m+\u001b[0m \u001b[0;36m10\u001b[0m\u001b[0;34m\u001b[0m\u001b[0;34m\u001b[0m\u001b[0m\n\u001b[0m",
      "\u001b[0;31mNameError\u001b[0m: name 'a' is not defined"
     ]
    }
   ],
   "source": [
    "a + 10"
   ]
  },
  {
   "cell_type": "code",
   "execution_count": 11,
   "id": "f37428ba",
   "metadata": {},
   "outputs": [
    {
     "ename": "ValueError",
     "evalue": "invalid literal for int() with base 10: '12.345'",
     "output_type": "error",
     "traceback": [
      "\u001b[0;31m---------------------------------------------------------------------------\u001b[0m",
      "\u001b[0;31mValueError\u001b[0m                                Traceback (most recent call last)",
      "\u001b[0;32m/tmp/ipykernel_3864290/2343985670.py\u001b[0m in \u001b[0;36m<cell line: 1>\u001b[0;34m()\u001b[0m\n\u001b[0;32m----> 1\u001b[0;31m \u001b[0mint\u001b[0m\u001b[0;34m(\u001b[0m\u001b[0;34m\"12.345\"\u001b[0m\u001b[0;34m)\u001b[0m\u001b[0;34m\u001b[0m\u001b[0;34m\u001b[0m\u001b[0m\n\u001b[0m",
      "\u001b[0;31mValueError\u001b[0m: invalid literal for int() with base 10: '12.345'"
     ]
    }
   ],
   "source": [
    "int(\"12.345\")"
   ]
  },
  {
   "cell_type": "markdown",
   "id": "bbbd8f44",
   "metadata": {},
   "source": [
    "Kivételek mindig is előfordulhatnak, azaz olyan helyzetek, amikor a számolás értelmetlen, vagy egy fájlt kell megnyitni, ami nem is létezik, egy adatbázishoz kapcsolódunk, ahol nem jó a jelszó, vagy nem elérhető a szerver, valamit konvertálni kell valami mássá, de nem lehetséges."
   ]
  },
  {
   "cell_type": "markdown",
   "id": "57b0368a",
   "metadata": {
    "slideshow": {
     "slide_type": "subslide"
    }
   },
   "source": [
    "Pl. konvertáljuk egy sztringet egész számmá, ha ez lehetséges."
   ]
  },
  {
   "cell_type": "code",
   "execution_count": 13,
   "id": "7debae22",
   "metadata": {},
   "outputs": [
    {
     "name": "stdout",
     "output_type": "stream",
     "text": [
      "100\n"
     ]
    },
    {
     "ename": "ValueError",
     "evalue": "invalid literal for int() with base 10: '10.0'",
     "output_type": "error",
     "traceback": [
      "\u001b[0;31m---------------------------------------------------------------------------\u001b[0m",
      "\u001b[0;31mValueError\u001b[0m                                Traceback (most recent call last)",
      "\u001b[0;32m/tmp/ipykernel_3864290/439018614.py\u001b[0m in \u001b[0;36m<cell line: 7>\u001b[0;34m()\u001b[0m\n\u001b[1;32m      5\u001b[0m \u001b[0mprint\u001b[0m\u001b[0;34m(\u001b[0m\u001b[0mconvert_to_int\u001b[0m\u001b[0;34m(\u001b[0m\u001b[0;34m\"100\"\u001b[0m\u001b[0;34m)\u001b[0m\u001b[0;34m)\u001b[0m\u001b[0;34m\u001b[0m\u001b[0;34m\u001b[0m\u001b[0m\n\u001b[1;32m      6\u001b[0m \u001b[0;34m\u001b[0m\u001b[0m\n\u001b[0;32m----> 7\u001b[0;31m \u001b[0mconvert_to_int\u001b[0m\u001b[0;34m(\u001b[0m\u001b[0;34m\"10.0\"\u001b[0m\u001b[0;34m)\u001b[0m\u001b[0;34m\u001b[0m\u001b[0;34m\u001b[0m\u001b[0m\n\u001b[0m",
      "\u001b[0;32m/tmp/ipykernel_3864290/439018614.py\u001b[0m in \u001b[0;36mconvert_to_int\u001b[0;34m(s)\u001b[0m\n\u001b[1;32m      1\u001b[0m \u001b[0;32mdef\u001b[0m \u001b[0mconvert_to_int\u001b[0m\u001b[0;34m(\u001b[0m\u001b[0ms\u001b[0m\u001b[0;34m)\u001b[0m\u001b[0;34m:\u001b[0m\u001b[0;34m\u001b[0m\u001b[0;34m\u001b[0m\u001b[0m\n\u001b[0;32m----> 2\u001b[0;31m     \u001b[0;32mreturn\u001b[0m \u001b[0mint\u001b[0m\u001b[0;34m(\u001b[0m\u001b[0ms\u001b[0m\u001b[0;34m)\u001b[0m\u001b[0;34m\u001b[0m\u001b[0;34m\u001b[0m\u001b[0m\n\u001b[0m\u001b[1;32m      3\u001b[0m \u001b[0;34m\u001b[0m\u001b[0m\n\u001b[1;32m      4\u001b[0m \u001b[0;34m\u001b[0m\u001b[0m\n\u001b[1;32m      5\u001b[0m \u001b[0mprint\u001b[0m\u001b[0;34m(\u001b[0m\u001b[0mconvert_to_int\u001b[0m\u001b[0;34m(\u001b[0m\u001b[0;34m\"100\"\u001b[0m\u001b[0;34m)\u001b[0m\u001b[0;34m)\u001b[0m\u001b[0;34m\u001b[0m\u001b[0;34m\u001b[0m\u001b[0m\n",
      "\u001b[0;31mValueError\u001b[0m: invalid literal for int() with base 10: '10.0'"
     ]
    }
   ],
   "source": [
    "def convert_to_int(s):\n",
    "    return int(s)\n",
    "\n",
    "\n",
    "print(convert_to_int(\"100\"))\n",
    "\n",
    "convert_to_int(\"10.0\")"
   ]
  },
  {
   "cell_type": "markdown",
   "id": "cebb347a",
   "metadata": {
    "slideshow": {
     "slide_type": "subslide"
    }
   },
   "source": [
    "Hogyan lehetünk biztosak abban, hogy egy stringet egész számként tudunk értelmezni?"
   ]
  },
  {
   "cell_type": "code",
   "execution_count": 14,
   "id": "343cdadf",
   "metadata": {},
   "outputs": [
    {
     "name": "stdout",
     "output_type": "stream",
     "text": [
      "123\n",
      "None\n",
      "None\n"
     ]
    }
   ],
   "source": [
    "def convert_to_int(string):\n",
    "    if isinstance(string, str) and string.isnumeric():\n",
    "        return int(string)\n",
    "    \n",
    "    return None\n",
    "\n",
    "\n",
    "print(convert_to_int(\"123\"))\n",
    "print(convert_to_int(\"45.67\"))\n",
    "print(convert_to_int(\"-2\"))"
   ]
  },
  {
   "cell_type": "markdown",
   "id": "9a3837dd",
   "metadata": {
    "slideshow": {
     "slide_type": "subslide"
    }
   },
   "source": [
    "Mi lenne, ha nem mi próbálnánk kitalálni, hogy mi lenne a jó, hanem hagynánk, hogy a Python `int` konverziós függvénye *megpróbálja* a konverziót, aztán ha sikerül, akkor jó, ha meg nem, akkor meg kitalálunk valamit."
   ]
  },
  {
   "cell_type": "code",
   "execution_count": 17,
   "id": "996bfd07",
   "metadata": {},
   "outputs": [
    {
     "name": "stdout",
     "output_type": "stream",
     "text": [
      "100\n",
      "Cannot convert 'invalid literal for int() with base 10: '10.0'' to an integer.\n",
      "None\n",
      "-3\n"
     ]
    }
   ],
   "source": [
    "def convert_to_int(s):\n",
    "    try:\n",
    "        return int(s)\n",
    "    except Exception as e:\n",
    "        print(f\"Cannot convert '{e}' to an integer.\")\n",
    "    \n",
    "    return None\n",
    "\n",
    "\n",
    "print(convert_to_int(\"100\"))\n",
    "print(convert_to_int(\"10.0\"))\n",
    "print(convert_to_int(\"-3\"))"
   ]
  },
  {
   "cell_type": "markdown",
   "id": "6fece820",
   "metadata": {
    "slideshow": {
     "slide_type": "subslide"
    }
   },
   "source": [
    "Később látni fogjuk, hogy nem csak egyfajta kivételt kell / lehet lekezelni, hanem akár többféle hibaok is előfordulhat. \n",
    "\n",
    "Egy tipikus ilyen helyzet a fájlbeolvasás, ahol lehet, hogy a \n",
    "* fájl nem található\n",
    "* nincs jogunk olvasni a fájlt\n",
    "* hibás a formátuma\n",
    "* nem dekódolható a szöveg, mert más karakterkészlet szerepel benne, mint amire számítunk\n",
    "* stb."
   ]
  },
  {
   "cell_type": "markdown",
   "id": "556b526e",
   "metadata": {
    "slideshow": {
     "slide_type": "subslide"
    }
   },
   "source": [
    "A kivételek kezelésének / elkapásának általános szintaxisa a `try`-`except` konstrukció:\n",
    "\n",
    "```python\n",
    "try:\n",
    "    try_something()\n",
    "except SomeError_1:\n",
    "    do_something_1()\n",
    "...\n",
    "except SomeError_n:\n",
    "    do_something_n()\n",
    "else:\n",
    "    do_this_when_there_was_no_exception()\n",
    "finally:\n",
    "    execute_anyway()\n",
    "```"
   ]
  },
  {
   "cell_type": "markdown",
   "id": "2f7c76ae",
   "metadata": {
    "slideshow": {
     "slide_type": "subslide"
    }
   },
   "source": [
    "Az előforduló hibát akár újra is lehet dobni azért, hogy a minket hívó függvényhez is eljusson a hiba"
   ]
  },
  {
   "cell_type": "code",
   "execution_count": 19,
   "id": "1bbca0f2",
   "metadata": {},
   "outputs": [
    {
     "name": "stdout",
     "output_type": "stream",
     "text": [
      "Cannot convert 12.34 to an integer.\n",
      "finally\n"
     ]
    },
    {
     "ename": "ValueError",
     "evalue": "invalid literal for int() with base 10: '12.34'",
     "output_type": "error",
     "traceback": [
      "\u001b[0;31m---------------------------------------------------------------------------\u001b[0m",
      "\u001b[0;31mValueError\u001b[0m                                Traceback (most recent call last)",
      "\u001b[0;32m/tmp/ipykernel_3864290/970670119.py\u001b[0m in \u001b[0;36m<cell line: 11>\u001b[0;34m()\u001b[0m\n\u001b[1;32m      9\u001b[0m \u001b[0;34m\u001b[0m\u001b[0m\n\u001b[1;32m     10\u001b[0m \u001b[0;34m\u001b[0m\u001b[0m\n\u001b[0;32m---> 11\u001b[0;31m \u001b[0mconvert_to_int\u001b[0m\u001b[0;34m(\u001b[0m\u001b[0;34m\"12.34\"\u001b[0m\u001b[0;34m)\u001b[0m\u001b[0;34m\u001b[0m\u001b[0;34m\u001b[0m\u001b[0m\n\u001b[0m",
      "\u001b[0;32m/tmp/ipykernel_3864290/970670119.py\u001b[0m in \u001b[0;36mconvert_to_int\u001b[0;34m(s)\u001b[0m\n\u001b[1;32m      1\u001b[0m \u001b[0;32mdef\u001b[0m \u001b[0mconvert_to_int\u001b[0m\u001b[0;34m(\u001b[0m\u001b[0ms\u001b[0m\u001b[0;34m)\u001b[0m\u001b[0;34m:\u001b[0m\u001b[0;34m\u001b[0m\u001b[0;34m\u001b[0m\u001b[0m\n\u001b[1;32m      2\u001b[0m     \u001b[0;32mtry\u001b[0m\u001b[0;34m:\u001b[0m\u001b[0;34m\u001b[0m\u001b[0;34m\u001b[0m\u001b[0m\n\u001b[0;32m----> 3\u001b[0;31m         \u001b[0;32mreturn\u001b[0m \u001b[0mint\u001b[0m\u001b[0;34m(\u001b[0m\u001b[0ms\u001b[0m\u001b[0;34m)\u001b[0m\u001b[0;34m\u001b[0m\u001b[0;34m\u001b[0m\u001b[0m\n\u001b[0m\u001b[1;32m      4\u001b[0m     \u001b[0;32mexcept\u001b[0m \u001b[0mValueError\u001b[0m\u001b[0;34m:\u001b[0m\u001b[0;34m\u001b[0m\u001b[0;34m\u001b[0m\u001b[0m\n\u001b[1;32m      5\u001b[0m         \u001b[0mprint\u001b[0m\u001b[0;34m(\u001b[0m\u001b[0;34mf\"Cannot convert {s} to an integer.\"\u001b[0m\u001b[0;34m)\u001b[0m\u001b[0;34m\u001b[0m\u001b[0;34m\u001b[0m\u001b[0m\n",
      "\u001b[0;31mValueError\u001b[0m: invalid literal for int() with base 10: '12.34'"
     ]
    }
   ],
   "source": [
    "def convert_to_int(s):\n",
    "    try:\n",
    "        return int(s) \n",
    "    except ValueError:\n",
    "        print(f\"Cannot convert {s} to an integer.\")\n",
    "        raise \n",
    "    finally:\n",
    "        print(\"finally\")\n",
    "        \n",
    "        \n",
    "convert_to_int(\"12.34\")"
   ]
  },
  {
   "cell_type": "markdown",
   "id": "7c630f6d",
   "metadata": {
    "slideshow": {
     "slide_type": "subslide"
    }
   },
   "source": [
    "Vagy dobhatunk saját magunk által definiált hibát is:"
   ]
  },
  {
   "cell_type": "code",
   "execution_count": 21,
   "id": "cce3c6c5",
   "metadata": {},
   "outputs": [
    {
     "name": "stdout",
     "output_type": "stream",
     "text": [
      "Cannot convert 12.34 to an integer.\n"
     ]
    },
    {
     "ename": "TypeError",
     "evalue": "Catch me if you can.",
     "output_type": "error",
     "traceback": [
      "\u001b[0;31m---------------------------------------------------------------------------\u001b[0m",
      "\u001b[0;31mValueError\u001b[0m                                Traceback (most recent call last)",
      "\u001b[0;32m/tmp/ipykernel_3864290/3176194016.py\u001b[0m in \u001b[0;36mconvert_to_int\u001b[0;34m(s)\u001b[0m\n\u001b[1;32m      5\u001b[0m     \u001b[0;32mtry\u001b[0m\u001b[0;34m:\u001b[0m\u001b[0;34m\u001b[0m\u001b[0;34m\u001b[0m\u001b[0m\n\u001b[0;32m----> 6\u001b[0;31m         \u001b[0;32mreturn\u001b[0m \u001b[0mint\u001b[0m\u001b[0;34m(\u001b[0m\u001b[0ms\u001b[0m\u001b[0;34m)\u001b[0m\u001b[0;34m\u001b[0m\u001b[0;34m\u001b[0m\u001b[0m\n\u001b[0m\u001b[1;32m      7\u001b[0m     \u001b[0;32mexcept\u001b[0m \u001b[0mValueError\u001b[0m\u001b[0;34m:\u001b[0m\u001b[0;34m\u001b[0m\u001b[0;34m\u001b[0m\u001b[0m\n",
      "\u001b[0;31mValueError\u001b[0m: invalid literal for int() with base 10: '12.34'",
      "\nDuring handling of the above exception, another exception occurred:\n",
      "\u001b[0;31mTypeError\u001b[0m                                 Traceback (most recent call last)",
      "\u001b[0;32m/tmp/ipykernel_3864290/3176194016.py\u001b[0m in \u001b[0;36m<cell line: 11>\u001b[0;34m()\u001b[0m\n\u001b[1;32m      9\u001b[0m         \u001b[0;32mraise\u001b[0m \u001b[0mTypeError\u001b[0m\u001b[0;34m(\u001b[0m\u001b[0;34m\"Catch me if you can.\"\u001b[0m\u001b[0;34m)\u001b[0m\u001b[0;34m\u001b[0m\u001b[0;34m\u001b[0m\u001b[0m\n\u001b[1;32m     10\u001b[0m \u001b[0;34m\u001b[0m\u001b[0m\n\u001b[0;32m---> 11\u001b[0;31m \u001b[0mresult\u001b[0m \u001b[0;34m=\u001b[0m \u001b[0mconvert_to_int\u001b[0m\u001b[0;34m(\u001b[0m\u001b[0;34m\"12.34\"\u001b[0m\u001b[0;34m)\u001b[0m\u001b[0;34m\u001b[0m\u001b[0;34m\u001b[0m\u001b[0m\n\u001b[0m",
      "\u001b[0;32m/tmp/ipykernel_3864290/3176194016.py\u001b[0m in \u001b[0;36mconvert_to_int\u001b[0;34m(s)\u001b[0m\n\u001b[1;32m      7\u001b[0m     \u001b[0;32mexcept\u001b[0m \u001b[0mValueError\u001b[0m\u001b[0;34m:\u001b[0m\u001b[0;34m\u001b[0m\u001b[0;34m\u001b[0m\u001b[0m\n\u001b[1;32m      8\u001b[0m         \u001b[0mprint\u001b[0m\u001b[0;34m(\u001b[0m\u001b[0;34mf\"Cannot convert {s} to an integer.\"\u001b[0m\u001b[0;34m)\u001b[0m\u001b[0;34m\u001b[0m\u001b[0;34m\u001b[0m\u001b[0m\n\u001b[0;32m----> 9\u001b[0;31m         \u001b[0;32mraise\u001b[0m \u001b[0mTypeError\u001b[0m\u001b[0;34m(\u001b[0m\u001b[0;34m\"Catch me if you can.\"\u001b[0m\u001b[0;34m)\u001b[0m\u001b[0;34m\u001b[0m\u001b[0;34m\u001b[0m\u001b[0m\n\u001b[0m\u001b[1;32m     10\u001b[0m \u001b[0;34m\u001b[0m\u001b[0m\n\u001b[1;32m     11\u001b[0m \u001b[0mresult\u001b[0m \u001b[0;34m=\u001b[0m \u001b[0mconvert_to_int\u001b[0m\u001b[0;34m(\u001b[0m\u001b[0;34m\"12.34\"\u001b[0m\u001b[0;34m)\u001b[0m\u001b[0;34m\u001b[0m\u001b[0;34m\u001b[0m\u001b[0m\n",
      "\u001b[0;31mTypeError\u001b[0m: Catch me if you can."
     ]
    }
   ],
   "source": [
    "class MyError(Exception):\n",
    "    pass\n",
    "\n",
    "def convert_to_int(s):\n",
    "    try:\n",
    "        return int(s)\n",
    "    except ValueError:\n",
    "        print(f\"Cannot convert {s} to an integer.\")\n",
    "        raise TypeError(\"Catch me if you can.\")\n",
    "         \n",
    "result = convert_to_int(\"12.34\")"
   ]
  },
  {
   "cell_type": "code",
   "execution_count": 22,
   "id": "106a7f78",
   "metadata": {
    "slideshow": {
     "slide_type": "subslide"
    }
   },
   "outputs": [],
   "source": [
    "def division(x, y):\n",
    "    try:\n",
    "        result = x / y\n",
    "    except ZeroDivisionError:\n",
    "        print(\"division by zero error!\")\n",
    "    else:\n",
    "        print(f\"The result is {result}\")\n",
    "    finally:\n",
    "        print(\"This will execute anyway\")"
   ]
  },
  {
   "cell_type": "code",
   "execution_count": 23,
   "id": "bc2925a8",
   "metadata": {},
   "outputs": [
    {
     "name": "stdout",
     "output_type": "stream",
     "text": [
      "The result is 0.5\n",
      "This will execute anyway\n"
     ]
    }
   ],
   "source": [
    "division(1, 2)"
   ]
  },
  {
   "cell_type": "code",
   "execution_count": 25,
   "id": "ce5aed7a",
   "metadata": {},
   "outputs": [
    {
     "name": "stdout",
     "output_type": "stream",
     "text": [
      "division by zero error!\n",
      "This will execute anyway\n"
     ]
    }
   ],
   "source": [
    "division(1, 0)"
   ]
  },
  {
   "cell_type": "markdown",
   "id": "bf67f529",
   "metadata": {
    "slideshow": {
     "slide_type": "subslide"
    }
   },
   "source": [
    "# Kivétel `with` blokkon belül"
   ]
  },
  {
   "cell_type": "code",
   "execution_count": 26,
   "id": "caff5aaf",
   "metadata": {},
   "outputs": [],
   "source": [
    "class SimpleWith:\n",
    "    def __init__(self, handle_exception=True):\n",
    "        self.handle_exception = handle_exception\n",
    "\n",
    "    def __enter__(self):\n",
    "        print(\"enter\")\n",
    "        return self\n",
    "\n",
    "    def __exit__(self, exc_type, exc_value, traceback): # lehetne def __exit__(self, *args):\n",
    "        print(f\"exit called with\\n\\t{exc_type=}\\n\\t{exc_value=}\\n\\t{traceback=}\")\n",
    "        if exc_type is not None and self.handle_exception:\n",
    "            print(f\"{exc_value!r} handled\")\n",
    "        return self.handle_exception"
   ]
  },
  {
   "cell_type": "code",
   "execution_count": 28,
   "id": "3a1d4574",
   "metadata": {
    "slideshow": {
     "slide_type": "subslide"
    }
   },
   "outputs": [
    {
     "name": "stdout",
     "output_type": "stream",
     "text": [
      "enter\n",
      "inside sw=<__main__.SimpleWith object at 0x72a04055fcd0>\n",
      "exit called with\n",
      "\texc_type=<class 'ValueError'>\n",
      "\texc_value=ValueError('from with block')\n",
      "\ttraceback=<traceback object at 0x72a040432b40>\n"
     ]
    },
    {
     "ename": "ValueError",
     "evalue": "from with block",
     "output_type": "error",
     "traceback": [
      "\u001b[0;31m---------------------------------------------------------------------------\u001b[0m",
      "\u001b[0;31mValueError\u001b[0m                                Traceback (most recent call last)",
      "\u001b[0;32m/tmp/ipykernel_3864290/506808397.py\u001b[0m in \u001b[0;36m<cell line: 1>\u001b[0;34m()\u001b[0m\n\u001b[1;32m      1\u001b[0m \u001b[0;32mwith\u001b[0m \u001b[0mSimpleWith\u001b[0m\u001b[0;34m(\u001b[0m\u001b[0;32mFalse\u001b[0m\u001b[0;34m)\u001b[0m \u001b[0;32mas\u001b[0m \u001b[0msw\u001b[0m\u001b[0;34m:\u001b[0m\u001b[0;34m\u001b[0m\u001b[0;34m\u001b[0m\u001b[0m\n\u001b[1;32m      2\u001b[0m     \u001b[0mprint\u001b[0m\u001b[0;34m(\u001b[0m\u001b[0;34mf\"inside {sw=}\"\u001b[0m\u001b[0;34m)\u001b[0m\u001b[0;34m\u001b[0m\u001b[0;34m\u001b[0m\u001b[0m\n\u001b[0;32m----> 3\u001b[0;31m     \u001b[0;32mraise\u001b[0m \u001b[0mValueError\u001b[0m\u001b[0;34m(\u001b[0m\u001b[0;34m\"from with block\"\u001b[0m\u001b[0;34m)\u001b[0m\u001b[0;34m\u001b[0m\u001b[0;34m\u001b[0m\u001b[0m\n\u001b[0m\u001b[1;32m      4\u001b[0m \u001b[0;34m\u001b[0m\u001b[0m\n\u001b[1;32m      5\u001b[0m \u001b[0mprint\u001b[0m\u001b[0;34m(\u001b[0m\u001b[0;34m\"outside\"\u001b[0m\u001b[0;34m)\u001b[0m\u001b[0;34m\u001b[0m\u001b[0;34m\u001b[0m\u001b[0m\n",
      "\u001b[0;31mValueError\u001b[0m: from with block"
     ]
    }
   ],
   "source": [
    "with SimpleWith(False) as sw:\n",
    "    print(f\"inside {sw=}\")\n",
    "    raise ValueError(\"from with block\")\n",
    "\n",
    "print(\"outside\")"
   ]
  },
  {
   "cell_type": "markdown",
   "id": "66f447c7",
   "metadata": {
    "slideshow": {
     "slide_type": "slide"
    }
   },
   "source": [
    "# Polinom osztály `__init__` művelet ellenőrzéssel."
   ]
  },
  {
   "cell_type": "code",
   "execution_count": 29,
   "id": "efa2493e",
   "metadata": {},
   "outputs": [],
   "source": [
    "class Polinom:\n",
    "    def __init__(self, *coeff):\n",
    "        \"\"\"\n",
    "        coefficients: tuple of coefficients of the polinom, starts with the leading coefficient.\n",
    "        Polinom(1, 2, 3) -> x^2 + 2x + 3\n",
    "\n",
    "        self.coefficients: tuple of coefficients of the polinom, starts with the constant term.\n",
    "        \"\"\"\n",
    "        try:\n",
    "            for c in coeff:\n",
    "                c += 0\n",
    "        except :\n",
    "            raise TypeError(\"coefficients must be numbers\")\n",
    "        coefficients = list(coefficients[::-1])\n",
    "        while coefficients and coefficients[-1] == 0:\n",
    "            coefficients.pop()\n",
    "        self.coefficients = tuple(coefficients)\n",
    "\n"
   ]
  },
  {
   "cell_type": "markdown",
   "id": "e51a1684",
   "metadata": {
    "slideshow": {
     "slide_type": "slide"
    }
   },
   "source": [
    "A `Polinom` osztály már a múlt órán is túl nagyra nőtt. Ilyen esetben célszerű a már letesztelt kódot külön fileba rakni és beolvasni. \n",
    "\n",
    "- Az egyik lehetőség egy telepíthető Python csomag készítése (erről itt nem lesz szó)\n",
    "\n",
    "- Az egyszerűbb út az, hogy a file `.py` kiterjesztésű és a munkakönyvtárban van. Ezután \n",
    "```\n",
    "import polinom\n",
    "```\n",
    "\n",
    "vagy\n",
    "```\n",
    "from polinom import *\n",
    "```\n",
    "sorokkal a `polinom.py` fileban definiált értékek elérhetőve válnak.\n"
   ]
  },
  {
   "cell_type": "code",
   "execution_count": 30,
   "id": "fc352e46",
   "metadata": {
    "slideshow": {
     "slide_type": "subslide"
    }
   },
   "outputs": [
    {
     "name": "stdout",
     "output_type": "stream",
     "text": [
      "\"\"\"\r\n",
      "Polinom osztály definíció.\r\n",
      "\r\n",
      "... magyarázatok, stb\r\n",
      "\"\"\"\r\n",
      "\r\n",
      "\r\n",
      "__all__ = [\"Polinom\"]\r\n",
      "\r\n",
      "\r\n",
      "def format_tag(exponent, coeff):\r\n",
      "    sep = \"+\" if coeff >= 0 else \"-\"\r\n",
      "    coeff = abs(coeff)\r\n",
      "    if exponent == 0:\r\n",
      "        return sep, f\"{coeff}\"\r\n"
     ]
    }
   ],
   "source": [
    "! head -n 15 polinom.py "
   ]
  },
  {
   "cell_type": "code",
   "execution_count": 31,
   "id": "8424f53c",
   "metadata": {
    "slideshow": {
     "slide_type": "subslide"
    }
   },
   "outputs": [],
   "source": [
    "from polinom import *"
   ]
  },
  {
   "cell_type": "code",
   "execution_count": 32,
   "id": "8e3f6f0c",
   "metadata": {},
   "outputs": [
    {
     "data": {
      "text/plain": [
       "['@py_builtins',\n",
       " '@pytest_ar',\n",
       " 'In',\n",
       " 'MyError',\n",
       " 'Out',\n",
       " 'Polinom',\n",
       " 'SimpleWith',\n",
       " 'Timer',\n",
       " 'convert_to_int',\n",
       " 'division',\n",
       " 'exit',\n",
       " 'f',\n",
       " 'filepath',\n",
       " 'get_ipython',\n",
       " 'ipytest',\n",
       " 'print_dunder',\n",
       " 'print_lines',\n",
       " 'print_methods',\n",
       " 'quit',\n",
       " 'sw',\n",
       " 'time',\n",
       " 'timer']"
      ]
     },
     "execution_count": 32,
     "metadata": {},
     "output_type": "execute_result"
    }
   ],
   "source": [
    "[name for name in dir() if not name.startswith(\"_\")]"
   ]
  },
  {
   "cell_type": "markdown",
   "id": "2c9538d2",
   "metadata": {
    "slideshow": {
     "slide_type": "subslide"
    }
   },
   "source": [
    "### Használjuk a Polinom osztályunkat valamire!\n",
    "\n",
    "Számítsuk ki az első néhány Hermite polinomot! Definíció\n",
    "$$\n",
    "h_n(x) = (-1)^n\\cdot e^{x^2/2}\\left(\\frac{d}{dx}\\right)^n e^{-x^2/2}\n",
    "$$\n",
    "azaz:\n",
    "$$\n",
    "e^{-x^2/2} h_n(x) = (-1)^n\\cdot \\left(\\frac{d}{dx}\\right)^n e^{-x^2/2}\n",
    "$$\n",
    "Rekurzió a definíció alapján:\n",
    "$$\n",
    "\\begin{aligned}\n",
    "e^{-x^2/2} h_{n+1}(x) &= \n",
    "(-1)\\cdot \\frac{d}{dx}(e^{-x^2/2} h_n(x))\n",
    "\\\\&=\n",
    "(-1)\\cdot e^{-x^2/2}(-xh_n(x) +h_n'(x))\n",
    "\\end{aligned}\n",
    "$$\n",
    "$$\n",
    "    h_{n+1}(x) = xh_n(x) - h_n'(x)\n",
    "$$\n",
    "\n"
   ]
  },
  {
   "cell_type": "code",
   "execution_count": 33,
   "id": "f6abe287",
   "metadata": {
    "slideshow": {
     "slide_type": "subslide"
    }
   },
   "outputs": [],
   "source": [
    "def hermite():\n",
    "    h, x = Polinom(1), Polinom(1, 0)\n",
    "    while True:\n",
    "        yield h\n",
    "        h = x*h-h.D()"
   ]
  },
  {
   "cell_type": "code",
   "execution_count": 34,
   "id": "4a328981",
   "metadata": {
    "slideshow": {
     "slide_type": "-"
    }
   },
   "outputs": [
    {
     "name": "stdout",
     "output_type": "stream",
     "text": [
      "0. Hermite polinom: 1\n",
      "1. Hermite polinom: x\n",
      "2. Hermite polinom: x^{2}-1\n",
      "3. Hermite polinom: x^{3}-3x\n",
      "4. Hermite polinom: x^{4}-6x^{2}+3\n"
     ]
    }
   ],
   "source": [
    "for i, h_i in zip(range(5), hermite()):\n",
    "    print(f\"{i}. Hermite polinom: {h_i}\")"
   ]
  },
  {
   "cell_type": "code",
   "execution_count": 36,
   "id": "c3d3c85c",
   "metadata": {
    "slideshow": {
     "slide_type": "subslide"
    }
   },
   "outputs": [
    {
     "name": "stdout",
     "output_type": "stream",
     "text": [
      "1*h_0(x)=1          h'_1(x)=1          h_1(x)=x         \n",
      "2*h_1(x)=2x         h'_2(x)=2x         h_2(x)=x^{2}-1   \n",
      "3*h_2(x)=3x^{2}-3   h'_3(x)=3x^{2}-3   h_3(x)=x^{3}-3x  \n",
      "4*h_3(x)=4x^{3}-12x h'_4(x)=4x^{3}-12x h_4(x)=x^{4}-6x^{2}+3\n"
     ]
    }
   ],
   "source": [
    "from itertools import pairwise, islice\n",
    "\n",
    "for i, (h0, h1) in enumerate(pairwise(islice(hermite(), 5)), 1):\n",
    "    print(f\"{i}*h_{i-1}(x)={str(i*h0):<10} h'_{i}(x)={str(h1.D()):<10} h_{i}(x)={str(h1):<10}\")\n"
   ]
  },
  {
   "cell_type": "markdown",
   "id": "d021eff6",
   "metadata": {},
   "source": [
    "- `islice(iterator, start, end)` egy sorozatból a `start` és `end indexek közötti elemeket veszi.\n",
    "- `pairwise(iterator)` a párok sorozatát generálja."
   ]
  },
  {
   "cell_type": "markdown",
   "id": "a3f48dd3",
   "metadata": {},
   "source": [
    "HF. $h_n' = n h_{n-1}$."
   ]
  },
  {
   "cell_type": "markdown",
   "id": "3604ecfb",
   "metadata": {
    "slideshow": {
     "slide_type": "subslide"
    }
   },
   "source": [
    "Minden $n$-re van egy 1 főegyütthatós polinomunk $h_n$. Ekkor tetszőleges $p$ polinom felírható Hermite polinomok lineáris kombinációjaként.\n",
    "\n",
    "Számítsuk ki az együthatókat."
   ]
  },
  {
   "cell_type": "code",
   "execution_count": 37,
   "id": "c70684fa",
   "metadata": {},
   "outputs": [],
   "source": [
    "def coefficients(p, basis):\n",
    "    n = len(p)\n",
    "    basis_polynomials = [q for q in islice(basis, n)]\n",
    "    coeffs = [0]*n\n",
    "    while len(p):\n",
    "        c = p.leading_coeff() #/q.leading_coeff()\n",
    "        exponent = len(p)-1\n",
    "        p -= c*basis_polynomials[exponent] \n",
    "        coeffs[exponent] = c\n",
    "    return coeffs\n",
    "\n",
    "def polynomial(coeffs, basis):\n",
    "    return sum(\n",
    "        (c*p for c, p in zip(coeffs, basis)),\n",
    "        start = Polinom()\n",
    "    )"
   ]
  },
  {
   "cell_type": "code",
   "execution_count": 39,
   "id": "7b7cc199",
   "metadata": {
    "slideshow": {
     "slide_type": "subslide"
    }
   },
   "outputs": [
    {
     "data": {
      "text/latex": [
       "$2x^{2}+1$"
      ],
      "text/plain": [
       "Polinom(2, 0, 1)"
      ]
     },
     "metadata": {},
     "output_type": "display_data"
    },
    {
     "data": {
      "text/plain": [
       "[3, 0, 2]"
      ]
     },
     "execution_count": 39,
     "metadata": {},
     "output_type": "execute_result"
    }
   ],
   "source": [
    "p = Polinom(2,0,1)\n",
    "display(p)\n",
    "coeffs = coefficients(p, hermite())\n",
    "coeffs"
   ]
  },
  {
   "cell_type": "code",
   "execution_count": 40,
   "id": "4609e908",
   "metadata": {},
   "outputs": [
    {
     "data": {
      "text/latex": [
       "$3$"
      ],
      "text/plain": [
       "Polinom(3)"
      ]
     },
     "metadata": {},
     "output_type": "display_data"
    },
    {
     "data": {
      "text/latex": [
       "$0$"
      ],
      "text/plain": [
       "Polinom()"
      ]
     },
     "metadata": {},
     "output_type": "display_data"
    },
    {
     "data": {
      "text/latex": [
       "$2x^{2}-2$"
      ],
      "text/plain": [
       "Polinom(2, 0, -2)"
      ]
     },
     "metadata": {},
     "output_type": "display_data"
    }
   ],
   "source": [
    "for c_i, h_i in zip(coeffs, hermite()):\n",
    "    display(c_i*h_i)"
   ]
  },
  {
   "cell_type": "code",
   "execution_count": 41,
   "id": "1a23ce3e",
   "metadata": {},
   "outputs": [
    {
     "data": {
      "text/latex": [
       "$2x^{2}+1$"
      ],
      "text/plain": [
       "Polinom(2, 0, 1)"
      ]
     },
     "execution_count": 41,
     "metadata": {},
     "output_type": "execute_result"
    }
   ],
   "source": [
    "polynomial(coeffs, hermite())\n"
   ]
  },
  {
   "cell_type": "markdown",
   "id": "b2f3a20c",
   "metadata": {
    "slideshow": {
     "slide_type": "subslide"
    }
   },
   "source": [
    "## Faktoriális hatvány."
   ]
  },
  {
   "cell_type": "markdown",
   "id": "bd9fe2f4",
   "metadata": {
    "slideshow": {
     "slide_type": "-"
    }
   },
   "source": [
    "$$\n",
    "\\begin{aligned}\n",
    "\\text{hatvány}&&x^0 &= 1,& x^n &= x \\cdot x^{n-1}\\\\\n",
    "\\text{faktoriális hatvány}&&x^{[0]} &= 1,& x^{[n]} &= x \\cdot (x-1)^{[n-1]}\n",
    "\\end{aligned}\n",
    "$$\n",
    "<!-- \n",
    "$$\n",
    "x^{[0]} = 1, \\quad    x^{[n]} = x\\cdot (x-1)^{[n-1]} \n",
    "$$\n",
    " -->\n",
    "$$\n",
    "x^{[n]} = x(x-1)\\cdots (x-n+1)\n",
    "$$"
   ]
  },
  {
   "cell_type": "markdown",
   "id": "bbcb3807",
   "metadata": {},
   "source": [
    "**HF**. A faktoriális hatványra is igaz a binomiális tétel!\n",
    "$$\n",
    "    (a+b)^{[n]} = \\sum_{k} \\binom{n}{k} a^{[k]} b^{[n-k]}\n",
    "$$"
   ]
  },
  {
   "cell_type": "code",
   "execution_count": 42,
   "id": "dad4baa1",
   "metadata": {
    "slideshow": {
     "slide_type": "subslide"
    }
   },
   "outputs": [],
   "source": [
    "def factorial_powers():\n",
    "    n = 0\n",
    "    p = Polinom(1) # kontans 1\n",
    "    while True:\n",
    "        yield p\n",
    "        p *= Polinom(1, -n) # x-n\n",
    "        n += 1\n",
    "\n",
    "def nth_factorial_power(n):\n",
    "    return next(islice(factorial_powers(), n, n+1))"
   ]
  },
  {
   "cell_type": "code",
   "execution_count": 43,
   "id": "e797fc44",
   "metadata": {},
   "outputs": [
    {
     "data": {
      "text/latex": [
       "$x^{2}-x$"
      ],
      "text/plain": [
       "Polinom(1, -1, 0)"
      ]
     },
     "metadata": {},
     "output_type": "display_data"
    },
    {
     "data": {
      "text/latex": [
       "$x^{3}-3x^{2}+2x$"
      ],
      "text/plain": [
       "Polinom(1, -3, 2, 0)"
      ]
     },
     "metadata": {},
     "output_type": "display_data"
    },
    {
     "data": {
      "text/latex": [
       "$x^{5}-10x^{4}+35x^{3}-50x^{2}+24x$"
      ],
      "text/plain": [
       "Polinom(1, -10, 35, -50, 24, 0)"
      ]
     },
     "metadata": {},
     "output_type": "display_data"
    }
   ],
   "source": [
    "for d in [2, 3, 5]:\n",
    "    display(nth_factorial_power(d))"
   ]
  },
  {
   "cell_type": "code",
   "execution_count": 44,
   "id": "c8cd4d7d",
   "metadata": {
    "slideshow": {
     "slide_type": "subslide"
    }
   },
   "outputs": [
    {
     "data": {
      "text/plain": [
       "[0, 0, 0, 6, 30, 90, 210, 420, 756, 1260]"
      ]
     },
     "execution_count": 44,
     "metadata": {},
     "output_type": "execute_result"
    }
   ],
   "source": [
    "from itertools import accumulate # részlet összegek sorozata\n",
    "\n",
    "p3 = nth_factorial_power(3)\n",
    "[*accumulate(p3(x) for x in range(10))]"
   ]
  },
  {
   "cell_type": "code",
   "execution_count": 47,
   "id": "9e518720",
   "metadata": {},
   "outputs": [
    {
     "data": {
      "text/plain": [
       "[0, 0, 0, 0, 24, 120, 360, 840, 1680, 3024, 5040]"
      ]
     },
     "execution_count": 47,
     "metadata": {},
     "output_type": "execute_result"
    }
   ],
   "source": [
    "p4 = nth_factorial_power(4)\n",
    "[p4(x) for x in range(0,11)]"
   ]
  },
  {
   "cell_type": "code",
   "execution_count": 48,
   "id": "2d1088d6",
   "metadata": {},
   "outputs": [
    {
     "name": "stdout",
     "output_type": "stream",
     "text": [
      "\u001b[32m.\u001b[0m\u001b[32m                                                                                            [100%]\u001b[0m\n",
      "\u001b[32m\u001b[32m\u001b[1m1 passed\u001b[0m\u001b[32m in 0.01s\u001b[0m\u001b[0m\n"
     ]
    }
   ],
   "source": [
    "%%ipytest\n",
    "\n",
    "def test_conjecture():\n",
    "    cum_sum = 0\n",
    "    for x in range(1000):\n",
    "        cum_sum += p3(x)\n",
    "        assert 4*cum_sum == p4(x+1)"
   ]
  },
  {
   "cell_type": "markdown",
   "id": "cbbf7158",
   "metadata": {
    "slideshow": {
     "slide_type": "subslide"
    }
   },
   "source": [
    "Kombinatorika gyakorlaton szerepelt a következő összefüggés:\n",
    "$$\n",
    "    \\sum_{k=r}^n \\binom{k}{r} = \\binom{n+1}{r+1}\n",
    "$$  \n",
    "\n",
    "$(r+1)!$ rászorozva:\n",
    "$$\n",
    "   (r+1)\\sum_{k=0}^n k^{[r]}  = (n+1)^{[r+1]}\n",
    "$$\n",
    "Ezt az összefüggést láttuk $r=3$-ra és $n=0,\\dots,10$-re\n"
   ]
  },
  {
   "cell_type": "markdown",
   "id": "6c170196",
   "metadata": {
    "slideshow": {
     "slide_type": "subslide"
    }
   },
   "source": [
    "A faktoriális hatványok minden $n$-re definiálnak egy 1 főegyütthatós, $n$-edfokú  polinomot, így \n",
    "$$\n",
    "    x^r = \\sum_{i=0}^{r} c_i x^{[i]}\n",
    "$$\n",
    "\n",
    "Ebből:\n",
    "$$\n",
    "\\begin{aligned}\n",
    "    (r+1)!\\sum_{k=0}^n k^r\n",
    "    &= (r+1)!\\sum_{k=0}^{n} \\sum_{i=0}^ r c_i k^{[i]} \n",
    "%     \\\\ &\n",
    "    =\n",
    "    \\sum_{i=0}^r c_i (r+1)!\\sum_{k=0}^n k^{[i]} \n",
    "    \\\\ &\n",
    "    = \\sum_{i=0}^{r} c_i \\frac{(r+1)!}{i+1} (n+1)^{[i+1]} \n",
    "%     \\\\&\n",
    "    = \\sum_{i=0}^{r} c_i\\frac{(r+1)!}{i+1} (n+1)\\cdot(n^{[i]}) \n",
    "\\end{aligned}\n",
    "$$"
   ]
  },
  {
   "cell_type": "code",
   "execution_count": 49,
   "id": "604fa410",
   "metadata": {
    "slideshow": {
     "slide_type": "subslide"
    }
   },
   "outputs": [
    {
     "name": "stdout",
     "output_type": "stream",
     "text": [
      "p=1, coeffs=[1], polynomial(coeffs, factorial_powers())=1\n",
      "p=x, coeffs=[0, 1], polynomial(coeffs, factorial_powers())=x\n",
      "p=x^{2}, coeffs=[0, 1, 1], polynomial(coeffs, factorial_powers())=x^{2}\n",
      "p=x^{3}, coeffs=[0, 1, 3, 1], polynomial(coeffs, factorial_powers())=x^{3}\n",
      "p=x^{4}, coeffs=[0, 1, 7, 6, 1], polynomial(coeffs, factorial_powers())=x^{4}\n"
     ]
    }
   ],
   "source": [
    "for r in range(5):\n",
    "    p = Polinom(1, 0)**r # x^r\n",
    "    coeffs = coefficients(p, factorial_powers())\n",
    "    print(f\"{p=!s}, {coeffs=}, {polynomial(coeffs, factorial_powers())=!s}\")\n"
   ]
  },
  {
   "cell_type": "code",
   "execution_count": 50,
   "id": "8ef5388b",
   "metadata": {
    "slideshow": {
     "slide_type": "subslide"
    }
   },
   "outputs": [],
   "source": [
    "import math \n",
    "\n",
    "def power_sum_polynomial(r):\n",
    "    \"\"\" \n",
    "    returns (r+1)!*p, such that p(n) = sum_{k=0}^n k^r\n",
    "    \"\"\"\n",
    "    coeffs = coefficients(Polinom(1, 0)**r, factorial_powers())\n",
    "    factorial = math.factorial(r+1)\n",
    "    coeffs = [c*factorial//(i+1) for i, c in enumerate(coeffs)]\n",
    "    return polynomial(coeffs, (Polinom(1, 1)*p for p in factorial_powers()))\n"
   ]
  },
  {
   "cell_type": "code",
   "execution_count": 51,
   "id": "0d65b4ac",
   "metadata": {},
   "outputs": [
    {
     "data": {
      "text/latex": [
       "$120x^{6}+360x^{5}+300x^{4}-60x^{2}$"
      ],
      "text/plain": [
       "Polinom(120, 360, 300, 0, -60, 0, 0)"
      ]
     },
     "execution_count": 51,
     "metadata": {},
     "output_type": "execute_result"
    }
   ],
   "source": [
    "power_sum_polynomial(5) # 6!-szor az 5. hatványösszeg polinom."
   ]
  },
  {
   "cell_type": "markdown",
   "id": "abaf5b9c",
   "metadata": {
    "slideshow": {
     "slide_type": "subslide"
    }
   },
   "source": [
    "### Az első néhány hatványösszeg polinom"
   ]
  },
  {
   "cell_type": "code",
   "execution_count": 52,
   "id": "4432fec4",
   "metadata": {},
   "outputs": [
    {
     "data": {
      "text/latex": [
       "$x^{2}+x$"
      ],
      "text/plain": [
       "Polinom(1, 1, 0)"
      ]
     },
     "metadata": {},
     "output_type": "display_data"
    },
    {
     "data": {
      "text/latex": [
       "$2x^{3}+3x^{2}+x$"
      ],
      "text/plain": [
       "Polinom(2, 3, 1, 0)"
      ]
     },
     "metadata": {},
     "output_type": "display_data"
    },
    {
     "data": {
      "text/latex": [
       "$6x^{4}+12x^{3}+6x^{2}$"
      ],
      "text/plain": [
       "Polinom(6, 12, 6, 0, 0)"
      ]
     },
     "metadata": {},
     "output_type": "display_data"
    },
    {
     "data": {
      "text/latex": [
       "$24x^{5}+60x^{4}+40x^{3}-4x$"
      ],
      "text/plain": [
       "Polinom(24, 60, 40, 0, -4, 0)"
      ]
     },
     "metadata": {},
     "output_type": "display_data"
    }
   ],
   "source": [
    "for r in range(1, 5):\n",
    "    display(power_sum_polynomial(r))"
   ]
  },
  {
   "cell_type": "markdown",
   "id": "1f51242f",
   "metadata": {},
   "source": [
    "HF. Az első néhány polinomnak racionális gyökei vannak. Igaz-e ez az összesre?"
   ]
  },
  {
   "cell_type": "code",
   "execution_count": 53,
   "id": "ae8037f0",
   "metadata": {
    "slideshow": {
     "slide_type": "subslide"
    }
   },
   "outputs": [],
   "source": [
    "def mk_power_sum(r):\n",
    "    p = power_sum_polynomial(r)\n",
    "    factorial = math.factorial(r+1)\n",
    "    def power_sum(n):\n",
    "        return p(n)//factorial\n",
    "    return power_sum"
   ]
  },
  {
   "cell_type": "code",
   "execution_count": 55,
   "id": "6dd0ef57",
   "metadata": {},
   "outputs": [],
   "source": [
    "import ipytest\n",
    "ipytest.autoconfig()"
   ]
  },
  {
   "cell_type": "code",
   "execution_count": 56,
   "id": "68d8dc3b",
   "metadata": {},
   "outputs": [
    {
     "name": "stdout",
     "output_type": "stream",
     "text": [
      "\u001b[32m.\u001b[0m\u001b[32m                                                                                            [100%]\u001b[0m\n",
      "\u001b[32m\u001b[32m\u001b[1m1 passed\u001b[0m\u001b[32m in 0.02s\u001b[0m\u001b[0m\n"
     ]
    }
   ],
   "source": [
    "%%ipytest\n",
    "import random \n",
    "\n",
    "def test_power_sum():\n",
    "    for r in range(5):\n",
    "        p = mk_power_sum(r)\n",
    "        for _ in range(20):\n",
    "            n = random.randint(0, 1000)\n",
    "            assert p(n) == sum(x**r for x in range(n+1))"
   ]
  },
  {
   "cell_type": "markdown",
   "id": "7cf3ae77",
   "metadata": {
    "slideshow": {
     "slide_type": "subslide"
    }
   },
   "source": [
    "### Polinomok kompozíciója.\n",
    "\n",
    "Ha a számokat a konstans Polinomokkal azonosítjuk, akkor Polinomot Polinom helyen is kiértékelhetünk.\n",
    "Ehhez az összeadást módosítottam:\n",
    "\n",
    "```python\n",
    "\n",
    "def __add__(self, other):\n",
    "    if not isinstance(other, Polinom):\n",
    "        other = Polinom(other)\n",
    "    ...\n",
    "```"
   ]
  },
  {
   "cell_type": "code",
   "execution_count": 57,
   "id": "4ea4ab4c",
   "metadata": {},
   "outputs": [
    {
     "data": {
      "text/latex": [
       "$2x^{3}+3x^{2}+1$"
      ],
      "text/plain": [
       "Polinom(2, 3, 0, 1)"
      ]
     },
     "metadata": {},
     "output_type": "display_data"
    },
    {
     "data": {
      "text/latex": [
       "$x^{2}+1$"
      ],
      "text/plain": [
       "Polinom(1, 0, 1)"
      ]
     },
     "metadata": {},
     "output_type": "display_data"
    },
    {
     "data": {
      "text/latex": [
       "$2x^{6}+9x^{4}+12x^{2}+6$"
      ],
      "text/plain": [
       "Polinom(2, 0, 9, 0, 12, 0, 6)"
      ]
     },
     "execution_count": 57,
     "metadata": {},
     "output_type": "execute_result"
    }
   ],
   "source": [
    "from polinom import *\n",
    "p, q  = Polinom(2, 3, 0, 1), Polinom(1, 0, 1)\n",
    "display(p)\n",
    "display(q)\n",
    "p(q)"
   ]
  },
  {
   "cell_type": "markdown",
   "id": "5b3d519a",
   "metadata": {
    "slideshow": {
     "slide_type": "subslide"
    }
   },
   "source": [
    "### Szükséges-e a Polinom osztályt megírni?\n",
    "\n",
    "- Ha van egy jól használható típus, pl. polinom, permutáció, stb. akkor azt  nagy valószínűséggel valaki már megírta, letesztelte.\n",
    "\n",
    "- Polinom osztály pl. a `numpy` könyvtárban is  van, permutáció pedig a  `sympy` könytárban.\n"
   ]
  },
  {
   "cell_type": "code",
   "execution_count": null,
   "id": "c06ac47f",
   "metadata": {},
   "outputs": [],
   "source": [
    "import numpy as np\n",
    "\n",
    "np.polynomial.Polynomial?"
   ]
  },
  {
   "cell_type": "code",
   "execution_count": null,
   "id": "c0fed3e6",
   "metadata": {},
   "outputs": [],
   "source": [
    "from sympy.combinatorics import Permutation\n",
    "\n",
    "Permutation?"
   ]
  },
  {
   "cell_type": "markdown",
   "id": "95827b79",
   "metadata": {
    "slideshow": {
     "slide_type": "skip"
    }
   },
   "source": [
    "Csebisev polinomok, Hermite polinomok.\n",
    "\n",
    "Hatványösszeg. fractions könyvtár, Fraction típus."
   ]
  },
  {
   "cell_type": "markdown",
   "id": "31daf4d0",
   "metadata": {
    "slideshow": {
     "slide_type": "slide"
    }
   },
   "source": [
    "# `contextmanager` generátor függvényből"
   ]
  },
  {
   "cell_type": "markdown",
   "id": "d05260bd",
   "metadata": {},
   "source": [
    "Láttunk példát arra, hogyan tudunk osztályként `contextmanager`-t definálini.\n",
    "\n",
    "Van egy egyszerűbb út is. `contextmanager`-t definiálhatunk generátor függvényből is."
   ]
  },
  {
   "cell_type": "code",
   "execution_count": 58,
   "id": "bc410715",
   "metadata": {},
   "outputs": [],
   "source": [
    "from contextlib import contextmanager\n",
    "\n",
    "@contextmanager\n",
    "def simple_context(value):\n",
    "    try:\n",
    "        print(\"before yield\")\n",
    "        yield value\n",
    "        print(\"after yield\")\n",
    "    finally:\n",
    "        print(\"finally\")"
   ]
  },
  {
   "cell_type": "code",
   "execution_count": 59,
   "id": "87c74a10",
   "metadata": {
    "slideshow": {
     "slide_type": "subslide"
    }
   },
   "outputs": [
    {
     "name": "stdout",
     "output_type": "stream",
     "text": [
      "before yield\n",
      "inside x='1'\n",
      "after yield\n",
      "finally\n"
     ]
    }
   ],
   "source": [
    "with simple_context(\"1\") as x:\n",
    "    print(f\"inside {x=}\")\n",
    "    int(x)"
   ]
  },
  {
   "cell_type": "markdown",
   "id": "915fd802",
   "metadata": {
    "slideshow": {
     "slide_type": "subslide"
    }
   },
   "source": [
    "A `contextmanager` dekorátor nagyjából az alábbi dolgot csinálja:"
   ]
  },
  {
   "cell_type": "code",
   "execution_count": 60,
   "id": "d4616e69",
   "metadata": {},
   "outputs": [],
   "source": [
    "def simplified_cm(generator_function):\n",
    "    \n",
    "    class cm:\n",
    "        def __init__(self, *args, **kwargs):\n",
    "            self.it = generator_function(*args, **kwargs)\n",
    "            \n",
    "        def __enter__(self):\n",
    "            return next(self.it)\n",
    "        \n",
    "        def __exit__(self, exc_type, *args):\n",
    "            ## hiba kezelés\n",
    "            if exc_type is None:\n",
    "                return next(self.it, None)\n",
    "             \n",
    "   \n",
    "    return cm"
   ]
  },
  {
   "cell_type": "code",
   "execution_count": 61,
   "id": "76ac541f",
   "metadata": {
    "slideshow": {
     "slide_type": "subslide"
    }
   },
   "outputs": [],
   "source": [
    "@simplified_cm\n",
    "def simple_context(value):\n",
    "    try:\n",
    "        print(\"before yield\")\n",
    "        yield value\n",
    "        print(\"after yield before finally\")\n",
    "    finally:\n",
    "        print(\"finally\")\n"
   ]
  },
  {
   "cell_type": "code",
   "execution_count": 63,
   "id": "a1e1046f",
   "metadata": {
    "slideshow": {
     "slide_type": "subslide"
    }
   },
   "outputs": [
    {
     "name": "stdout",
     "output_type": "stream",
     "text": [
      "before yield\n",
      "inside x='1'\n",
      "after yield before finally\n",
      "finally\n"
     ]
    }
   ],
   "source": [
    "with simple_context('1') as x:\n",
    "    print(f\"inside {x=}\")\n",
    "    int(x)"
   ]
  },
  {
   "cell_type": "code",
   "execution_count": 64,
   "id": "3d9d6498",
   "metadata": {},
   "outputs": [
    {
     "name": "stdout",
     "output_type": "stream",
     "text": [
      "before yield\n",
      "inside x='x'\n",
      "finally\n"
     ]
    },
    {
     "ename": "ValueError",
     "evalue": "invalid literal for int() with base 10: 'x'",
     "output_type": "error",
     "traceback": [
      "\u001b[0;31m---------------------------------------------------------------------------\u001b[0m",
      "\u001b[0;31mValueError\u001b[0m                                Traceback (most recent call last)",
      "\u001b[0;32m/tmp/ipykernel_3864290/2028965851.py\u001b[0m in \u001b[0;36m<cell line: 1>\u001b[0;34m()\u001b[0m\n\u001b[1;32m      1\u001b[0m \u001b[0;32mwith\u001b[0m \u001b[0msimple_context\u001b[0m\u001b[0;34m(\u001b[0m\u001b[0;34m'x'\u001b[0m\u001b[0;34m)\u001b[0m \u001b[0;32mas\u001b[0m \u001b[0mx\u001b[0m\u001b[0;34m:\u001b[0m\u001b[0;34m\u001b[0m\u001b[0;34m\u001b[0m\u001b[0m\n\u001b[1;32m      2\u001b[0m     \u001b[0mprint\u001b[0m\u001b[0;34m(\u001b[0m\u001b[0;34mf\"inside {x=}\"\u001b[0m\u001b[0;34m)\u001b[0m\u001b[0;34m\u001b[0m\u001b[0;34m\u001b[0m\u001b[0m\n\u001b[0;32m----> 3\u001b[0;31m     \u001b[0mint\u001b[0m\u001b[0;34m(\u001b[0m\u001b[0mx\u001b[0m\u001b[0;34m)\u001b[0m\u001b[0;34m\u001b[0m\u001b[0;34m\u001b[0m\u001b[0m\n\u001b[0m",
      "\u001b[0;31mValueError\u001b[0m: invalid literal for int() with base 10: 'x'"
     ]
    }
   ],
   "source": [
    "with simple_context('x') as x:\n",
    "    print(f\"inside {x=}\")\n",
    "    int(x)"
   ]
  },
  {
   "cell_type": "markdown",
   "id": "ffaf62ff",
   "metadata": {
    "slideshow": {
     "slide_type": "subslide"
    }
   },
   "source": [
    "**HF** Írjuk meg a `Timer` contextmanager-t generátor függvénnyel:\n",
    "\n",
    "```python\n",
    "from contextlib import contextmanager\n",
    "\n",
    "@contextmanager\n",
    "def timer():\n",
    "    ...\n",
    "```"
   ]
  },
  {
   "cell_type": "markdown",
   "id": "f39c79dd",
   "metadata": {
    "slideshow": {
     "slide_type": "slide"
    }
   },
   "source": [
    "## További hasznos beépített könyvtárak "
   ]
  },
  {
   "cell_type": "markdown",
   "id": "bc331c79",
   "metadata": {},
   "source": [
    "- `itertools`. Hasznos iterátorok.\n",
    "\n",
    "- `functools`. Függvény manipulációk\n",
    "\n",
    "- `math`, `cmath`. matematikai függvények, komplex függvények\n",
    "\n",
    "- `fractions`. Törtek\n",
    "\n",
    "Írás, olvasás különböző file formátumokba\n",
    "\n",
    "- `json`\n",
    "\n",
    "- `yaml`\n",
    "\n",
    "- `sqlite3`\n",
    "\n",
    "- `csv`, ehelyett inkább a `pandas` könyvtárat használja az ember.\n",
    "\n"
   ]
  },
  {
   "cell_type": "markdown",
   "id": "157780fa",
   "metadata": {
    "slideshow": {
     "slide_type": "slide"
    }
   },
   "source": [
    "## Itertools"
   ]
  },
  {
   "cell_type": "markdown",
   "id": "fd551d42",
   "metadata": {},
   "source": [
    "A használathoz importálni kell a könyvtárat:"
   ]
  },
  {
   "cell_type": "code",
   "execution_count": 68,
   "id": "085de27e",
   "metadata": {},
   "outputs": [
    {
     "name": "stdout",
     "output_type": "stream",
     "text": [
      "accumulate, chain, combinations, combinations_with_replacement, compress, count\n",
      "cycle, dropwhile, filterfalse, groupby, islice, pairwise\n",
      "permutations, product, repeat, starmap, takewhile, tee\n",
      "zip_longest\n",
      "Help on class zip_longest in module itertools:\n",
      "\n",
      "class zip_longest(builtins.object)\n",
      " |  zip_longest(iter1 [,iter2 [...]], [fillvalue=None]) --> zip_longest object\n",
      " |  \n",
      " |  Return a zip_longest object whose .__next__() method returns a tuple where\n",
      " |  the i-th element comes from the i-th iterable argument.  The .__next__()\n",
      " |  method continues until the longest iterable in the argument sequence\n",
      " |  is exhausted and then it raises StopIteration.  When the shorter iterables\n",
      " |  are exhausted, the fillvalue is substituted in their place.  The fillvalue\n",
      " |  defaults to None or can be specified by a keyword argument.\n",
      " |  \n",
      " |  Methods defined here:\n",
      " |  \n",
      " |  __getattribute__(self, name, /)\n",
      " |      Return getattr(self, name).\n",
      " |  \n",
      " |  __iter__(self, /)\n",
      " |      Implement iter(self).\n",
      " |  \n",
      " |  __next__(self, /)\n",
      " |      Implement next(self).\n",
      " |  \n",
      " |  __reduce__(...)\n",
      " |      Return state information for pickling.\n",
      " |  \n",
      " |  __setstate__(...)\n",
      " |      Set state information for unpickling.\n",
      " |  \n",
      " |  ----------------------------------------------------------------------\n",
      " |  Static methods defined here:\n",
      " |  \n",
      " |  __new__(*args, **kwargs) from builtins.type\n",
      " |      Create and return a new object.  See help(type) for accurate signature.\n",
      "\n"
     ]
    }
   ],
   "source": [
    "import itertools\n",
    "\n",
    "print_methods(itertools, per_line=6)\n",
    "help(itertools.zip_longest)"
   ]
  },
  {
   "cell_type": "markdown",
   "id": "a5315f2f",
   "metadata": {
    "slideshow": {
     "slide_type": "subslide"
    }
   },
   "source": [
    "Néhány hasznos iterátor:\n",
    "\n",
    "- `itertools.product` Két (vagy több) sorozat Decartes szorzatán megy végig.\n",
    "\n",
    "- `itertools.combinations` Egy sorozat $r$ elemű ismétlés nélküli kombinációin megy végig.\n",
    "\n",
    "- `itertools.permutations`. Egy sorozat permutációin megy végig.\n",
    "\n",
    "- `itertools.pairwise`. Az egymást követő párokon megy végig."
   ]
  },
  {
   "cell_type": "markdown",
   "id": "006e7c7e",
   "metadata": {
    "slideshow": {
     "slide_type": "subslide"
    }
   },
   "source": [
    "### Példák"
   ]
  },
  {
   "cell_type": "code",
   "execution_count": 69,
   "id": "152cf1cc",
   "metadata": {},
   "outputs": [
    {
     "data": {
      "text/plain": [
       "[(0, 0), (0, 1), (0, 2), (1, 0), (1, 1), (1, 2), (2, 0), (2, 1), (2, 2)]"
      ]
     },
     "execution_count": 69,
     "metadata": {},
     "output_type": "execute_result"
    }
   ],
   "source": [
    "[*itertools.product(range(3), repeat=2)]"
   ]
  },
  {
   "cell_type": "code",
   "execution_count": 70,
   "id": "c954101d",
   "metadata": {},
   "outputs": [
    {
     "data": {
      "text/plain": [
       "[(0, 1, 2), (0, 1, 3), (0, 2, 3), (1, 2, 3)]"
      ]
     },
     "execution_count": 70,
     "metadata": {},
     "output_type": "execute_result"
    }
   ],
   "source": [
    "[*itertools.combinations(range(4), r=3)]"
   ]
  },
  {
   "cell_type": "code",
   "execution_count": 71,
   "id": "1f9e5dda",
   "metadata": {},
   "outputs": [
    {
     "data": {
      "text/plain": [
       "[(1, 2, 3), (1, 3, 2), (2, 1, 3), (2, 3, 1), (3, 1, 2), (3, 2, 1)]"
      ]
     },
     "execution_count": 71,
     "metadata": {},
     "output_type": "execute_result"
    }
   ],
   "source": [
    "[*itertools.permutations(range(1, 4))]"
   ]
  },
  {
   "cell_type": "code",
   "execution_count": 72,
   "id": "45b954bc",
   "metadata": {},
   "outputs": [
    {
     "data": {
      "text/plain": [
       "[(0, 1), (1, 2), (2, 3)]"
      ]
     },
     "execution_count": 72,
     "metadata": {},
     "output_type": "execute_result"
    }
   ],
   "source": [
    "[*itertools.pairwise(range(4))]"
   ]
  },
  {
   "cell_type": "markdown",
   "id": "3c6db50c",
   "metadata": {
    "slideshow": {
     "slide_type": "subslide"
    }
   },
   "source": [
    "- `itertools.accumulate`. Alapértelmezésben egy sorozat részletösszegeinek a sorozatát állítja elő."
   ]
  },
  {
   "cell_type": "code",
   "execution_count": 74,
   "id": "6781f7ba",
   "metadata": {},
   "outputs": [
    {
     "data": {
      "text/plain": [
       "[0, 1, 3, 6, 10]"
      ]
     },
     "execution_count": 74,
     "metadata": {},
     "output_type": "execute_result"
    }
   ],
   "source": [
    "[*itertools.accumulate(range(1, 5), initial=0)]"
   ]
  },
  {
   "cell_type": "markdown",
   "id": "f2ab2698",
   "metadata": {},
   "source": [
    "Megadható kezdeti érték is, ekkor ez lesz a sorozat első eleme."
   ]
  },
  {
   "cell_type": "code",
   "execution_count": 75,
   "id": "09bd10de",
   "metadata": {},
   "outputs": [
    {
     "data": {
      "text/plain": [
       "[0, 1, 3, 6, 10]"
      ]
     },
     "execution_count": 75,
     "metadata": {},
     "output_type": "execute_result"
    }
   ],
   "source": [
    "[*itertools.accumulate(range(1, 5), initial=0)]"
   ]
  },
  {
   "cell_type": "markdown",
   "id": "dcc7e496",
   "metadata": {},
   "source": [
    "Az is megadható, hogy miként akkumuláljuk az értéket."
   ]
  },
  {
   "cell_type": "code",
   "execution_count": 76,
   "id": "63c0dd23",
   "metadata": {},
   "outputs": [
    {
     "data": {
      "text/plain": [
       "[0, 1, 4, 9, 16]"
      ]
     },
     "execution_count": 76,
     "metadata": {},
     "output_type": "execute_result"
    }
   ],
   "source": [
    "[*itertools.accumulate(range(1, 5), func=lambda a, b: a+2*b-1, initial=0)]"
   ]
  },
  {
   "cell_type": "markdown",
   "id": "59f24049",
   "metadata": {
    "slideshow": {
     "slide_type": "subslide"
    }
   },
   "source": [
    "- `itertools.chain`. iterátorokat fűz egymás után.\n",
    "- `itertools.chain.from_iterable` egy olyan iterátor kap, aminek az elemei is iterátorok."
   ]
  },
  {
   "cell_type": "code",
   "execution_count": 77,
   "id": "ba31b70a",
   "metadata": {},
   "outputs": [
    {
     "data": {
      "text/plain": [
       "[0, 1, 2, 15, 16, 17]"
      ]
     },
     "execution_count": 77,
     "metadata": {},
     "output_type": "execute_result"
    }
   ],
   "source": [
    "[*itertools.chain(range(3), range(15,18))]"
   ]
  },
  {
   "cell_type": "code",
   "execution_count": 82,
   "id": "461f8820",
   "metadata": {},
   "outputs": [
    {
     "data": {
      "text/plain": [
       "[0, 0, 1, 0, 1, 2]"
      ]
     },
     "execution_count": 82,
     "metadata": {},
     "output_type": "execute_result"
    }
   ],
   "source": [
    "[*itertools.chain( *  (range(i) for i in range(1, 4)) )] "
   ]
  },
  {
   "cell_type": "code",
   "execution_count": 80,
   "id": "1ee5260d",
   "metadata": {},
   "outputs": [
    {
     "data": {
      "text/plain": [
       "[0, 0, 1, 0, 1, 2]"
      ]
     },
     "execution_count": 80,
     "metadata": {},
     "output_type": "execute_result"
    }
   ],
   "source": [
    "[*itertools.chain.from_iterable((range(i) for i in range(1, 4)))]"
   ]
  },
  {
   "cell_type": "markdown",
   "id": "bb7dd93e",
   "metadata": {
    "slideshow": {
     "slide_type": "subslide"
    }
   },
   "source": [
    "- `count` olyan iterátor ami a természetes számok sorozatát szolgáltatja"
   ]
  },
  {
   "cell_type": "code",
   "execution_count": 83,
   "id": "f184af07",
   "metadata": {},
   "outputs": [
    {
     "name": "stdout",
     "output_type": "stream",
     "text": [
      "next(it)=0, next(it)=1, next(it)=2\n"
     ]
    }
   ],
   "source": [
    "it = itertools.count()\n",
    "print(f\"{next(it)=}, {next(it)=}, {next(it)=}\")"
   ]
  },
  {
   "cell_type": "markdown",
   "id": "6fb6fc3d",
   "metadata": {},
   "source": [
    "- `cycle` egy adott sorozat elemeit ismétli, ha a végére ér kezdi előlről."
   ]
  },
  {
   "cell_type": "code",
   "execution_count": 85,
   "id": "7670a9fa",
   "metadata": {},
   "outputs": [
    {
     "name": "stdout",
     "output_type": "stream",
     "text": [
      "A L M A A L M A A L M A A L M A A "
     ]
    }
   ],
   "source": [
    "it = itertools.cycle(map(str.upper, \"alma\"))\n",
    "for _ in range(17):\n",
    "    print(next(it), end=\" \")"
   ]
  },
  {
   "cell_type": "markdown",
   "id": "b3109feb",
   "metadata": {
    "slideshow": {
     "slide_type": "-"
    }
   },
   "source": [
    "- `repeat` egy elemet ismétel"
   ]
  },
  {
   "cell_type": "code",
   "execution_count": 86,
   "id": "f6782bbe",
   "metadata": {},
   "outputs": [
    {
     "data": {
      "text/plain": [
       "['alma', 'alma', 'alma', 'alma']"
      ]
     },
     "execution_count": 86,
     "metadata": {},
     "output_type": "execute_result"
    }
   ],
   "source": [
    "[*itertools.repeat(\"alma\", 4)]"
   ]
  },
  {
   "cell_type": "markdown",
   "id": "0bcd95df",
   "metadata": {
    "slideshow": {
     "slide_type": "subslide"
    }
   },
   "source": [
    "- `dropwhile` kidobja a sorozat első néhány elemét, amíg a feltétel igaz.\n",
    "- `takewhile` Addig megy el amíg  a feltétel igaz\n",
    "- `filterfalse` A hamis értékeket tartja meg.\n",
    "- `islice` Ha a sorozat egy lista, akkor a slice indexelésnek felel meg."
   ]
  },
  {
   "cell_type": "code",
   "execution_count": 87,
   "id": "e1f5bf54",
   "metadata": {},
   "outputs": [
    {
     "data": {
      "text/plain": [
       "[0, 1, 2, 0]"
      ]
     },
     "execution_count": 87,
     "metadata": {},
     "output_type": "execute_result"
    }
   ],
   "source": [
    "[*itertools.dropwhile(lambda x: x, [1, -1, 0, 1, 2, 0])]"
   ]
  },
  {
   "cell_type": "code",
   "execution_count": 88,
   "id": "8f2d297a",
   "metadata": {},
   "outputs": [
    {
     "data": {
      "text/plain": [
       "[1, -1]"
      ]
     },
     "execution_count": 88,
     "metadata": {},
     "output_type": "execute_result"
    }
   ],
   "source": [
    "[*itertools.takewhile(lambda x: x, [1, -1, 0, 1, 2, 0])]"
   ]
  },
  {
   "cell_type": "code",
   "execution_count": 89,
   "id": "19b82000",
   "metadata": {},
   "outputs": [
    {
     "data": {
      "text/plain": [
       "[0, 0]"
      ]
     },
     "execution_count": 89,
     "metadata": {},
     "output_type": "execute_result"
    }
   ],
   "source": [
    "[*itertools.filterfalse(lambda x: x, [1, -1, 0, 1, 2, 0])]"
   ]
  },
  {
   "cell_type": "code",
   "execution_count": 90,
   "id": "c130b669",
   "metadata": {},
   "outputs": [
    {
     "data": {
      "text/plain": [
       "[2, 4, 6]"
      ]
     },
     "execution_count": 90,
     "metadata": {},
     "output_type": "execute_result"
    }
   ],
   "source": [
    "[*itertools.islice(range(10), 2, 7, 2)]"
   ]
  },
  {
   "cell_type": "markdown",
   "id": "feb83100",
   "metadata": {
    "slideshow": {
     "slide_type": "subslide"
    }
   },
   "source": [
    "**Feladat**: van egy [szám](https://en.wikipedia.org/wiki/Champernowne_constant), ami így van definiálva: 0.12345678910111213141516.... Mi ennek a számnak az egymilliomodik számjegye? (Az első számjegy $0$, a második $1$, stb.)"
   ]
  },
  {
   "cell_type": "markdown",
   "id": "e57fb73f",
   "metadata": {
    "slideshow": {
     "slide_type": "-"
    }
   },
   "source": [
    "Ötlet: ahogy jönnek a számok egymás után (0, 1, 2, ..., 10, 11, 12, ..., 100, 101, 102, ...), mikor érjük el az $n$-edik számjegyet?"
   ]
  },
  {
   "cell_type": "code",
   "execution_count": 91,
   "id": "474e85b4",
   "metadata": {
    "slideshow": {
     "slide_type": "subslide"
    }
   },
   "outputs": [],
   "source": [
    "# Imperatív stílusú megoldás\n",
    "def calc_digit(num_digits):\n",
    "    num_digits -= 1 # zero indexing\n",
    "    n = 0\n",
    "    while len(s:= str(n)) <= num_digits:\n",
    "        num_digits -= len(s)\n",
    "        n += 1\n",
    "    return int(s[num_digits])"
   ]
  },
  {
   "cell_type": "markdown",
   "id": "61af596a",
   "metadata": {},
   "source": [
    " "
   ]
  },
  {
   "cell_type": "markdown",
   "id": "66e8cbd2",
   "metadata": {},
   "source": [
    "Hogy oldottuk meg?\n",
    "\n",
    "* bevezettük egy $n$ **változót** az egész számokra, amelyet folyamatosan növeltünk,\n",
    "* egy **while ciklus**ban iteráltunk, amíg el nem értük a keresett számot,\n",
    "* egy **változóban** tároltuk, hogy a maradék sorozat hányadik jegyét keressük,\n",
    "* az utolsó számból kiolvastuk a keresett számjegyet."
   ]
  },
  {
   "cell_type": "code",
   "execution_count": 92,
   "id": "c3313a53",
   "metadata": {
    "slideshow": {
     "slide_type": "subslide"
    }
   },
   "outputs": [
    {
     "name": "stdout",
     "output_type": "stream",
     "text": [
      "\u001b[32m.\u001b[0m\u001b[32m                                                                                            [100%]\u001b[0m\n",
      "\u001b[32m\u001b[32m\u001b[1m1 passed\u001b[0m\u001b[32m in 0.01s\u001b[0m\u001b[0m\n"
     ]
    }
   ],
   "source": [
    "%%ipytest\n",
    "\n",
    "def test_calc_digit():\n",
    "    for i in range(1, 11):\n",
    "        assert calc_digit(i) == i-1\n"
   ]
  },
  {
   "cell_type": "code",
   "execution_count": 93,
   "id": "809fd9f4",
   "metadata": {},
   "outputs": [
    {
     "data": {
      "text/plain": [
       "4"
      ]
     },
     "execution_count": 93,
     "metadata": {},
     "output_type": "execute_result"
    }
   ],
   "source": [
    "calc_digit(10**6)"
   ]
  },
  {
   "cell_type": "code",
   "execution_count": 94,
   "id": "a1a2d146",
   "metadata": {
    "slideshow": {
     "slide_type": "subslide"
    }
   },
   "outputs": [
    {
     "data": {
      "text/plain": [
       "4"
      ]
     },
     "execution_count": 94,
     "metadata": {},
     "output_type": "execute_result"
    }
   ],
   "source": [
    "# Funkcionális stílusú megoldás\n",
    "import itertools\n",
    "\n",
    "def calc_digit_functional(num_digits):\n",
    "    digits = itertools.chain.from_iterable(\n",
    "        map(str,\n",
    "            itertools.count() # 0, 1, 2, 3, ...\n",
    "           ) # \"0\", \"1\", ... , \"10\", \"11\",... \n",
    "    ) # \"0\", \"1\", ..., \"1\", \"0\", ...\n",
    "    result = next(itertools.islice(digits, num_digits-1, num_digits))\n",
    "    return int(result)\n",
    "\n",
    "calc_digit_functional(10**6)"
   ]
  },
  {
   "cell_type": "markdown",
   "id": "53edd72a",
   "metadata": {},
   "source": [
    "Itt nincs `for`/`while` ciklus, vagy `if`. Generáltunk egy sorozatot, arra alkalmaztunk műveleteket, és kiolvastuk az eredményt."
   ]
  },
  {
   "cell_type": "markdown",
   "id": "3d649ceb",
   "metadata": {},
   "source": [
    "**HF** Hatékonyabb megoldás. "
   ]
  },
  {
   "cell_type": "markdown",
   "id": "4f2c0b03",
   "metadata": {
    "slideshow": {
     "slide_type": "subslide"
    }
   },
   "source": [
    "#### Run-length-encoding"
   ]
  },
  {
   "cell_type": "markdown",
   "id": "b95395ac",
   "metadata": {},
   "source": [
    "**HF** mit csinál a `itertools.groupby` függvény?"
   ]
  },
  {
   "cell_type": "code",
   "execution_count": 95,
   "id": "67fbf7d9",
   "metadata": {},
   "outputs": [],
   "source": [
    "def rle(seq):\n",
    "    for x, g in itertools.groupby(seq):\n",
    "        yield x, len(list(g))"
   ]
  },
  {
   "cell_type": "code",
   "execution_count": 96,
   "id": "2e64dff7",
   "metadata": {},
   "outputs": [
    {
     "data": {
      "text/plain": [
       "[('a', 2), ('b', 2), ('c', 1), ('d', 1), ('e', 1)]"
      ]
     },
     "execution_count": 96,
     "metadata": {},
     "output_type": "execute_result"
    }
   ],
   "source": [
    "[*rle('aabbcde')]"
   ]
  },
  {
   "cell_type": "markdown",
   "id": "b010baca",
   "metadata": {
    "slideshow": {
     "slide_type": "slide"
    }
   },
   "source": [
    "# `functools` könyvtár"
   ]
  },
  {
   "cell_type": "code",
   "execution_count": null,
   "id": "7320709f",
   "metadata": {},
   "outputs": [],
   "source": [
    "import functools\n",
    "print_methods(functools, per_line=5)"
   ]
  },
  {
   "cell_type": "markdown",
   "id": "a2712e71",
   "metadata": {},
   "source": [
    "Leggyakrabban használt függvények:\n",
    "\n",
    "- `reduce`\n",
    "- `lru_cache`\n",
    "- `wraps`\n",
    "- `partial`"
   ]
  },
  {
   "cell_type": "markdown",
   "id": "7373a82c",
   "metadata": {
    "slideshow": {
     "slide_type": "subslide"
    }
   },
   "source": [
    "## Példák."
   ]
  },
  {
   "cell_type": "markdown",
   "id": "0eee56b3",
   "metadata": {},
   "source": [
    "#### `reduce` függvény."
   ]
  },
  {
   "cell_type": "code",
   "execution_count": null,
   "id": "b986ecd5",
   "metadata": {},
   "outputs": [],
   "source": [
    "functools.reduce(lambda x, y: x+y, range(5), 0) # (((((0 + 0) + 1) + 2) + 3) + 4) "
   ]
  },
  {
   "cell_type": "markdown",
   "id": "64b59e46",
   "metadata": {},
   "source": [
    "```python\n",
    "def reduce(f, seq, initial):\n",
    "    a = initial \n",
    "    for b in seq:\n",
    "        a = f(a, b)\n",
    "    return a\n",
    "```"
   ]
  },
  {
   "cell_type": "markdown",
   "id": "95f7cc1f",
   "metadata": {
    "slideshow": {
     "slide_type": "subslide"
    }
   },
   "source": [
    "### `lru_cache` dekorátor"
   ]
  },
  {
   "cell_type": "code",
   "execution_count": null,
   "id": "eb3add61",
   "metadata": {},
   "outputs": [],
   "source": [
    "# @functools.lru_cache\n",
    "def fibonacci(n):\n",
    "    if n <= 1:\n",
    "        return n\n",
    "    return fibonacci(n-1) + fibonacci(n-2)\n",
    "\n",
    "with Timer():\n",
    "    f = fibonacci(30)\n",
    "\n",
    "print(f)"
   ]
  },
  {
   "cell_type": "markdown",
   "id": "be0a0570",
   "metadata": {
    "slideshow": {
     "slide_type": "subslide"
    }
   },
   "source": [
    "### `wraps` dekorátor"
   ]
  },
  {
   "cell_type": "code",
   "execution_count": null,
   "id": "76f10b9c",
   "metadata": {},
   "outputs": [],
   "source": [
    "def show_call(fun):\n",
    "    @functools.wraps(fun)\n",
    "    def f(*args):\n",
    "        result = fun(*args) \n",
    "        print(f\"{fun.__name}({', '.join(map(str, args))})\")\n",
    "        return result\n",
    "    return f\n",
    "\n",
    "@show_call\n",
    "def add(a: int, b: int) -> int:\n",
    "    \"\"\"adds two number\"\"\"\n",
    "    return a+b \n",
    "\n",
    "help(add)"
   ]
  },
  {
   "cell_type": "markdown",
   "id": "b7d290ad",
   "metadata": {
    "slideshow": {
     "slide_type": "subslide"
    }
   },
   "source": [
    "### `partial` "
   ]
  },
  {
   "cell_type": "code",
   "execution_count": null,
   "id": "11019d58",
   "metadata": {},
   "outputs": [],
   "source": [
    "def f(a, b):\n",
    "    return a+b\n",
    "\n",
    "inc1 = functools.partial(f, b=1)\n",
    "inc1(2)"
   ]
  },
  {
   "cell_type": "markdown",
   "id": "00839fd2",
   "metadata": {
    "slideshow": {
     "slide_type": "slide"
    }
   },
   "source": [
    "**HF** Mi történik a következő kódrészletben? "
   ]
  },
  {
   "cell_type": "code",
   "execution_count": null,
   "id": "92336c98",
   "metadata": {},
   "outputs": [],
   "source": [
    "import sys\n",
    "import textwrap\n",
    "from functools import wraps\n",
    "from contextlib import contextmanager\n",
    "\n",
    "def add_indent(write, indentation):\n",
    "    @wraps(write)\n",
    "    def f(string):\n",
    "        return write(textwrap.indent(string, indentation))\n",
    "    return f\n",
    "\n",
    "@contextmanager\n",
    "def indented(indentation):\n",
    "    try:\n",
    "        sys.stdout.write = add_indent(sys.stdout.write, indentation)\n",
    "        yield\n",
    "    finally:\n",
    "        sys.stdout.write = sys.stdout.write.__wrapped__"
   ]
  },
  {
   "cell_type": "code",
   "execution_count": null,
   "id": "a01b1542",
   "metadata": {
    "slideshow": {
     "slide_type": "subslide"
    }
   },
   "outputs": [],
   "source": [
    "with indented(\"|---\"):\n",
    "    print(\"alma\\nkorte\")\n",
    "    with indented(\"-> \"):\n",
    "        print(\"alma\\nkorte\")\n",
    "    print(\"alma\\nkorte\")\n",
    "    \n",
    "\n",
    "print(\"alma\\nkorte\")"
   ]
  },
  {
   "cell_type": "markdown",
   "id": "52fea0c0",
   "metadata": {
    "slideshow": {
     "slide_type": "slide"
    }
   },
   "source": [
    "# Néhány szöveges fileformátum"
   ]
  },
  {
   "cell_type": "markdown",
   "id": "f2aca4f6",
   "metadata": {},
   "source": [
    "`json` és `yaml`\n",
    "\n",
    "- `json` ,,javascript object notation''. Hasonló ahhoz, amit `list`, `dict` esetén a képernyőn látunk. \n",
    "  Nem lehet mindent típust `json`-fileba menteni, de a legfontosabbakat igen:\n",
    "   \n",
    "  * `int`, `float`, `str`, `bool`\n",
    "  * `list`, `dict`.\n",
    "\n",
    "  `json` fileban nincs kommentelési lehetőség.\n",
    "\n",
    "- `yaml`. Több típust tud kezelni, ezért alapból nem `safe`, de könnyen olvasható, szerkeszthető, lehetnek kommentek is. "
   ]
  },
  {
   "cell_type": "code",
   "execution_count": null,
   "id": "7a59a70c",
   "metadata": {
    "slideshow": {
     "slide_type": "subslide"
    }
   },
   "outputs": [],
   "source": [
    "import json\n",
    "\n",
    "data = [\n",
    "    {'a': 1, 'b':True, 'pi': .314, \"nested\": {\"c\": 3}},\n",
    "    23,\n",
    "    [1, 2, 3]\n",
    "]\n",
    "\n",
    "json.dumps(data)"
   ]
  },
  {
   "cell_type": "code",
   "execution_count": null,
   "id": "b9ac8766",
   "metadata": {},
   "outputs": [],
   "source": [
    "# fileba írás\n",
    "with open(\"/tmp/test.json\", \"w\") as f:\n",
    "    json.dump(data, f)"
   ]
  },
  {
   "cell_type": "code",
   "execution_count": null,
   "id": "e059906c",
   "metadata": {},
   "outputs": [],
   "source": [
    "with open(\"/tmp/test.json\", \"r\") as f:\n",
    "    print(json.load(f))"
   ]
  },
  {
   "cell_type": "code",
   "execution_count": null,
   "id": "4063c665",
   "metadata": {
    "scrolled": true,
    "slideshow": {
     "slide_type": "subslide"
    }
   },
   "outputs": [],
   "source": [
    "import yaml\n",
    "\n",
    "print(yaml.dump(data))\n",
    "# vagy\n",
    "with open(\"/tmp/test.yaml\", \"w\") as f:\n",
    "    yaml.dump(data, f)\n",
    "    \n",
    "with open(\"/tmp/test.yaml\", \"r\") as f:\n",
    "    print(yaml.safe_load(f))"
   ]
  }
 ],
 "metadata": {
  "celltoolbar": "Slideshow",
  "kernelspec": {
   "display_name": "Python 3 (ipykernel)",
   "language": "python",
   "name": "python3"
  },
  "language_info": {
   "codemirror_mode": {
    "name": "ipython",
    "version": 3
   },
   "file_extension": ".py",
   "mimetype": "text/x-python",
   "name": "python",
   "nbconvert_exporter": "python",
   "pygments_lexer": "ipython3",
   "version": "3.10.12"
  }
 },
 "nbformat": 4,
 "nbformat_minor": 5
}
